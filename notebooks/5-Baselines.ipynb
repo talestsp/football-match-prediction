{
 "cells": [
  {
   "cell_type": "markdown",
   "id": "b8edfa13",
   "metadata": {},
   "source": [
    "# Baselines\n",
    "Checking baseline results"
   ]
  },
  {
   "cell_type": "code",
   "execution_count": 1,
   "id": "8d5969a0",
   "metadata": {},
   "outputs": [
    {
     "data": {
      "text/plain": [
       "'/home/tales/ds/kaggle/football-match-prediction'"
      ]
     },
     "execution_count": 1,
     "metadata": {},
     "output_type": "execute_result"
    }
   ],
   "source": [
    "import os\n",
    "from working_dir import set_wd\n",
    "set_wd()\n",
    "os.getcwd()"
   ]
  },
  {
   "cell_type": "code",
   "execution_count": 2,
   "id": "48bcbd47",
   "metadata": {},
   "outputs": [
    {
     "name": "stderr",
     "output_type": "stream",
     "text": [
      "22/05/18 20:24:38 WARN Utils: Your hostname, tales-samsung resolves to a loopback address: 127.0.1.1; using 192.168.0.104 instead (on interface wlxd03745e80dbf)\n",
      "22/05/18 20:24:38 WARN Utils: Set SPARK_LOCAL_IP if you need to bind to another address\n",
      "Using Spark's default log4j profile: org/apache/spark/log4j-defaults.properties\n",
      "Setting default log level to \"WARN\".\n",
      "To adjust logging level use sc.setLogLevel(newLevel). For SparkR, use setLogLevel(newLevel).\n",
      "22/05/18 20:24:39 WARN NativeCodeLoader: Unable to load native-hadoop library for your platform... using builtin-java classes where applicable\n",
      "22/05/18 20:24:40 WARN Utils: Service 'SparkUI' could not bind on port 4040. Attempting port 4041.\n"
     ]
    }
   ],
   "source": [
    "from pyspark.sql import SparkSession\n",
    "\n",
    "spark = SparkSession.builder.config('spark.ui.showConsoleProgress', 'false') \\\n",
    "                            .config(\"spark.sql.debug.maxToStringFields\", 500) \\\n",
    "                            .config(\"spark.sql.debug.autoBroadcastJoinThreshold\", -1) \\\n",
    "                            .config(\"spark.driver.memory\", \"12g\") \\\n",
    "                            .appName(\"Baselines\").getOrCreate()"
   ]
  },
  {
   "cell_type": "code",
   "execution_count": 3,
   "id": "82d4c86a",
   "metadata": {},
   "outputs": [],
   "source": [
    "from src.dao import dao_raw, dao_processed, columns\n",
    "from src.utils import dflib, stats, pretties, plot, plot_domain, palette"
   ]
  },
  {
   "cell_type": "code",
   "execution_count": 4,
   "id": "b287e2be",
   "metadata": {},
   "outputs": [],
   "source": [
    "pretties.max_data_frame_columns()"
   ]
  },
  {
   "cell_type": "markdown",
   "id": "35c2aa38",
   "metadata": {},
   "source": [
    "# Loading Data"
   ]
  },
  {
   "cell_type": "code",
   "execution_count": 5,
   "id": "3d318d9a",
   "metadata": {},
   "outputs": [],
   "source": [
    "id_data = dao_processed.most_recent_data_build_id()\n",
    "\n",
    "basic_cols = ['id', 'target', 'league_id', 'league_name',\n",
    "              'home_team_name', 'away_team_name', \n",
    "              'match_date']"
   ]
  },
  {
   "cell_type": "code",
   "execution_count": 6,
   "id": "f7874f7b",
   "metadata": {},
   "outputs": [],
   "source": [
    "df_ttrain = dao_processed.load_processed_data(which_dataset=\"train_train\", spark=spark, id_data=id_data)\n",
    "df_tvalid = dao_processed.load_processed_data(which_dataset=\"train_valid\", spark=spark, id_data=id_data)\n",
    "df_test = dao_processed.load_processed_data(which_dataset=\"test\", spark=spark, id_data=id_data)"
   ]
  },
  {
   "cell_type": "markdown",
   "id": "7f8125cf",
   "metadata": {},
   "source": [
    "# Building Baselines"
   ]
  },
  {
   "cell_type": "code",
   "execution_count": 7,
   "id": "cee2cc06",
   "metadata": {},
   "outputs": [],
   "source": [
    "from src.ml.estimators import FillProbaEstimator\n",
    "from pyspark.ml import PipelineModel\n",
    "from pyspark.ml.feature import StringIndexer\n",
    "from src.ml.transformers import ProbaVectorToPrediction\n",
    "from pyspark.ml.evaluation import MulticlassClassificationEvaluator"
   ]
  },
  {
   "cell_type": "code",
   "execution_count": 8,
   "id": "eb279e33",
   "metadata": {},
   "outputs": [],
   "source": [
    "fill_proba_uniform = FillProbaEstimator(strategy=\"uniform_proba\",\n",
    "                                        labels=[\"home\", \"draw\", \"away\"],\n",
    "                                        proba_vector_col=\"proba\") \\\n",
    "                            .fit(df_ttrain)\n",
    "\n",
    "fill_proba_global_freq = FillProbaEstimator(strategy=\"global_frequency\",\n",
    "                                            labels=[\"home\", \"draw\", \"away\"],\n",
    "                                            proba_vector_col=\"proba\") \\\n",
    "                            .fit(df_ttrain)\n",
    "\n",
    "fill_proba_league_freq = FillProbaEstimator(strategy=\"league_frequency\",\n",
    "                                            labels=[\"home\", \"draw\", \"away\"],\n",
    "                                            proba_vector_col=\"proba\",\n",
    "                                            strategy_b=\"uniform_proba\") \\\n",
    "                            .fit(df_ttrain)\n",
    "\n",
    "target_indexer_transformer = StringIndexer(inputCol=\"target\", \n",
    "                                           outputCol=\"target_indexed\", \n",
    "                                           stringOrderType=\"alphabetDesc\").fit(df_ttrain)\n",
    "\n",
    "proba_to_pred = ProbaVectorToPrediction(target_transformer=target_indexer_transformer,\n",
    "                                        prediction_col=\"prediction\")"
   ]
  },
  {
   "cell_type": "code",
   "execution_count": 9,
   "id": "c35a2306",
   "metadata": {},
   "outputs": [],
   "source": [
    "pipeline_uniform = PipelineModel(stages=[target_indexer_transformer, fill_proba_uniform, proba_to_pred])\n",
    "pipeline_global_freq = PipelineModel(stages=[target_indexer_transformer, fill_proba_global_freq, proba_to_pred])\n",
    "pipeline_league_freq = PipelineModel(stages=[target_indexer_transformer, fill_proba_league_freq, proba_to_pred])"
   ]
  },
  {
   "cell_type": "code",
   "execution_count": 10,
   "id": "7ad86984",
   "metadata": {},
   "outputs": [],
   "source": [
    "df_train = df_ttrain.union(df_ttrain)\n",
    "\n",
    "preds_baseline_train_uniform = pipeline_uniform.transform(df_train)\n",
    "preds_baseline_train_global_freq = pipeline_global_freq.transform(df_train)\n",
    "preds_baseline_train_league_freq = pipeline_league_freq.transform(df_train)"
   ]
  },
  {
   "cell_type": "markdown",
   "id": "3b39a668",
   "metadata": {},
   "source": [
    "# Evaluating Baselines"
   ]
  },
  {
   "cell_type": "code",
   "execution_count": 11,
   "id": "c4605d5a",
   "metadata": {},
   "outputs": [],
   "source": [
    "import pandas as pd"
   ]
  },
  {
   "cell_type": "code",
   "execution_count": 12,
   "id": "f93c0f98",
   "metadata": {},
   "outputs": [],
   "source": [
    "evaluator = MulticlassClassificationEvaluator(labelCol=\"target_indexed\",\n",
    "                                              predictionCol=\"prediction\",\n",
    "                                              probabilityCol=\"proba\")"
   ]
  },
  {
   "cell_type": "code",
   "execution_count": 13,
   "id": "0416fc12",
   "metadata": {},
   "outputs": [],
   "source": [
    "accuracy_uniform = evaluator.evaluate(preds_baseline_train_uniform, {evaluator.metricName: \"accuracy\"})\n",
    "log_loss_uniform = evaluator.evaluate(preds_baseline_train_uniform, {evaluator.metricName: \"logLoss\"})\n",
    "\n",
    "accuracy_global_freq = evaluator.evaluate(preds_baseline_train_global_freq, {evaluator.metricName: \"accuracy\"})\n",
    "log_loss_global_freq = evaluator.evaluate(preds_baseline_train_global_freq, {evaluator.metricName: \"logLoss\"})\n",
    "\n",
    "accuracy_league_freq = evaluator.evaluate(preds_baseline_train_league_freq, {evaluator.metricName: \"accuracy\"})\n",
    "log_loss_league_freq = evaluator.evaluate(preds_baseline_train_league_freq, {evaluator.metricName: \"logLoss\"})"
   ]
  },
  {
   "cell_type": "code",
   "execution_count": 14,
   "id": "094502cb",
   "metadata": {},
   "outputs": [],
   "source": [
    "scores = pd.DataFrame({\"baseline\": [\"uniform_proba\", \"global_frequency\", \"league_frequency\"],\n",
    "                       \"accuracy\": [accuracy_uniform, accuracy_global_freq, accuracy_league_freq],\n",
    "                       \"log_loss\": [log_loss_uniform, log_loss_global_freq, log_loss_league_freq]}) \\\n",
    "                .set_index(\"baseline\").sort_values(\"log_loss\")"
   ]
  },
  {
   "cell_type": "code",
   "execution_count": 15,
   "id": "ec57dcb4",
   "metadata": {},
   "outputs": [
    {
     "data": {
      "text/html": [
       "<div>\n",
       "<style scoped>\n",
       "    .dataframe tbody tr th:only-of-type {\n",
       "        vertical-align: middle;\n",
       "    }\n",
       "\n",
       "    .dataframe tbody tr th {\n",
       "        vertical-align: top;\n",
       "    }\n",
       "\n",
       "    .dataframe thead th {\n",
       "        text-align: right;\n",
       "    }\n",
       "</style>\n",
       "<table border=\"1\" class=\"dataframe\">\n",
       "  <thead>\n",
       "    <tr style=\"text-align: right;\">\n",
       "      <th></th>\n",
       "      <th>accuracy</th>\n",
       "      <th>log_loss</th>\n",
       "    </tr>\n",
       "    <tr>\n",
       "      <th>baseline</th>\n",
       "      <th></th>\n",
       "      <th></th>\n",
       "    </tr>\n",
       "  </thead>\n",
       "  <tbody>\n",
       "    <tr>\n",
       "      <th>global_frequency</th>\n",
       "      <td>0.435681</td>\n",
       "      <td>1.071490</td>\n",
       "    </tr>\n",
       "    <tr>\n",
       "      <th>league_frequency</th>\n",
       "      <td>0.435681</td>\n",
       "      <td>1.098612</td>\n",
       "    </tr>\n",
       "    <tr>\n",
       "      <th>uniform_proba</th>\n",
       "      <td>0.435681</td>\n",
       "      <td>1.098612</td>\n",
       "    </tr>\n",
       "  </tbody>\n",
       "</table>\n",
       "</div>"
      ],
      "text/plain": [
       "                  accuracy  log_loss\n",
       "baseline                            \n",
       "global_frequency  0.435681  1.071490\n",
       "league_frequency  0.435681  1.098612\n",
       "uniform_proba     0.435681  1.098612"
      ]
     },
     "metadata": {},
     "output_type": "display_data"
    },
    {
     "data": {
      "image/png": "[encoded data removed]",
      "text/plain": [
       "<Figure size 432x288 with 1 Axes>"
      ]
     },
     "metadata": {
      "needs_background": "light"
     },
     "output_type": "display_data"
    }
   ],
   "source": [
    "display(scores)\n",
    "scores[\"log_loss\"].plot.bar(rot=0, ylim=(0.5, 1.15));"
   ]
  },
  {
   "cell_type": "markdown",
   "id": "4cbe83a0",
   "metadata": {},
   "source": [
    "### Notes\n",
    "\n",
    "These are the scores we need to improve. Any score worse than these indicates that something is completely out of the road."
   ]
  }
 ],
 "metadata": {
  "kernelspec": {
   "display_name": "Python 3 (ipykernel)",
   "language": "python",
   "name": "python3"
  },
  "language_info": {
   "codemirror_mode": {
    "name": "ipython",
    "version": 3
   },
   "file_extension": ".py",
   "mimetype": "text/x-python",
   "name": "python",
   "nbconvert_exporter": "python",
   "pygments_lexer": "ipython3",
   "version": "3.9.7"
  }
 },
 "nbformat": 4,
 "nbformat_minor": 5
}
