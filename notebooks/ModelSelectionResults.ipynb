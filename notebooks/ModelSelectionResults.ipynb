{
 "cells": [
  {
   "cell_type": "markdown",
   "id": "ed008c12",
   "metadata": {},
   "source": [
    "# ModelSelection - Results\n",
    "Notebook to check results for model selection"
   ]
  },
  {
   "cell_type": "code",
   "execution_count": 1,
   "id": "88e9bb5d",
   "metadata": {},
   "outputs": [
    {
     "data": {
      "text/plain": [
       "'/home/tales/ds/kaggle/football-match-prediction'"
      ]
     },
     "execution_count": 1,
     "metadata": {},
     "output_type": "execute_result"
    }
   ],
   "source": [
    "import os\n",
    "from working_dir import set_wd\n",
    "set_wd()\n",
    "os.getcwd()"
   ]
  },
  {
   "cell_type": "code",
   "execution_count": 2,
   "id": "448f5a9c",
   "metadata": {},
   "outputs": [],
   "source": [
    "# from pyspark.sql import SparkSession\n",
    "\n",
    "# spark = SparkSession.builder.config(\"spark.sql.debug.maxToStringFields\", 500) \\\n",
    "#                             .config(\"spark.driver.memory\", \"14g\") \\\n",
    "#                             .appName(\"ModelSelection-Results\").getOrCreate()\n",
    "\n",
    "# spark.sparkContext.setLogLevel(\"ERROR\")"
   ]
  },
  {
   "cell_type": "code",
   "execution_count": 3,
   "id": "770675a1",
   "metadata": {},
   "outputs": [],
   "source": [
    "import pandas as pd\n",
    "import matplotlib.pyplot as plt\n",
    "from src.dao import dao, dao_processed, dao_ml\n",
    "from src.utils import dflib, stats, pretties, plot, plot_domain, palette"
   ]
  },
  {
   "cell_type": "code",
   "execution_count": 4,
   "id": "782f8572",
   "metadata": {},
   "outputs": [],
   "source": [
    "pretties.max_data_frame_columns()"
   ]
  },
  {
   "cell_type": "markdown",
   "id": "8e0db4ff",
   "metadata": {},
   "source": [
    "# Loading Results"
   ]
  },
  {
   "cell_type": "code",
   "execution_count": 5,
   "id": "f3b83293",
   "metadata": {},
   "outputs": [
    {
     "data": {
      "text/plain": [
       "119"
      ]
     },
     "execution_count": 5,
     "metadata": {},
     "output_type": "execute_result"
    }
   ],
   "source": [
    "results = dao_ml.load_all_results()\n",
    "len(results)"
   ]
  },
  {
   "cell_type": "code",
   "execution_count": 6,
   "id": "6e7f80de",
   "metadata": {},
   "outputs": [],
   "source": [
    "rdf = pd.concat([pd.DataFrame(result) for result in results]).drop(\"which_dataset\")\n",
    "rdf[\"metrics_train_train\"] = rdf[\"metrics_train_train\"].astype(float)\n",
    "rdf[\"metrics_train_valid\"] = rdf[\"metrics_train_valid\"].astype(float)\n",
    "\n",
    "rdf[\"metrics_diff\"] = rdf[\"metrics_train_train\"] - rdf[\"metrics_train_valid\"]"
   ]
  },
  {
   "cell_type": "code",
   "execution_count": 7,
   "id": "e32b7768",
   "metadata": {},
   "outputs": [
    {
     "data": {
      "text/html": [
       "<div>\n",
       "<style scoped>\n",
       "    .dataframe tbody tr th:only-of-type {\n",
       "        vertical-align: middle;\n",
       "    }\n",
       "\n",
       "    .dataframe tbody tr th {\n",
       "        vertical-align: top;\n",
       "    }\n",
       "\n",
       "    .dataframe thead th {\n",
       "        text-align: right;\n",
       "    }\n",
       "</style>\n",
       "<table border=\"1\" class=\"dataframe\">\n",
       "  <thead>\n",
       "    <tr style=\"text-align: right;\">\n",
       "      <th></th>\n",
       "      <th>missing_values_strategy</th>\n",
       "      <th>undersampling</th>\n",
       "      <th>num_trees</th>\n",
       "      <th>max_depth</th>\n",
       "      <th>subsampling_rate</th>\n",
       "      <th>metrics_train_train</th>\n",
       "      <th>metrics_train_valid</th>\n",
       "      <th>id_model</th>\n",
       "      <th>datetime</th>\n",
       "      <th>metrics_diff</th>\n",
       "    </tr>\n",
       "  </thead>\n",
       "  <tbody>\n",
       "    <tr>\n",
       "      <th>log_loss</th>\n",
       "      <td>dropna</td>\n",
       "      <td>False</td>\n",
       "      <td>60</td>\n",
       "      <td>10</td>\n",
       "      <td>0.30</td>\n",
       "      <td>0.976563</td>\n",
       "      <td>0.999720</td>\n",
       "      <td>0567da63-1210-4986-b2d2-b3a51f6c1a31</td>\n",
       "      <td>2022-05-09 12:02:32</td>\n",
       "      <td>-2.315655e-02</td>\n",
       "    </tr>\n",
       "    <tr>\n",
       "      <th>log_loss</th>\n",
       "      <td>dropna</td>\n",
       "      <td>False</td>\n",
       "      <td>60</td>\n",
       "      <td>10</td>\n",
       "      <td>0.50</td>\n",
       "      <td>0.974017</td>\n",
       "      <td>0.999933</td>\n",
       "      <td>33d6ab27-cbec-4dee-97eb-f7c458f08724</td>\n",
       "      <td>2022-05-09 12:01:15</td>\n",
       "      <td>-2.591632e-02</td>\n",
       "    </tr>\n",
       "    <tr>\n",
       "      <th>log_loss</th>\n",
       "      <td>dropna</td>\n",
       "      <td>False</td>\n",
       "      <td>60</td>\n",
       "      <td>10</td>\n",
       "      <td>0.80</td>\n",
       "      <td>0.972004</td>\n",
       "      <td>1.000052</td>\n",
       "      <td>bec1296a-fb86-4c4d-9d19-a11d87f55ad7</td>\n",
       "      <td>2022-05-09 11:58:48</td>\n",
       "      <td>-2.804831e-02</td>\n",
       "    </tr>\n",
       "    <tr>\n",
       "      <th>log_loss</th>\n",
       "      <td>dropna</td>\n",
       "      <td>False</td>\n",
       "      <td>60</td>\n",
       "      <td>10</td>\n",
       "      <td>0.65</td>\n",
       "      <td>0.972972</td>\n",
       "      <td>1.000183</td>\n",
       "      <td>82a54410-c530-42c0-80cb-e976869562aa</td>\n",
       "      <td>2022-05-09 12:00:02</td>\n",
       "      <td>-2.721046e-02</td>\n",
       "    </tr>\n",
       "    <tr>\n",
       "      <th>log_loss</th>\n",
       "      <td>dropna</td>\n",
       "      <td>False</td>\n",
       "      <td>60</td>\n",
       "      <td>8</td>\n",
       "      <td>0.30</td>\n",
       "      <td>1.000054</td>\n",
       "      <td>1.001382</td>\n",
       "      <td>e2ab3e9a-353a-43fb-961a-a7d90906265a</td>\n",
       "      <td>2022-05-09 12:05:39</td>\n",
       "      <td>-1.328787e-03</td>\n",
       "    </tr>\n",
       "    <tr>\n",
       "      <th>...</th>\n",
       "      <td>...</td>\n",
       "      <td>...</td>\n",
       "      <td>...</td>\n",
       "      <td>...</td>\n",
       "      <td>...</td>\n",
       "      <td>...</td>\n",
       "      <td>...</td>\n",
       "      <td>...</td>\n",
       "      <td>...</td>\n",
       "      <td>...</td>\n",
       "    </tr>\n",
       "    <tr>\n",
       "      <th>log_loss</th>\n",
       "      <td>dropna</td>\n",
       "      <td>True</td>\n",
       "      <td>10</td>\n",
       "      <td>0</td>\n",
       "      <td>0.65</td>\n",
       "      <td>1.098613</td>\n",
       "      <td>1.098613</td>\n",
       "      <td>0efba7ff-0602-4380-ae19-96f0fcf061a8</td>\n",
       "      <td>2022-05-09 11:20:48</td>\n",
       "      <td>3.099743e-13</td>\n",
       "    </tr>\n",
       "    <tr>\n",
       "      <th>log_loss</th>\n",
       "      <td>dropna</td>\n",
       "      <td>True</td>\n",
       "      <td>10</td>\n",
       "      <td>0</td>\n",
       "      <td>0.30</td>\n",
       "      <td>1.098614</td>\n",
       "      <td>1.098614</td>\n",
       "      <td>4c00ec92-90ef-4755-9950-412c8f3ba079</td>\n",
       "      <td>2022-05-09 11:21:28</td>\n",
       "      <td>-1.090239e-13</td>\n",
       "    </tr>\n",
       "    <tr>\n",
       "      <th>log_loss</th>\n",
       "      <td>dropna</td>\n",
       "      <td>True</td>\n",
       "      <td>25</td>\n",
       "      <td>0</td>\n",
       "      <td>0.30</td>\n",
       "      <td>1.098614</td>\n",
       "      <td>1.098614</td>\n",
       "      <td>dc1300fe-7e46-4deb-a314-ded107d7114a</td>\n",
       "      <td>2022-05-09 11:08:04</td>\n",
       "      <td>4.209966e-13</td>\n",
       "    </tr>\n",
       "    <tr>\n",
       "      <th>log_loss</th>\n",
       "      <td>dropna</td>\n",
       "      <td>True</td>\n",
       "      <td>10</td>\n",
       "      <td>0</td>\n",
       "      <td>0.50</td>\n",
       "      <td>1.098615</td>\n",
       "      <td>1.098615</td>\n",
       "      <td>7276d137-ee96-449b-9a2e-c07b6d6b04ce</td>\n",
       "      <td>2022-05-09 11:21:08</td>\n",
       "      <td>-2.877698e-13</td>\n",
       "    </tr>\n",
       "    <tr>\n",
       "      <th>log_loss</th>\n",
       "      <td>dropna</td>\n",
       "      <td>True</td>\n",
       "      <td>10</td>\n",
       "      <td>15</td>\n",
       "      <td>0.30</td>\n",
       "      <td>0.895462</td>\n",
       "      <td>1.099649</td>\n",
       "      <td>e88129af-79da-4653-aa61-f68db2335784</td>\n",
       "      <td>2022-05-09 11:11:27</td>\n",
       "      <td>-2.041872e-01</td>\n",
       "    </tr>\n",
       "  </tbody>\n",
       "</table>\n",
       "<p>119 rows × 10 columns</p>\n",
       "</div>"
      ],
      "text/plain": [
       "         missing_values_strategy  undersampling  num_trees  max_depth  \\\n",
       "log_loss                  dropna          False         60         10   \n",
       "log_loss                  dropna          False         60         10   \n",
       "log_loss                  dropna          False         60         10   \n",
       "log_loss                  dropna          False         60         10   \n",
       "log_loss                  dropna          False         60          8   \n",
       "...                          ...            ...        ...        ...   \n",
       "log_loss                  dropna           True         10          0   \n",
       "log_loss                  dropna           True         10          0   \n",
       "log_loss                  dropna           True         25          0   \n",
       "log_loss                  dropna           True         10          0   \n",
       "log_loss                  dropna           True         10         15   \n",
       "\n",
       "          subsampling_rate  metrics_train_train  metrics_train_valid  \\\n",
       "log_loss              0.30             0.976563             0.999720   \n",
       "log_loss              0.50             0.974017             0.999933   \n",
       "log_loss              0.80             0.972004             1.000052   \n",
       "log_loss              0.65             0.972972             1.000183   \n",
       "log_loss              0.30             1.000054             1.001382   \n",
       "...                    ...                  ...                  ...   \n",
       "log_loss              0.65             1.098613             1.098613   \n",
       "log_loss              0.30             1.098614             1.098614   \n",
       "log_loss              0.30             1.098614             1.098614   \n",
       "log_loss              0.50             1.098615             1.098615   \n",
       "log_loss              0.30             0.895462             1.099649   \n",
       "\n",
       "                                      id_model             datetime  \\\n",
       "log_loss  0567da63-1210-4986-b2d2-b3a51f6c1a31  2022-05-09 12:02:32   \n",
       "log_loss  33d6ab27-cbec-4dee-97eb-f7c458f08724  2022-05-09 12:01:15   \n",
       "log_loss  bec1296a-fb86-4c4d-9d19-a11d87f55ad7  2022-05-09 11:58:48   \n",
       "log_loss  82a54410-c530-42c0-80cb-e976869562aa  2022-05-09 12:00:02   \n",
       "log_loss  e2ab3e9a-353a-43fb-961a-a7d90906265a  2022-05-09 12:05:39   \n",
       "...                                        ...                  ...   \n",
       "log_loss  0efba7ff-0602-4380-ae19-96f0fcf061a8  2022-05-09 11:20:48   \n",
       "log_loss  4c00ec92-90ef-4755-9950-412c8f3ba079  2022-05-09 11:21:28   \n",
       "log_loss  dc1300fe-7e46-4deb-a314-ded107d7114a  2022-05-09 11:08:04   \n",
       "log_loss  7276d137-ee96-449b-9a2e-c07b6d6b04ce  2022-05-09 11:21:08   \n",
       "log_loss  e88129af-79da-4653-aa61-f68db2335784  2022-05-09 11:11:27   \n",
       "\n",
       "          metrics_diff  \n",
       "log_loss -2.315655e-02  \n",
       "log_loss -2.591632e-02  \n",
       "log_loss -2.804831e-02  \n",
       "log_loss -2.721046e-02  \n",
       "log_loss -1.328787e-03  \n",
       "...                ...  \n",
       "log_loss  3.099743e-13  \n",
       "log_loss -1.090239e-13  \n",
       "log_loss  4.209966e-13  \n",
       "log_loss -2.877698e-13  \n",
       "log_loss -2.041872e-01  \n",
       "\n",
       "[119 rows x 10 columns]"
      ]
     },
     "execution_count": 7,
     "metadata": {},
     "output_type": "execute_result"
    }
   ],
   "source": [
    "rdf.loc[\"log_loss\"].sort_values(\"metrics_train_valid\")"
   ]
  },
  {
   "cell_type": "code",
   "execution_count": 8,
   "id": "5624df36",
   "metadata": {},
   "outputs": [],
   "source": [
    "def overfitting_analysis_num(metrics_df, param_name, metric_colname, value_colnames_train, value_colnames_valid):\n",
    "    metrics_df = metrics_df.loc[metric_colname].copy()\n",
    "    \n",
    "    of_data = metrics_df.groupby(param_name)[[value_colnames_train, value_colnames_valid]].mean().reset_index()\n",
    "    title = f\"{metric_colname} mean values for {param_name}\"\n",
    "    \n",
    "    plt.figure(figsize=(8,5))\n",
    "    plt.scatter(of_data[param_name], of_data[value_colnames_train], label=\"train\", s=130, alpha=0.6)\n",
    "    plt.scatter(of_data[param_name], of_data[value_colnames_valid], label=\"validation\", s=130, alpha=0.6)\n",
    "    plt.title(label=title)\n",
    "    plt.xlabel(param_name)\n",
    "    plt.ylabel(metric_colname)\n",
    "    plt.legend()\n",
    "    plt.show()\n",
    "    \n",
    "def overfitting_analysis_categ(metrics_df, param_name, metric_colname, value_colnames_train, value_colnames_valid):\n",
    "    metrics_df = metrics_df.loc[metric_colname].copy()\n",
    "    \n",
    "    of_data = metrics_df.groupby(param_name)[[value_colnames_train, value_colnames_valid]].mean().reset_index()\n",
    "    title = f\"{metric_colname} mean values for {param_name}\"\n",
    "    \n",
    "    display(of_data.set_index(param_name).transpose())\n",
    "    of_data.set_index(param_name).plot.bar(title=title, rot=0, xlabel=param_name, ylabel=metric_colname,\n",
    "                                           figsize=(8,5), alpha=0.7)\n",
    "    plt.show()"
   ]
  },
  {
   "cell_type": "code",
   "execution_count": 9,
   "id": "22bdfb08",
   "metadata": {},
   "outputs": [
    {
     "data": {
      "text/markdown": [
       "#### <font color=black>subsampling_rate</font>"
      ],
      "text/plain": [
       "<IPython.core.display.Markdown object>"
      ]
     },
     "metadata": {},
     "output_type": "display_data"
    },
    {
     "data": {
      "image/png": "[encoded data removed]",
      "text/plain": [
       "<Figure size 576x360 with 1 Axes>"
      ]
     },
     "metadata": {
      "needs_background": "light"
     },
     "output_type": "display_data"
    },
    {
     "data": {
      "text/markdown": [
       "#### <font color=black>max_depth</font>"
      ],
      "text/plain": [
       "<IPython.core.display.Markdown object>"
      ]
     },
     "metadata": {},
     "output_type": "display_data"
    },
    {
     "data": {
      "image/png": "[encoded data removed]",
      "text/plain": [
       "<Figure size 576x360 with 1 Axes>"
      ]
     },
     "metadata": {
      "needs_background": "light"
     },
     "output_type": "display_data"
    },
    {
     "data": {
      "text/markdown": [
       "#### <font color=black>num_trees</font>"
      ],
      "text/plain": [
       "<IPython.core.display.Markdown object>"
      ]
     },
     "metadata": {},
     "output_type": "display_data"
    },
    {
     "data": {
      "image/png": "[encoded data removed]",
      "text/plain": [
       "<Figure size 576x360 with 1 Axes>"
      ]
     },
     "metadata": {
      "needs_background": "light"
     },
     "output_type": "display_data"
    }
   ],
   "source": [
    "for param_name in [\"subsampling_rate\", \"max_depth\", \"num_trees\"]:\n",
    "    pretties.md(param_name, size=\"####\")\n",
    "    overfitting_analysis_num(metrics_df=rdf, \n",
    "                             param_name=param_name, \n",
    "                             metric_colname=\"log_loss\", \n",
    "                             value_colnames_train=\"metrics_train_train\", \n",
    "                             value_colnames_valid=\"metrics_train_valid\")"
   ]
  },
  {
   "cell_type": "code",
   "execution_count": 10,
   "id": "a3124975",
   "metadata": {},
   "outputs": [
    {
     "data": {
      "text/markdown": [
       "#### <font color=black>missing_values_strategy</font>"
      ],
      "text/plain": [
       "<IPython.core.display.Markdown object>"
      ]
     },
     "metadata": {},
     "output_type": "display_data"
    },
    {
     "data": {
      "text/html": [
       "<div>\n",
       "<style scoped>\n",
       "    .dataframe tbody tr th:only-of-type {\n",
       "        vertical-align: middle;\n",
       "    }\n",
       "\n",
       "    .dataframe tbody tr th {\n",
       "        vertical-align: top;\n",
       "    }\n",
       "\n",
       "    .dataframe thead th {\n",
       "        text-align: right;\n",
       "    }\n",
       "</style>\n",
       "<table border=\"1\" class=\"dataframe\">\n",
       "  <thead>\n",
       "    <tr style=\"text-align: right;\">\n",
       "      <th>missing_values_strategy</th>\n",
       "      <th>dropna</th>\n",
       "    </tr>\n",
       "  </thead>\n",
       "  <tbody>\n",
       "    <tr>\n",
       "      <th>metrics_train_train</th>\n",
       "      <td>0.982022</td>\n",
       "    </tr>\n",
       "    <tr>\n",
       "      <th>metrics_train_valid</th>\n",
       "      <td>1.040960</td>\n",
       "    </tr>\n",
       "  </tbody>\n",
       "</table>\n",
       "</div>"
      ],
      "text/plain": [
       "missing_values_strategy    dropna\n",
       "metrics_train_train      0.982022\n",
       "metrics_train_valid      1.040960"
      ]
     },
     "metadata": {},
     "output_type": "display_data"
    },
    {
     "data": {
      "image/png": "[encoded data removed]",
      "text/plain": [
       "<Figure size 576x360 with 1 Axes>"
      ]
     },
     "metadata": {
      "needs_background": "light"
     },
     "output_type": "display_data"
    },
    {
     "data": {
      "text/markdown": [
       "#### <font color=black>undersampling</font>"
      ],
      "text/plain": [
       "<IPython.core.display.Markdown object>"
      ]
     },
     "metadata": {},
     "output_type": "display_data"
    },
    {
     "data": {
      "text/html": [
       "<div>\n",
       "<style scoped>\n",
       "    .dataframe tbody tr th:only-of-type {\n",
       "        vertical-align: middle;\n",
       "    }\n",
       "\n",
       "    .dataframe tbody tr th {\n",
       "        vertical-align: top;\n",
       "    }\n",
       "\n",
       "    .dataframe thead th {\n",
       "        text-align: right;\n",
       "    }\n",
       "</style>\n",
       "<table border=\"1\" class=\"dataframe\">\n",
       "  <thead>\n",
       "    <tr style=\"text-align: right;\">\n",
       "      <th>undersampling</th>\n",
       "      <th>False</th>\n",
       "      <th>True</th>\n",
       "    </tr>\n",
       "  </thead>\n",
       "  <tbody>\n",
       "    <tr>\n",
       "      <th>metrics_train_train</th>\n",
       "      <td>0.946173</td>\n",
       "      <td>0.996959</td>\n",
       "    </tr>\n",
       "    <tr>\n",
       "      <th>metrics_train_valid</th>\n",
       "      <td>1.021687</td>\n",
       "      <td>1.048990</td>\n",
       "    </tr>\n",
       "  </tbody>\n",
       "</table>\n",
       "</div>"
      ],
      "text/plain": [
       "undersampling           False      True\n",
       "metrics_train_train  0.946173  0.996959\n",
       "metrics_train_valid  1.021687  1.048990"
      ]
     },
     "metadata": {},
     "output_type": "display_data"
    },
    {
     "data": {
      "image/png": "[encoded data removed]",
      "text/plain": [
       "<Figure size 576x360 with 1 Axes>"
      ]
     },
     "metadata": {
      "needs_background": "light"
     },
     "output_type": "display_data"
    }
   ],
   "source": [
    "for param_name in [\"missing_values_strategy\", \"undersampling\"]:\n",
    "    pretties.md(param_name, size=\"####\")\n",
    "    overfitting_analysis_categ(metrics_df=rdf, \n",
    "                                 param_name=param_name, \n",
    "                                 metric_colname=\"log_loss\", \n",
    "                                 value_colnames_train=\"metrics_train_train\", \n",
    "                                 value_colnames_valid=\"metrics_train_valid\")"
   ]
  },
  {
   "cell_type": "code",
   "execution_count": null,
   "id": "05bc1e05",
   "metadata": {},
   "outputs": [],
   "source": []
  }
 ],
 "metadata": {
  "kernelspec": {
   "display_name": "Python 3 (ipykernel)",
   "language": "python",
   "name": "python3"
  },
  "language_info": {
   "codemirror_mode": {
    "name": "ipython",
    "version": 3
   },
   "file_extension": ".py",
   "mimetype": "text/x-python",
   "name": "python",
   "nbconvert_exporter": "python",
   "pygments_lexer": "ipython3",
   "version": "3.9.7"
  }
 },
 "nbformat": 4,
 "nbformat_minor": 5
}
