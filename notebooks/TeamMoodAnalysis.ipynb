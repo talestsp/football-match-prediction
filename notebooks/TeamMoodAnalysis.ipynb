{
 "cells": [
  {
   "cell_type": "markdown",
   "id": "ed008c12",
   "metadata": {},
   "source": [
    "# TeamMoodAnalysis\n",
    "Notebook to explore ways to use previous match rating data"
   ]
  },
  {
   "cell_type": "code",
   "execution_count": 1,
   "id": "88e9bb5d",
   "metadata": {},
   "outputs": [
    {
     "data": {
      "text/plain": [
       "'/Users/tales.pimentel/ds/kaggle/football-match-prediction'"
      ]
     },
     "execution_count": 1,
     "metadata": {},
     "output_type": "execute_result"
    }
   ],
   "source": [
    "import os\n",
    "from working_dir import set_wd\n",
    "set_wd()\n",
    "os.getcwd()"
   ]
  },
  {
   "cell_type": "code",
   "execution_count": 2,
   "id": "448f5a9c",
   "metadata": {},
   "outputs": [],
   "source": [
    "from pyspark.sql import SparkSession\n",
    "spark = SparkSession.builder.appName(\"TeamMoodAnalysis\").getOrCreate()"
   ]
  },
  {
   "cell_type": "code",
   "execution_count": 3,
   "id": "770675a1",
   "metadata": {},
   "outputs": [],
   "source": [
    "import pyspark.sql.functions as f\n",
    "from pyspark.sql.functions import when\n",
    "import matplotlib.pyplot as plt\n",
    "\n",
    "from src.dao import dao_raw, dao_interim, columns\n",
    "from src.utils import dflib, stats, pretties, plot, palette"
   ]
  },
  {
   "cell_type": "code",
   "execution_count": 4,
   "id": "782f8572",
   "metadata": {},
   "outputs": [],
   "source": [
    "pretties.max_data_frame_columns()"
   ]
  },
  {
   "cell_type": "code",
   "execution_count": 5,
   "id": "bf3d3e27",
   "metadata": {},
   "outputs": [],
   "source": [
    "COLOR_HOME = palette.PALETTE_TARGET[\"home\"]\n",
    "COLOR_DRAW = palette.PALETTE_TARGET[\"draw\"]\n",
    "COLOR_AWAY = palette.PALETTE_TARGET[\"away\"]"
   ]
  },
  {
   "cell_type": "markdown",
   "id": "8e0db4ff",
   "metadata": {},
   "source": [
    "# Loading Data"
   ]
  },
  {
   "cell_type": "code",
   "execution_count": 6,
   "id": "d3d696c5",
   "metadata": {},
   "outputs": [
    {
     "name": "stdout",
     "output_type": "stream",
     "text": [
      "ttrain: (87470, 50)\n",
      "scores: (110938, 3)\n"
     ]
    }
   ],
   "source": [
    "ttrain = dao_interim.load_train_train_data(spark)\n",
    "scores = dao_raw.load_parse_scores_data(spark)\n",
    "\n",
    "drop_cols = columns.team_history_coach_colnames + \\\n",
    "            columns.team_history_is_cup_cols + \\\n",
    "            columns.team_history_is_play_home_cols + \\\n",
    "            columns.team_history_match_date_cols + \\\n",
    "            columns.team_history_league_id_cols + \\\n",
    "            columns.team_history_goal_cols\n",
    "\n",
    "ttrain = ttrain.drop(*drop_cols)\n",
    "\n",
    "print(f\"ttrain: {dflib.shape(ttrain)}\")\n",
    "print(f\"scores: {dflib.shape(scores)}\")"
   ]
  },
  {
   "cell_type": "code",
   "execution_count": 7,
   "id": "f82da485",
   "metadata": {},
   "outputs": [
    {
     "name": "stdout",
     "output_type": "stream",
     "text": [
      "train: (87470, 51)\n"
     ]
    }
   ],
   "source": [
    "ttrain = scores.select([\"id\", \"score\"]).join(ttrain, on=\"id\", how=\"inner\")\n",
    "print(f\"train: {dflib.shape(ttrain)}\")"
   ]
  },
  {
   "cell_type": "code",
   "execution_count": 8,
   "id": "b97c6fbb",
   "metadata": {},
   "outputs": [],
   "source": [
    "basic_cols = ['id', 'score', 'target', 'home_team_name', 'away_team_name', \n",
    "              'match_date', 'league_name', 'league_id', 'is_cup']"
   ]
  },
  {
   "cell_type": "markdown",
   "id": "94d3f388",
   "metadata": {},
   "source": [
    "# Team Match Mood"
   ]
  },
  {
   "cell_type": "markdown",
   "id": "86fb586b",
   "metadata": {},
   "source": [
    "## team_history_mood\n",
    "Difference between history_rating_n and history_opponent_rating_n."
   ]
  },
  {
   "cell_type": "code",
   "execution_count": 9,
   "id": "d9efe2dc",
   "metadata": {},
   "outputs": [],
   "source": [
    "for which_team in [\"home\", \"away\"]:\n",
    "\n",
    "    for i in range(1, 11):\n",
    "        team_history_mood = f\"{which_team}_history_mood_{i}\"\n",
    "        team_history_rating = f\"{which_team}_team_history_rating_{i}\"\n",
    "        opponent_history_rating = f\"{which_team}_team_history_opponent_rating_{i}\"\n",
    "        \n",
    "        ttrain = ttrain.withColumn(team_history_mood, \n",
    "                                          ttrain[team_history_rating] - \\\n",
    "                                          ttrain[opponent_history_rating])"
   ]
  },
  {
   "cell_type": "markdown",
   "id": "c933d46c",
   "metadata": {},
   "source": [
    "Validating"
   ]
  },
  {
   "cell_type": "code",
   "execution_count": 10,
   "id": "405856df",
   "metadata": {},
   "outputs": [
    {
     "data": {
      "text/html": [
       "<div>\n",
       "<style scoped>\n",
       "    .dataframe tbody tr th:only-of-type {\n",
       "        vertical-align: middle;\n",
       "    }\n",
       "\n",
       "    .dataframe tbody tr th {\n",
       "        vertical-align: top;\n",
       "    }\n",
       "\n",
       "    .dataframe thead th {\n",
       "        text-align: right;\n",
       "    }\n",
       "</style>\n",
       "<table border=\"1\" class=\"dataframe\">\n",
       "  <thead>\n",
       "    <tr style=\"text-align: right;\">\n",
       "      <th></th>\n",
       "      <th>home_history_mood_5</th>\n",
       "      <th>home_team_history_rating_5</th>\n",
       "      <th>home_team_history_opponent_rating_5</th>\n",
       "      <th>away_history_mood_9</th>\n",
       "      <th>away_team_history_rating_9</th>\n",
       "      <th>away_team_history_opponent_rating_9</th>\n",
       "    </tr>\n",
       "  </thead>\n",
       "  <tbody>\n",
       "    <tr>\n",
       "      <th>0</th>\n",
       "      <td>1.398131</td>\n",
       "      <td>5.478300000000001</td>\n",
       "      <td>4.080169230769231</td>\n",
       "      <td>7.913075</td>\n",
       "      <td>10.970814285714287</td>\n",
       "      <td>3.057739285714285</td>\n",
       "    </tr>\n",
       "    <tr>\n",
       "      <th>1</th>\n",
       "      <td>3.685993</td>\n",
       "      <td>7.804064285714285</td>\n",
       "      <td>4.1180714285714295</td>\n",
       "      <td>-3.834623</td>\n",
       "      <td>4.1258423076923085</td>\n",
       "      <td>7.960465384615384</td>\n",
       "    </tr>\n",
       "    <tr>\n",
       "      <th>2</th>\n",
       "      <td>-3.912490</td>\n",
       "      <td>3.8643600000000005</td>\n",
       "      <td>7.7768500000000005</td>\n",
       "      <td>1.151759</td>\n",
       "      <td>6.45101875</td>\n",
       "      <td>5.299259374999999</td>\n",
       "    </tr>\n",
       "  </tbody>\n",
       "</table>\n",
       "</div>"
      ],
      "text/plain": [
       "   home_history_mood_5 home_team_history_rating_5  \\\n",
       "0             1.398131          5.478300000000001   \n",
       "1             3.685993          7.804064285714285   \n",
       "2            -3.912490         3.8643600000000005   \n",
       "\n",
       "  home_team_history_opponent_rating_5  away_history_mood_9  \\\n",
       "0                   4.080169230769231             7.913075   \n",
       "1                  4.1180714285714295            -3.834623   \n",
       "2                  7.7768500000000005             1.151759   \n",
       "\n",
       "  away_team_history_rating_9 away_team_history_opponent_rating_9  \n",
       "0         10.970814285714287                   3.057739285714285  \n",
       "1         4.1258423076923085                   7.960465384615384  \n",
       "2                 6.45101875                   5.299259374999999  "
      ]
     },
     "execution_count": 10,
     "metadata": {},
     "output_type": "execute_result"
    }
   ],
   "source": [
    "ttrain.limit(3).select([\"home_history_mood_5\", \n",
    "                        \"home_team_history_rating_5\", \n",
    "                        \"home_team_history_opponent_rating_5\",\n",
    "                        \"away_history_mood_9\", \n",
    "                        \"away_team_history_rating_9\", \n",
    "                        \"away_team_history_opponent_rating_9\"]).toPandas()"
   ]
  },
  {
   "cell_type": "code",
   "execution_count": 11,
   "id": "e5e592c0",
   "metadata": {},
   "outputs": [
    {
     "name": "stdout",
     "output_type": "stream",
     "text": [
      "(87470, 71)\n",
      "(87470, 31)\n"
     ]
    }
   ],
   "source": [
    "print(dflib.shape(ttrain))\n",
    "ttrain = ttrain.drop(*columns.team_history_rating_cols)\n",
    "print(dflib.shape(ttrain))"
   ]
  },
  {
   "cell_type": "markdown",
   "id": "177633d5",
   "metadata": {},
   "source": [
    "## team_history_mood_mean\n",
    "Mean of previous (historical) team_history_mood_n."
   ]
  },
  {
   "cell_type": "code",
   "execution_count": 12,
   "id": "370a3dda",
   "metadata": {},
   "outputs": [],
   "source": [
    "home_history_mood_colnames = [f\"home_history_mood_{i}\" for i in range(1, 11)]\n",
    "home_match_mood_numeric = stats.row_mean(df=ttrain, colnames=home_history_mood_colnames, \n",
    "                                         row_mean_colname=\"home_history_mood_mean\", \n",
    "                                         index_colname=\"id\")\n",
    "\n",
    "away_history_mood_colnames = [f\"away_history_mood_{i}\" for i in range(1, 11)]\n",
    "away_match_mood_numeric = stats.row_mean(df=ttrain, colnames=away_history_mood_colnames, \n",
    "                                         row_mean_colname=\"away_history_mood_mean\", \n",
    "                                         index_colname=\"id\")\n",
    "\n",
    "ttrain = ttrain.join(home_match_mood_numeric, on=\"id\", how=\"left\")\n",
    "ttrain = ttrain.join(away_match_mood_numeric, on=\"id\", how=\"left\")"
   ]
  },
  {
   "cell_type": "code",
   "execution_count": 13,
   "id": "61dc273c",
   "metadata": {
    "scrolled": false
   },
   "outputs": [],
   "source": [
    "# print(dflib.shape(ttrain))\n",
    "# stats.describe_cols(ttrain, [\"home_match_mood_numeric\", \"away_match_mood_numeric\"], 4).show()"
   ]
  },
  {
   "cell_type": "code",
   "execution_count": 14,
   "id": "6b2127a3",
   "metadata": {},
   "outputs": [],
   "source": [
    "# plot.hist(ttrain, \"home_match_mood_numeric\", bins=30, figsize=(6, 2))\n",
    "# plot.hist(ttrain, \"away_match_mood_numeric\", bins=30, figsize=(6, 2))"
   ]
  },
  {
   "cell_type": "markdown",
   "id": "2e60d6c2",
   "metadata": {},
   "source": [
    "Validating"
   ]
  },
  {
   "cell_type": "code",
   "execution_count": 15,
   "id": "21f9935a",
   "metadata": {},
   "outputs": [
    {
     "data": {
      "text/html": [
       "<div>\n",
       "<style scoped>\n",
       "    .dataframe tbody tr th:only-of-type {\n",
       "        vertical-align: middle;\n",
       "    }\n",
       "\n",
       "    .dataframe tbody tr th {\n",
       "        vertical-align: top;\n",
       "    }\n",
       "\n",
       "    .dataframe thead th {\n",
       "        text-align: right;\n",
       "    }\n",
       "</style>\n",
       "<table border=\"1\" class=\"dataframe\">\n",
       "  <thead>\n",
       "    <tr style=\"text-align: right;\">\n",
       "      <th></th>\n",
       "      <th>home_history_mood_mean</th>\n",
       "      <th>home_history_mood_1</th>\n",
       "      <th>home_history_mood_2</th>\n",
       "      <th>home_history_mood_3</th>\n",
       "      <th>home_history_mood_4</th>\n",
       "      <th>home_history_mood_5</th>\n",
       "      <th>home_history_mood_6</th>\n",
       "      <th>home_history_mood_7</th>\n",
       "      <th>home_history_mood_8</th>\n",
       "      <th>home_history_mood_9</th>\n",
       "      <th>home_history_mood_10</th>\n",
       "    </tr>\n",
       "  </thead>\n",
       "  <tbody>\n",
       "    <tr>\n",
       "      <th>0</th>\n",
       "      <td>1.634704</td>\n",
       "      <td>3.283155</td>\n",
       "      <td>-0.321671</td>\n",
       "      <td>-0.502561</td>\n",
       "      <td>-4.279150</td>\n",
       "      <td>5.556073</td>\n",
       "      <td>1.918392</td>\n",
       "      <td>-0.916111</td>\n",
       "      <td>-0.902963</td>\n",
       "      <td>12.770750</td>\n",
       "      <td>-0.258870</td>\n",
       "    </tr>\n",
       "    <tr>\n",
       "      <th>1</th>\n",
       "      <td>-1.488365</td>\n",
       "      <td>-7.276695</td>\n",
       "      <td>-0.736394</td>\n",
       "      <td>-4.952425</td>\n",
       "      <td>0.662473</td>\n",
       "      <td>-2.908779</td>\n",
       "      <td>-3.451164</td>\n",
       "      <td>1.970667</td>\n",
       "      <td>0.761820</td>\n",
       "      <td>-3.737857</td>\n",
       "      <td>4.784707</td>\n",
       "    </tr>\n",
       "    <tr>\n",
       "      <th>2</th>\n",
       "      <td>0.996628</td>\n",
       "      <td>0.340983</td>\n",
       "      <td>0.512602</td>\n",
       "      <td>4.810275</td>\n",
       "      <td>-0.950104</td>\n",
       "      <td>-0.117811</td>\n",
       "      <td>0.141100</td>\n",
       "      <td>2.915550</td>\n",
       "      <td>-0.709112</td>\n",
       "      <td>3.036450</td>\n",
       "      <td>-0.013650</td>\n",
       "    </tr>\n",
       "  </tbody>\n",
       "</table>\n",
       "</div>"
      ],
      "text/plain": [
       "   home_history_mood_mean  home_history_mood_1  home_history_mood_2  \\\n",
       "0                1.634704             3.283155            -0.321671   \n",
       "1               -1.488365            -7.276695            -0.736394   \n",
       "2                0.996628             0.340983             0.512602   \n",
       "\n",
       "   home_history_mood_3  home_history_mood_4  home_history_mood_5  \\\n",
       "0            -0.502561            -4.279150             5.556073   \n",
       "1            -4.952425             0.662473            -2.908779   \n",
       "2             4.810275            -0.950104            -0.117811   \n",
       "\n",
       "   home_history_mood_6  home_history_mood_7  home_history_mood_8  \\\n",
       "0             1.918392            -0.916111            -0.902963   \n",
       "1            -3.451164             1.970667             0.761820   \n",
       "2             0.141100             2.915550            -0.709112   \n",
       "\n",
       "   home_history_mood_9  home_history_mood_10  \n",
       "0            12.770750             -0.258870  \n",
       "1            -3.737857              4.784707  \n",
       "2             3.036450             -0.013650  "
      ]
     },
     "metadata": {},
     "output_type": "display_data"
    },
    {
     "data": {
      "text/html": [
       "<div>\n",
       "<style scoped>\n",
       "    .dataframe tbody tr th:only-of-type {\n",
       "        vertical-align: middle;\n",
       "    }\n",
       "\n",
       "    .dataframe tbody tr th {\n",
       "        vertical-align: top;\n",
       "    }\n",
       "\n",
       "    .dataframe thead th {\n",
       "        text-align: right;\n",
       "    }\n",
       "</style>\n",
       "<table border=\"1\" class=\"dataframe\">\n",
       "  <thead>\n",
       "    <tr style=\"text-align: right;\">\n",
       "      <th></th>\n",
       "      <th>home_history_mood_mean</th>\n",
       "      <th>home_history_mood_1</th>\n",
       "      <th>home_history_mood_2</th>\n",
       "      <th>home_history_mood_3</th>\n",
       "      <th>home_history_mood_4</th>\n",
       "      <th>home_history_mood_5</th>\n",
       "      <th>home_history_mood_6</th>\n",
       "      <th>home_history_mood_7</th>\n",
       "      <th>home_history_mood_8</th>\n",
       "      <th>home_history_mood_9</th>\n",
       "      <th>home_history_mood_10</th>\n",
       "    </tr>\n",
       "  </thead>\n",
       "  <tbody>\n",
       "    <tr>\n",
       "      <th>0</th>\n",
       "      <td>-1.715054</td>\n",
       "      <td>-4.443050</td>\n",
       "      <td>3.953683</td>\n",
       "      <td>1.62030</td>\n",
       "      <td>-7.991150</td>\n",
       "      <td>NaN</td>\n",
       "      <td>NaN</td>\n",
       "      <td>NaN</td>\n",
       "      <td>NaN</td>\n",
       "      <td>NaN</td>\n",
       "      <td>NaN</td>\n",
       "    </tr>\n",
       "    <tr>\n",
       "      <th>1</th>\n",
       "      <td>-6.903041</td>\n",
       "      <td>-4.019617</td>\n",
       "      <td>-5.887414</td>\n",
       "      <td>-9.25635</td>\n",
       "      <td>-8.448783</td>\n",
       "      <td>NaN</td>\n",
       "      <td>NaN</td>\n",
       "      <td>NaN</td>\n",
       "      <td>NaN</td>\n",
       "      <td>NaN</td>\n",
       "      <td>NaN</td>\n",
       "    </tr>\n",
       "    <tr>\n",
       "      <th>2</th>\n",
       "      <td>5.554536</td>\n",
       "      <td>7.547417</td>\n",
       "      <td>8.790572</td>\n",
       "      <td>-2.53655</td>\n",
       "      <td>8.448783</td>\n",
       "      <td>12.900944</td>\n",
       "      <td>-1.82395</td>\n",
       "      <td>NaN</td>\n",
       "      <td>NaN</td>\n",
       "      <td>NaN</td>\n",
       "      <td>NaN</td>\n",
       "    </tr>\n",
       "  </tbody>\n",
       "</table>\n",
       "</div>"
      ],
      "text/plain": [
       "   home_history_mood_mean  home_history_mood_1  home_history_mood_2  \\\n",
       "0               -1.715054            -4.443050             3.953683   \n",
       "1               -6.903041            -4.019617            -5.887414   \n",
       "2                5.554536             7.547417             8.790572   \n",
       "\n",
       "   home_history_mood_3  home_history_mood_4  home_history_mood_5  \\\n",
       "0              1.62030            -7.991150                  NaN   \n",
       "1             -9.25635            -8.448783                  NaN   \n",
       "2             -2.53655             8.448783            12.900944   \n",
       "\n",
       "   home_history_mood_6  home_history_mood_7  home_history_mood_8  \\\n",
       "0                  NaN                  NaN                  NaN   \n",
       "1                  NaN                  NaN                  NaN   \n",
       "2             -1.82395                  NaN                  NaN   \n",
       "\n",
       "   home_history_mood_9  home_history_mood_10  \n",
       "0                  NaN                   NaN  \n",
       "1                  NaN                   NaN  \n",
       "2                  NaN                   NaN  "
      ]
     },
     "metadata": {},
     "output_type": "display_data"
    }
   ],
   "source": [
    "display(ttrain.limit(3).select([\"home_history_mood_mean\"] + home_history_mood_colnames).toPandas())\n",
    "display(ttrain.filter(ttrain[\"home_history_mood_10\"].isNull()).limit(3).select([\"home_history_mood_mean\"] + home_history_mood_colnames).toPandas())"
   ]
  },
  {
   "cell_type": "markdown",
   "id": "7b3a3943",
   "metadata": {},
   "source": [
    "## team_mood_diff\n",
    "Diference between home_team and away_team match_mood_numeric."
   ]
  },
  {
   "cell_type": "code",
   "execution_count": null,
   "id": "f0aeb7a9",
   "metadata": {},
   "outputs": [],
   "source": []
  },
  {
   "cell_type": "code",
   "execution_count": 16,
   "id": "4dd98af4",
   "metadata": {
    "scrolled": true
   },
   "outputs": [],
   "source": [
    "ttrain = ttrain.withColumn(\"home_mood_diff\", f.col(\"home_history_mood_mean\") - f.col(\"away_history_mood_mean\"))\n",
    "ttrain = ttrain.withColumn(\"away_mood_diff\", f.col(\"away_history_mood_mean\") - f.col(\"home_history_mood_mean\"))"
   ]
  },
  {
   "cell_type": "code",
   "execution_count": 17,
   "id": "720298ad",
   "metadata": {},
   "outputs": [
    {
     "name": "stdout",
     "output_type": "stream",
     "text": [
      "(87470, 35)\n",
      "+------+-----+------+----+-----+-----+--------------+\n",
      "|   min| q_25|median|q_75|  max| mean|        column|\n",
      "+------+-----+------+----+-----+-----+--------------+\n",
      "|-51.59|-2.01| -0.06| 1.9|53.27|-0.04|home_mood_diff|\n",
      "|-53.27| -1.9|  0.06|2.01|51.59| 0.04|away_mood_diff|\n",
      "+------+-----+------+----+-----+-----+--------------+\n",
      "\n"
     ]
    }
   ],
   "source": [
    "print(dflib.shape(ttrain))\n",
    "stats.describe_cols(ttrain, [\"home_mood_diff\", \"away_mood_diff\"], 4).show()"
   ]
  },
  {
   "cell_type": "code",
   "execution_count": 18,
   "id": "9a024f58",
   "metadata": {},
   "outputs": [
    {
     "data": {
      "image/png": "[encoded data removed]",
      "text/plain": [
       "<Figure size 432x144 with 1 Axes>"
      ]
     },
     "metadata": {
      "needs_background": "light"
     },
     "output_type": "display_data"
    },
    {
     "data": {
      "image/png": "[encoded data removed]",
      "text/plain": [
       "<Figure size 432x144 with 1 Axes>"
      ]
     },
     "metadata": {
      "needs_background": "light"
     },
     "output_type": "display_data"
    }
   ],
   "source": [
    "plot.hist(ttrain, \"home_mood_diff\", bins=30, figsize=(6, 2))\n",
    "plot.hist(ttrain, \"away_mood_diff\", bins=30, figsize=(6, 2))"
   ]
  },
  {
   "cell_type": "markdown",
   "id": "50f9cb21",
   "metadata": {},
   "source": [
    "Validating"
   ]
  },
  {
   "cell_type": "code",
   "execution_count": 19,
   "id": "a9971de3",
   "metadata": {},
   "outputs": [
    {
     "data": {
      "text/html": [
       "<div>\n",
       "<style scoped>\n",
       "    .dataframe tbody tr th:only-of-type {\n",
       "        vertical-align: middle;\n",
       "    }\n",
       "\n",
       "    .dataframe tbody tr th {\n",
       "        vertical-align: top;\n",
       "    }\n",
       "\n",
       "    .dataframe thead th {\n",
       "        text-align: right;\n",
       "    }\n",
       "</style>\n",
       "<table border=\"1\" class=\"dataframe\">\n",
       "  <thead>\n",
       "    <tr style=\"text-align: right;\">\n",
       "      <th></th>\n",
       "      <th>home_mood_diff</th>\n",
       "      <th>home_history_mood_mean</th>\n",
       "      <th>away_history_mood_mean</th>\n",
       "    </tr>\n",
       "  </thead>\n",
       "  <tbody>\n",
       "    <tr>\n",
       "      <th>0</th>\n",
       "      <td>-1.003665</td>\n",
       "      <td>1.634704</td>\n",
       "      <td>2.638369</td>\n",
       "    </tr>\n",
       "    <tr>\n",
       "      <th>1</th>\n",
       "      <td>0.873839</td>\n",
       "      <td>-1.488365</td>\n",
       "      <td>-2.362204</td>\n",
       "    </tr>\n",
       "    <tr>\n",
       "      <th>2</th>\n",
       "      <td>1.148099</td>\n",
       "      <td>0.996628</td>\n",
       "      <td>-0.151471</td>\n",
       "    </tr>\n",
       "  </tbody>\n",
       "</table>\n",
       "</div>"
      ],
      "text/plain": [
       "   home_mood_diff  home_history_mood_mean  away_history_mood_mean\n",
       "0       -1.003665                1.634704                2.638369\n",
       "1        0.873839               -1.488365               -2.362204\n",
       "2        1.148099                0.996628               -0.151471"
      ]
     },
     "metadata": {},
     "output_type": "display_data"
    }
   ],
   "source": [
    "display(ttrain.limit(3).select([\"home_mood_diff\", \"home_history_mood_mean\", \"away_history_mood_mean\"]).toPandas())"
   ]
  },
  {
   "cell_type": "markdown",
   "id": "d5edf1f3",
   "metadata": {},
   "source": [
    "## team_mood\n",
    "Mapping team_mood_diff to team_mood.\n",
    " * OPTIMISTIC: team_mood_diff > 0\n",
    " * PESSIMISTIC: team_mood_diff > 0\n",
    " * NEUTRAL: team_mood_diff 'close' to 0\n",
    "   * Please check MOOD_NUMERIC_THRESHOLD for 'close' numeric definition"
   ]
  },
  {
   "cell_type": "code",
   "execution_count": 20,
   "id": "a726dbba",
   "metadata": {},
   "outputs": [],
   "source": [
    "split_score = f.split(ttrain['score'], \"-\")\n",
    "ttrain = ttrain.withColumn('home_goals', split_score.getItem(0))\n",
    "ttrain = ttrain.withColumn('away_goals', split_score.getItem(1))"
   ]
  },
  {
   "cell_type": "code",
   "execution_count": 21,
   "id": "b2d9952d",
   "metadata": {},
   "outputs": [],
   "source": [
    "MOOD_NUMERIC_THRESHOLD = 0.25\n",
    "\n",
    "ttrain = ttrain.withColumn(\"home_mood\", \n",
    "                                      f.when(f.abs(ttrain[\"home_mood_diff\"]) < MOOD_NUMERIC_THRESHOLD, \"NEUTRAL\") \\\n",
    "                           .otherwise(f.when(ttrain[\"home_mood_diff\"] < 0, \"PESSIMISTIC\") \\\n",
    "                           .otherwise(f.when(ttrain[\"home_mood_diff\"] > 0, \"OPTIMISTIC\"))))\n",
    "\n",
    "ttrain = ttrain.withColumn(\"away_mood\", \n",
    "                                      f.when(f.abs(ttrain[\"away_mood_diff\"]) < MOOD_NUMERIC_THRESHOLD, \"NEUTRAL\")\\\n",
    "                           .otherwise(f.when(ttrain[\"away_mood_diff\"] < 0, \"PESSIMISTIC\") \\\n",
    "                           .otherwise(f.when(ttrain[\"away_mood_diff\"] > 0, \"OPTIMISTIC\"))))"
   ]
  },
  {
   "cell_type": "code",
   "execution_count": 22,
   "id": "b115eefb",
   "metadata": {},
   "outputs": [
    {
     "name": "stdout",
     "output_type": "stream",
     "text": [
      "+-----------+--------+--------------------+\n",
      "|  home_mood|Absolute|            Relative|\n",
      "+-----------+--------+--------------------+\n",
      "| OPTIMISTIC|   38997| 0.44583285697953584|\n",
      "|    NEUTRAL|    6215| 0.07105293243397737|\n",
      "|PESSIMISTIC|   40467|  0.4626386189550703|\n",
      "|       null|    1791|0.020475591631416486|\n",
      "+-----------+--------+--------------------+\n",
      "\n",
      "+-----------+--------+--------------------+\n",
      "|  away_mood|Absolute|            Relative|\n",
      "+-----------+--------+--------------------+\n",
      "| OPTIMISTIC|   40467|  0.4626386189550703|\n",
      "|    NEUTRAL|    6215| 0.07105293243397737|\n",
      "|PESSIMISTIC|   38997| 0.44583285697953584|\n",
      "|       null|    1791|0.020475591631416486|\n",
      "+-----------+--------+--------------------+\n",
      "\n"
     ]
    }
   ],
   "source": [
    "stats.freq(ttrain, \"home_mood\").show()\n",
    "stats.freq(ttrain, \"away_mood\").show()"
   ]
  },
  {
   "cell_type": "markdown",
   "id": "19f3cf49",
   "metadata": {},
   "source": [
    "Validating"
   ]
  },
  {
   "cell_type": "code",
   "execution_count": 23,
   "id": "f5efdda0",
   "metadata": {},
   "outputs": [
    {
     "data": {
      "text/html": [
       "<div>\n",
       "<style scoped>\n",
       "    .dataframe tbody tr th:only-of-type {\n",
       "        vertical-align: middle;\n",
       "    }\n",
       "\n",
       "    .dataframe tbody tr th {\n",
       "        vertical-align: top;\n",
       "    }\n",
       "\n",
       "    .dataframe thead th {\n",
       "        text-align: right;\n",
       "    }\n",
       "</style>\n",
       "<table border=\"1\" class=\"dataframe\">\n",
       "  <thead>\n",
       "    <tr style=\"text-align: right;\">\n",
       "      <th></th>\n",
       "      <th>home_mood</th>\n",
       "      <th>away_mood</th>\n",
       "      <th>home_mood_diff</th>\n",
       "      <th>away_mood_diff</th>\n",
       "    </tr>\n",
       "  </thead>\n",
       "  <tbody>\n",
       "    <tr>\n",
       "      <th>0</th>\n",
       "      <td>OPTIMISTIC</td>\n",
       "      <td>PESSIMISTIC</td>\n",
       "      <td>1.567881</td>\n",
       "      <td>-1.567881</td>\n",
       "    </tr>\n",
       "    <tr>\n",
       "      <th>1</th>\n",
       "      <td>OPTIMISTIC</td>\n",
       "      <td>PESSIMISTIC</td>\n",
       "      <td>0.286281</td>\n",
       "      <td>-0.286281</td>\n",
       "    </tr>\n",
       "  </tbody>\n",
       "</table>\n",
       "</div>"
      ],
      "text/plain": [
       "    home_mood    away_mood  home_mood_diff  away_mood_diff\n",
       "0  OPTIMISTIC  PESSIMISTIC        1.567881       -1.567881\n",
       "1  OPTIMISTIC  PESSIMISTIC        0.286281       -0.286281"
      ]
     },
     "metadata": {},
     "output_type": "display_data"
    },
    {
     "data": {
      "text/html": [
       "<div>\n",
       "<style scoped>\n",
       "    .dataframe tbody tr th:only-of-type {\n",
       "        vertical-align: middle;\n",
       "    }\n",
       "\n",
       "    .dataframe tbody tr th {\n",
       "        vertical-align: top;\n",
       "    }\n",
       "\n",
       "    .dataframe thead th {\n",
       "        text-align: right;\n",
       "    }\n",
       "</style>\n",
       "<table border=\"1\" class=\"dataframe\">\n",
       "  <thead>\n",
       "    <tr style=\"text-align: right;\">\n",
       "      <th></th>\n",
       "      <th>home_mood</th>\n",
       "      <th>away_mood</th>\n",
       "      <th>home_mood_diff</th>\n",
       "      <th>away_mood_diff</th>\n",
       "    </tr>\n",
       "  </thead>\n",
       "  <tbody>\n",
       "    <tr>\n",
       "      <th>0</th>\n",
       "      <td>NEUTRAL</td>\n",
       "      <td>NEUTRAL</td>\n",
       "      <td>0.021316</td>\n",
       "      <td>-0.021316</td>\n",
       "    </tr>\n",
       "    <tr>\n",
       "      <th>1</th>\n",
       "      <td>NEUTRAL</td>\n",
       "      <td>NEUTRAL</td>\n",
       "      <td>-0.022292</td>\n",
       "      <td>0.022292</td>\n",
       "    </tr>\n",
       "  </tbody>\n",
       "</table>\n",
       "</div>"
      ],
      "text/plain": [
       "  home_mood away_mood  home_mood_diff  away_mood_diff\n",
       "0   NEUTRAL   NEUTRAL        0.021316       -0.021316\n",
       "1   NEUTRAL   NEUTRAL       -0.022292        0.022292"
      ]
     },
     "metadata": {},
     "output_type": "display_data"
    },
    {
     "data": {
      "text/html": [
       "<div>\n",
       "<style scoped>\n",
       "    .dataframe tbody tr th:only-of-type {\n",
       "        vertical-align: middle;\n",
       "    }\n",
       "\n",
       "    .dataframe tbody tr th {\n",
       "        vertical-align: top;\n",
       "    }\n",
       "\n",
       "    .dataframe thead th {\n",
       "        text-align: right;\n",
       "    }\n",
       "</style>\n",
       "<table border=\"1\" class=\"dataframe\">\n",
       "  <thead>\n",
       "    <tr style=\"text-align: right;\">\n",
       "      <th></th>\n",
       "      <th>home_mood</th>\n",
       "      <th>away_mood</th>\n",
       "      <th>home_mood_diff</th>\n",
       "      <th>away_mood_diff</th>\n",
       "    </tr>\n",
       "  </thead>\n",
       "  <tbody>\n",
       "    <tr>\n",
       "      <th>0</th>\n",
       "      <td>PESSIMISTIC</td>\n",
       "      <td>OPTIMISTIC</td>\n",
       "      <td>-1.455834</td>\n",
       "      <td>1.455834</td>\n",
       "    </tr>\n",
       "    <tr>\n",
       "      <th>1</th>\n",
       "      <td>PESSIMISTIC</td>\n",
       "      <td>OPTIMISTIC</td>\n",
       "      <td>-6.622155</td>\n",
       "      <td>6.622155</td>\n",
       "    </tr>\n",
       "  </tbody>\n",
       "</table>\n",
       "</div>"
      ],
      "text/plain": [
       "     home_mood   away_mood  home_mood_diff  away_mood_diff\n",
       "0  PESSIMISTIC  OPTIMISTIC       -1.455834        1.455834\n",
       "1  PESSIMISTIC  OPTIMISTIC       -6.622155        6.622155"
      ]
     },
     "metadata": {},
     "output_type": "display_data"
    }
   ],
   "source": [
    "display(ttrain.filter(ttrain[\"home_mood\"] == \"OPTIMISTIC\").limit(2).select([\"home_mood\", \"away_mood\", \"home_mood_diff\", \"away_mood_diff\"]).toPandas())\n",
    "display(ttrain.filter(ttrain[\"home_mood\"] == \"NEUTRAL\").limit(2).select([\"home_mood\", \"away_mood\", \"home_mood_diff\", \"away_mood_diff\"]).toPandas())\n",
    "display(ttrain.filter(ttrain[\"home_mood\"] == \"PESSIMISTIC\").limit(2).select([\"home_mood\", \"away_mood\", \"home_mood_diff\", \"away_mood_diff\"]).toPandas())"
   ]
  },
  {
   "cell_type": "markdown",
   "id": "780bf229",
   "metadata": {},
   "source": [
    "## result\n",
    "The match result."
   ]
  },
  {
   "cell_type": "code",
   "execution_count": 24,
   "id": "8e9e751d",
   "metadata": {},
   "outputs": [],
   "source": [
    "ttrain = ttrain.withColumn(\"result\", ttrain[\"home_goals\"] - ttrain[\"away_goals\"])\n",
    "ttrain = ttrain.withColumn(\"result\", f.when(ttrain[\"result\"] > 0, \"HOME\").otherwise(f.when(ttrain[\"result\"] < 0, \"AWAY\").otherwise(f.lit(\"DRAW\"))))"
   ]
  },
  {
   "cell_type": "code",
   "execution_count": 25,
   "id": "0249b0cb",
   "metadata": {},
   "outputs": [],
   "source": [
    "cols_analysis = [\"id\", \"home_goals\", \"away_goals\", \"result\", \"home_mood\", \"away_mood\", \"home_mood_diff\", \"away_mood_diff\", \"home_history_mood_mean\", \"away_history_mood_mean\"]\n",
    "team_mood_df = ttrain.select(cols_analysis)"
   ]
  },
  {
   "cell_type": "code",
   "execution_count": 26,
   "id": "b7fefd6a",
   "metadata": {},
   "outputs": [
    {
     "data": {
      "text/html": [
       "<div>\n",
       "<style scoped>\n",
       "    .dataframe tbody tr th:only-of-type {\n",
       "        vertical-align: middle;\n",
       "    }\n",
       "\n",
       "    .dataframe tbody tr th {\n",
       "        vertical-align: top;\n",
       "    }\n",
       "\n",
       "    .dataframe thead th {\n",
       "        text-align: right;\n",
       "    }\n",
       "</style>\n",
       "<table border=\"1\" class=\"dataframe\">\n",
       "  <thead>\n",
       "    <tr style=\"text-align: right;\">\n",
       "      <th></th>\n",
       "      <th>id</th>\n",
       "      <th>home_goals</th>\n",
       "      <th>away_goals</th>\n",
       "      <th>result</th>\n",
       "      <th>home_mood</th>\n",
       "      <th>away_mood</th>\n",
       "      <th>home_mood_diff</th>\n",
       "      <th>away_mood_diff</th>\n",
       "      <th>home_history_mood_mean</th>\n",
       "      <th>away_history_mood_mean</th>\n",
       "    </tr>\n",
       "  </thead>\n",
       "  <tbody>\n",
       "    <tr>\n",
       "      <th>0</th>\n",
       "      <td>11428297</td>\n",
       "      <td>0</td>\n",
       "      <td>0</td>\n",
       "      <td>DRAW</td>\n",
       "      <td>PESSIMISTIC</td>\n",
       "      <td>OPTIMISTIC</td>\n",
       "      <td>-1.455834</td>\n",
       "      <td>1.455834</td>\n",
       "      <td>-1.785747</td>\n",
       "      <td>-0.329913</td>\n",
       "    </tr>\n",
       "    <tr>\n",
       "      <th>1</th>\n",
       "      <td>11428298</td>\n",
       "      <td>1</td>\n",
       "      <td>4</td>\n",
       "      <td>AWAY</td>\n",
       "      <td>PESSIMISTIC</td>\n",
       "      <td>OPTIMISTIC</td>\n",
       "      <td>-6.622155</td>\n",
       "      <td>6.622155</td>\n",
       "      <td>-1.477630</td>\n",
       "      <td>5.144525</td>\n",
       "    </tr>\n",
       "    <tr>\n",
       "      <th>2</th>\n",
       "      <td>11428302</td>\n",
       "      <td>4</td>\n",
       "      <td>2</td>\n",
       "      <td>HOME</td>\n",
       "      <td>OPTIMISTIC</td>\n",
       "      <td>PESSIMISTIC</td>\n",
       "      <td>1.567881</td>\n",
       "      <td>-1.567881</td>\n",
       "      <td>-0.391154</td>\n",
       "      <td>-1.959036</td>\n",
       "    </tr>\n",
       "    <tr>\n",
       "      <th>3</th>\n",
       "      <td>11428303</td>\n",
       "      <td>1</td>\n",
       "      <td>1</td>\n",
       "      <td>DRAW</td>\n",
       "      <td>OPTIMISTIC</td>\n",
       "      <td>PESSIMISTIC</td>\n",
       "      <td>0.765143</td>\n",
       "      <td>-0.765143</td>\n",
       "      <td>-0.921668</td>\n",
       "      <td>-1.686812</td>\n",
       "    </tr>\n",
       "    <tr>\n",
       "      <th>4</th>\n",
       "      <td>11428308</td>\n",
       "      <td>1</td>\n",
       "      <td>1</td>\n",
       "      <td>DRAW</td>\n",
       "      <td>PESSIMISTIC</td>\n",
       "      <td>OPTIMISTIC</td>\n",
       "      <td>-3.642649</td>\n",
       "      <td>3.642649</td>\n",
       "      <td>-1.522024</td>\n",
       "      <td>2.120625</td>\n",
       "    </tr>\n",
       "    <tr>\n",
       "      <th>5</th>\n",
       "      <td>11428311</td>\n",
       "      <td>0</td>\n",
       "      <td>4</td>\n",
       "      <td>AWAY</td>\n",
       "      <td>PESSIMISTIC</td>\n",
       "      <td>OPTIMISTIC</td>\n",
       "      <td>-5.618006</td>\n",
       "      <td>5.618006</td>\n",
       "      <td>-0.208806</td>\n",
       "      <td>5.409200</td>\n",
       "    </tr>\n",
       "    <tr>\n",
       "      <th>6</th>\n",
       "      <td>11438042</td>\n",
       "      <td>3</td>\n",
       "      <td>2</td>\n",
       "      <td>HOME</td>\n",
       "      <td>OPTIMISTIC</td>\n",
       "      <td>PESSIMISTIC</td>\n",
       "      <td>0.286281</td>\n",
       "      <td>-0.286281</td>\n",
       "      <td>-0.181791</td>\n",
       "      <td>-0.468072</td>\n",
       "    </tr>\n",
       "    <tr>\n",
       "      <th>7</th>\n",
       "      <td>11438045</td>\n",
       "      <td>4</td>\n",
       "      <td>1</td>\n",
       "      <td>HOME</td>\n",
       "      <td>PESSIMISTIC</td>\n",
       "      <td>OPTIMISTIC</td>\n",
       "      <td>-3.436788</td>\n",
       "      <td>3.436788</td>\n",
       "      <td>-1.137122</td>\n",
       "      <td>2.299665</td>\n",
       "    </tr>\n",
       "    <tr>\n",
       "      <th>8</th>\n",
       "      <td>11438047</td>\n",
       "      <td>1</td>\n",
       "      <td>1</td>\n",
       "      <td>DRAW</td>\n",
       "      <td>PESSIMISTIC</td>\n",
       "      <td>OPTIMISTIC</td>\n",
       "      <td>-0.968794</td>\n",
       "      <td>0.968794</td>\n",
       "      <td>-2.254913</td>\n",
       "      <td>-1.286119</td>\n",
       "    </tr>\n",
       "    <tr>\n",
       "      <th>9</th>\n",
       "      <td>11438048</td>\n",
       "      <td>0</td>\n",
       "      <td>0</td>\n",
       "      <td>DRAW</td>\n",
       "      <td>PESSIMISTIC</td>\n",
       "      <td>OPTIMISTIC</td>\n",
       "      <td>-2.989200</td>\n",
       "      <td>2.989200</td>\n",
       "      <td>-1.661700</td>\n",
       "      <td>1.327500</td>\n",
       "    </tr>\n",
       "  </tbody>\n",
       "</table>\n",
       "</div>"
      ],
      "text/plain": [
       "         id home_goals away_goals result    home_mood    away_mood  \\\n",
       "0  11428297          0          0   DRAW  PESSIMISTIC   OPTIMISTIC   \n",
       "1  11428298          1          4   AWAY  PESSIMISTIC   OPTIMISTIC   \n",
       "2  11428302          4          2   HOME   OPTIMISTIC  PESSIMISTIC   \n",
       "3  11428303          1          1   DRAW   OPTIMISTIC  PESSIMISTIC   \n",
       "4  11428308          1          1   DRAW  PESSIMISTIC   OPTIMISTIC   \n",
       "5  11428311          0          4   AWAY  PESSIMISTIC   OPTIMISTIC   \n",
       "6  11438042          3          2   HOME   OPTIMISTIC  PESSIMISTIC   \n",
       "7  11438045          4          1   HOME  PESSIMISTIC   OPTIMISTIC   \n",
       "8  11438047          1          1   DRAW  PESSIMISTIC   OPTIMISTIC   \n",
       "9  11438048          0          0   DRAW  PESSIMISTIC   OPTIMISTIC   \n",
       "\n",
       "   home_mood_diff  away_mood_diff  home_history_mood_mean  \\\n",
       "0       -1.455834        1.455834               -1.785747   \n",
       "1       -6.622155        6.622155               -1.477630   \n",
       "2        1.567881       -1.567881               -0.391154   \n",
       "3        0.765143       -0.765143               -0.921668   \n",
       "4       -3.642649        3.642649               -1.522024   \n",
       "5       -5.618006        5.618006               -0.208806   \n",
       "6        0.286281       -0.286281               -0.181791   \n",
       "7       -3.436788        3.436788               -1.137122   \n",
       "8       -0.968794        0.968794               -2.254913   \n",
       "9       -2.989200        2.989200               -1.661700   \n",
       "\n",
       "   away_history_mood_mean  \n",
       "0               -0.329913  \n",
       "1                5.144525  \n",
       "2               -1.959036  \n",
       "3               -1.686812  \n",
       "4                2.120625  \n",
       "5                5.409200  \n",
       "6               -0.468072  \n",
       "7                2.299665  \n",
       "8               -1.286119  \n",
       "9                1.327500  "
      ]
     },
     "execution_count": 26,
     "metadata": {},
     "output_type": "execute_result"
    }
   ],
   "source": [
    "df = team_mood_df.toPandas()\n",
    "df.head(10)"
   ]
  },
  {
   "cell_type": "markdown",
   "id": "5ad257a5",
   "metadata": {},
   "source": [
    "# Analysis"
   ]
  },
  {
   "cell_type": "markdown",
   "id": "184fe906",
   "metadata": {},
   "source": [
    "### Checking frequencies"
   ]
  },
  {
   "cell_type": "code",
   "execution_count": 27,
   "id": "3e801d81",
   "metadata": {},
   "outputs": [
    {
     "name": "stdout",
     "output_type": "stream",
     "text": [
      "result\n",
      "+------+--------+--------+\n",
      "|result|Absolute|Relative|\n",
      "+------+--------+--------+\n",
      "|  AWAY|   27799|  0.3178|\n",
      "|  HOME|   38109|  0.4357|\n",
      "|  DRAW|   21562|  0.2465|\n",
      "+------+--------+--------+\n",
      "\n",
      "home_mood\n",
      "+-----------+--------+--------+\n",
      "|  home_mood|Absolute|Relative|\n",
      "+-----------+--------+--------+\n",
      "| OPTIMISTIC|   38997|  0.4458|\n",
      "|    NEUTRAL|    6215|  0.0711|\n",
      "|PESSIMISTIC|   40467|  0.4626|\n",
      "|       null|    1791|  0.0205|\n",
      "+-----------+--------+--------+\n",
      "\n",
      "away_mood\n",
      "+-----------+--------+--------+\n",
      "|  away_mood|Absolute|Relative|\n",
      "+-----------+--------+--------+\n",
      "| OPTIMISTIC|   40467|  0.4626|\n",
      "|    NEUTRAL|    6215|  0.0711|\n",
      "|PESSIMISTIC|   38997|  0.4458|\n",
      "|       null|    1791|  0.0205|\n",
      "+-----------+--------+--------+\n",
      "\n"
     ]
    }
   ],
   "source": [
    "print(\"result\")\n",
    "stats.freq(team_mood_df, \"result\", round_n=4).show()\n",
    "print(\"home_mood\")\n",
    "stats.freq(team_mood_df, \"home_mood\", round_n=4).show()\n",
    "print(\"away_mood\")\n",
    "stats.freq(team_mood_df, \"away_mood\", round_n=4).show()"
   ]
  },
  {
   "cell_type": "code",
   "execution_count": 28,
   "id": "678206d1",
   "metadata": {},
   "outputs": [
    {
     "name": "stdout",
     "output_type": "stream",
     "text": [
      "+-----------+------+--------+--------+\n",
      "|  home_mood|result|Absolute|Relative|\n",
      "+-----------+------+--------+--------+\n",
      "| OPTIMISTIC|  HOME|   21419|  0.5492|\n",
      "| OPTIMISTIC|  AWAY|    8538|  0.2189|\n",
      "| OPTIMISTIC|  DRAW|    9040|  0.2318|\n",
      "|    NEUTRAL|  DRAW|    1792|  0.2883|\n",
      "|    NEUTRAL|  HOME|    2606|  0.4193|\n",
      "|    NEUTRAL|  AWAY|    1817|  0.2924|\n",
      "|PESSIMISTIC|  DRAW|   10374|  0.2564|\n",
      "|PESSIMISTIC|  HOME|   13231|   0.327|\n",
      "|PESSIMISTIC|  AWAY|   16862|  0.4167|\n",
      "|       NULL|  AWAY|     582|   0.325|\n",
      "|       NULL|  HOME|     853|  0.4763|\n",
      "|       NULL|  DRAW|     356|  0.1988|\n",
      "+-----------+------+--------+--------+\n",
      "\n"
     ]
    }
   ],
   "source": [
    "home_results = stats.groupby_freq(df=team_mood_df, groupby_cols=[\"home_mood\"], freq_on_col=\"result\", round_n=4)\\\n",
    "    .orderBy(when(f.col(\"home_mood\") == \"OPTIMISTIC\", 1).when(f.col(\"home_mood\") == \"NEUTRAL\", 2).when(f.col(\"home_mood\") == \"PESSIMISTIC\", 3).when(f.col(\"home_mood\") == \"NULL\", 4))\n",
    "\n",
    "away_results = stats.groupby_freq(df=team_mood_df, groupby_cols=[\"away_mood\"], freq_on_col=\"result\", round_n=4)\\\n",
    "    .orderBy(when(f.col(\"away_mood\") == \"OPTIMISTIC\", 1).when(f.col(\"away_mood\") == \"NEUTRAL\", 2).when(f.col(\"away_mood\") == \"PESSIMISTIC\", 3).when(f.col(\"away_mood\") == \"NULL\", 4))\n",
    "\n",
    "home_results.show()"
   ]
  },
  {
   "cell_type": "code",
   "execution_count": 29,
   "id": "e60a29f2",
   "metadata": {},
   "outputs": [
    {
     "name": "stdout",
     "output_type": "stream",
     "text": [
      "+-----------+------+------+------+\n",
      "|home_mood  |AWAY  |DRAW  |HOME  |\n",
      "+-----------+------+------+------+\n",
      "|OPTIMISTIC |0.2189|0.2318|0.5492|\n",
      "|NEUTRAL    |0.2924|0.2883|0.4193|\n",
      "|PESSIMISTIC|0.4167|0.2564|0.327 |\n",
      "|NULL       |0.325 |0.1988|0.4763|\n",
      "+-----------+------+------+------+\n",
      "\n"
     ]
    }
   ],
   "source": [
    "home_results_piv = home_results.groupBy(\"home_mood\").pivot(\"result\").sum(\"Relative\")\n",
    "away_results_piv = away_results.groupBy(\"away_mood\").pivot(\"result\").sum(\"Relative\")\n",
    "\n",
    "home_results_piv.show(truncate=False)"
   ]
  },
  {
   "cell_type": "code",
   "execution_count": 30,
   "id": "3ea38ee4",
   "metadata": {},
   "outputs": [],
   "source": [
    "home_mood_diff_result = team_mood_df.groupBy(\"result\").agg(f.percentile_approx(\"home_mood_diff\", 0.50).alias(\"team_mood_diff_median\"))\n",
    "away_mood_diff_result = team_mood_df.groupBy(\"result\").agg(f.percentile_approx(\"away_mood_diff\", 0.50).alias(\"team_mood_diff_median\"))"
   ]
  },
  {
   "cell_type": "markdown",
   "id": "5dac8087",
   "metadata": {},
   "source": [
    "### Checking team_mood_diff over match results "
   ]
  },
  {
   "cell_type": "code",
   "execution_count": 31,
   "id": "c951da30",
   "metadata": {
    "scrolled": false
   },
   "outputs": [
    {
     "name": "stdout",
     "output_type": "stream",
     "text": [
      "HOME\n",
      "+------+---------------------+\n",
      "|result|team_mood_diff_median|\n",
      "+------+---------------------+\n",
      "|  AWAY|              -1.1006|\n",
      "|  HOME|               0.7767|\n",
      "|  DRAW|              -0.1845|\n",
      "+------+---------------------+\n",
      "\n"
     ]
    },
    {
     "data": {
      "image/png": "[encoded data removed]",
      "text/plain": [
       "<Figure size 432x216 with 1 Axes>"
      ]
     },
     "metadata": {
      "needs_background": "light"
     },
     "output_type": "display_data"
    },
    {
     "data": {
      "text/html": [
       "<hr style=\"height:1px;border:none;color:#333;background-color:#333;\" />"
      ],
      "text/plain": [
       "<IPython.core.display.HTML object>"
      ]
     },
     "metadata": {},
     "output_type": "display_data"
    },
    {
     "name": "stdout",
     "output_type": "stream",
     "text": [
      "AWAY\n",
      "+------+---------------------+\n",
      "|result|team_mood_diff_median|\n",
      "+------+---------------------+\n",
      "|  AWAY|               1.1005|\n",
      "|  HOME|               -0.778|\n",
      "|  DRAW|               0.1839|\n",
      "+------+---------------------+\n",
      "\n"
     ]
    },
    {
     "data": {
      "image/png": "[encoded data removed]",
      "text/plain": [
       "<Figure size 432x216 with 1 Axes>"
      ]
     },
     "metadata": {
      "needs_background": "light"
     },
     "output_type": "display_data"
    }
   ],
   "source": [
    "print(\"HOME\")\n",
    "dflib.round_cols(home_mood_diff_result, [\"team_mood_diff_median\"], 4).show()\n",
    "ax1 = home_mood_diff_result.toPandas().set_index(\"result\").loc[[\"HOME\", \"DRAW\", \"AWAY\"]].transpose().plot.bar(title=\"home_mood_diff median across results\", color=[COLOR_HOME, COLOR_DRAW, COLOR_AWAY], figsize=(6,3), rot=0)\n",
    "ax1.legend(title=\"Winner\", bbox_to_anchor=(1.0, 0.95))\n",
    "ax1.set_ylabel(\"frequency\")\n",
    "plt.show()\n",
    "pretties.hr()\n",
    "print(\"AWAY\")\n",
    "dflib.round_cols(away_mood_diff_result, [\"team_mood_diff_median\"], 4).show()\n",
    "ax2 = away_mood_diff_result.toPandas().set_index(\"result\").loc[[\"HOME\", \"DRAW\", \"AWAY\"]].transpose().plot.bar(title=\"away_mood_diff median across results\", color=[COLOR_HOME, COLOR_DRAW, COLOR_AWAY], figsize=(6,3), rot=0)\n",
    "ax2.legend(title=\"Winner\", bbox_to_anchor=(1.0, 0.95))\n",
    "ax2.set_ylabel(\"frequency\")\n",
    "plt.show()"
   ]
  },
  {
   "cell_type": "markdown",
   "id": "d4ea607b",
   "metadata": {},
   "source": [
    "#### Notes\n",
    "As the plot shows, the median of `team_mood_diff` seems to give a good clue about the match result for both HOME and AWAY teams."
   ]
  },
  {
   "cell_type": "code",
   "execution_count": 32,
   "id": "3f525020",
   "metadata": {},
   "outputs": [],
   "source": [
    "team_mood_hist_df = team_mood_df.filter((f.col(\"home_mood_diff\").isNotNull()) & (f.abs(\"home_mood_diff\") < 15))\n",
    "\n",
    "values_result_home = [int(row.home_mood_diff) for row in team_mood_hist_df.filter((f.col(\"result\") == \"HOME\") & (f.col(\"home_mood_diff\").isNotNull())).select([\"home_mood_diff\"]).collect()]\n",
    "values_result_draw = [int(row.home_mood_diff) for row in team_mood_hist_df.filter((f.col(\"result\") == \"DRAW\") & (f.col(\"home_mood_diff\").isNotNull())).select([\"home_mood_diff\"]).collect()]\n",
    "values_result_away = [int(row.home_mood_diff) for row in team_mood_hist_df.filter((f.col(\"result\") == \"AWAY\") & (f.col(\"home_mood_diff\").isNotNull())).select([\"home_mood_diff\"]).collect()]"
   ]
  },
  {
   "cell_type": "code",
   "execution_count": 33,
   "id": "af25e988",
   "metadata": {},
   "outputs": [
    {
     "data": {
      "image/png": "[encoded data removed]",
      "text/plain": [
       "<Figure size 576x288 with 1 Axes>"
      ]
     },
     "metadata": {
      "needs_background": "light"
     },
     "output_type": "display_data"
    }
   ],
   "source": [
    "plt.figure(figsize=(8,4))\n",
    "\n",
    "plt.hist(values_result_home, bins=15, alpha=0.3, label=\"HOME\", color=COLOR_HOME)\n",
    "plt.hist(values_result_draw, bins=15, alpha=0.3, label=\"DRAW\", color=COLOR_DRAW)\n",
    "plt.hist(values_result_away, bins=15, alpha=0.3, label=\"AWAY\", color=COLOR_AWAY)\n",
    "\n",
    "plt.grid(zorder=0)\n",
    "plt.xlabel(\"home_mood_diff\")\n",
    "plt.legend()\n",
    "plt.show()"
   ]
  },
  {
   "cell_type": "markdown",
   "id": "1c2c0871",
   "metadata": {},
   "source": [
    "#### Notes\n",
    "The boxplot distribution were difficult to interpret. <br>\n",
    "These histograms shows that, despite the huge overlapping area, it is possible to split some match results with the `home_mood_diff`. <br>\n",
    "Of course this new feature alone will lead to a grate performance. It need more potential good features."
   ]
  },
  {
   "cell_type": "markdown",
   "id": "ab71b38c",
   "metadata": {},
   "source": [
    "### Checking winner frequencies over team_mood_diff"
   ]
  },
  {
   "cell_type": "code",
   "execution_count": 34,
   "id": "4a96c459",
   "metadata": {},
   "outputs": [
    {
     "data": {
      "text/html": [
       "<div>\n",
       "<style scoped>\n",
       "    .dataframe tbody tr th:only-of-type {\n",
       "        vertical-align: middle;\n",
       "    }\n",
       "\n",
       "    .dataframe tbody tr th {\n",
       "        vertical-align: top;\n",
       "    }\n",
       "\n",
       "    .dataframe thead th {\n",
       "        text-align: right;\n",
       "    }\n",
       "</style>\n",
       "<table border=\"1\" class=\"dataframe\">\n",
       "  <thead>\n",
       "    <tr style=\"text-align: right;\">\n",
       "      <th></th>\n",
       "      <th>home_mood</th>\n",
       "      <th>AWAY</th>\n",
       "      <th>DRAW</th>\n",
       "      <th>HOME</th>\n",
       "    </tr>\n",
       "  </thead>\n",
       "  <tbody>\n",
       "    <tr>\n",
       "      <th>0</th>\n",
       "      <td>OPTIMISTIC</td>\n",
       "      <td>0.2189</td>\n",
       "      <td>0.2318</td>\n",
       "      <td>0.5492</td>\n",
       "    </tr>\n",
       "    <tr>\n",
       "      <th>1</th>\n",
       "      <td>NEUTRAL</td>\n",
       "      <td>0.2924</td>\n",
       "      <td>0.2883</td>\n",
       "      <td>0.4193</td>\n",
       "    </tr>\n",
       "    <tr>\n",
       "      <th>2</th>\n",
       "      <td>PESSIMISTIC</td>\n",
       "      <td>0.4167</td>\n",
       "      <td>0.2564</td>\n",
       "      <td>0.3270</td>\n",
       "    </tr>\n",
       "    <tr>\n",
       "      <th>3</th>\n",
       "      <td>NULL</td>\n",
       "      <td>0.3250</td>\n",
       "      <td>0.1988</td>\n",
       "      <td>0.4763</td>\n",
       "    </tr>\n",
       "  </tbody>\n",
       "</table>\n",
       "</div>"
      ],
      "text/plain": [
       "     home_mood    AWAY    DRAW    HOME\n",
       "0   OPTIMISTIC  0.2189  0.2318  0.5492\n",
       "1      NEUTRAL  0.2924  0.2883  0.4193\n",
       "2  PESSIMISTIC  0.4167  0.2564  0.3270\n",
       "3         NULL  0.3250  0.1988  0.4763"
      ]
     },
     "metadata": {},
     "output_type": "display_data"
    },
    {
     "data": {
      "image/png": "[encoded data removed]",
      "text/plain": [
       "<Figure size 576x216 with 1 Axes>"
      ]
     },
     "metadata": {
      "needs_background": "light"
     },
     "output_type": "display_data"
    },
    {
     "name": "stdout",
     "output_type": "stream",
     "text": [
      "\n"
     ]
    },
    {
     "data": {
      "text/html": [
       "<div>\n",
       "<style scoped>\n",
       "    .dataframe tbody tr th:only-of-type {\n",
       "        vertical-align: middle;\n",
       "    }\n",
       "\n",
       "    .dataframe tbody tr th {\n",
       "        vertical-align: top;\n",
       "    }\n",
       "\n",
       "    .dataframe thead th {\n",
       "        text-align: right;\n",
       "    }\n",
       "</style>\n",
       "<table border=\"1\" class=\"dataframe\">\n",
       "  <thead>\n",
       "    <tr style=\"text-align: right;\">\n",
       "      <th></th>\n",
       "      <th>away_mood</th>\n",
       "      <th>AWAY</th>\n",
       "      <th>DRAW</th>\n",
       "      <th>HOME</th>\n",
       "    </tr>\n",
       "  </thead>\n",
       "  <tbody>\n",
       "    <tr>\n",
       "      <th>0</th>\n",
       "      <td>OPTIMISTIC</td>\n",
       "      <td>0.4167</td>\n",
       "      <td>0.2564</td>\n",
       "      <td>0.3270</td>\n",
       "    </tr>\n",
       "    <tr>\n",
       "      <th>1</th>\n",
       "      <td>NEUTRAL</td>\n",
       "      <td>0.2924</td>\n",
       "      <td>0.2883</td>\n",
       "      <td>0.4193</td>\n",
       "    </tr>\n",
       "    <tr>\n",
       "      <th>2</th>\n",
       "      <td>PESSIMISTIC</td>\n",
       "      <td>0.2189</td>\n",
       "      <td>0.2318</td>\n",
       "      <td>0.5492</td>\n",
       "    </tr>\n",
       "    <tr>\n",
       "      <th>3</th>\n",
       "      <td>NULL</td>\n",
       "      <td>0.3250</td>\n",
       "      <td>0.1988</td>\n",
       "      <td>0.4763</td>\n",
       "    </tr>\n",
       "  </tbody>\n",
       "</table>\n",
       "</div>"
      ],
      "text/plain": [
       "     away_mood    AWAY    DRAW    HOME\n",
       "0   OPTIMISTIC  0.4167  0.2564  0.3270\n",
       "1      NEUTRAL  0.2924  0.2883  0.4193\n",
       "2  PESSIMISTIC  0.2189  0.2318  0.5492\n",
       "3         NULL  0.3250  0.1988  0.4763"
      ]
     },
     "metadata": {},
     "output_type": "display_data"
    },
    {
     "data": {
      "image/png": "[encoded data removed]",
      "text/plain": [
       "<Figure size 576x216 with 1 Axes>"
      ]
     },
     "metadata": {
      "needs_background": "light"
     },
     "output_type": "display_data"
    }
   ],
   "source": [
    "display(home_results_piv.toPandas())\n",
    "ax1 = home_results_piv.toPandas().set_index(\"home_mood\").loc[[\"OPTIMISTIC\", \"NEUTRAL\", \"PESSIMISTIC\"]][[\"HOME\", \"DRAW\", \"AWAY\"]].plot.bar(title=\"HOME TEAM\", color=[COLOR_HOME, COLOR_DRAW, COLOR_AWAY], rot=0, alpha=0.5, figsize=(8,3))\n",
    "ax1.legend(title=\"Winner\", bbox_to_anchor=(1.22, 1))\n",
    "ax1.set_ylabel(\"frequency\")\n",
    "plt.show()\n",
    "print()\n",
    "display(away_results_piv.toPandas())\n",
    "ax2 = away_results_piv.toPandas().set_index(\"away_mood\").loc[[\"OPTIMISTIC\", \"NEUTRAL\", \"PESSIMISTIC\"]][[\"HOME\", \"DRAW\", \"AWAY\"]].plot.bar(title=\"AWAY TEAM\", color=[COLOR_HOME, COLOR_DRAW, COLOR_AWAY], rot=0, alpha=0.5, figsize=(8,3))\n",
    "ax2.legend(title=\"Winner\", bbox_to_anchor=(1.22, 1))\n",
    "ax2.set_ylabel(\"frequency\")\n",
    "plt.show()"
   ]
  },
  {
   "cell_type": "markdown",
   "id": "21874b7e",
   "metadata": {},
   "source": [
    "#### Notes\n",
    "Checking the winner (`result`) frequencies over the categorical team_mood we can see that teams playing HOME with OPTIMISTIC team_mood have won more often. <br>\n",
    "Another interesting thing to note is that even the team playing HOME, if it is PESSIMISTIC, the AWAY team is more likeli to win."
   ]
  },
  {
   "cell_type": "markdown",
   "id": "4a68ad89",
   "metadata": {},
   "source": [
    "# Conclusions\n",
    "\n",
    "It seems that the team_mood_diff (`home_mood_diff` and `away_mood_diff`) are good potential features along with their categorical representations (`home_mood` and `away_mood`). <br>"
   ]
  }
 ],
 "metadata": {
  "kernelspec": {
   "display_name": "Python 3",
   "language": "python",
   "name": "python3"
  },
  "language_info": {
   "codemirror_mode": {
    "name": "ipython",
    "version": 3
   },
   "file_extension": ".py",
   "mimetype": "text/x-python",
   "name": "python",
   "nbconvert_exporter": "python",
   "pygments_lexer": "ipython3",
   "version": "3.8.8"
  }
 },
 "nbformat": 4,
 "nbformat_minor": 5
}
