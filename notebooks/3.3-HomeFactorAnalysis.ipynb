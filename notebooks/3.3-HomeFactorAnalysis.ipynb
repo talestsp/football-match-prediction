{
 "cells": [
  {
   "cell_type": "markdown",
   "id": "ed008c12",
   "metadata": {},
   "source": [
    "# HomeFactorAnalysis\n",
    "Notebook to explore whether playing home is differente across different leagues."
   ]
  },
  {
   "cell_type": "code",
   "execution_count": 1,
   "id": "88e9bb5d",
   "metadata": {},
   "outputs": [
    {
     "data": {
      "text/plain": [
       "'/home/tales/ds/kaggle/football-match-prediction'"
      ]
     },
     "execution_count": 1,
     "metadata": {},
     "output_type": "execute_result"
    }
   ],
   "source": [
    "import os\n",
    "from working_dir import set_wd\n",
    "set_wd()\n",
    "os.getcwd()"
   ]
  },
  {
   "cell_type": "code",
   "execution_count": 2,
   "id": "448f5a9c",
   "metadata": {},
   "outputs": [
    {
     "name": "stderr",
     "output_type": "stream",
     "text": [
      "22/05/14 15:15:36 WARN Utils: Your hostname, tales-samsung resolves to a loopback address: 127.0.1.1; using 192.168.0.104 instead (on interface wlxd03745e80dbf)\n",
      "22/05/14 15:15:36 WARN Utils: Set SPARK_LOCAL_IP if you need to bind to another address\n",
      "Using Spark's default log4j profile: org/apache/spark/log4j-defaults.properties\n",
      "Setting default log level to \"WARN\".\n",
      "To adjust logging level use sc.setLogLevel(newLevel). For SparkR, use setLogLevel(newLevel).\n",
      "22/05/14 15:15:37 WARN NativeCodeLoader: Unable to load native-hadoop library for your platform... using builtin-java classes where applicable\n"
     ]
    }
   ],
   "source": [
    "from pyspark.sql import SparkSession\n",
    "spark = SparkSession.builder.config(\"spark.driver.memory\", \"14g\").appName(\"HomeFactorAnalysis\").getOrCreate()"
   ]
  },
  {
   "cell_type": "code",
   "execution_count": 3,
   "id": "770675a1",
   "metadata": {},
   "outputs": [],
   "source": [
    "import pyspark.sql.functions as f\n",
    "from pyspark.sql.functions import when\n",
    "from pyspark.sql.window import Window\n",
    "import matplotlib.pyplot as plt\n",
    "\n",
    "from src.dao import dao_raw, dao_interim, columns\n",
    "from src.utils import dflib, stats, pretties, plot, plot_domain, palette"
   ]
  },
  {
   "cell_type": "code",
   "execution_count": 4,
   "id": "782f8572",
   "metadata": {},
   "outputs": [],
   "source": [
    "pretties.max_data_frame_columns()"
   ]
  },
  {
   "cell_type": "code",
   "execution_count": 5,
   "id": "6b9ca631",
   "metadata": {},
   "outputs": [],
   "source": [
    "COLOR_HOME = palette.PALETTE_TARGET[\"home\"]\n",
    "COLOR_DRAW = palette.PALETTE_TARGET[\"draw\"]\n",
    "COLOR_AWAY = palette.PALETTE_TARGET[\"away\"]"
   ]
  },
  {
   "cell_type": "markdown",
   "id": "8e0db4ff",
   "metadata": {},
   "source": [
    "# Loading Data"
   ]
  },
  {
   "cell_type": "code",
   "execution_count": 6,
   "id": "d3d696c5",
   "metadata": {},
   "outputs": [
    {
     "name": "stderr",
     "output_type": "stream",
     "text": [
      "22/05/14 15:15:46 WARN package: Truncated the string representation of a plan since it was too large. This behavior can be adjusted by setting 'spark.sql.debug.maxToStringFields'.\n",
      "                                                                                \r"
     ]
    },
    {
     "name": "stdout",
     "output_type": "stream",
     "text": [
      "ttrain: (87470, 50)\n",
      "scores: (110938, 3)\n"
     ]
    }
   ],
   "source": [
    "ttrain = dao_interim.load_train_train_data(spark)\n",
    "scores = dao_raw.load_parse_scores_data(spark)\n",
    "\n",
    "drop_cols = columns.team_history_rating_cols + \\\n",
    "            columns.team_history_match_date_cols + \\\n",
    "            columns.team_history_league_id_cols + \\\n",
    "            columns.team_history_coach_colnames + \\\n",
    "            columns.team_history_goal_cols + \\\n",
    "            columns.team_history_coach_colnames\n",
    "\n",
    "ttrain = ttrain.drop(*drop_cols)\n",
    "\n",
    "print(f\"ttrain: {dflib.shape(ttrain)}\")\n",
    "print(f\"scores: {dflib.shape(scores)}\")"
   ]
  },
  {
   "cell_type": "code",
   "execution_count": 7,
   "id": "f82da485",
   "metadata": {},
   "outputs": [
    {
     "name": "stderr",
     "output_type": "stream",
     "text": [
      "\r",
      "[Stage 21:>                                                         (0 + 4) / 4]\r"
     ]
    },
    {
     "name": "stdout",
     "output_type": "stream",
     "text": [
      "train: (87470, 51)\n"
     ]
    },
    {
     "name": "stderr",
     "output_type": "stream",
     "text": [
      "\r",
      "                                                                                \r"
     ]
    }
   ],
   "source": [
    "ttrain = scores.select([\"id\", \"score\"]).join(ttrain, on=\"id\", how=\"inner\")\n",
    "print(f\"train: {dflib.shape(ttrain)}\")"
   ]
  },
  {
   "cell_type": "code",
   "execution_count": 8,
   "id": "b97c6fbb",
   "metadata": {},
   "outputs": [],
   "source": [
    "basic_cols = ['id', 'score', 'target', 'home_team_name', 'away_team_name', \n",
    "              'match_date', 'league_name']"
   ]
  },
  {
   "cell_type": "markdown",
   "id": "84deb3b2",
   "metadata": {},
   "source": [
    "# HomeFactor"
   ]
  },
  {
   "cell_type": "markdown",
   "id": "94d3f388",
   "metadata": {},
   "source": [
    "### Preparing data"
   ]
  },
  {
   "cell_type": "code",
   "execution_count": 9,
   "id": "c7cb2fc4",
   "metadata": {},
   "outputs": [],
   "source": [
    "ttrain = ttrain.withColumn(\"week\", f.date_trunc(\"week\", \"match_date\"))\n",
    "ttrain = ttrain.withColumn(\"month\", f.date_trunc(\"month\", \"match_date\"))"
   ]
  },
  {
   "cell_type": "code",
   "execution_count": 10,
   "id": "09d64b9e",
   "metadata": {},
   "outputs": [
    {
     "name": "stderr",
     "output_type": "stream",
     "text": [
      "                                                                                \r"
     ]
    },
    {
     "name": "stdout",
     "output_type": "stream",
     "text": [
      "+----------------+--------+--------+\n",
      "|league_name_null|Absolute|Relative|\n",
      "+----------------+--------+--------+\n",
      "|           false|   87469|     1.0|\n",
      "|            true|       1|     0.0|\n",
      "+----------------+--------+--------+\n",
      "\n"
     ]
    },
    {
     "name": "stderr",
     "output_type": "stream",
     "text": [
      "[Stage 41:>                                                         (0 + 4) / 4]\r"
     ]
    },
    {
     "name": "stdout",
     "output_type": "stream",
     "text": [
      "+--------------+--------+--------+\n",
      "|league_id_null|Absolute|Relative|\n",
      "+--------------+--------+--------+\n",
      "|         false|   87470|     1.0|\n",
      "+--------------+--------+--------+\n",
      "\n"
     ]
    },
    {
     "name": "stderr",
     "output_type": "stream",
     "text": [
      "\r",
      "                                                                                \r"
     ]
    }
   ],
   "source": [
    "stats.freq(ttrain.withColumn(\"league_name_null\", f.col(\"league_name\").isNull()), \"league_name_null\", round_n=4).show()\n",
    "stats.freq(ttrain.withColumn(\"league_id_null\", f.col(\"league_id\").isNull()), \"league_id_null\", round_n=4).show()"
   ]
  },
  {
   "cell_type": "markdown",
   "id": "7a40cb3e",
   "metadata": {},
   "source": [
    "### Checking HOME victory over time"
   ]
  },
  {
   "cell_type": "code",
   "execution_count": 11,
   "id": "a1b4e643",
   "metadata": {},
   "outputs": [
    {
     "name": "stderr",
     "output_type": "stream",
     "text": [
      "                                                                                \r"
     ]
    },
    {
     "name": "stdout",
     "output_type": "stream",
     "text": [
      "+------+--------+--------+\n",
      "|target|Absolute|Relative|\n",
      "+------+--------+--------+\n",
      "|  home|   38109|  0.4357|\n",
      "|  draw|   21562|  0.2465|\n",
      "|  away|   27799|  0.3178|\n",
      "+------+--------+--------+\n",
      "\n"
     ]
    },
    {
     "name": "stderr",
     "output_type": "stream",
     "text": [
      "                                                                                \r"
     ]
    },
    {
     "data": {
      "image/png": "[encoded data removed]",
      "text/plain": [
       "<Figure size 432x216 with 1 Axes>"
      ]
     },
     "metadata": {
      "needs_background": "light"
     },
     "output_type": "display_data"
    }
   ],
   "source": [
    "freq_target = stats.freq(ttrain, \"target\", round_n=4).orderBy(f.when(f.col(\"target\") == \"home\", 1).when(f.col(\"target\") == \"draw\", 2).when(f.col(\"target\") == \"away\", 3))\n",
    "freq_target.show()\n",
    "plot.bar(freq_target, x=\"target\", y=\"Relative\", title=\"Overall HOME victory frequency\", \n",
    "         color=[COLOR_HOME, COLOR_DRAW, COLOR_AWAY], figsize=(6,3))"
   ]
  },
  {
   "cell_type": "markdown",
   "id": "d1e8aad6",
   "metadata": {},
   "source": [
    "### Checking HOME victory per league"
   ]
  },
  {
   "cell_type": "code",
   "execution_count": 12,
   "id": "a8bfabe3",
   "metadata": {},
   "outputs": [
    {
     "name": "stdout",
     "output_type": "stream",
     "text": [
      "sample\n"
     ]
    },
    {
     "name": "stderr",
     "output_type": "stream",
     "text": [
      "                                                                                \r"
     ]
    },
    {
     "name": "stdout",
     "output_type": "stream",
     "text": [
      "+-----------------+---------+------+--------+--------+\n",
      "|      league_name|n_matches|target|Absolute|Relative|\n",
      "+-----------------+---------+------+--------+--------+\n",
      "|         1. Deild|       75|  home|      36|    0.48|\n",
      "|   1. Deild Women|       68|  home|      29|  0.4265|\n",
      "|      1. Division|      249|  home|     114|  0.4578|\n",
      "|1. Division Women|       26|  home|      13|     0.5|\n",
      "|           1. HNL|      198|  home|      94|  0.4747|\n",
      "+-----------------+---------+------+--------+--------+\n",
      "\n"
     ]
    }
   ],
   "source": [
    "n_matches = ttrain.groupBy(\"league_name\").agg(f.count(\"*\").alias(\"n_matches\"))\n",
    "target_freq = stats.groupby_freq(ttrain, groupby_cols=\"league_name\", freq_on_col=\"target\", round_n=4)\n",
    "home_freq = target_freq.filter(f.col(\"target\") == \"home\")\n",
    "home_freq = n_matches.join(home_freq, on=\"league_name\", how=\"right\")\n",
    "\n",
    "print(\"sample\")\n",
    "home_freq.limit(5).show()"
   ]
  },
  {
   "cell_type": "code",
   "execution_count": 13,
   "id": "08b27ff0",
   "metadata": {},
   "outputs": [
    {
     "name": "stderr",
     "output_type": "stream",
     "text": [
      "                                                                                \r"
     ]
    },
    {
     "data": {
      "image/png": "[encoded data removed]",
      "text/plain": [
       "<Figure size 432x216 with 1 Axes>"
      ]
     },
     "metadata": {
      "needs_background": "light"
     },
     "output_type": "display_data"
    },
    {
     "name": "stdout",
     "output_type": "stream",
     "text": [
      "Top 6 leagues with more match records\n"
     ]
    },
    {
     "name": "stderr",
     "output_type": "stream",
     "text": [
      "                                                                                \r"
     ]
    },
    {
     "name": "stdout",
     "output_type": "stream",
     "text": [
      "+----------------+---------+\n",
      "|     league_name|n_matches|\n",
      "+----------------+---------+\n",
      "|  Premier League|     4326|\n",
      "| Club Friendlies|     3537|\n",
      "|Primera Division|     1926|\n",
      "|    Super League|     1233|\n",
      "|         3. Liga|      924|\n",
      "|         Ligue 1|      915|\n",
      "+----------------+---------+\n",
      "\n",
      "Summary of n_matches\n"
     ]
    },
    {
     "name": "stderr",
     "output_type": "stream",
     "text": [
      "\r",
      "[Stage 102:>                                                        (0 + 4) / 4]\r"
     ]
    },
    {
     "name": "stdout",
     "output_type": "stream",
     "text": [
      "+---+----+------+----+----+------+---------+\n",
      "|min|q_25|median|q_75| max|  mean|   column|\n",
      "+---+----+------+----+----+------+---------+\n",
      "|  1|  18|    59| 150|4326|122.68|n_matches|\n",
      "+---+----+------+----+----+------+---------+\n",
      "\n"
     ]
    },
    {
     "name": "stderr",
     "output_type": "stream",
     "text": [
      "\r",
      "                                                                                \r"
     ]
    }
   ],
   "source": [
    "plot.hist(n_matches, \"n_matches\", title=\"Match number per league\")\n",
    "print(\"Top 6 leagues with more match records\")\n",
    "n_matches.sort(\"n_matches\", ascending=False).limit(6).show()\n",
    "print(\"Summary of n_matches\")\n",
    "stats.describe(n_matches, \"n_matches\", round_n=4).show()"
   ]
  },
  {
   "cell_type": "code",
   "execution_count": 14,
   "id": "2c82f6e4",
   "metadata": {},
   "outputs": [
    {
     "name": "stderr",
     "output_type": "stream",
     "text": [
      "                                                                                \r"
     ]
    },
    {
     "data": {
      "image/png": "[encoded data removed]",
      "text/plain": [
       "<Figure size 432x216 with 1 Axes>"
      ]
     },
     "metadata": {
      "needs_background": "light"
     },
     "output_type": "display_data"
    },
    {
     "name": "stderr",
     "output_type": "stream",
     "text": [
      "                                                                                \r"
     ]
    },
    {
     "name": "stdout",
     "output_type": "stream",
     "text": [
      "+---+----+------+----+----+------+---------+\n",
      "|min|q_25|median|q_75| max|  mean|   column|\n",
      "+---+----+------+----+----+------+---------+\n",
      "|203| 242|   296| 377|4326|424.11|n_matches|\n",
      "+---+----+------+----+----+------+---------+\n",
      "\n"
     ]
    }
   ],
   "source": [
    "min_n_matches = 200\n",
    "home_freq_gte_n = home_freq.filter(f.col(\"n_matches\") >= min_n_matches)\n",
    "\n",
    "plot.hist(home_freq_gte_n, \"n_matches\", title=f\"Match number per league [n_matches > {min_n_matches}]\", color=COLOR_HOME, alpha=0.7)\n",
    "stats.describe(home_freq_gte_n, \"n_matches\", round_n=4).show()"
   ]
  },
  {
   "cell_type": "code",
   "execution_count": 15,
   "id": "1ea127a1",
   "metadata": {
    "scrolled": false
   },
   "outputs": [
    {
     "data": {
      "text/markdown": [
       "#### <font color=black>HOME victory frequency [n_matches > 200]</font>"
      ],
      "text/plain": [
       "<IPython.core.display.Markdown object>"
      ]
     },
     "metadata": {},
     "output_type": "display_data"
    },
    {
     "name": "stderr",
     "output_type": "stream",
     "text": [
      "                                                                                \r"
     ]
    },
    {
     "data": {
      "image/png": "[encoded data removed]",
      "text/plain": [
       "<Figure size 432x216 with 1 Axes>"
      ]
     },
     "metadata": {
      "needs_background": "light"
     },
     "output_type": "display_data"
    },
    {
     "name": "stderr",
     "output_type": "stream",
     "text": [
      "                                                                                \r"
     ]
    },
    {
     "name": "stdout",
     "output_type": "stream",
     "text": [
      "+----+----+------+----+----+----+--------+\n",
      "| min|q_25|median|q_75| max|mean|  column|\n",
      "+----+----+------+----+----+----+--------+\n",
      "|0.26| 0.4|  0.43|0.46|0.66|0.43|Relative|\n",
      "+----+----+------+----+----+----+--------+\n",
      "\n"
     ]
    },
    {
     "name": "stderr",
     "output_type": "stream",
     "text": [
      "                                                                                \r"
     ]
    },
    {
     "data": {
      "image/png": "[encoded data removed]",
      "text/plain": [
       "<Figure size 288x216 with 1 Axes>"
      ]
     },
     "metadata": {
      "needs_background": "light"
     },
     "output_type": "display_data"
    }
   ],
   "source": [
    "pretties.md(f\"HOME victory frequency [n_matches > {min_n_matches}]\", size=\"####\")\n",
    "plot.hist(home_freq_gte_n, \"Relative\", title=f\"HOME victory frequency per league [n_matches > {min_n_matches}]\", \n",
    "          bins=10, color=COLOR_HOME, alpha=0.7)\n",
    "stats.describe(home_freq_gte_n, \"Relative\", round_n=4).show()\n",
    "plot.scatter(home_freq_gte_n, \"n_matches\", \"Relative\", title=f\"Scatter plot: n_matches, Relative [n_matches > {min_n_matches}]\", color=COLOR_HOME, alpha=0.5, figsize=(4,3))"
   ]
  },
  {
   "cell_type": "markdown",
   "id": "683ca045",
   "metadata": {},
   "source": [
    "#### Notes\n",
    "There is pretty simetric distribution of the relative frequency for leagues with more than 200 matches. <br>\n",
    "Its mean and median values are 0.43."
   ]
  },
  {
   "cell_type": "markdown",
   "id": "004e8a80",
   "metadata": {},
   "source": [
    "### Checking HOME victory per league, over time"
   ]
  },
  {
   "cell_type": "code",
   "execution_count": 16,
   "id": "679cc87a",
   "metadata": {
    "scrolled": false
   },
   "outputs": [
    {
     "name": "stdout",
     "output_type": "stream",
     "text": [
      "sample\n"
     ]
    },
    {
     "name": "stderr",
     "output_type": "stream",
     "text": [
      "                                                                                \r"
     ]
    },
    {
     "name": "stdout",
     "output_type": "stream",
     "text": [
      "+----------------+-------------------+---------+------+--------+--------+\n",
      "|     league_name|              month|n_matches|target|Absolute|Relative|\n",
      "+----------------+-------------------+---------+------+--------+--------+\n",
      "|   Hungarian Cup|2020-09-01 00:00:00|       16|  home|       1|  0.0625|\n",
      "|   Hungarian Cup|2021-02-01 00:00:00|       15|  home|       1|  0.0667|\n",
      "|     Finland Cup|2020-06-01 00:00:00|       14|  home|       1|  0.0714|\n",
      "|      League Cup|2019-12-01 00:00:00|       14|  home|       1|  0.0714|\n",
      "|Segunda División|2021-02-01 00:00:00|       12|  home|       1|  0.0833|\n",
      "+----------------+-------------------+---------+------+--------+--------+\n",
      "\n"
     ]
    }
   ],
   "source": [
    "time_resolution = \"month\"\n",
    "\n",
    "n_matches_dt = ttrain.groupBy([\"league_name\", time_resolution]).agg(f.count(\"*\").alias(\"n_matches\"))\n",
    "target_freq_dt = stats.groupby_freq(ttrain, groupby_cols=[\"league_name\", time_resolution], freq_on_col=\"target\", round_n=4)\n",
    "\n",
    "home_freq_dt = target_freq_dt.filter(f.col(\"target\") == \"home\")\n",
    "home_freq_dt = n_matches_dt.join(home_freq_dt, on=[\"league_name\", time_resolution], how=\"right\").sort(\"Relative\")\n",
    "\n",
    "print(\"sample\")\n",
    "home_freq_dt.limit(5).show()"
   ]
  },
  {
   "cell_type": "code",
   "execution_count": 17,
   "id": "3d866265",
   "metadata": {},
   "outputs": [
    {
     "name": "stdout",
     "output_type": "stream",
     "text": [
      "League with min relative frequency [n_matches > 200]\n"
     ]
    },
    {
     "name": "stderr",
     "output_type": "stream",
     "text": [
      "                                                                                \r"
     ]
    },
    {
     "name": "stdout",
     "output_type": "stream",
     "text": [
      "+-----------------+---------+------+--------+--------+\n",
      "|      league_name|n_matches|target|Absolute|Relative|\n",
      "+-----------------+---------+------+--------+--------+\n",
      "|     Copa Del Rey|      236|  home|      62|  0.2627|\n",
      "|Tipico Bundesliga|      203|  home|      73|  0.3596|\n",
      "+-----------------+---------+------+--------+--------+\n",
      "\n",
      "League with max relative frequency [n_matches > 200]\n"
     ]
    },
    {
     "name": "stderr",
     "output_type": "stream",
     "text": [
      "                                                                                \r"
     ]
    },
    {
     "name": "stdout",
     "output_type": "stream",
     "text": [
      "+-------------------+---------+------+--------+--------+\n",
      "|        league_name|n_matches|target|Absolute|Relative|\n",
      "+-------------------+---------+------+--------+--------+\n",
      "|               Npfl|      276|  home|     181|  0.6558|\n",
      "|Liga De Futbol Prof|      240|  home|     142|  0.5917|\n",
      "+-------------------+---------+------+--------+--------+\n",
      "\n"
     ]
    }
   ],
   "source": [
    "print(f\"League with min relative frequency [n_matches > {min_n_matches}]\")\n",
    "home_freq_gte_n.sort(\"Relative\").limit(2).show()\n",
    "print(f\"League with max relative frequency [n_matches > {min_n_matches}]\")\n",
    "home_freq_gte_n.sort(\"Relative\", ascending=False).limit(2).show()"
   ]
  },
  {
   "cell_type": "code",
   "execution_count": 18,
   "id": "28c98f0d",
   "metadata": {},
   "outputs": [
    {
     "name": "stderr",
     "output_type": "stream",
     "text": [
      "                                                                                \r"
     ]
    },
    {
     "name": "stdout",
     "output_type": "stream",
     "text": [
      "+------------------+---------+------+--------+--------+\n",
      "|       league_name|n_matches|target|Absolute|Relative|\n",
      "+------------------+---------+------+--------+--------+\n",
      "|      Youth League|      345|  home|     171|  0.4957|\n",
      "|           Serie A|      849|  home|     363|  0.4276|\n",
      "| Serie D: Girone C|      256|  home|      95|  0.3711|\n",
      "|          National|      268|  home|     105|  0.3918|\n",
      "|Spain Youth League|      372|  home|     170|   0.457|\n",
      "+------------------+---------+------+--------+--------+\n",
      "\n"
     ]
    }
   ],
   "source": [
    "home_freq_gte_n.limit(5).show()"
   ]
  },
  {
   "cell_type": "code",
   "execution_count": 19,
   "id": "b1371239",
   "metadata": {
    "scrolled": false
   },
   "outputs": [
    {
     "name": "stderr",
     "output_type": "stream",
     "text": [
      "22/05/14 15:16:56 WARN WindowExec: No Partition Defined for Window operation! Moving all data to a single partition, this can cause serious performance degradation.\n",
      "22/05/14 15:16:56 WARN WindowExec: No Partition Defined for Window operation! Moving all data to a single partition, this can cause serious performance degradation.\n",
      "22/05/14 15:16:57 WARN WindowExec: No Partition Defined for Window operation! Moving all data to a single partition, this can cause serious performance degradation.\n",
      "22/05/14 15:16:57 WARN WindowExec: No Partition Defined for Window operation! Moving all data to a single partition, this can cause serious performance degradation.\n",
      "22/05/14 15:16:57 WARN WindowExec: No Partition Defined for Window operation! Moving all data to a single partition, this can cause serious performance degradation.\n",
      "22/05/14 15:16:58 WARN WindowExec: No Partition Defined for Window operation! Moving all data to a single partition, this can cause serious performance degradation.\n",
      "22/05/14 15:16:58 WARN WindowExec: No Partition Defined for Window operation! Moving all data to a single partition, this can cause serious performance degradation.\n",
      "22/05/14 15:16:59 WARN WindowExec: No Partition Defined for Window operation! Moving all data to a single partition, this can cause serious performance degradation.\n",
      "22/05/14 15:16:59 WARN WindowExec: No Partition Defined for Window operation! Moving all data to a single partition, this can cause serious performance degradation.\n",
      "22/05/14 15:16:59 WARN WindowExec: No Partition Defined for Window operation! Moving all data to a single partition, this can cause serious performance degradation.\n",
      "22/05/14 15:16:59 WARN WindowExec: No Partition Defined for Window operation! Moving all data to a single partition, this can cause serious performance degradation.\n",
      "22/05/14 15:16:59 WARN WindowExec: No Partition Defined for Window operation! Moving all data to a single partition, this can cause serious performance degradation.\n",
      "22/05/14 15:17:06 WARN WindowExec: No Partition Defined for Window operation! Moving all data to a single partition, this can cause serious performance degradation.\n",
      "22/05/14 15:17:06 WARN WindowExec: No Partition Defined for Window operation! Moving all data to a single partition, this can cause serious performance degradation.\n",
      "22/05/14 15:17:06 WARN WindowExec: No Partition Defined for Window operation! Moving all data to a single partition, this can cause serious performance degradation.\n",
      "22/05/14 15:17:06 WARN WindowExec: No Partition Defined for Window operation! Moving all data to a single partition, this can cause serious performance degradation.\n",
      "22/05/14 15:17:06 WARN WindowExec: No Partition Defined for Window operation! Moving all data to a single partition, this can cause serious performance degradation.\n",
      "22/05/14 15:17:08 WARN WindowExec: No Partition Defined for Window operation! Moving all data to a single partition, this can cause serious performance degradation.\n",
      "22/05/14 15:17:08 WARN WindowExec: No Partition Defined for Window operation! Moving all data to a single partition, this can cause serious performance degradation.\n",
      "22/05/14 15:17:09 WARN WindowExec: No Partition Defined for Window operation! Moving all data to a single partition, this can cause serious performance degradation.\n",
      "22/05/14 15:17:09 WARN WindowExec: No Partition Defined for Window operation! Moving all data to a single partition, this can cause serious performance degradation.\n",
      "22/05/14 15:17:09 WARN WindowExec: No Partition Defined for Window operation! Moving all data to a single partition, this can cause serious performance degradation.\n",
      "22/05/14 15:17:09 WARN WindowExec: No Partition Defined for Window operation! Moving all data to a single partition, this can cause serious performance degradation.\n",
      "22/05/14 15:17:09 WARN WindowExec: No Partition Defined for Window operation! Moving all data to a single partition, this can cause serious performance degradation.\n",
      "22/05/14 15:17:12 WARN WindowExec: No Partition Defined for Window operation! Moving all data to a single partition, this can cause serious performance degradation.\n",
      "22/05/14 15:17:12 WARN WindowExec: No Partition Defined for Window operation! Moving all data to a single partition, this can cause serious performance degradation.\n",
      "22/05/14 15:17:12 WARN WindowExec: No Partition Defined for Window operation! Moving all data to a single partition, this can cause serious performance degradation.\n",
      "22/05/14 15:17:12 WARN WindowExec: No Partition Defined for Window operation! Moving all data to a single partition, this can cause serious performance degradation.\n",
      "22/05/14 15:17:12 WARN WindowExec: No Partition Defined for Window operation! Moving all data to a single partition, this can cause serious performance degradation.\n",
      "22/05/14 15:17:13 WARN WindowExec: No Partition Defined for Window operation! Moving all data to a single partition, this can cause serious performance degradation.\n",
      "22/05/14 15:17:14 WARN WindowExec: No Partition Defined for Window operation! Moving all data to a single partition, this can cause serious performance degradation.\n",
      "22/05/14 15:17:15 WARN WindowExec: No Partition Defined for Window operation! Moving all data to a single partition, this can cause serious performance degradation.\n",
      "22/05/14 15:17:15 WARN WindowExec: No Partition Defined for Window operation! Moving all data to a single partition, this can cause serious performance degradation.\n",
      "22/05/14 15:17:15 WARN WindowExec: No Partition Defined for Window operation! Moving all data to a single partition, this can cause serious performance degradation.\n",
      "22/05/14 15:17:15 WARN WindowExec: No Partition Defined for Window operation! Moving all data to a single partition, this can cause serious performance degradation.\n",
      "22/05/14 15:17:15 WARN WindowExec: No Partition Defined for Window operation! Moving all data to a single partition, this can cause serious performance degradation.\n",
      "22/05/14 15:17:21 WARN WindowExec: No Partition Defined for Window operation! Moving all data to a single partition, this can cause serious performance degradation.\n",
      "22/05/14 15:17:21 WARN WindowExec: No Partition Defined for Window operation! Moving all data to a single partition, this can cause serious performance degradation.\n",
      "22/05/14 15:17:21 WARN WindowExec: No Partition Defined for Window operation! Moving all data to a single partition, this can cause serious performance degradation.\n",
      "22/05/14 15:17:21 WARN WindowExec: No Partition Defined for Window operation! Moving all data to a single partition, this can cause serious performance degradation.\n",
      "22/05/14 15:17:22 WARN WindowExec: No Partition Defined for Window operation! Moving all data to a single partition, this can cause serious performance degradation.\n",
      "22/05/14 15:17:22 WARN WindowExec: No Partition Defined for Window operation! Moving all data to a single partition, this can cause serious performance degradation.\n",
      "22/05/14 15:17:23 WARN WindowExec: No Partition Defined for Window operation! Moving all data to a single partition, this can cause serious performance degradation.\n",
      "22/05/14 15:17:23 WARN WindowExec: No Partition Defined for Window operation! Moving all data to a single partition, this can cause serious performance degradation.\n",
      "22/05/14 15:17:23 WARN WindowExec: No Partition Defined for Window operation! Moving all data to a single partition, this can cause serious performance degradation.\n",
      "22/05/14 15:17:23 WARN WindowExec: No Partition Defined for Window operation! Moving all data to a single partition, this can cause serious performance degradation.\n",
      "22/05/14 15:17:23 WARN WindowExec: No Partition Defined for Window operation! Moving all data to a single partition, this can cause serious performance degradation.\n",
      "22/05/14 15:17:26 WARN WindowExec: No Partition Defined for Window operation! Moving all data to a single partition, this can cause serious performance degradation.\n",
      "22/05/14 15:17:26 WARN WindowExec: No Partition Defined for Window operation! Moving all data to a single partition, this can cause serious performance degradation.\n",
      "22/05/14 15:17:26 WARN WindowExec: No Partition Defined for Window operation! Moving all data to a single partition, this can cause serious performance degradation.\n",
      "22/05/14 15:17:26 WARN WindowExec: No Partition Defined for Window operation! Moving all data to a single partition, this can cause serious performance degradation.\n"
     ]
    },
    {
     "name": "stderr",
     "output_type": "stream",
     "text": [
      "22/05/14 15:17:26 WARN WindowExec: No Partition Defined for Window operation! Moving all data to a single partition, this can cause serious performance degradation.\n",
      "22/05/14 15:17:27 WARN WindowExec: No Partition Defined for Window operation! Moving all data to a single partition, this can cause serious performance degradation.\n",
      "22/05/14 15:17:28 WARN WindowExec: No Partition Defined for Window operation! Moving all data to a single partition, this can cause serious performance degradation.\n",
      "22/05/14 15:17:29 WARN WindowExec: No Partition Defined for Window operation! Moving all data to a single partition, this can cause serious performance degradation.\n",
      "22/05/14 15:17:29 WARN WindowExec: No Partition Defined for Window operation! Moving all data to a single partition, this can cause serious performance degradation.\n",
      "22/05/14 15:17:29 WARN WindowExec: No Partition Defined for Window operation! Moving all data to a single partition, this can cause serious performance degradation.\n",
      "22/05/14 15:17:29 WARN WindowExec: No Partition Defined for Window operation! Moving all data to a single partition, this can cause serious performance degradation.\n",
      "22/05/14 15:17:29 WARN WindowExec: No Partition Defined for Window operation! Moving all data to a single partition, this can cause serious performance degradation.\n",
      "22/05/14 15:17:35 WARN WindowExec: No Partition Defined for Window operation! Moving all data to a single partition, this can cause serious performance degradation.\n",
      "22/05/14 15:17:35 WARN WindowExec: No Partition Defined for Window operation! Moving all data to a single partition, this can cause serious performance degradation.\n",
      "22/05/14 15:17:35 WARN WindowExec: No Partition Defined for Window operation! Moving all data to a single partition, this can cause serious performance degradation.\n",
      "22/05/14 15:17:35 WARN WindowExec: No Partition Defined for Window operation! Moving all data to a single partition, this can cause serious performance degradation.\n",
      "22/05/14 15:17:35 WARN WindowExec: No Partition Defined for Window operation! Moving all data to a single partition, this can cause serious performance degradation.\n",
      "22/05/14 15:17:35 WARN WindowExec: No Partition Defined for Window operation! Moving all data to a single partition, this can cause serious performance degradation.\n",
      "22/05/14 15:17:36 WARN WindowExec: No Partition Defined for Window operation! Moving all data to a single partition, this can cause serious performance degradation.\n",
      "22/05/14 15:17:37 WARN WindowExec: No Partition Defined for Window operation! Moving all data to a single partition, this can cause serious performance degradation.\n",
      "22/05/14 15:17:37 WARN WindowExec: No Partition Defined for Window operation! Moving all data to a single partition, this can cause serious performance degradation.\n",
      "22/05/14 15:17:37 WARN WindowExec: No Partition Defined for Window operation! Moving all data to a single partition, this can cause serious performance degradation.\n",
      "22/05/14 15:17:37 WARN WindowExec: No Partition Defined for Window operation! Moving all data to a single partition, this can cause serious performance degradation.\n",
      "22/05/14 15:17:37 WARN WindowExec: No Partition Defined for Window operation! Moving all data to a single partition, this can cause serious performance degradation.\n",
      "22/05/14 15:17:37 WARN WindowExec: No Partition Defined for Window operation! Moving all data to a single partition, this can cause serious performance degradation.\n",
      "                                                                                \r"
     ]
    },
    {
     "data": {
      "image/png": "[encoded data removed]",
      "text/plain": [
       "<Figure size 864x360 with 1 Axes>"
      ]
     },
     "metadata": {
      "needs_background": "light"
     },
     "output_type": "display_data"
    },
    {
     "data": {
      "image/png": "[encoded data removed]",
      "text/plain": [
       "<Figure size 864x72 with 1 Axes>"
      ]
     },
     "metadata": {
      "needs_background": "light"
     },
     "output_type": "display_data"
    },
    {
     "data": {
      "image/png": "[encoded data removed]",
      "text/plain": [
       "<Figure size 864x72 with 1 Axes>"
      ]
     },
     "metadata": {
      "needs_background": "light"
     },
     "output_type": "display_data"
    },
    {
     "data": {
      "image/png": "[encoded data removed]",
      "text/plain": [
       "<Figure size 864x72 with 1 Axes>"
      ]
     },
     "metadata": {
      "needs_background": "light"
     },
     "output_type": "display_data"
    }
   ],
   "source": [
    "plot_domain.plot_home_factor_over_time(df_time=home_freq_dt, \n",
    "                                       df_total=home_freq_gte_n, \n",
    "                                       df_n_matches_time=n_matches_dt, \n",
    "                                       plot_rankings=[1, 62, home_freq_gte_n.count()])"
   ]
  },
  {
   "cell_type": "markdown",
   "id": "d5356dc6",
   "metadata": {},
   "source": [
    "#### Notes\n",
    "It seems that some leagues have their homefactor boundaries. <br>\n",
    "Some of them seem to be roughly steady over time (months) like NPFL and Copa Del Rey. NPFL have huge variation in the 3rd month due to the few number of matches, as expected by the Law of Large Numbers (few observations doesn't really match the frequent pattern). <br>\n",
    "<br>\n",
    "Copa Del Rey seems to have a very unexpected home_factor: around 26%.<br>\n",
    "It may be so low due to its nature, in the beggining of the league, the stronger teams play in a single match as AWAY team, visiting the weaker team. For example, Linares 1 x 2 Barcelona in 2022/05/01."
   ]
  },
  {
   "cell_type": "markdown",
   "id": "c596352b",
   "metadata": {},
   "source": [
    "# Is home_factor from train_train very differente from train_valid datasets?"
   ]
  },
  {
   "cell_type": "code",
   "execution_count": 29,
   "id": "1e816d53",
   "metadata": {},
   "outputs": [],
   "source": [
    "from src.ml.estimators import HomeFactorEstimator\n",
    "from scipy.stats import shapiro, ttest_rel, ttest_ind, wilcoxon, norm\n",
    "import operator"
   ]
  },
  {
   "cell_type": "code",
   "execution_count": 30,
   "id": "329188c9",
   "metadata": {},
   "outputs": [],
   "source": [
    "home_factor_transformer_ttrain = HomeFactorEstimator().fit(dao_interim.load_train_train_data(spark))\n",
    "home_factor_transformer_tvalid = HomeFactorEstimator().fit(dao_interim.load_train_valid_data(spark))"
   ]
  },
  {
   "cell_type": "code",
   "execution_count": 31,
   "id": "4bd35d88",
   "metadata": {
    "scrolled": false
   },
   "outputs": [
    {
     "name": "stdout",
     "output_type": "stream",
     "text": [
      "HomeFactorTransformer\n",
      "HomeFactorTransformer\n",
      "ttrain_transformed: (841, 5)\n",
      "tvalid_transformed: (567, 5)\n",
      "\n",
      "Dropping leagues with less than 10 matches\n"
     ]
    },
    {
     "name": "stderr",
     "output_type": "stream",
     "text": [
      "                                                                                \r"
     ]
    },
    {
     "name": "stdout",
     "output_type": "stream",
     "text": [
      "ttrain_transformed: (695, 5)\n"
     ]
    },
    {
     "name": "stderr",
     "output_type": "stream",
     "text": [
      "                                                                                \r"
     ]
    },
    {
     "name": "stdout",
     "output_type": "stream",
     "text": [
      "tvalid_transformed: (437, 5)\n"
     ]
    }
   ],
   "source": [
    "ttrain_transformed = home_factor_transformer_ttrain.transform(dao_interim.load_train_train_data(spark))\\\n",
    "    .select([\"league_id\", \"league_name\", \"home_factor\", \"draw_factor\", \"n_matches\"]).dropDuplicates([\"league_id\"])\n",
    "\n",
    "tvalid_transformed = home_factor_transformer_tvalid.transform(dao_interim.load_train_valid_data(spark))\\\n",
    "    .select([\"league_id\", \"league_name\", \"home_factor\", \"draw_factor\", \"n_matches\"]).dropDuplicates([\"league_id\"])\n",
    "\n",
    "ttrain_transformed = dflib.append_suffix_cols(ttrain_transformed, [\"home_factor\", \"draw_factor\"], \"_tt\")\n",
    "tvalid_transformed = dflib.append_suffix_cols(tvalid_transformed, [\"home_factor\", \"draw_factor\"], \"_tv\")\n",
    "\n",
    "print(\"ttrain_transformed:\", dflib.shape(ttrain_transformed))\n",
    "print(\"tvalid_transformed:\", dflib.shape(tvalid_transformed))\n",
    "print()\n",
    "print(\"Dropping leagues with less than 10 matches\")\n",
    "ttrain_transformed = ttrain_transformed.filter(f.col(\"n_matches\") >= 10)\n",
    "tvalid_transformed = tvalid_transformed.filter(f.col(\"n_matches\") >= 10)\n",
    "print(\"ttrain_transformed:\", dflib.shape(ttrain_transformed))\n",
    "print(\"tvalid_transformed:\", dflib.shape(tvalid_transformed))"
   ]
  },
  {
   "cell_type": "code",
   "execution_count": 32,
   "id": "3d4fb09f",
   "metadata": {},
   "outputs": [
    {
     "name": "stderr",
     "output_type": "stream",
     "text": [
      "                                                                                \r"
     ]
    },
    {
     "data": {
      "image/png": "[encoded data removed]",
      "text/plain": [
       "<Figure size 432x288 with 1 Axes>"
      ]
     },
     "metadata": {},
     "output_type": "display_data"
    },
    {
     "data": {
      "text/html": [
       "<div>\n",
       "<style scoped>\n",
       "    .dataframe tbody tr th:only-of-type {\n",
       "        vertical-align: middle;\n",
       "    }\n",
       "\n",
       "    .dataframe tbody tr th {\n",
       "        vertical-align: top;\n",
       "    }\n",
       "\n",
       "    .dataframe thead th {\n",
       "        text-align: right;\n",
       "    }\n",
       "</style>\n",
       "<table border=\"1\" class=\"dataframe\">\n",
       "  <thead>\n",
       "    <tr style=\"text-align: right;\">\n",
       "      <th></th>\n",
       "      <th>train exclusive</th>\n",
       "      <th>intersection</th>\n",
       "      <th>valid exclusive</th>\n",
       "    </tr>\n",
       "  </thead>\n",
       "  <tbody>\n",
       "    <tr>\n",
       "      <th>relative_freq</th>\n",
       "      <td>0.3897</td>\n",
       "      <td>0.581</td>\n",
       "      <td>0.0293</td>\n",
       "    </tr>\n",
       "    <tr>\n",
       "      <th>absolute_freq</th>\n",
       "      <td>279.0000</td>\n",
       "      <td>416.000</td>\n",
       "      <td>21.0000</td>\n",
       "    </tr>\n",
       "  </tbody>\n",
       "</table>\n",
       "</div>"
      ],
      "text/plain": [
       "               train exclusive  intersection  valid exclusive\n",
       "relative_freq           0.3897         0.581           0.0293\n",
       "absolute_freq         279.0000       416.000          21.0000"
      ]
     },
     "metadata": {},
     "output_type": "display_data"
    }
   ],
   "source": [
    "plot.venn(ttrain_transformed, tvalid_transformed, on_colnames=[\"league_id\"], \n",
    "          title=\"league_id\", labels=[\"train\", \"valid\"])"
   ]
  },
  {
   "cell_type": "markdown",
   "id": "958e3ddf",
   "metadata": {},
   "source": [
    "#### Notes\n",
    "Around 95% of the leagues in train_valid dataset is present in train_train dataset. <br>\n",
    "It can be applied a paired t-test in order to check home_factor_consistency."
   ]
  },
  {
   "cell_type": "markdown",
   "id": "d7e72887",
   "metadata": {},
   "source": [
    "## Paired T-Test for home_factor and draw_factor"
   ]
  },
  {
   "cell_type": "code",
   "execution_count": 33,
   "id": "f14ce0d6",
   "metadata": {},
   "outputs": [
    {
     "name": "stderr",
     "output_type": "stream",
     "text": [
      "                                                                                \r"
     ]
    },
    {
     "name": "stdout",
     "output_type": "stream",
     "text": [
      "(412, 8)\n"
     ]
    },
    {
     "name": "stderr",
     "output_type": "stream",
     "text": [
      "                                                                                \r"
     ]
    }
   ],
   "source": [
    "paired_transformed = ttrain_transformed.join(tvalid_transformed.drop(*[\"league_name\"]), on=\"league_id\", \n",
    "                                             how=\"inner\").dropna(how=\"any\", \n",
    "                                                               subset=[\"league_id\", \"home_factor_tt\", \n",
    "                                                                       \"home_factor_tv\", \"draw_factor_tt\", \n",
    "                                                                       \"draw_factor_tv\"])\n",
    "print(dflib.shape(paired_transformed))\n",
    "\n",
    "home_factor_paired = dflib.df_to_dict(paired_transformed, [\"home_factor_tt\", \"home_factor_tv\"])\n",
    "draw_factor_paired = dflib.df_to_dict(paired_transformed, [\"draw_factor_tt\", \"draw_factor_tv\"])"
   ]
  },
  {
   "cell_type": "markdown",
   "id": "15f8ee02",
   "metadata": {},
   "source": [
    "#### Checking Normality with Shapiro Test"
   ]
  },
  {
   "cell_type": "code",
   "execution_count": 35,
   "id": "15e806e3",
   "metadata": {},
   "outputs": [
    {
     "name": "stderr",
     "output_type": "stream",
     "text": [
      "                                                                                \r"
     ]
    },
    {
     "name": "stdout",
     "output_type": "stream",
     "text": [
      "Normality Test (Shapiro)\n",
      "\tpvalues\n",
      "\thome_factor diff: 7.859883299765613e-10\n",
      "\tdraw_factor diff: 0.004994266666471958\n"
     ]
    }
   ],
   "source": [
    "diff_home_factor = []\n",
    "diff_draw_factor = []\n",
    "\n",
    "for i in range(paired_transformed.count()):\n",
    "    diff_home_factor.append(home_factor_paired['home_factor_tv'][i] - home_factor_paired['home_factor_tt'][i])\n",
    "    diff_draw_factor.append(draw_factor_paired['draw_factor_tt'][i] - draw_factor_paired['draw_factor_tv'][i])\n",
    "\n",
    "diff_home_factor_norm_test = shapiro(diff_home_factor)\n",
    "diff_draw_factor_norm_test = shapiro(diff_draw_factor)\n",
    "\n",
    "print(\"Normality Test (Shapiro)\")\n",
    "print(\"\\tpvalues\")\n",
    "print(f\"\\thome_factor diff: {diff_home_factor_norm_test.pvalue}\")\n",
    "print(f\"\\tdraw_factor diff: {diff_draw_factor_norm_test.pvalue}\")"
   ]
  },
  {
   "cell_type": "markdown",
   "id": "c778bae1",
   "metadata": {},
   "source": [
    "#### Notes\n",
    "None of the samples for `home_factor` and `draw_factor` for both train_train and train_valid datasets follow a Normal/Gaussian distribution. <br>\n",
    "It is needed to perform a non-parametric means equivalence test, Wilcoxon test it is best suitable than T-Test."
   ]
  },
  {
   "cell_type": "code",
   "execution_count": 36,
   "id": "eb852c1a",
   "metadata": {},
   "outputs": [
    {
     "name": "stdout",
     "output_type": "stream",
     "text": [
      "home_factor\n",
      "wilcoxon: WilcoxonResult(statistic=39658.5, pvalue=0.2336413868509547)\n"
     ]
    }
   ],
   "source": [
    "print(\"home_factor\")\n",
    "print(\"wilcoxon:\", wilcoxon(diff_home_factor))"
   ]
  },
  {
   "cell_type": "code",
   "execution_count": 37,
   "id": "331947ef",
   "metadata": {},
   "outputs": [
    {
     "name": "stdout",
     "output_type": "stream",
     "text": [
      "draw_factor\n",
      "wilcoxon: WilcoxonResult(statistic=38653.0, pvalue=0.1984507865940205)\n"
     ]
    }
   ],
   "source": [
    "print(\"draw_factor\")\n",
    "print(\"wilcoxon:\", wilcoxon(diff_draw_factor))"
   ]
  },
  {
   "cell_type": "markdown",
   "id": "452b8c60",
   "metadata": {},
   "source": [
    "# Conclusions\n",
    "Wilcoxon null-hypothesis say the both samples comes from the same population. <br>\n",
    "For both `home_factor` and `draw_factor` it failed to reject the null-hypothesis (due to p-value > 0.05). <br>\n",
    "<br>\n",
    "It can be concluded that there is enough evidences that `home_factor` and `draw_factor` paired for both `train_train` and `train_valid` datasets have equivalence, i.e., their means come from the same distribution.<br>\n",
    "So, considering these factors steady across leagues, their calculated values for known targets can be considered for also the `test` dataset."
   ]
  },
  {
   "cell_type": "code",
   "execution_count": null,
   "id": "b3aaf480",
   "metadata": {},
   "outputs": [],
   "source": []
  }
 ],
 "metadata": {
  "kernelspec": {
   "display_name": "Python 3 (ipykernel)",
   "language": "python",
   "name": "python3"
  },
  "language_info": {
   "codemirror_mode": {
    "name": "ipython",
    "version": 3
   },
   "file_extension": ".py",
   "mimetype": "text/x-python",
   "name": "python",
   "nbconvert_exporter": "python",
   "pygments_lexer": "ipython3",
   "version": "3.9.7"
  }
 },
 "nbformat": 4,
 "nbformat_minor": 5
}
