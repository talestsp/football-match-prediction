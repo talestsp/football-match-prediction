{
 "cells": [
  {
   "cell_type": "markdown",
   "id": "ed008c12",
   "metadata": {},
   "source": [
    "# Data Understanding\n",
    "This notebook was built for validating my understanding of the available data."
   ]
  },
  {
   "cell_type": "code",
   "execution_count": 7,
   "id": "88e9bb5d",
   "metadata": {},
   "outputs": [
    {
     "data": {
      "text/plain": [
       "'/Users/tales.pimentel/ds/kaggle/football-match-prediction'"
      ]
     },
     "execution_count": 7,
     "metadata": {},
     "output_type": "execute_result"
    }
   ],
   "source": [
    "import os\n",
    "from working_dir import set_wd\n",
    "set_wd()\n",
    "os.getcwd()"
   ]
  },
  {
   "cell_type": "code",
   "execution_count": 10,
   "id": "0d226ebd",
   "metadata": {},
   "outputs": [],
   "source": [
    "DATA_DIR = \"data/\"\n",
    "RAW_DIR = DATA_DIR + \"raw/\"\n",
    "FEATURE_SELECTION_DIR = DATA_DIR + \"feature_selection/\"\n",
    "INTERIM_DIR = DATA_DIR + \"interim/\"\n",
    "PROCESSED_DIR = DATA_DIR + \"processed/\"\n",
    "PROCESSED_METADATA_DIR = PROCESSED_DIR + \"metadata/\"\n",
    "PREDS_DIR = DATA_DIR + \"preds/\"\n",
    "PREDS_METADATA_DIR = PREDS_DIR + \"metadata/\"\n",
    "MODELING_DIR = DATA_DIR + \"modeling/\"\n",
    "\n",
    "dirs = [DATA_DIR, RAW_DIR, FEATURE_SELECTION_DIR, INTERIM_DIR, PROCESSED_DIR, PROCESSED_METADATA_DIR, PREDS_DIR, PREDS_METADATA_DIR, MODELING_DIR]"
   ]
  },
  {
   "cell_type": "code",
   "execution_count": 11,
   "id": "322e1378",
   "metadata": {},
   "outputs": [
    {
     "name": "stdout",
     "output_type": "stream",
     "text": [
      "creating data2/raw/\n",
      "skipping data2/\n",
      "skipping data2/feature_selection/\n",
      "skipping data2/interim/\n",
      "skipping data2/processed/\n",
      "skipping data2/processed/metadata/\n",
      "skipping data2/preds/\n",
      "skipping data2/preds/metadata/\n",
      "creating data2/modeling/\n"
     ]
    }
   ],
   "source": [
    "for a_dir in dirs:\n",
    "    if os.path.exists(a_dir):\n",
    "        print(f\"skipping {a_dir}\")\n",
    "        continue\n",
    "    print(f\"creating {a_dir}\")\n",
    "    os.mkdir(a_dir)"
   ]
  },
  {
   "cell_type": "markdown",
   "id": "59d36707",
   "metadata": {},
   "source": [
    "Please, place the CSVs datafiles here: <b>data/raw/</b>\n",
    "\n",
    "Source\n",
    "https://www.kaggle.com/competitions/football-match-probability-prediction/data"
   ]
  },
  {
   "cell_type": "code",
   "execution_count": null,
   "id": "efc0bf17",
   "metadata": {},
   "outputs": [],
   "source": []
  }
 ],
 "metadata": {
  "kernelspec": {
   "display_name": "Python 3",
   "language": "python",
   "name": "python3"
  },
  "language_info": {
   "codemirror_mode": {
    "name": "ipython",
    "version": 3
   },
   "file_extension": ".py",
   "mimetype": "text/x-python",
   "name": "python",
   "nbconvert_exporter": "python",
   "pygments_lexer": "ipython3",
   "version": "3.8.8"
  }
 },
 "nbformat": 4,
 "nbformat_minor": 5
}
