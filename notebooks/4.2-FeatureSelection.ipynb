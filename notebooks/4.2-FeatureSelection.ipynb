{
 "cells": [
  {
   "cell_type": "markdown",
   "id": "ed008c12",
   "metadata": {},
   "source": [
    "# Feature Selection"
   ]
  },
  {
   "cell_type": "code",
   "execution_count": 1,
   "id": "88e9bb5d",
   "metadata": {},
   "outputs": [
    {
     "data": {
      "text/plain": [
       "'/Users/tales.pimentel/ds/kaggle/football-match-prediction'"
      ]
     },
     "execution_count": 1,
     "metadata": {},
     "output_type": "execute_result"
    }
   ],
   "source": [
    "import os\n",
    "from working_dir import set_wd\n",
    "set_wd()\n",
    "os.getcwd()"
   ]
  },
  {
   "cell_type": "code",
   "execution_count": 2,
   "id": "448f5a9c",
   "metadata": {},
   "outputs": [],
   "source": [
    "from pyspark.sql import SparkSession\n",
    "\n",
    "spark = SparkSession.builder.config(\"spark.sql.debug.maxToStringFields\", 500) \\\n",
    "                            .config(\"spark.driver.memory\", \"14g\") \\\n",
    "                            .appName(\"FeatureSelection\").getOrCreate()\n",
    "\n",
    "spark.sparkContext.setLogLevel(\"ERROR\")"
   ]
  },
  {
   "cell_type": "code",
   "execution_count": 3,
   "id": "770675a1",
   "metadata": {},
   "outputs": [],
   "source": [
    "from pyspark.ml.feature import VectorAssembler, StringIndexer\n",
    "import pyspark.sql.functions as f\n",
    "from src.dao import dao, dao_processed, dao_raw, dao_interim, dao_ml\n",
    "from src.utils import dflib, stats, pretties, plot, plot_domain, palette"
   ]
  },
  {
   "cell_type": "code",
   "execution_count": 4,
   "id": "782f8572",
   "metadata": {},
   "outputs": [],
   "source": [
    "pretties.max_data_frame_columns()"
   ]
  },
  {
   "cell_type": "markdown",
   "id": "854af8c3",
   "metadata": {},
   "source": [
    "# Loading Data"
   ]
  },
  {
   "cell_type": "code",
   "execution_count": 5,
   "id": "829b8966",
   "metadata": {},
   "outputs": [
    {
     "data": {
      "text/plain": [
       "'04a4d619-00cc-4484-a724-e27e2161c91d'"
      ]
     },
     "execution_count": 5,
     "metadata": {},
     "output_type": "execute_result"
    }
   ],
   "source": [
    "id_data = dao_processed.most_recent_data_build_id()\n",
    "id_data"
   ]
  },
  {
   "cell_type": "code",
   "execution_count": 6,
   "id": "6c1648a2",
   "metadata": {},
   "outputs": [],
   "source": [
    "df_ttrain = dao_processed.load_processed_data(which_dataset=\"train_train\", \n",
    "                                              id_data=id_data,\n",
    "                                              spark=spark)\n",
    "\n",
    "metadata = dao_processed.load_processed_metadata(id_data)\n",
    "use_features = metadata[\"use_features\"]"
   ]
  },
  {
   "cell_type": "code",
   "execution_count": 7,
   "id": "35846f7b",
   "metadata": {},
   "outputs": [
    {
     "name": "stdout",
     "output_type": "stream",
     "text": [
      "2117 rows with any feature null\n",
      "0 rows with target null\n"
     ]
    }
   ],
   "source": [
    "len_features_na = dflib.filter_any_null(df_ttrain, subset=use_features).count()\n",
    "len_target_na = dflib.filter_any_null(df_ttrain, subset=[\"target\"]).count()\n",
    "\n",
    "print(f\"{len_features_na} rows with any feature null\")\n",
    "print(f\"{len_target_na} rows with target null\")"
   ]
  },
  {
   "cell_type": "code",
   "execution_count": 8,
   "id": "c543ee78",
   "metadata": {},
   "outputs": [
    {
     "name": "stdout",
     "output_type": "stream",
     "text": [
      "df_ttrain_not_na 85353\n",
      "df_ttrain_na 2117\n"
     ]
    }
   ],
   "source": [
    "df_ttrain_not_na = df_ttrain.dropna(how=\"any\", subset=use_features + [\"target\"])\n",
    "df_ttrain_na = dflib.filter_any_null(df_ttrain, subset=use_features + [\"target\"])\n",
    "\n",
    "print(\"df_ttrain_not_na\", df_ttrain_not_na.count())\n",
    "print(\"df_ttrain_na\", df_ttrain_na.count())\n",
    "\n",
    "assert df_ttrain_not_na.count() + df_ttrain_na.count() == df_ttrain.count()"
   ]
  },
  {
   "cell_type": "code",
   "execution_count": 9,
   "id": "b6c185fd",
   "metadata": {},
   "outputs": [],
   "source": [
    "import pandas as pd\n",
    "from sklearn.feature_selection import SelectKBest\n",
    "from sklearn.feature_selection import f_classif\n",
    "\n",
    "selector = SelectKBest(score_func=f_classif, k=\"all\")\n",
    "df_ttrain_not_na_pd = df_ttrain_not_na.select(use_features + [\"target\", \"id\"]).toPandas()"
   ]
  },
  {
   "cell_type": "code",
   "execution_count": 10,
   "id": "54c9f8e3",
   "metadata": {},
   "outputs": [],
   "source": [
    "result = f_classif(df_ttrain_not_na_pd[use_features], df_ttrain_not_na_pd[\"target\"])\n",
    "result_df_pd = pd.DataFrame(result, \n",
    "                            columns=use_features, \n",
    "                            index=[\"f_statistic\", \"p_value\"]).transpose().sort_values(\"f_statistic\", ascending=False)"
   ]
  },
  {
   "cell_type": "markdown",
   "id": "7bc1e01b",
   "metadata": {},
   "source": [
    "### ANOVA"
   ]
  },
  {
   "cell_type": "code",
   "execution_count": 11,
   "id": "231a36ea",
   "metadata": {},
   "outputs": [
    {
     "name": "stdout",
     "output_type": "stream",
     "text": [
      "8 variables\n"
     ]
    },
    {
     "data": {
      "text/html": [
       "<div>\n",
       "<style scoped>\n",
       "    .dataframe tbody tr th:only-of-type {\n",
       "        vertical-align: middle;\n",
       "    }\n",
       "\n",
       "    .dataframe tbody tr th {\n",
       "        vertical-align: top;\n",
       "    }\n",
       "\n",
       "    .dataframe thead th {\n",
       "        text-align: right;\n",
       "    }\n",
       "</style>\n",
       "<table border=\"1\" class=\"dataframe\">\n",
       "  <thead>\n",
       "    <tr style=\"text-align: right;\">\n",
       "      <th></th>\n",
       "      <th>f_statistic</th>\n",
       "      <th>p_value</th>\n",
       "    </tr>\n",
       "  </thead>\n",
       "  <tbody>\n",
       "    <tr>\n",
       "      <th>home_mood_diff</th>\n",
       "      <td>3935.458008</td>\n",
       "      <td>0.000000e+00</td>\n",
       "    </tr>\n",
       "    <tr>\n",
       "      <th>away_mood_diff</th>\n",
       "      <td>3935.458008</td>\n",
       "      <td>0.000000e+00</td>\n",
       "    </tr>\n",
       "    <tr>\n",
       "      <th>home_history_mood_mean</th>\n",
       "      <td>1760.184204</td>\n",
       "      <td>0.000000e+00</td>\n",
       "    </tr>\n",
       "    <tr>\n",
       "      <th>away_history_mood_mean</th>\n",
       "      <td>1654.938354</td>\n",
       "      <td>0.000000e+00</td>\n",
       "    </tr>\n",
       "    <tr>\n",
       "      <th>home_result_history_mean</th>\n",
       "      <td>1308.731567</td>\n",
       "      <td>0.000000e+00</td>\n",
       "    </tr>\n",
       "    <tr>\n",
       "      <th>away_result_history_mean</th>\n",
       "      <td>1253.516113</td>\n",
       "      <td>0.000000e+00</td>\n",
       "    </tr>\n",
       "    <tr>\n",
       "      <th>draw_factor</th>\n",
       "      <td>836.310608</td>\n",
       "      <td>0.000000e+00</td>\n",
       "    </tr>\n",
       "    <tr>\n",
       "      <th>home_factor</th>\n",
       "      <td>541.662842</td>\n",
       "      <td>1.734726e-234</td>\n",
       "    </tr>\n",
       "  </tbody>\n",
       "</table>\n",
       "</div>"
      ],
      "text/plain": [
       "                          f_statistic        p_value\n",
       "home_mood_diff            3935.458008   0.000000e+00\n",
       "away_mood_diff            3935.458008   0.000000e+00\n",
       "home_history_mood_mean    1760.184204   0.000000e+00\n",
       "away_history_mood_mean    1654.938354   0.000000e+00\n",
       "home_result_history_mean  1308.731567   0.000000e+00\n",
       "away_result_history_mean  1253.516113   0.000000e+00\n",
       "draw_factor                836.310608   0.000000e+00\n",
       "home_factor                541.662842  1.734726e-234"
      ]
     },
     "metadata": {},
     "output_type": "display_data"
    }
   ],
   "source": [
    "print(len(use_features), \"variables\")\n",
    "display(result_df_pd)"
   ]
  },
  {
   "cell_type": "markdown",
   "id": "e3f3e8b1",
   "metadata": {},
   "source": [
    "#### Notes\n",
    "\n",
    "The `f_statistic` stands for the correlation between the continuous and categorical variables. <br>\n",
    "The greater is it, the greater is the correlation.\n",
    "<br>\n",
    "Furthermore, if the p-value is below a certain threshold (e.g. α = .05), we can reject the null hypothesis of the\n",
    "ANOVA and conclude that there is a statistically significant difference between group means.<br>\n",
    "<br>\n",
    "So, all variables are correlated to the target, even though they differ from one to another in intensity.\n",
    "\n",
    "Source: https://www.statology.org/what-does-a-high-f-value-mean/#:~:text=The%20F%2Dvalue%20in%20an%20ANOVA%20is%20calculated%20as%3A%20variation,lower%20the%20corresponding%20p%2Dvalue.\n"
   ]
  },
  {
   "cell_type": "markdown",
   "id": "e5c07f6f",
   "metadata": {},
   "source": [
    " "
   ]
  },
  {
   "cell_type": "markdown",
   "id": "ca6f2713",
   "metadata": {},
   "source": [
    "# Correlations"
   ]
  },
  {
   "cell_type": "code",
   "execution_count": 12,
   "id": "e65f49a6",
   "metadata": {},
   "outputs": [
    {
     "data": {
      "text/html": [
       "<style  type=\"text/css\" >\n",
       "#T_6e1d2_row0_col0,#T_6e1d2_row1_col1,#T_6e1d2_row2_col2,#T_6e1d2_row3_col3,#T_6e1d2_row4_col4,#T_6e1d2_row5_col5,#T_6e1d2_row6_col6,#T_6e1d2_row7_col7{\n",
       "            background-color:  #ff0000;\n",
       "            color:  #f1f1f1;\n",
       "        }#T_6e1d2_row0_col1,#T_6e1d2_row0_col3,#T_6e1d2_row0_col5,#T_6e1d2_row1_col0,#T_6e1d2_row1_col2,#T_6e1d2_row1_col4,#T_6e1d2_row6_col7,#T_6e1d2_row7_col6{\n",
       "            background-color:  #0000ff;\n",
       "            color:  #f1f1f1;\n",
       "        }#T_6e1d2_row0_col2,#T_6e1d2_row1_col3{\n",
       "            background-color:  #ff6262;\n",
       "            color:  #000000;\n",
       "        }#T_6e1d2_row0_col4{\n",
       "            background-color:  #ffc8c8;\n",
       "            color:  #000000;\n",
       "        }#T_6e1d2_row0_col6{\n",
       "            background-color:  #a4a4ff;\n",
       "            color:  #000000;\n",
       "        }#T_6e1d2_row0_col7,#T_6e1d2_row5_col7{\n",
       "            background-color:  #9e9eff;\n",
       "            color:  #000000;\n",
       "        }#T_6e1d2_row1_col5{\n",
       "            background-color:  #ffcaca;\n",
       "            color:  #000000;\n",
       "        }#T_6e1d2_row1_col6,#T_6e1d2_row3_col6,#T_6e1d2_row6_col4,#T_6e1d2_row6_col5{\n",
       "            background-color:  #9c9cff;\n",
       "            color:  #000000;\n",
       "        }#T_6e1d2_row1_col7,#T_6e1d2_row3_col7,#T_6e1d2_row4_col6,#T_6e1d2_row5_col6{\n",
       "            background-color:  #a2a2ff;\n",
       "            color:  #000000;\n",
       "        }#T_6e1d2_row2_col0,#T_6e1d2_row3_col1{\n",
       "            background-color:  #ff5252;\n",
       "            color:  #000000;\n",
       "        }#T_6e1d2_row2_col1,#T_6e1d2_row3_col0{\n",
       "            background-color:  #5252ff;\n",
       "            color:  #f1f1f1;\n",
       "        }#T_6e1d2_row2_col3,#T_6e1d2_row3_col2{\n",
       "            background-color:  #e8e8ff;\n",
       "            color:  #000000;\n",
       "        }#T_6e1d2_row2_col4{\n",
       "            background-color:  #ff7c7c;\n",
       "            color:  #000000;\n",
       "        }#T_6e1d2_row2_col5,#T_6e1d2_row3_col4{\n",
       "            background-color:  #b0b0ff;\n",
       "            color:  #000000;\n",
       "        }#T_6e1d2_row2_col6,#T_6e1d2_row2_col7{\n",
       "            background-color:  #a0a0ff;\n",
       "            color:  #000000;\n",
       "        }#T_6e1d2_row3_col5{\n",
       "            background-color:  #ff7e7e;\n",
       "            color:  #000000;\n",
       "        }#T_6e1d2_row4_col0,#T_6e1d2_row5_col1{\n",
       "            background-color:  #ff9090;\n",
       "            color:  #000000;\n",
       "        }#T_6e1d2_row4_col1,#T_6e1d2_row5_col0{\n",
       "            background-color:  #9090ff;\n",
       "            color:  #000000;\n",
       "        }#T_6e1d2_row4_col2{\n",
       "            background-color:  #ff6a6a;\n",
       "            color:  #000000;\n",
       "        }#T_6e1d2_row4_col3,#T_6e1d2_row5_col2{\n",
       "            background-color:  #e0e0ff;\n",
       "            color:  #000000;\n",
       "        }#T_6e1d2_row4_col5,#T_6e1d2_row5_col4{\n",
       "            background-color:  #a8a8ff;\n",
       "            color:  #000000;\n",
       "        }#T_6e1d2_row4_col7{\n",
       "            background-color:  #9a9aff;\n",
       "            color:  #000000;\n",
       "        }#T_6e1d2_row5_col3{\n",
       "            background-color:  #ff6c6c;\n",
       "            color:  #000000;\n",
       "        }#T_6e1d2_row6_col0{\n",
       "            background-color:  #fffcfc;\n",
       "            color:  #000000;\n",
       "        }#T_6e1d2_row6_col1{\n",
       "            background-color:  #fcfcff;\n",
       "            color:  #000000;\n",
       "        }#T_6e1d2_row6_col2,#T_6e1d2_row7_col2{\n",
       "            background-color:  #ccccff;\n",
       "            color:  #000000;\n",
       "        }#T_6e1d2_row6_col3{\n",
       "            background-color:  #cacaff;\n",
       "            color:  #000000;\n",
       "        }#T_6e1d2_row7_col0{\n",
       "            background-color:  #fefeff;\n",
       "            color:  #000000;\n",
       "        }#T_6e1d2_row7_col1{\n",
       "            background-color:  #fffefe;\n",
       "            color:  #000000;\n",
       "        }#T_6e1d2_row7_col3{\n",
       "            background-color:  #d0d0ff;\n",
       "            color:  #000000;\n",
       "        }#T_6e1d2_row7_col4{\n",
       "            background-color:  #9494ff;\n",
       "            color:  #000000;\n",
       "        }#T_6e1d2_row7_col5{\n",
       "            background-color:  #9898ff;\n",
       "            color:  #000000;\n",
       "        }</style><table id=\"T_6e1d2_\" ><thead>    <tr>        <th class=\"blank level0\" ></th>        <th class=\"col_heading level0 col0\" >home_mood_diff</th>        <th class=\"col_heading level0 col1\" >away_mood_diff</th>        <th class=\"col_heading level0 col2\" >home_history_mood_mean</th>        <th class=\"col_heading level0 col3\" >away_history_mood_mean</th>        <th class=\"col_heading level0 col4\" >home_result_history_mean</th>        <th class=\"col_heading level0 col5\" >away_result_history_mean</th>        <th class=\"col_heading level0 col6\" >home_factor</th>        <th class=\"col_heading level0 col7\" >draw_factor</th>    </tr></thead><tbody>\n",
       "                <tr>\n",
       "                        <th id=\"T_6e1d2_level0_row0\" class=\"row_heading level0 row0\" >home_mood_diff</th>\n",
       "                        <td id=\"T_6e1d2_row0_col0\" class=\"data row0 col0\" >1.000000</td>\n",
       "                        <td id=\"T_6e1d2_row0_col1\" class=\"data row0 col1\" >-1.000000</td>\n",
       "                        <td id=\"T_6e1d2_row0_col2\" class=\"data row0 col2\" >0.673354</td>\n",
       "                        <td id=\"T_6e1d2_row0_col3\" class=\"data row0 col3\" >-0.676285</td>\n",
       "                        <td id=\"T_6e1d2_row0_col4\" class=\"data row0 col4\" >0.436569</td>\n",
       "                        <td id=\"T_6e1d2_row0_col5\" class=\"data row0 col5\" >-0.434040</td>\n",
       "                        <td id=\"T_6e1d2_row0_col6\" class=\"data row0 col6\" >0.010001</td>\n",
       "                        <td id=\"T_6e1d2_row0_col7\" class=\"data row0 col7\" >-0.007102</td>\n",
       "            </tr>\n",
       "            <tr>\n",
       "                        <th id=\"T_6e1d2_level0_row1\" class=\"row_heading level0 row1\" >away_mood_diff</th>\n",
       "                        <td id=\"T_6e1d2_row1_col0\" class=\"data row1 col0\" >-1.000000</td>\n",
       "                        <td id=\"T_6e1d2_row1_col1\" class=\"data row1 col1\" >1.000000</td>\n",
       "                        <td id=\"T_6e1d2_row1_col2\" class=\"data row1 col2\" >-0.673354</td>\n",
       "                        <td id=\"T_6e1d2_row1_col3\" class=\"data row1 col3\" >0.676285</td>\n",
       "                        <td id=\"T_6e1d2_row1_col4\" class=\"data row1 col4\" >-0.436569</td>\n",
       "                        <td id=\"T_6e1d2_row1_col5\" class=\"data row1 col5\" >0.434040</td>\n",
       "                        <td id=\"T_6e1d2_row1_col6\" class=\"data row1 col6\" >-0.010001</td>\n",
       "                        <td id=\"T_6e1d2_row1_col7\" class=\"data row1 col7\" >0.007102</td>\n",
       "            </tr>\n",
       "            <tr>\n",
       "                        <th id=\"T_6e1d2_level0_row2\" class=\"row_heading level0 row2\" >home_history_mood_mean</th>\n",
       "                        <td id=\"T_6e1d2_row2_col0\" class=\"data row2 col0\" >0.673354</td>\n",
       "                        <td id=\"T_6e1d2_row2_col1\" class=\"data row2 col1\" >-0.673354</td>\n",
       "                        <td id=\"T_6e1d2_row2_col2\" class=\"data row2 col2\" >1.000000</td>\n",
       "                        <td id=\"T_6e1d2_row2_col3\" class=\"data row2 col3\" >0.089234</td>\n",
       "                        <td id=\"T_6e1d2_row2_col4\" class=\"data row2 col4\" >0.649905</td>\n",
       "                        <td id=\"T_6e1d2_row2_col5\" class=\"data row2 col5\" >0.061371</td>\n",
       "                        <td id=\"T_6e1d2_row2_col6\" class=\"data row2 col6\" >-0.000866</td>\n",
       "                        <td id=\"T_6e1d2_row2_col7\" class=\"data row2 col7\" >-0.002465</td>\n",
       "            </tr>\n",
       "            <tr>\n",
       "                        <th id=\"T_6e1d2_level0_row3\" class=\"row_heading level0 row3\" >away_history_mood_mean</th>\n",
       "                        <td id=\"T_6e1d2_row3_col0\" class=\"data row3 col0\" >-0.676285</td>\n",
       "                        <td id=\"T_6e1d2_row3_col1\" class=\"data row3 col1\" >0.676285</td>\n",
       "                        <td id=\"T_6e1d2_row3_col2\" class=\"data row3 col2\" >0.089234</td>\n",
       "                        <td id=\"T_6e1d2_row3_col3\" class=\"data row3 col3\" >1.000000</td>\n",
       "                        <td id=\"T_6e1d2_row3_col4\" class=\"data row3 col4\" >0.059405</td>\n",
       "                        <td id=\"T_6e1d2_row3_col5\" class=\"data row3 col5\" >0.645886</td>\n",
       "                        <td id=\"T_6e1d2_row3_col6\" class=\"data row3 col6\" >-0.014336</td>\n",
       "                        <td id=\"T_6e1d2_row3_col7\" class=\"data row3 col7\" >0.007112</td>\n",
       "            </tr>\n",
       "            <tr>\n",
       "                        <th id=\"T_6e1d2_level0_row4\" class=\"row_heading level0 row4\" >home_result_history_mean</th>\n",
       "                        <td id=\"T_6e1d2_row4_col0\" class=\"data row4 col0\" >0.436569</td>\n",
       "                        <td id=\"T_6e1d2_row4_col1\" class=\"data row4 col1\" >-0.436569</td>\n",
       "                        <td id=\"T_6e1d2_row4_col2\" class=\"data row4 col2\" >0.649905</td>\n",
       "                        <td id=\"T_6e1d2_row4_col3\" class=\"data row4 col3\" >0.059405</td>\n",
       "                        <td id=\"T_6e1d2_row4_col4\" class=\"data row4 col4\" >1.000000</td>\n",
       "                        <td id=\"T_6e1d2_row4_col5\" class=\"data row4 col5\" >0.036975</td>\n",
       "                        <td id=\"T_6e1d2_row4_col6\" class=\"data row4 col6\" >0.003151</td>\n",
       "                        <td id=\"T_6e1d2_row4_col7\" class=\"data row4 col7\" >-0.017398</td>\n",
       "            </tr>\n",
       "            <tr>\n",
       "                        <th id=\"T_6e1d2_level0_row5\" class=\"row_heading level0 row5\" >away_result_history_mean</th>\n",
       "                        <td id=\"T_6e1d2_row5_col0\" class=\"data row5 col0\" >-0.434040</td>\n",
       "                        <td id=\"T_6e1d2_row5_col1\" class=\"data row5 col1\" >0.434040</td>\n",
       "                        <td id=\"T_6e1d2_row5_col2\" class=\"data row5 col2\" >0.061371</td>\n",
       "                        <td id=\"T_6e1d2_row5_col3\" class=\"data row5 col3\" >0.645886</td>\n",
       "                        <td id=\"T_6e1d2_row5_col4\" class=\"data row5 col4\" >0.036975</td>\n",
       "                        <td id=\"T_6e1d2_row5_col5\" class=\"data row5 col5\" >1.000000</td>\n",
       "                        <td id=\"T_6e1d2_row5_col6\" class=\"data row5 col6\" >0.003426</td>\n",
       "                        <td id=\"T_6e1d2_row5_col7\" class=\"data row5 col7\" >-0.006218</td>\n",
       "            </tr>\n",
       "            <tr>\n",
       "                        <th id=\"T_6e1d2_level0_row6\" class=\"row_heading level0 row6\" >home_factor</th>\n",
       "                        <td id=\"T_6e1d2_row6_col0\" class=\"data row6 col0\" >0.010001</td>\n",
       "                        <td id=\"T_6e1d2_row6_col1\" class=\"data row6 col1\" >-0.010001</td>\n",
       "                        <td id=\"T_6e1d2_row6_col2\" class=\"data row6 col2\" >-0.000866</td>\n",
       "                        <td id=\"T_6e1d2_row6_col3\" class=\"data row6 col3\" >-0.014336</td>\n",
       "                        <td id=\"T_6e1d2_row6_col4\" class=\"data row6 col4\" >0.003151</td>\n",
       "                        <td id=\"T_6e1d2_row6_col5\" class=\"data row6 col5\" >0.003426</td>\n",
       "                        <td id=\"T_6e1d2_row6_col6\" class=\"data row6 col6\" >1.000000</td>\n",
       "                        <td id=\"T_6e1d2_row6_col7\" class=\"data row6 col7\" >-0.460194</td>\n",
       "            </tr>\n",
       "            <tr>\n",
       "                        <th id=\"T_6e1d2_level0_row7\" class=\"row_heading level0 row7\" >draw_factor</th>\n",
       "                        <td id=\"T_6e1d2_row7_col0\" class=\"data row7 col0\" >-0.007102</td>\n",
       "                        <td id=\"T_6e1d2_row7_col1\" class=\"data row7 col1\" >0.007102</td>\n",
       "                        <td id=\"T_6e1d2_row7_col2\" class=\"data row7 col2\" >-0.002465</td>\n",
       "                        <td id=\"T_6e1d2_row7_col3\" class=\"data row7 col3\" >0.007112</td>\n",
       "                        <td id=\"T_6e1d2_row7_col4\" class=\"data row7 col4\" >-0.017398</td>\n",
       "                        <td id=\"T_6e1d2_row7_col5\" class=\"data row7 col5\" >-0.006218</td>\n",
       "                        <td id=\"T_6e1d2_row7_col6\" class=\"data row7 col6\" >-0.460194</td>\n",
       "                        <td id=\"T_6e1d2_row7_col7\" class=\"data row7 col7\" >1.000000</td>\n",
       "            </tr>\n",
       "    </tbody></table>"
      ],
      "text/plain": [
       "<pandas.io.formats.style.Styler at 0x7fe780fd8fa0>"
      ]
     },
     "metadata": {},
     "output_type": "display_data"
    }
   ],
   "source": [
    "corr_df_pd = df_ttrain_not_na_pd.corr(method=\"pearson\")\n",
    "display(corr_df_pd.style.background_gradient(cmap='bwr'))"
   ]
  },
  {
   "cell_type": "markdown",
   "id": "95207e1a",
   "metadata": {},
   "source": [
    "# Dropping vars that are mutually correlated\n",
    "Of course only one of them will be removed"
   ]
  },
  {
   "cell_type": "code",
   "execution_count": 13,
   "id": "35629225",
   "metadata": {},
   "outputs": [
    {
     "data": {
      "text/plain": [
       "['away_mood_diff']"
      ]
     },
     "execution_count": 13,
     "metadata": {},
     "output_type": "execute_result"
    }
   ],
   "source": [
    "import numpy as np\n",
    "def high_correlated_features(corr_df, max_treshold=0.9):\n",
    "    upper_tri = corr_df.where(np.triu(np.ones(corr_df.shape),k=1).astype(bool))\n",
    "\n",
    "    to_drop = [column for column in upper_tri.columns if any(abs(upper_tri[column]) > max_treshold)]\n",
    "    return to_drop\n",
    "\n",
    "MAX_THRESHOLD = 0.9\n",
    "\n",
    "vars_to_drop = high_correlated_features(corr_df_pd, max_treshold=MAX_THRESHOLD)\n",
    "vars_to_drop"
   ]
  },
  {
   "cell_type": "code",
   "execution_count": 14,
   "id": "196c1260",
   "metadata": {
    "scrolled": true
   },
   "outputs": [
    {
     "data": {
      "text/html": [
       "<div>\n",
       "<style scoped>\n",
       "    .dataframe tbody tr th:only-of-type {\n",
       "        vertical-align: middle;\n",
       "    }\n",
       "\n",
       "    .dataframe tbody tr th {\n",
       "        vertical-align: top;\n",
       "    }\n",
       "\n",
       "    .dataframe thead th {\n",
       "        text-align: right;\n",
       "    }\n",
       "</style>\n",
       "<table border=\"1\" class=\"dataframe\">\n",
       "  <thead>\n",
       "    <tr style=\"text-align: right;\">\n",
       "      <th></th>\n",
       "      <th>home_factor</th>\n",
       "      <th>home_result_history_mean</th>\n",
       "      <th>draw_factor</th>\n",
       "      <th>home_history_mood_mean</th>\n",
       "      <th>away_result_history_mean</th>\n",
       "      <th>away_history_mood_mean</th>\n",
       "      <th>home_mood_diff</th>\n",
       "    </tr>\n",
       "  </thead>\n",
       "  <tbody>\n",
       "    <tr>\n",
       "      <th>home_factor</th>\n",
       "      <td>1.000000</td>\n",
       "      <td>0.003151</td>\n",
       "      <td>-0.460194</td>\n",
       "      <td>-0.000866</td>\n",
       "      <td>0.003426</td>\n",
       "      <td>-0.014336</td>\n",
       "      <td>0.010001</td>\n",
       "    </tr>\n",
       "    <tr>\n",
       "      <th>home_result_history_mean</th>\n",
       "      <td>0.003151</td>\n",
       "      <td>1.000000</td>\n",
       "      <td>-0.017398</td>\n",
       "      <td>0.649905</td>\n",
       "      <td>0.036975</td>\n",
       "      <td>0.059405</td>\n",
       "      <td>0.436569</td>\n",
       "    </tr>\n",
       "    <tr>\n",
       "      <th>draw_factor</th>\n",
       "      <td>-0.460194</td>\n",
       "      <td>-0.017398</td>\n",
       "      <td>1.000000</td>\n",
       "      <td>-0.002465</td>\n",
       "      <td>-0.006218</td>\n",
       "      <td>0.007112</td>\n",
       "      <td>-0.007102</td>\n",
       "    </tr>\n",
       "    <tr>\n",
       "      <th>home_history_mood_mean</th>\n",
       "      <td>-0.000866</td>\n",
       "      <td>0.649905</td>\n",
       "      <td>-0.002465</td>\n",
       "      <td>1.000000</td>\n",
       "      <td>0.061371</td>\n",
       "      <td>0.089234</td>\n",
       "      <td>0.673354</td>\n",
       "    </tr>\n",
       "    <tr>\n",
       "      <th>away_result_history_mean</th>\n",
       "      <td>0.003426</td>\n",
       "      <td>0.036975</td>\n",
       "      <td>-0.006218</td>\n",
       "      <td>0.061371</td>\n",
       "      <td>1.000000</td>\n",
       "      <td>0.645886</td>\n",
       "      <td>-0.434040</td>\n",
       "    </tr>\n",
       "    <tr>\n",
       "      <th>away_history_mood_mean</th>\n",
       "      <td>-0.014336</td>\n",
       "      <td>0.059405</td>\n",
       "      <td>0.007112</td>\n",
       "      <td>0.089234</td>\n",
       "      <td>0.645886</td>\n",
       "      <td>1.000000</td>\n",
       "      <td>-0.676285</td>\n",
       "    </tr>\n",
       "    <tr>\n",
       "      <th>home_mood_diff</th>\n",
       "      <td>0.010001</td>\n",
       "      <td>0.436569</td>\n",
       "      <td>-0.007102</td>\n",
       "      <td>0.673354</td>\n",
       "      <td>-0.434040</td>\n",
       "      <td>-0.676285</td>\n",
       "      <td>1.000000</td>\n",
       "    </tr>\n",
       "  </tbody>\n",
       "</table>\n",
       "</div>"
      ],
      "text/plain": [
       "                          home_factor  home_result_history_mean  draw_factor  \\\n",
       "home_factor                  1.000000                  0.003151    -0.460194   \n",
       "home_result_history_mean     0.003151                  1.000000    -0.017398   \n",
       "draw_factor                 -0.460194                 -0.017398     1.000000   \n",
       "home_history_mood_mean      -0.000866                  0.649905    -0.002465   \n",
       "away_result_history_mean     0.003426                  0.036975    -0.006218   \n",
       "away_history_mood_mean      -0.014336                  0.059405     0.007112   \n",
       "home_mood_diff               0.010001                  0.436569    -0.007102   \n",
       "\n",
       "                          home_history_mood_mean  away_result_history_mean  \\\n",
       "home_factor                            -0.000866                  0.003426   \n",
       "home_result_history_mean                0.649905                  0.036975   \n",
       "draw_factor                            -0.002465                 -0.006218   \n",
       "home_history_mood_mean                  1.000000                  0.061371   \n",
       "away_result_history_mean                0.061371                  1.000000   \n",
       "away_history_mood_mean                  0.089234                  0.645886   \n",
       "home_mood_diff                          0.673354                 -0.434040   \n",
       "\n",
       "                          away_history_mood_mean  home_mood_diff  \n",
       "home_factor                            -0.014336        0.010001  \n",
       "home_result_history_mean                0.059405        0.436569  \n",
       "draw_factor                             0.007112       -0.007102  \n",
       "home_history_mood_mean                  0.089234        0.673354  \n",
       "away_result_history_mean                0.645886       -0.434040  \n",
       "away_history_mood_mean                  1.000000       -0.676285  \n",
       "home_mood_diff                         -0.676285        1.000000  "
      ]
     },
     "execution_count": 14,
     "metadata": {},
     "output_type": "execute_result"
    }
   ],
   "source": [
    "clean_features = list(set(use_features) - set(vars_to_drop))\n",
    "clean_corr_df_pd = corr_df_pd[clean_features].loc[clean_features]\n",
    "clean_corr_df_pd"
   ]
  },
  {
   "cell_type": "code",
   "execution_count": 15,
   "id": "aca50933",
   "metadata": {},
   "outputs": [
    {
     "data": {
      "text/html": [
       "<div>\n",
       "<style scoped>\n",
       "    .dataframe tbody tr th:only-of-type {\n",
       "        vertical-align: middle;\n",
       "    }\n",
       "\n",
       "    .dataframe tbody tr th {\n",
       "        vertical-align: top;\n",
       "    }\n",
       "\n",
       "    .dataframe thead th {\n",
       "        text-align: right;\n",
       "    }\n",
       "</style>\n",
       "<table border=\"1\" class=\"dataframe\">\n",
       "  <thead>\n",
       "    <tr style=\"text-align: right;\">\n",
       "      <th></th>\n",
       "      <th>home_factor</th>\n",
       "      <th>home_result_history_mean</th>\n",
       "      <th>draw_factor</th>\n",
       "      <th>home_history_mood_mean</th>\n",
       "      <th>away_result_history_mean</th>\n",
       "      <th>away_history_mood_mean</th>\n",
       "      <th>home_mood_diff</th>\n",
       "    </tr>\n",
       "  </thead>\n",
       "  <tbody>\n",
       "    <tr>\n",
       "      <th>home_factor</th>\n",
       "      <td>NaN</td>\n",
       "      <td>0.003151</td>\n",
       "      <td>-0.460194</td>\n",
       "      <td>-0.000866</td>\n",
       "      <td>0.003426</td>\n",
       "      <td>-0.014336</td>\n",
       "      <td>0.010001</td>\n",
       "    </tr>\n",
       "    <tr>\n",
       "      <th>home_result_history_mean</th>\n",
       "      <td>NaN</td>\n",
       "      <td>NaN</td>\n",
       "      <td>-0.017398</td>\n",
       "      <td>0.649905</td>\n",
       "      <td>0.036975</td>\n",
       "      <td>0.059405</td>\n",
       "      <td>0.436569</td>\n",
       "    </tr>\n",
       "    <tr>\n",
       "      <th>draw_factor</th>\n",
       "      <td>NaN</td>\n",
       "      <td>NaN</td>\n",
       "      <td>NaN</td>\n",
       "      <td>-0.002465</td>\n",
       "      <td>-0.006218</td>\n",
       "      <td>0.007112</td>\n",
       "      <td>-0.007102</td>\n",
       "    </tr>\n",
       "    <tr>\n",
       "      <th>home_history_mood_mean</th>\n",
       "      <td>NaN</td>\n",
       "      <td>NaN</td>\n",
       "      <td>NaN</td>\n",
       "      <td>NaN</td>\n",
       "      <td>0.061371</td>\n",
       "      <td>0.089234</td>\n",
       "      <td>0.673354</td>\n",
       "    </tr>\n",
       "    <tr>\n",
       "      <th>away_result_history_mean</th>\n",
       "      <td>NaN</td>\n",
       "      <td>NaN</td>\n",
       "      <td>NaN</td>\n",
       "      <td>NaN</td>\n",
       "      <td>NaN</td>\n",
       "      <td>0.645886</td>\n",
       "      <td>-0.434040</td>\n",
       "    </tr>\n",
       "    <tr>\n",
       "      <th>away_history_mood_mean</th>\n",
       "      <td>NaN</td>\n",
       "      <td>NaN</td>\n",
       "      <td>NaN</td>\n",
       "      <td>NaN</td>\n",
       "      <td>NaN</td>\n",
       "      <td>NaN</td>\n",
       "      <td>-0.676285</td>\n",
       "    </tr>\n",
       "    <tr>\n",
       "      <th>home_mood_diff</th>\n",
       "      <td>NaN</td>\n",
       "      <td>NaN</td>\n",
       "      <td>NaN</td>\n",
       "      <td>NaN</td>\n",
       "      <td>NaN</td>\n",
       "      <td>NaN</td>\n",
       "      <td>NaN</td>\n",
       "    </tr>\n",
       "  </tbody>\n",
       "</table>\n",
       "</div>"
      ],
      "text/plain": [
       "                          home_factor  home_result_history_mean  draw_factor  \\\n",
       "home_factor                       NaN                  0.003151    -0.460194   \n",
       "home_result_history_mean          NaN                       NaN    -0.017398   \n",
       "draw_factor                       NaN                       NaN          NaN   \n",
       "home_history_mood_mean            NaN                       NaN          NaN   \n",
       "away_result_history_mean          NaN                       NaN          NaN   \n",
       "away_history_mood_mean            NaN                       NaN          NaN   \n",
       "home_mood_diff                    NaN                       NaN          NaN   \n",
       "\n",
       "                          home_history_mood_mean  away_result_history_mean  \\\n",
       "home_factor                            -0.000866                  0.003426   \n",
       "home_result_history_mean                0.649905                  0.036975   \n",
       "draw_factor                            -0.002465                 -0.006218   \n",
       "home_history_mood_mean                       NaN                  0.061371   \n",
       "away_result_history_mean                     NaN                       NaN   \n",
       "away_history_mood_mean                       NaN                       NaN   \n",
       "home_mood_diff                               NaN                       NaN   \n",
       "\n",
       "                          away_history_mood_mean  home_mood_diff  \n",
       "home_factor                            -0.014336        0.010001  \n",
       "home_result_history_mean                0.059405        0.436569  \n",
       "draw_factor                             0.007112       -0.007102  \n",
       "home_history_mood_mean                  0.089234        0.673354  \n",
       "away_result_history_mean                0.645886       -0.434040  \n",
       "away_history_mood_mean                       NaN       -0.676285  \n",
       "home_mood_diff                               NaN             NaN  "
      ]
     },
     "execution_count": 15,
     "metadata": {},
     "output_type": "execute_result"
    }
   ],
   "source": [
    "clean_corr_df_pd.where(np.triu(np.ones(clean_corr_df_pd.shape),k=1).astype(bool))"
   ]
  },
  {
   "cell_type": "code",
   "execution_count": 16,
   "id": "5668ffbc",
   "metadata": {},
   "outputs": [
    {
     "name": "stdout",
     "output_type": "stream",
     "text": [
      "ee2235a7-9d36-40d8-96d6-6d68019536b2\n"
     ]
    },
    {
     "data": {
      "text/plain": [
       "'ee2235a7-9d36-40d8-96d6-6d68019536b2'"
      ]
     },
     "execution_count": 16,
     "metadata": {},
     "output_type": "execute_result"
    }
   ],
   "source": [
    "dao_ml.save_feature_selection(anova_df=result_df_pd, id_data=id_data, mutual_corr_max_treshold=MAX_THRESHOLD, cols_to_remove=vars_to_drop)"
   ]
  }
 ],
 "metadata": {
  "kernelspec": {
   "display_name": "Python 3",
   "language": "python",
   "name": "python3"
  },
  "language_info": {
   "codemirror_mode": {
    "name": "ipython",
    "version": 3
   },
   "file_extension": ".py",
   "mimetype": "text/x-python",
   "name": "python",
   "nbconvert_exporter": "python",
   "pygments_lexer": "ipython3",
   "version": "3.8.8"
  }
 },
 "nbformat": 4,
 "nbformat_minor": 5
}
