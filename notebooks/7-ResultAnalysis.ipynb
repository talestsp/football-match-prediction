{
 "cells": [
  {
   "cell_type": "markdown",
   "id": "ed008c12",
   "metadata": {},
   "source": [
    "# ResultAnalysis\n",
    "Notebook to check Grid Search results"
   ]
  },
  {
   "cell_type": "code",
   "execution_count": 1,
   "id": "88e9bb5d",
   "metadata": {},
   "outputs": [
    {
     "data": {
      "text/plain": [
       "'/Users/tales.pimentel/ds/kaggle/football-match-prediction'"
      ]
     },
     "execution_count": 1,
     "metadata": {},
     "output_type": "execute_result"
    }
   ],
   "source": [
    "import os\n",
    "from working_dir import set_wd\n",
    "set_wd()\n",
    "os.getcwd()"
   ]
  },
  {
   "cell_type": "code",
   "execution_count": 2,
   "id": "770675a1",
   "metadata": {},
   "outputs": [],
   "source": [
    "import pandas as pd\n",
    "import matplotlib.pyplot as plt\n",
    "from src.dao import dao_ml\n",
    "from src.utils import dflib, stats, pretties, plot, plot_domain, palette"
   ]
  },
  {
   "cell_type": "code",
   "execution_count": 3,
   "id": "782f8572",
   "metadata": {},
   "outputs": [],
   "source": [
    "pretties.max_data_frame_columns()"
   ]
  },
  {
   "cell_type": "markdown",
   "id": "8e0db4ff",
   "metadata": {},
   "source": [
    "# Loading Results"
   ]
  },
  {
   "cell_type": "code",
   "execution_count": 4,
   "id": "f3b83293",
   "metadata": {},
   "outputs": [
    {
     "name": "stdout",
     "output_type": "stream",
     "text": [
      "6\n"
     ]
    }
   ],
   "source": [
    "all_results = dao_ml.load_all_modeling()\n",
    "print(len(all_results))\n",
    "\n",
    "all_results_df = pd.DataFrame(all_results)\n",
    "all_results_df[\"undersampling\"] = all_results_df[\"pipeline_train_stages\"].apply(lambda ppl : \"UndersamplingTransformer\" in ppl)\n",
    "\n",
    "all_results_df[\"undersampling\"] = all_results_df[\"undersampling\"].replace({True: \"balanced\", False: \"no\"})\n",
    "\n",
    "all_results_df[\"features\"] = all_results_df[\"feature_importances\"].apply(lambda fi : list(fi[\"importance\"].keys()))\n",
    "all_results_df[\"n_features\"] = all_results_df[\"features\"].apply(len)"
   ]
  },
  {
   "cell_type": "code",
   "execution_count": 5,
   "id": "14aec590",
   "metadata": {},
   "outputs": [
    {
     "data": {
      "text/html": [
       "<div>\n",
       "<style scoped>\n",
       "    .dataframe tbody tr th:only-of-type {\n",
       "        vertical-align: middle;\n",
       "    }\n",
       "\n",
       "    .dataframe tbody tr th {\n",
       "        vertical-align: top;\n",
       "    }\n",
       "\n",
       "    .dataframe thead th {\n",
       "        text-align: right;\n",
       "    }\n",
       "</style>\n",
       "<table border=\"1\" class=\"dataframe\">\n",
       "  <thead>\n",
       "    <tr style=\"text-align: right;\">\n",
       "      <th></th>\n",
       "      <th>id_modeling</th>\n",
       "      <th>datetime</th>\n",
       "      <th>clf_name</th>\n",
       "      <th>undersampling</th>\n",
       "      <th>n_features</th>\n",
       "      <th>best_score_cv_train</th>\n",
       "      <th>best_score_cv</th>\n",
       "      <th>clf_params</th>\n",
       "      <th>features</th>\n",
       "      <th>id_data</th>\n",
       "    </tr>\n",
       "  </thead>\n",
       "  <tbody>\n",
       "    <tr>\n",
       "      <th>3</th>\n",
       "      <td>b261bebf-e056-4c9f-b40e-b5b019613c2b</td>\n",
       "      <td>2022-05-27 05:02:13</td>\n",
       "      <td>RandomForestClassificationModel</td>\n",
       "      <td>balanced</td>\n",
       "      <td>7</td>\n",
       "      <td>0.999287</td>\n",
       "      <td>1.000171</td>\n",
       "      <td>{'numTrees': 60, 'maxDepth': 10, 'subsamplingR...</td>\n",
       "      <td>[home_mood_diff, draw_factor, away_history_moo...</td>\n",
       "      <td>04a4d619-00cc-4484-a724-e27e2161c91d</td>\n",
       "    </tr>\n",
       "    <tr>\n",
       "      <th>4</th>\n",
       "      <td>39f825ce-4edc-4227-b69e-f353357b87d1</td>\n",
       "      <td>2022-05-27 17:27:36</td>\n",
       "      <td>LGBMClassifier</td>\n",
       "      <td>no</td>\n",
       "      <td>7</td>\n",
       "      <td>0.997671</td>\n",
       "      <td>1.010027</td>\n",
       "      <td>{'colsample_bytree': 0.7, 'learning_rate': 0.1...</td>\n",
       "      <td>[home_mood_diff, home_factor, draw_factor, awa...</td>\n",
       "      <td>04a4d619-00cc-4484-a724-e27e2161c91d</td>\n",
       "    </tr>\n",
       "    <tr>\n",
       "      <th>5</th>\n",
       "      <td>7fb951d1-4a95-4210-9d2a-1b34674ff279</td>\n",
       "      <td>2022-05-27 10:42:58</td>\n",
       "      <td>XGBClassifier</td>\n",
       "      <td>no</td>\n",
       "      <td>7</td>\n",
       "      <td>1.005677</td>\n",
       "      <td>1.010452</td>\n",
       "      <td>{'colsample_bytree': 0.6, 'max_depth': 2, 'n_e...</td>\n",
       "      <td>[home_mood_diff, home_history_mood_mean, draw_...</td>\n",
       "      <td>04a4d619-00cc-4484-a724-e27e2161c91d</td>\n",
       "    </tr>\n",
       "    <tr>\n",
       "      <th>0</th>\n",
       "      <td>62e46782-8f32-488e-9fec-19923681d8ea</td>\n",
       "      <td>2022-05-26 21:04:41</td>\n",
       "      <td>RandomForestClassificationModel</td>\n",
       "      <td>no</td>\n",
       "      <td>7</td>\n",
       "      <td>0.981549</td>\n",
       "      <td>1.012594</td>\n",
       "      <td>{'numTrees': 60, 'maxDepth': 10, 'subsamplingR...</td>\n",
       "      <td>[home_mood_diff, home_history_mood_mean, away_...</td>\n",
       "      <td>04a4d619-00cc-4484-a724-e27e2161c91d</td>\n",
       "    </tr>\n",
       "    <tr>\n",
       "      <th>1</th>\n",
       "      <td>a7c53082-93af-4eb7-ab90-f942c94c9dbf</td>\n",
       "      <td>2022-05-27 18:05:41</td>\n",
       "      <td>LGBMClassifier</td>\n",
       "      <td>balanced</td>\n",
       "      <td>7</td>\n",
       "      <td>1.029246</td>\n",
       "      <td>1.039577</td>\n",
       "      <td>{'colsample_bytree': 0.5, 'learning_rate': 0.2...</td>\n",
       "      <td>[home_mood_diff, home_factor, draw_factor, hom...</td>\n",
       "      <td>04a4d619-00cc-4484-a724-e27e2161c91d</td>\n",
       "    </tr>\n",
       "    <tr>\n",
       "      <th>2</th>\n",
       "      <td>dfa5e718-a52e-442d-8c2a-7839f701305d</td>\n",
       "      <td>2022-05-27 10:09:20</td>\n",
       "      <td>XGBClassifier</td>\n",
       "      <td>balanced</td>\n",
       "      <td>7</td>\n",
       "      <td>1.033616</td>\n",
       "      <td>1.039655</td>\n",
       "      <td>{'colsample_bytree': 0.6, 'max_depth': 2, 'n_e...</td>\n",
       "      <td>[home_mood_diff, draw_factor, away_result_hist...</td>\n",
       "      <td>04a4d619-00cc-4484-a724-e27e2161c91d</td>\n",
       "    </tr>\n",
       "  </tbody>\n",
       "</table>\n",
       "</div>"
      ],
      "text/plain": [
       "                            id_modeling             datetime  \\\n",
       "3  b261bebf-e056-4c9f-b40e-b5b019613c2b  2022-05-27 05:02:13   \n",
       "4  39f825ce-4edc-4227-b69e-f353357b87d1  2022-05-27 17:27:36   \n",
       "5  7fb951d1-4a95-4210-9d2a-1b34674ff279  2022-05-27 10:42:58   \n",
       "0  62e46782-8f32-488e-9fec-19923681d8ea  2022-05-26 21:04:41   \n",
       "1  a7c53082-93af-4eb7-ab90-f942c94c9dbf  2022-05-27 18:05:41   \n",
       "2  dfa5e718-a52e-442d-8c2a-7839f701305d  2022-05-27 10:09:20   \n",
       "\n",
       "                          clf_name undersampling  n_features  \\\n",
       "3  RandomForestClassificationModel      balanced           7   \n",
       "4                   LGBMClassifier            no           7   \n",
       "5                    XGBClassifier            no           7   \n",
       "0  RandomForestClassificationModel            no           7   \n",
       "1                   LGBMClassifier      balanced           7   \n",
       "2                    XGBClassifier      balanced           7   \n",
       "\n",
       "   best_score_cv_train  best_score_cv  \\\n",
       "3             0.999287       1.000171   \n",
       "4             0.997671       1.010027   \n",
       "5             1.005677       1.010452   \n",
       "0             0.981549       1.012594   \n",
       "1             1.029246       1.039577   \n",
       "2             1.033616       1.039655   \n",
       "\n",
       "                                          clf_params  \\\n",
       "3  {'numTrees': 60, 'maxDepth': 10, 'subsamplingR...   \n",
       "4  {'colsample_bytree': 0.7, 'learning_rate': 0.1...   \n",
       "5  {'colsample_bytree': 0.6, 'max_depth': 2, 'n_e...   \n",
       "0  {'numTrees': 60, 'maxDepth': 10, 'subsamplingR...   \n",
       "1  {'colsample_bytree': 0.5, 'learning_rate': 0.2...   \n",
       "2  {'colsample_bytree': 0.6, 'max_depth': 2, 'n_e...   \n",
       "\n",
       "                                            features  \\\n",
       "3  [home_mood_diff, draw_factor, away_history_moo...   \n",
       "4  [home_mood_diff, home_factor, draw_factor, awa...   \n",
       "5  [home_mood_diff, home_history_mood_mean, draw_...   \n",
       "0  [home_mood_diff, home_history_mood_mean, away_...   \n",
       "1  [home_mood_diff, home_factor, draw_factor, hom...   \n",
       "2  [home_mood_diff, draw_factor, away_result_hist...   \n",
       "\n",
       "                                id_data  \n",
       "3  04a4d619-00cc-4484-a724-e27e2161c91d  \n",
       "4  04a4d619-00cc-4484-a724-e27e2161c91d  \n",
       "5  04a4d619-00cc-4484-a724-e27e2161c91d  \n",
       "0  04a4d619-00cc-4484-a724-e27e2161c91d  \n",
       "1  04a4d619-00cc-4484-a724-e27e2161c91d  \n",
       "2  04a4d619-00cc-4484-a724-e27e2161c91d  "
      ]
     },
     "execution_count": 5,
     "metadata": {},
     "output_type": "execute_result"
    }
   ],
   "source": [
    "all_results_df[[\"id_modeling\", \"datetime\", \"clf_name\", \"undersampling\", \"n_features\",\n",
    "                 \"best_score_cv_train\", \"best_score_cv\", \"clf_params\", \"features\", \"id_data\"]].sort_values(\"best_score_cv\", ascending=True)"
   ]
  },
  {
   "cell_type": "markdown",
   "id": "52e21a47",
   "metadata": {},
   "source": [
    "# Select id_modeling"
   ]
  },
  {
   "cell_type": "code",
   "execution_count": 6,
   "id": "40e4fa1a",
   "metadata": {},
   "outputs": [],
   "source": [
    "load_ids_modeling = [\"62e46782-8f32-488e-9fec-19923681d8ea\",\n",
    "                     \"7fb951d1-4a95-4210-9d2a-1b34674ff279\", \n",
    "                     \"39f825ce-4edc-4227-b69e-f353357b87d1\"]\n",
    "\n",
    "rdf = pd.DataFrame()\n",
    "\n",
    "for id_modeling in load_ids_modeling:\n",
    "    results_temp = dao_ml.load_modeling(id_modeling)\n",
    "    \n",
    "    rdf_id = pd.DataFrame(results_temp[\"overfitting_analysis_df\"])\n",
    "    rdf_id[\"clf_name\"] = results_temp[\"clf_name\"]\n",
    "    \n",
    "    rdf = rdf.append(rdf_id)"
   ]
  },
  {
   "cell_type": "code",
   "execution_count": 7,
   "id": "648c6371",
   "metadata": {
    "scrolled": false
   },
   "outputs": [
    {
     "data": {
      "text/html": [
       "<div>\n",
       "<style scoped>\n",
       "    .dataframe tbody tr th:only-of-type {\n",
       "        vertical-align: middle;\n",
       "    }\n",
       "\n",
       "    .dataframe tbody tr th {\n",
       "        vertical-align: top;\n",
       "    }\n",
       "\n",
       "    .dataframe thead th {\n",
       "        text-align: right;\n",
       "    }\n",
       "</style>\n",
       "<table border=\"1\" class=\"dataframe\">\n",
       "  <thead>\n",
       "    <tr style=\"text-align: right;\">\n",
       "      <th></th>\n",
       "      <th>log_loss_train</th>\n",
       "      <th>log_loss_cv</th>\n",
       "      <th>numTrees</th>\n",
       "      <th>maxDepth</th>\n",
       "      <th>subsamplingRate</th>\n",
       "      <th>clf_name</th>\n",
       "      <th>colsample_bytree</th>\n",
       "      <th>max_depth</th>\n",
       "      <th>n_estimators</th>\n",
       "      <th>subsample</th>\n",
       "      <th>std_train_log_loss</th>\n",
       "      <th>std_cv_log_loss</th>\n",
       "      <th>learning_rate</th>\n",
       "      <th>num_leaves</th>\n",
       "    </tr>\n",
       "  </thead>\n",
       "  <tbody>\n",
       "    <tr>\n",
       "      <th>505</th>\n",
       "      <td>0.997671</td>\n",
       "      <td>1.010027</td>\n",
       "      <td>NaN</td>\n",
       "      <td>NaN</td>\n",
       "      <td>NaN</td>\n",
       "      <td>LGBMClassifier</td>\n",
       "      <td>0.7</td>\n",
       "      <td>5.0</td>\n",
       "      <td>60.0</td>\n",
       "      <td>0.6</td>\n",
       "      <td>0.000418</td>\n",
       "      <td>0.003943</td>\n",
       "      <td>0.1</td>\n",
       "      <td>20.0</td>\n",
       "    </tr>\n",
       "    <tr>\n",
       "      <th>504</th>\n",
       "      <td>0.997671</td>\n",
       "      <td>1.010027</td>\n",
       "      <td>NaN</td>\n",
       "      <td>NaN</td>\n",
       "      <td>NaN</td>\n",
       "      <td>LGBMClassifier</td>\n",
       "      <td>0.7</td>\n",
       "      <td>5.0</td>\n",
       "      <td>60.0</td>\n",
       "      <td>0.5</td>\n",
       "      <td>0.000418</td>\n",
       "      <td>0.003943</td>\n",
       "      <td>0.1</td>\n",
       "      <td>20.0</td>\n",
       "    </tr>\n",
       "    <tr>\n",
       "      <th>506</th>\n",
       "      <td>0.997671</td>\n",
       "      <td>1.010027</td>\n",
       "      <td>NaN</td>\n",
       "      <td>NaN</td>\n",
       "      <td>NaN</td>\n",
       "      <td>LGBMClassifier</td>\n",
       "      <td>0.7</td>\n",
       "      <td>5.0</td>\n",
       "      <td>60.0</td>\n",
       "      <td>0.7</td>\n",
       "      <td>0.000418</td>\n",
       "      <td>0.003943</td>\n",
       "      <td>0.1</td>\n",
       "      <td>20.0</td>\n",
       "    </tr>\n",
       "    <tr>\n",
       "      <th>531</th>\n",
       "      <td>0.996396</td>\n",
       "      <td>1.010056</td>\n",
       "      <td>NaN</td>\n",
       "      <td>NaN</td>\n",
       "      <td>NaN</td>\n",
       "      <td>LGBMClassifier</td>\n",
       "      <td>0.7</td>\n",
       "      <td>-1.0</td>\n",
       "      <td>60.0</td>\n",
       "      <td>0.5</td>\n",
       "      <td>0.000439</td>\n",
       "      <td>0.003733</td>\n",
       "      <td>0.1</td>\n",
       "      <td>20.0</td>\n",
       "    </tr>\n",
       "    <tr>\n",
       "      <th>533</th>\n",
       "      <td>0.996396</td>\n",
       "      <td>1.010056</td>\n",
       "      <td>NaN</td>\n",
       "      <td>NaN</td>\n",
       "      <td>NaN</td>\n",
       "      <td>LGBMClassifier</td>\n",
       "      <td>0.7</td>\n",
       "      <td>-1.0</td>\n",
       "      <td>60.0</td>\n",
       "      <td>0.7</td>\n",
       "      <td>0.000439</td>\n",
       "      <td>0.003733</td>\n",
       "      <td>0.1</td>\n",
       "      <td>20.0</td>\n",
       "    </tr>\n",
       "  </tbody>\n",
       "</table>\n",
       "</div>"
      ],
      "text/plain": [
       "     log_loss_train  log_loss_cv  numTrees  maxDepth  subsamplingRate  \\\n",
       "505        0.997671     1.010027       NaN       NaN              NaN   \n",
       "504        0.997671     1.010027       NaN       NaN              NaN   \n",
       "506        0.997671     1.010027       NaN       NaN              NaN   \n",
       "531        0.996396     1.010056       NaN       NaN              NaN   \n",
       "533        0.996396     1.010056       NaN       NaN              NaN   \n",
       "\n",
       "           clf_name  colsample_bytree  max_depth  n_estimators  subsample  \\\n",
       "505  LGBMClassifier               0.7        5.0          60.0        0.6   \n",
       "504  LGBMClassifier               0.7        5.0          60.0        0.5   \n",
       "506  LGBMClassifier               0.7        5.0          60.0        0.7   \n",
       "531  LGBMClassifier               0.7       -1.0          60.0        0.5   \n",
       "533  LGBMClassifier               0.7       -1.0          60.0        0.7   \n",
       "\n",
       "     std_train_log_loss  std_cv_log_loss  learning_rate  num_leaves  \n",
       "505            0.000418         0.003943            0.1        20.0  \n",
       "504            0.000418         0.003943            0.1        20.0  \n",
       "506            0.000418         0.003943            0.1        20.0  \n",
       "531            0.000439         0.003733            0.1        20.0  \n",
       "533            0.000439         0.003733            0.1        20.0  "
      ]
     },
     "execution_count": 7,
     "metadata": {},
     "output_type": "execute_result"
    }
   ],
   "source": [
    "rdf = rdf.sort_values(\"log_loss_cv\")\n",
    "rdf.head(5)"
   ]
  },
  {
   "cell_type": "code",
   "execution_count": 8,
   "id": "5624df36",
   "metadata": {},
   "outputs": [],
   "source": [
    "def overfitting_analysis_num(metrics_df, param_name, metric_colname):\n",
    "    metric_colname_train = metric_colname + \"_train\"\n",
    "    metric_colname_valid = metric_colname + \"_cv\"\n",
    "    \n",
    "    of_data = metrics_df.groupby(param_name)[[metric_colname_train, metric_colname_valid]].mean().reset_index()\n",
    "\n",
    "    display(of_data)\n",
    "    \n",
    "    title = f\"{metric_colname} mean values for {param_name}\"\n",
    "    \n",
    "    plt.figure(figsize=(8,5))\n",
    "    plt.scatter(of_data[param_name], of_data[metric_colname_train], label=\"train\", s=130, alpha=0.6)\n",
    "    plt.scatter(of_data[param_name], of_data[metric_colname_valid], label=\"cv\", s=130, alpha=0.6)\n",
    "    plt.title(label=title)\n",
    "    plt.xlabel(param_name)\n",
    "    plt.ylabel(metric_colname)\n",
    "    plt.legend()\n",
    "    plt.show()"
   ]
  },
  {
   "cell_type": "code",
   "execution_count": 9,
   "id": "22bdfb08",
   "metadata": {},
   "outputs": [
    {
     "data": {
      "text/markdown": [
       "# <font color=blue>RandomForestClassificationModel</font>"
      ],
      "text/plain": [
       "<IPython.core.display.Markdown object>"
      ]
     },
     "metadata": {},
     "output_type": "display_data"
    },
    {
     "data": {
      "text/markdown": [
       "#### <font color=black>subsamplingRate</font>"
      ],
      "text/plain": [
       "<IPython.core.display.Markdown object>"
      ]
     },
     "metadata": {},
     "output_type": "display_data"
    },
    {
     "data": {
      "text/html": [
       "<div>\n",
       "<style scoped>\n",
       "    .dataframe tbody tr th:only-of-type {\n",
       "        vertical-align: middle;\n",
       "    }\n",
       "\n",
       "    .dataframe tbody tr th {\n",
       "        vertical-align: top;\n",
       "    }\n",
       "\n",
       "    .dataframe thead th {\n",
       "        text-align: right;\n",
       "    }\n",
       "</style>\n",
       "<table border=\"1\" class=\"dataframe\">\n",
       "  <thead>\n",
       "    <tr style=\"text-align: right;\">\n",
       "      <th></th>\n",
       "      <th>subsamplingRate</th>\n",
       "      <th>log_loss_train</th>\n",
       "      <th>log_loss_cv</th>\n",
       "    </tr>\n",
       "  </thead>\n",
       "  <tbody>\n",
       "    <tr>\n",
       "      <th>0</th>\n",
       "      <td>0.5</td>\n",
       "      <td>1.007691</td>\n",
       "      <td>1.018678</td>\n",
       "    </tr>\n",
       "    <tr>\n",
       "      <th>1</th>\n",
       "      <td>0.6</td>\n",
       "      <td>1.007674</td>\n",
       "      <td>1.018816</td>\n",
       "    </tr>\n",
       "    <tr>\n",
       "      <th>2</th>\n",
       "      <td>0.7</td>\n",
       "      <td>1.007635</td>\n",
       "      <td>1.018865</td>\n",
       "    </tr>\n",
       "  </tbody>\n",
       "</table>\n",
       "</div>"
      ],
      "text/plain": [
       "   subsamplingRate  log_loss_train  log_loss_cv\n",
       "0              0.5        1.007691     1.018678\n",
       "1              0.6        1.007674     1.018816\n",
       "2              0.7        1.007635     1.018865"
      ]
     },
     "metadata": {},
     "output_type": "display_data"
    },
    {
     "data": {
      "image/png": "[encoded data removed]",
      "text/plain": [
       "<Figure size 576x360 with 1 Axes>"
      ]
     },
     "metadata": {
      "needs_background": "light"
     },
     "output_type": "display_data"
    },
    {
     "data": {
      "text/markdown": [
       "#### <font color=black>maxDepth</font>"
      ],
      "text/plain": [
       "<IPython.core.display.Markdown object>"
      ]
     },
     "metadata": {},
     "output_type": "display_data"
    },
    {
     "data": {
      "text/html": [
       "<div>\n",
       "<style scoped>\n",
       "    .dataframe tbody tr th:only-of-type {\n",
       "        vertical-align: middle;\n",
       "    }\n",
       "\n",
       "    .dataframe tbody tr th {\n",
       "        vertical-align: top;\n",
       "    }\n",
       "\n",
       "    .dataframe thead th {\n",
       "        text-align: right;\n",
       "    }\n",
       "</style>\n",
       "<table border=\"1\" class=\"dataframe\">\n",
       "  <thead>\n",
       "    <tr style=\"text-align: right;\">\n",
       "      <th></th>\n",
       "      <th>maxDepth</th>\n",
       "      <th>log_loss_train</th>\n",
       "      <th>log_loss_cv</th>\n",
       "    </tr>\n",
       "  </thead>\n",
       "  <tbody>\n",
       "    <tr>\n",
       "      <th>0</th>\n",
       "      <td>4.0</td>\n",
       "      <td>1.028799</td>\n",
       "      <td>1.029445</td>\n",
       "    </tr>\n",
       "    <tr>\n",
       "      <th>1</th>\n",
       "      <td>6.0</td>\n",
       "      <td>1.016651</td>\n",
       "      <td>1.018983</td>\n",
       "    </tr>\n",
       "    <tr>\n",
       "      <th>2</th>\n",
       "      <td>8.0</td>\n",
       "      <td>1.003987</td>\n",
       "      <td>1.013795</td>\n",
       "    </tr>\n",
       "    <tr>\n",
       "      <th>3</th>\n",
       "      <td>10.0</td>\n",
       "      <td>0.981230</td>\n",
       "      <td>1.012922</td>\n",
       "    </tr>\n",
       "  </tbody>\n",
       "</table>\n",
       "</div>"
      ],
      "text/plain": [
       "   maxDepth  log_loss_train  log_loss_cv\n",
       "0       4.0        1.028799     1.029445\n",
       "1       6.0        1.016651     1.018983\n",
       "2       8.0        1.003987     1.013795\n",
       "3      10.0        0.981230     1.012922"
      ]
     },
     "metadata": {},
     "output_type": "display_data"
    },
    {
     "data": {
      "image/png": "[encoded data removed]",
      "text/plain": [
       "<Figure size 576x360 with 1 Axes>"
      ]
     },
     "metadata": {
      "needs_background": "light"
     },
     "output_type": "display_data"
    },
    {
     "data": {
      "text/markdown": [
       "#### <font color=black>numTrees</font>"
      ],
      "text/plain": [
       "<IPython.core.display.Markdown object>"
      ]
     },
     "metadata": {},
     "output_type": "display_data"
    },
    {
     "data": {
      "text/html": [
       "<div>\n",
       "<style scoped>\n",
       "    .dataframe tbody tr th:only-of-type {\n",
       "        vertical-align: middle;\n",
       "    }\n",
       "\n",
       "    .dataframe tbody tr th {\n",
       "        vertical-align: top;\n",
       "    }\n",
       "\n",
       "    .dataframe thead th {\n",
       "        text-align: right;\n",
       "    }\n",
       "</style>\n",
       "<table border=\"1\" class=\"dataframe\">\n",
       "  <thead>\n",
       "    <tr style=\"text-align: right;\">\n",
       "      <th></th>\n",
       "      <th>numTrees</th>\n",
       "      <th>log_loss_train</th>\n",
       "      <th>log_loss_cv</th>\n",
       "    </tr>\n",
       "  </thead>\n",
       "  <tbody>\n",
       "    <tr>\n",
       "      <th>0</th>\n",
       "      <td>40.0</td>\n",
       "      <td>1.007849</td>\n",
       "      <td>1.018986</td>\n",
       "    </tr>\n",
       "    <tr>\n",
       "      <th>1</th>\n",
       "      <td>60.0</td>\n",
       "      <td>1.007484</td>\n",
       "      <td>1.018586</td>\n",
       "    </tr>\n",
       "  </tbody>\n",
       "</table>\n",
       "</div>"
      ],
      "text/plain": [
       "   numTrees  log_loss_train  log_loss_cv\n",
       "0      40.0        1.007849     1.018986\n",
       "1      60.0        1.007484     1.018586"
      ]
     },
     "metadata": {},
     "output_type": "display_data"
    },
    {
     "data": {
      "image/png": "[encoded data removed]",
      "text/plain": [
       "<Figure size 576x360 with 1 Axes>"
      ]
     },
     "metadata": {
      "needs_background": "light"
     },
     "output_type": "display_data"
    }
   ],
   "source": [
    "pretties.md(\"RandomForestClassificationModel\", size=\"#\", color=\"blue\")\n",
    "rfc_df = rdf[rdf[\"clf_name\"] == \"RandomForestClassificationModel\"]\n",
    "\n",
    "for param_name in [\"subsamplingRate\", \"maxDepth\", \"numTrees\"]:\n",
    "    pretties.md(param_name, size=\"####\")\n",
    "    overfitting_analysis_num(metrics_df=rfc_df, \n",
    "                             param_name=param_name, \n",
    "                             metric_colname=\"log_loss\")"
   ]
  },
  {
   "cell_type": "code",
   "execution_count": 10,
   "id": "70fd0934",
   "metadata": {
    "scrolled": false
   },
   "outputs": [
    {
     "data": {
      "text/markdown": [
       "# <font color=blue>XGBClassifier</font>"
      ],
      "text/plain": [
       "<IPython.core.display.Markdown object>"
      ]
     },
     "metadata": {},
     "output_type": "display_data"
    },
    {
     "data": {
      "text/markdown": [
       "#### <font color=black>colsample_bytree</font>"
      ],
      "text/plain": [
       "<IPython.core.display.Markdown object>"
      ]
     },
     "metadata": {},
     "output_type": "display_data"
    },
    {
     "data": {
      "text/html": [
       "<div>\n",
       "<style scoped>\n",
       "    .dataframe tbody tr th:only-of-type {\n",
       "        vertical-align: middle;\n",
       "    }\n",
       "\n",
       "    .dataframe tbody tr th {\n",
       "        vertical-align: top;\n",
       "    }\n",
       "\n",
       "    .dataframe thead th {\n",
       "        text-align: right;\n",
       "    }\n",
       "</style>\n",
       "<table border=\"1\" class=\"dataframe\">\n",
       "  <thead>\n",
       "    <tr style=\"text-align: right;\">\n",
       "      <th></th>\n",
       "      <th>colsample_bytree</th>\n",
       "      <th>log_loss_train</th>\n",
       "      <th>log_loss_cv</th>\n",
       "    </tr>\n",
       "  </thead>\n",
       "  <tbody>\n",
       "    <tr>\n",
       "      <th>0</th>\n",
       "      <td>0.5</td>\n",
       "      <td>0.999841</td>\n",
       "      <td>1.013090</td>\n",
       "    </tr>\n",
       "    <tr>\n",
       "      <th>1</th>\n",
       "      <td>0.6</td>\n",
       "      <td>0.998786</td>\n",
       "      <td>1.012899</td>\n",
       "    </tr>\n",
       "    <tr>\n",
       "      <th>2</th>\n",
       "      <td>0.7</td>\n",
       "      <td>0.998786</td>\n",
       "      <td>1.012899</td>\n",
       "    </tr>\n",
       "  </tbody>\n",
       "</table>\n",
       "</div>"
      ],
      "text/plain": [
       "   colsample_bytree  log_loss_train  log_loss_cv\n",
       "0               0.5        0.999841     1.013090\n",
       "1               0.6        0.998786     1.012899\n",
       "2               0.7        0.998786     1.012899"
      ]
     },
     "metadata": {},
     "output_type": "display_data"
    },
    {
     "data": {
      "image/png": "[encoded data removed]",
      "text/plain": [
       "<Figure size 576x360 with 1 Axes>"
      ]
     },
     "metadata": {
      "needs_background": "light"
     },
     "output_type": "display_data"
    },
    {
     "data": {
      "text/markdown": [
       "#### <font color=black>max_depth</font>"
      ],
      "text/plain": [
       "<IPython.core.display.Markdown object>"
      ]
     },
     "metadata": {},
     "output_type": "display_data"
    },
    {
     "data": {
      "text/html": [
       "<div>\n",
       "<style scoped>\n",
       "    .dataframe tbody tr th:only-of-type {\n",
       "        vertical-align: middle;\n",
       "    }\n",
       "\n",
       "    .dataframe tbody tr th {\n",
       "        vertical-align: top;\n",
       "    }\n",
       "\n",
       "    .dataframe thead th {\n",
       "        text-align: right;\n",
       "    }\n",
       "</style>\n",
       "<table border=\"1\" class=\"dataframe\">\n",
       "  <thead>\n",
       "    <tr style=\"text-align: right;\">\n",
       "      <th></th>\n",
       "      <th>max_depth</th>\n",
       "      <th>log_loss_train</th>\n",
       "      <th>log_loss_cv</th>\n",
       "    </tr>\n",
       "  </thead>\n",
       "  <tbody>\n",
       "    <tr>\n",
       "      <th>0</th>\n",
       "      <td>1.0</td>\n",
       "      <td>1.013397</td>\n",
       "      <td>1.015305</td>\n",
       "    </tr>\n",
       "    <tr>\n",
       "      <th>1</th>\n",
       "      <td>2.0</td>\n",
       "      <td>1.008115</td>\n",
       "      <td>1.011750</td>\n",
       "    </tr>\n",
       "    <tr>\n",
       "      <th>2</th>\n",
       "      <td>4.0</td>\n",
       "      <td>0.998184</td>\n",
       "      <td>1.011116</td>\n",
       "    </tr>\n",
       "    <tr>\n",
       "      <th>3</th>\n",
       "      <td>6.0</td>\n",
       "      <td>0.976854</td>\n",
       "      <td>1.013680</td>\n",
       "    </tr>\n",
       "  </tbody>\n",
       "</table>\n",
       "</div>"
      ],
      "text/plain": [
       "   max_depth  log_loss_train  log_loss_cv\n",
       "0        1.0        1.013397     1.015305\n",
       "1        2.0        1.008115     1.011750\n",
       "2        4.0        0.998184     1.011116\n",
       "3        6.0        0.976854     1.013680"
      ]
     },
     "metadata": {},
     "output_type": "display_data"
    },
    {
     "data": {
      "image/png": "[encoded data removed]",
      "text/plain": [
       "<Figure size 576x360 with 1 Axes>"
      ]
     },
     "metadata": {
      "needs_background": "light"
     },
     "output_type": "display_data"
    },
    {
     "data": {
      "text/markdown": [
       "#### <font color=black>n_estimators</font>"
      ],
      "text/plain": [
       "<IPython.core.display.Markdown object>"
      ]
     },
     "metadata": {},
     "output_type": "display_data"
    },
    {
     "data": {
      "text/html": [
       "<div>\n",
       "<style scoped>\n",
       "    .dataframe tbody tr th:only-of-type {\n",
       "        vertical-align: middle;\n",
       "    }\n",
       "\n",
       "    .dataframe tbody tr th {\n",
       "        vertical-align: top;\n",
       "    }\n",
       "\n",
       "    .dataframe thead th {\n",
       "        text-align: right;\n",
       "    }\n",
       "</style>\n",
       "<table border=\"1\" class=\"dataframe\">\n",
       "  <thead>\n",
       "    <tr style=\"text-align: right;\">\n",
       "      <th></th>\n",
       "      <th>n_estimators</th>\n",
       "      <th>log_loss_train</th>\n",
       "      <th>log_loss_cv</th>\n",
       "    </tr>\n",
       "  </thead>\n",
       "  <tbody>\n",
       "    <tr>\n",
       "      <th>0</th>\n",
       "      <td>20.0</td>\n",
       "      <td>1.005530</td>\n",
       "      <td>1.013944</td>\n",
       "    </tr>\n",
       "    <tr>\n",
       "      <th>1</th>\n",
       "      <td>40.0</td>\n",
       "      <td>0.998418</td>\n",
       "      <td>1.012465</td>\n",
       "    </tr>\n",
       "    <tr>\n",
       "      <th>2</th>\n",
       "      <td>60.0</td>\n",
       "      <td>0.993466</td>\n",
       "      <td>1.012479</td>\n",
       "    </tr>\n",
       "  </tbody>\n",
       "</table>\n",
       "</div>"
      ],
      "text/plain": [
       "   n_estimators  log_loss_train  log_loss_cv\n",
       "0          20.0        1.005530     1.013944\n",
       "1          40.0        0.998418     1.012465\n",
       "2          60.0        0.993466     1.012479"
      ]
     },
     "metadata": {},
     "output_type": "display_data"
    },
    {
     "data": {
      "image/png": "[encoded data removed]",
      "text/plain": [
       "<Figure size 576x360 with 1 Axes>"
      ]
     },
     "metadata": {
      "needs_background": "light"
     },
     "output_type": "display_data"
    },
    {
     "data": {
      "text/markdown": [
       "#### <font color=black>subsample</font>"
      ],
      "text/plain": [
       "<IPython.core.display.Markdown object>"
      ]
     },
     "metadata": {},
     "output_type": "display_data"
    },
    {
     "data": {
      "text/html": [
       "<div>\n",
       "<style scoped>\n",
       "    .dataframe tbody tr th:only-of-type {\n",
       "        vertical-align: middle;\n",
       "    }\n",
       "\n",
       "    .dataframe tbody tr th {\n",
       "        vertical-align: top;\n",
       "    }\n",
       "\n",
       "    .dataframe thead th {\n",
       "        text-align: right;\n",
       "    }\n",
       "</style>\n",
       "<table border=\"1\" class=\"dataframe\">\n",
       "  <thead>\n",
       "    <tr style=\"text-align: right;\">\n",
       "      <th></th>\n",
       "      <th>subsample</th>\n",
       "      <th>log_loss_train</th>\n",
       "      <th>log_loss_cv</th>\n",
       "    </tr>\n",
       "  </thead>\n",
       "  <tbody>\n",
       "    <tr>\n",
       "      <th>0</th>\n",
       "      <td>0.6</td>\n",
       "      <td>0.999429</td>\n",
       "      <td>1.013107</td>\n",
       "    </tr>\n",
       "    <tr>\n",
       "      <th>1</th>\n",
       "      <td>0.7</td>\n",
       "      <td>0.999107</td>\n",
       "      <td>1.012861</td>\n",
       "    </tr>\n",
       "    <tr>\n",
       "      <th>2</th>\n",
       "      <td>0.8</td>\n",
       "      <td>0.998877</td>\n",
       "      <td>1.012920</td>\n",
       "    </tr>\n",
       "  </tbody>\n",
       "</table>\n",
       "</div>"
      ],
      "text/plain": [
       "   subsample  log_loss_train  log_loss_cv\n",
       "0        0.6        0.999429     1.013107\n",
       "1        0.7        0.999107     1.012861\n",
       "2        0.8        0.998877     1.012920"
      ]
     },
     "metadata": {},
     "output_type": "display_data"
    },
    {
     "data": {
      "image/png": "[encoded data removed]",
      "text/plain": [
       "<Figure size 576x360 with 1 Axes>"
      ]
     },
     "metadata": {
      "needs_background": "light"
     },
     "output_type": "display_data"
    }
   ],
   "source": [
    "pretties.md(\"XGBClassifier\", size=\"#\", color=\"blue\")\n",
    "xgbc_df = rdf[rdf[\"clf_name\"] == \"XGBClassifier\"]\n",
    "\n",
    "for param_name in [\"colsample_bytree\", \"max_depth\", \"n_estimators\", \"subsample\"]:\n",
    "    pretties.md(param_name, size=\"####\")\n",
    "    overfitting_analysis_num(metrics_df=xgbc_df, \n",
    "                             param_name=param_name, \n",
    "                             metric_colname=\"log_loss\")"
   ]
  },
  {
   "cell_type": "code",
   "execution_count": 11,
   "id": "7cba6862",
   "metadata": {
    "scrolled": false
   },
   "outputs": [
    {
     "data": {
      "text/markdown": [
       "# <font color=blue>LGBMClassifier</font>"
      ],
      "text/plain": [
       "<IPython.core.display.Markdown object>"
      ]
     },
     "metadata": {},
     "output_type": "display_data"
    },
    {
     "data": {
      "text/markdown": [
       "#### <font color=black>num_leaves</font>"
      ],
      "text/plain": [
       "<IPython.core.display.Markdown object>"
      ]
     },
     "metadata": {},
     "output_type": "display_data"
    },
    {
     "data": {
      "text/html": [
       "<div>\n",
       "<style scoped>\n",
       "    .dataframe tbody tr th:only-of-type {\n",
       "        vertical-align: middle;\n",
       "    }\n",
       "\n",
       "    .dataframe tbody tr th {\n",
       "        vertical-align: top;\n",
       "    }\n",
       "\n",
       "    .dataframe thead th {\n",
       "        text-align: right;\n",
       "    }\n",
       "</style>\n",
       "<table border=\"1\" class=\"dataframe\">\n",
       "  <thead>\n",
       "    <tr style=\"text-align: right;\">\n",
       "      <th></th>\n",
       "      <th>num_leaves</th>\n",
       "      <th>log_loss_train</th>\n",
       "      <th>log_loss_cv</th>\n",
       "    </tr>\n",
       "  </thead>\n",
       "  <tbody>\n",
       "    <tr>\n",
       "      <th>0</th>\n",
       "      <td>20.0</td>\n",
       "      <td>1.003520</td>\n",
       "      <td>1.013379</td>\n",
       "    </tr>\n",
       "    <tr>\n",
       "      <th>1</th>\n",
       "      <td>31.0</td>\n",
       "      <td>1.000596</td>\n",
       "      <td>1.013614</td>\n",
       "    </tr>\n",
       "    <tr>\n",
       "      <th>2</th>\n",
       "      <td>40.0</td>\n",
       "      <td>0.999059</td>\n",
       "      <td>1.013738</td>\n",
       "    </tr>\n",
       "  </tbody>\n",
       "</table>\n",
       "</div>"
      ],
      "text/plain": [
       "   num_leaves  log_loss_train  log_loss_cv\n",
       "0        20.0        1.003520     1.013379\n",
       "1        31.0        1.000596     1.013614\n",
       "2        40.0        0.999059     1.013738"
      ]
     },
     "metadata": {},
     "output_type": "display_data"
    },
    {
     "data": {
      "image/png": "[encoded data removed]",
      "text/plain": [
       "<Figure size 576x360 with 1 Axes>"
      ]
     },
     "metadata": {
      "needs_background": "light"
     },
     "output_type": "display_data"
    },
    {
     "data": {
      "text/markdown": [
       "#### <font color=black>max_depth</font>"
      ],
      "text/plain": [
       "<IPython.core.display.Markdown object>"
      ]
     },
     "metadata": {},
     "output_type": "display_data"
    },
    {
     "data": {
      "text/html": [
       "<div>\n",
       "<style scoped>\n",
       "    .dataframe tbody tr th:only-of-type {\n",
       "        vertical-align: middle;\n",
       "    }\n",
       "\n",
       "    .dataframe tbody tr th {\n",
       "        vertical-align: top;\n",
       "    }\n",
       "\n",
       "    .dataframe thead th {\n",
       "        text-align: right;\n",
       "    }\n",
       "</style>\n",
       "<table border=\"1\" class=\"dataframe\">\n",
       "  <thead>\n",
       "    <tr style=\"text-align: right;\">\n",
       "      <th></th>\n",
       "      <th>max_depth</th>\n",
       "      <th>log_loss_train</th>\n",
       "      <th>log_loss_cv</th>\n",
       "    </tr>\n",
       "  </thead>\n",
       "  <tbody>\n",
       "    <tr>\n",
       "      <th>0</th>\n",
       "      <td>-1.0</td>\n",
       "      <td>0.987903</td>\n",
       "      <td>1.012392</td>\n",
       "    </tr>\n",
       "    <tr>\n",
       "      <th>1</th>\n",
       "      <td>1.0</td>\n",
       "      <td>1.016382</td>\n",
       "      <td>1.018085</td>\n",
       "    </tr>\n",
       "    <tr>\n",
       "      <th>2</th>\n",
       "      <td>3.0</td>\n",
       "      <td>1.005939</td>\n",
       "      <td>1.011908</td>\n",
       "    </tr>\n",
       "    <tr>\n",
       "      <th>3</th>\n",
       "      <td>5.0</td>\n",
       "      <td>0.994010</td>\n",
       "      <td>1.011923</td>\n",
       "    </tr>\n",
       "  </tbody>\n",
       "</table>\n",
       "</div>"
      ],
      "text/plain": [
       "   max_depth  log_loss_train  log_loss_cv\n",
       "0       -1.0        0.987903     1.012392\n",
       "1        1.0        1.016382     1.018085\n",
       "2        3.0        1.005939     1.011908\n",
       "3        5.0        0.994010     1.011923"
      ]
     },
     "metadata": {},
     "output_type": "display_data"
    },
    {
     "data": {
      "image/png": "[encoded data removed]",
      "text/plain": [
       "<Figure size 576x360 with 1 Axes>"
      ]
     },
     "metadata": {
      "needs_background": "light"
     },
     "output_type": "display_data"
    },
    {
     "data": {
      "text/markdown": [
       "#### <font color=black>colsample_bytree</font>"
      ],
      "text/plain": [
       "<IPython.core.display.Markdown object>"
      ]
     },
     "metadata": {},
     "output_type": "display_data"
    },
    {
     "data": {
      "text/html": [
       "<div>\n",
       "<style scoped>\n",
       "    .dataframe tbody tr th:only-of-type {\n",
       "        vertical-align: middle;\n",
       "    }\n",
       "\n",
       "    .dataframe tbody tr th {\n",
       "        vertical-align: top;\n",
       "    }\n",
       "\n",
       "    .dataframe thead th {\n",
       "        text-align: right;\n",
       "    }\n",
       "</style>\n",
       "<table border=\"1\" class=\"dataframe\">\n",
       "  <thead>\n",
       "    <tr style=\"text-align: right;\">\n",
       "      <th></th>\n",
       "      <th>colsample_bytree</th>\n",
       "      <th>log_loss_train</th>\n",
       "      <th>log_loss_cv</th>\n",
       "    </tr>\n",
       "  </thead>\n",
       "  <tbody>\n",
       "    <tr>\n",
       "      <th>0</th>\n",
       "      <td>0.5</td>\n",
       "      <td>1.001308</td>\n",
       "      <td>1.013634</td>\n",
       "    </tr>\n",
       "    <tr>\n",
       "      <th>1</th>\n",
       "      <td>0.6</td>\n",
       "      <td>1.001308</td>\n",
       "      <td>1.013634</td>\n",
       "    </tr>\n",
       "    <tr>\n",
       "      <th>2</th>\n",
       "      <td>0.7</td>\n",
       "      <td>1.000560</td>\n",
       "      <td>1.013462</td>\n",
       "    </tr>\n",
       "  </tbody>\n",
       "</table>\n",
       "</div>"
      ],
      "text/plain": [
       "   colsample_bytree  log_loss_train  log_loss_cv\n",
       "0               0.5        1.001308     1.013634\n",
       "1               0.6        1.001308     1.013634\n",
       "2               0.7        1.000560     1.013462"
      ]
     },
     "metadata": {},
     "output_type": "display_data"
    },
    {
     "data": {
      "image/png": "[encoded data removed]",
      "text/plain": [
       "<Figure size 576x360 with 1 Axes>"
      ]
     },
     "metadata": {
      "needs_background": "light"
     },
     "output_type": "display_data"
    },
    {
     "data": {
      "text/markdown": [
       "#### <font color=black>subsample</font>"
      ],
      "text/plain": [
       "<IPython.core.display.Markdown object>"
      ]
     },
     "metadata": {},
     "output_type": "display_data"
    },
    {
     "data": {
      "text/html": [
       "<div>\n",
       "<style scoped>\n",
       "    .dataframe tbody tr th:only-of-type {\n",
       "        vertical-align: middle;\n",
       "    }\n",
       "\n",
       "    .dataframe tbody tr th {\n",
       "        vertical-align: top;\n",
       "    }\n",
       "\n",
       "    .dataframe thead th {\n",
       "        text-align: right;\n",
       "    }\n",
       "</style>\n",
       "<table border=\"1\" class=\"dataframe\">\n",
       "  <thead>\n",
       "    <tr style=\"text-align: right;\">\n",
       "      <th></th>\n",
       "      <th>subsample</th>\n",
       "      <th>log_loss_train</th>\n",
       "      <th>log_loss_cv</th>\n",
       "    </tr>\n",
       "  </thead>\n",
       "  <tbody>\n",
       "    <tr>\n",
       "      <th>0</th>\n",
       "      <td>0.5</td>\n",
       "      <td>1.001059</td>\n",
       "      <td>1.013577</td>\n",
       "    </tr>\n",
       "    <tr>\n",
       "      <th>1</th>\n",
       "      <td>0.6</td>\n",
       "      <td>1.001059</td>\n",
       "      <td>1.013577</td>\n",
       "    </tr>\n",
       "    <tr>\n",
       "      <th>2</th>\n",
       "      <td>0.7</td>\n",
       "      <td>1.001059</td>\n",
       "      <td>1.013577</td>\n",
       "    </tr>\n",
       "  </tbody>\n",
       "</table>\n",
       "</div>"
      ],
      "text/plain": [
       "   subsample  log_loss_train  log_loss_cv\n",
       "0        0.5        1.001059     1.013577\n",
       "1        0.6        1.001059     1.013577\n",
       "2        0.7        1.001059     1.013577"
      ]
     },
     "metadata": {},
     "output_type": "display_data"
    },
    {
     "data": {
      "image/png": "[encoded data removed]",
      "text/plain": [
       "<Figure size 576x360 with 1 Axes>"
      ]
     },
     "metadata": {
      "needs_background": "light"
     },
     "output_type": "display_data"
    },
    {
     "data": {
      "text/markdown": [
       "#### <font color=black>n_estimators</font>"
      ],
      "text/plain": [
       "<IPython.core.display.Markdown object>"
      ]
     },
     "metadata": {},
     "output_type": "display_data"
    },
    {
     "data": {
      "text/html": [
       "<div>\n",
       "<style scoped>\n",
       "    .dataframe tbody tr th:only-of-type {\n",
       "        vertical-align: middle;\n",
       "    }\n",
       "\n",
       "    .dataframe tbody tr th {\n",
       "        vertical-align: top;\n",
       "    }\n",
       "\n",
       "    .dataframe thead th {\n",
       "        text-align: right;\n",
       "    }\n",
       "</style>\n",
       "<table border=\"1\" class=\"dataframe\">\n",
       "  <thead>\n",
       "    <tr style=\"text-align: right;\">\n",
       "      <th></th>\n",
       "      <th>n_estimators</th>\n",
       "      <th>log_loss_train</th>\n",
       "      <th>log_loss_cv</th>\n",
       "    </tr>\n",
       "  </thead>\n",
       "  <tbody>\n",
       "    <tr>\n",
       "      <th>0</th>\n",
       "      <td>20.0</td>\n",
       "      <td>1.008023</td>\n",
       "      <td>1.015415</td>\n",
       "    </tr>\n",
       "    <tr>\n",
       "      <th>1</th>\n",
       "      <td>40.0</td>\n",
       "      <td>1.000142</td>\n",
       "      <td>1.012799</td>\n",
       "    </tr>\n",
       "    <tr>\n",
       "      <th>2</th>\n",
       "      <td>60.0</td>\n",
       "      <td>0.995011</td>\n",
       "      <td>1.012517</td>\n",
       "    </tr>\n",
       "  </tbody>\n",
       "</table>\n",
       "</div>"
      ],
      "text/plain": [
       "   n_estimators  log_loss_train  log_loss_cv\n",
       "0          20.0        1.008023     1.015415\n",
       "1          40.0        1.000142     1.012799\n",
       "2          60.0        0.995011     1.012517"
      ]
     },
     "metadata": {},
     "output_type": "display_data"
    },
    {
     "data": {
      "image/png": "[encoded data removed]",
      "text/plain": [
       "<Figure size 576x360 with 1 Axes>"
      ]
     },
     "metadata": {
      "needs_background": "light"
     },
     "output_type": "display_data"
    },
    {
     "data": {
      "text/markdown": [
       "#### <font color=black>learning_rate</font>"
      ],
      "text/plain": [
       "<IPython.core.display.Markdown object>"
      ]
     },
     "metadata": {},
     "output_type": "display_data"
    },
    {
     "data": {
      "text/html": [
       "<div>\n",
       "<style scoped>\n",
       "    .dataframe tbody tr th:only-of-type {\n",
       "        vertical-align: middle;\n",
       "    }\n",
       "\n",
       "    .dataframe tbody tr th {\n",
       "        vertical-align: top;\n",
       "    }\n",
       "\n",
       "    .dataframe thead th {\n",
       "        text-align: right;\n",
       "    }\n",
       "</style>\n",
       "<table border=\"1\" class=\"dataframe\">\n",
       "  <thead>\n",
       "    <tr style=\"text-align: right;\">\n",
       "      <th></th>\n",
       "      <th>learning_rate</th>\n",
       "      <th>log_loss_train</th>\n",
       "      <th>log_loss_cv</th>\n",
       "    </tr>\n",
       "  </thead>\n",
       "  <tbody>\n",
       "    <tr>\n",
       "      <th>0</th>\n",
       "      <td>0.1</td>\n",
       "      <td>1.007223</td>\n",
       "      <td>1.014506</td>\n",
       "    </tr>\n",
       "    <tr>\n",
       "      <th>1</th>\n",
       "      <td>0.3</td>\n",
       "      <td>0.994894</td>\n",
       "      <td>1.012648</td>\n",
       "    </tr>\n",
       "  </tbody>\n",
       "</table>\n",
       "</div>"
      ],
      "text/plain": [
       "   learning_rate  log_loss_train  log_loss_cv\n",
       "0            0.1        1.007223     1.014506\n",
       "1            0.3        0.994894     1.012648"
      ]
     },
     "metadata": {},
     "output_type": "display_data"
    },
    {
     "data": {
      "image/png": "[encoded data removed]",
      "text/plain": [
       "<Figure size 576x360 with 1 Axes>"
      ]
     },
     "metadata": {
      "needs_background": "light"
     },
     "output_type": "display_data"
    }
   ],
   "source": [
    "pretties.md(\"LGBMClassifier\", size=\"#\", color=\"blue\")\n",
    "xgbc_df = rdf[rdf[\"clf_name\"] == \"LGBMClassifier\"]\n",
    "\n",
    "for param_name in [\"num_leaves\", \"max_depth\", \"colsample_bytree\", \"subsample\", \"n_estimators\", \"learning_rate\"]:\n",
    "    pretties.md(param_name, size=\"####\")\n",
    "    overfitting_analysis_num(metrics_df=xgbc_df, \n",
    "                             param_name=param_name, \n",
    "                             metric_colname=\"log_loss\")\n"
   ]
  },
  {
   "cell_type": "code",
   "execution_count": null,
   "id": "802672b6",
   "metadata": {},
   "outputs": [],
   "source": []
  }
 ],
 "metadata": {
  "kernelspec": {
   "display_name": "Python 3",
   "language": "python",
   "name": "python3"
  },
  "language_info": {
   "codemirror_mode": {
    "name": "ipython",
    "version": 3
   },
   "file_extension": ".py",
   "mimetype": "text/x-python",
   "name": "python",
   "nbconvert_exporter": "python",
   "pygments_lexer": "ipython3",
   "version": "3.8.8"
  }
 },
 "nbformat": 4,
 "nbformat_minor": 5
}
