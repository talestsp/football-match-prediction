{
 "cells": [
  {
   "cell_type": "markdown",
   "id": "ed008c12",
   "metadata": {},
   "source": [
    "# ResultAnalysis\n",
    "Notebook to check Grid Search results"
   ]
  },
  {
   "cell_type": "code",
   "execution_count": 1,
   "id": "88e9bb5d",
   "metadata": {},
   "outputs": [
    {
     "data": {
      "text/plain": [
       "'/Users/tales.pimentel/ds/kaggle/football-match-prediction'"
      ]
     },
     "execution_count": 1,
     "metadata": {},
     "output_type": "execute_result"
    }
   ],
   "source": [
    "import os\n",
    "from working_dir import set_wd\n",
    "set_wd()\n",
    "os.getcwd()"
   ]
  },
  {
   "cell_type": "code",
   "execution_count": 2,
   "id": "770675a1",
   "metadata": {},
   "outputs": [],
   "source": [
    "import pandas as pd\n",
    "import matplotlib.pyplot as plt\n",
    "from src.dao import dao_ml\n",
    "from src.utils import dflib, stats, pretties, plot, plot_domain, palette"
   ]
  },
  {
   "cell_type": "code",
   "execution_count": 3,
   "id": "782f8572",
   "metadata": {},
   "outputs": [],
   "source": [
    "pretties.max_data_frame_columns()"
   ]
  },
  {
   "cell_type": "markdown",
   "id": "8e0db4ff",
   "metadata": {},
   "source": [
    "# Loading Results"
   ]
  },
  {
   "cell_type": "code",
   "execution_count": 6,
   "id": "f3b83293",
   "metadata": {},
   "outputs": [
    {
     "name": "stdout",
     "output_type": "stream",
     "text": [
      "5\n"
     ]
    }
   ],
   "source": [
    "all_results = dao_ml.load_all_modeling()\n",
    "print(len(all_results))\n",
    "\n",
    "all_results_df = pd.DataFrame(all_results)\n",
    "all_results_df[\"undersampling\"] = all_results_df[\"pipeline_train_stages\"].apply(lambda ppl : \"UndersamplingTransformer\" in ppl)\n",
    "\n",
    "all_results_df[\"undersampling\"] = all_results_df[\"undersampling\"].replace({True: \"balanced\", False: \"no\"})\n",
    "\n",
    "all_results_df[\"features\"] = all_results_df[\"feature_importances\"].apply(lambda fi : list(fi[\"importance\"].keys()))\n",
    "all_results_df[\"n_features\"] = all_results_df[\"features\"].apply(len)"
   ]
  },
  {
   "cell_type": "code",
   "execution_count": 7,
   "id": "14aec590",
   "metadata": {},
   "outputs": [
    {
     "data": {
      "text/html": [
       "<div>\n",
       "<style scoped>\n",
       "    .dataframe tbody tr th:only-of-type {\n",
       "        vertical-align: middle;\n",
       "    }\n",
       "\n",
       "    .dataframe tbody tr th {\n",
       "        vertical-align: top;\n",
       "    }\n",
       "\n",
       "    .dataframe thead th {\n",
       "        text-align: right;\n",
       "    }\n",
       "</style>\n",
       "<table border=\"1\" class=\"dataframe\">\n",
       "  <thead>\n",
       "    <tr style=\"text-align: right;\">\n",
       "      <th></th>\n",
       "      <th>id_modeling</th>\n",
       "      <th>datetime</th>\n",
       "      <th>clf_name</th>\n",
       "      <th>undersampling</th>\n",
       "      <th>n_features</th>\n",
       "      <th>best_score_cv_train</th>\n",
       "      <th>best_score_cv</th>\n",
       "      <th>clf_params</th>\n",
       "      <th>features</th>\n",
       "      <th>id_data</th>\n",
       "    </tr>\n",
       "  </thead>\n",
       "  <tbody>\n",
       "    <tr>\n",
       "      <th>2</th>\n",
       "      <td>b261bebf-e056-4c9f-b40e-b5b019613c2b</td>\n",
       "      <td>2022-05-27 05:02:13</td>\n",
       "      <td>RandomForestClassificationModel</td>\n",
       "      <td>balanced</td>\n",
       "      <td>7</td>\n",
       "      <td>0.999287</td>\n",
       "      <td>1.000171</td>\n",
       "      <td>{'numTrees': 60, 'maxDepth': 10, 'subsamplingR...</td>\n",
       "      <td>[home_mood_diff, draw_factor, away_history_moo...</td>\n",
       "      <td>04a4d619-00cc-4484-a724-e27e2161c91d</td>\n",
       "    </tr>\n",
       "    <tr>\n",
       "      <th>3</th>\n",
       "      <td>39f825ce-4edc-4227-b69e-f353357b87d1</td>\n",
       "      <td>2022-05-27 17:27:36</td>\n",
       "      <td>LGBMClassifier</td>\n",
       "      <td>no</td>\n",
       "      <td>7</td>\n",
       "      <td>0.997671</td>\n",
       "      <td>1.010027</td>\n",
       "      <td>{'colsample_bytree': 0.7, 'learning_rate': 0.1...</td>\n",
       "      <td>[home_mood_diff, home_factor, draw_factor, awa...</td>\n",
       "      <td>04a4d619-00cc-4484-a724-e27e2161c91d</td>\n",
       "    </tr>\n",
       "    <tr>\n",
       "      <th>4</th>\n",
       "      <td>7fb951d1-4a95-4210-9d2a-1b34674ff279</td>\n",
       "      <td>2022-05-27 10:42:58</td>\n",
       "      <td>XGBClassifier</td>\n",
       "      <td>no</td>\n",
       "      <td>7</td>\n",
       "      <td>1.005677</td>\n",
       "      <td>1.010452</td>\n",
       "      <td>{'colsample_bytree': 0.6, 'max_depth': 2, 'n_e...</td>\n",
       "      <td>[home_mood_diff, home_history_mood_mean, draw_...</td>\n",
       "      <td>04a4d619-00cc-4484-a724-e27e2161c91d</td>\n",
       "    </tr>\n",
       "    <tr>\n",
       "      <th>0</th>\n",
       "      <td>62e46782-8f32-488e-9fec-19923681d8ea</td>\n",
       "      <td>2022-05-26 21:04:41</td>\n",
       "      <td>RandomForestClassificationModel</td>\n",
       "      <td>no</td>\n",
       "      <td>7</td>\n",
       "      <td>0.981549</td>\n",
       "      <td>1.012594</td>\n",
       "      <td>{'numTrees': 60, 'maxDepth': 10, 'subsamplingR...</td>\n",
       "      <td>[home_mood_diff, home_history_mood_mean, away_...</td>\n",
       "      <td>04a4d619-00cc-4484-a724-e27e2161c91d</td>\n",
       "    </tr>\n",
       "    <tr>\n",
       "      <th>1</th>\n",
       "      <td>dfa5e718-a52e-442d-8c2a-7839f701305d</td>\n",
       "      <td>2022-05-27 10:09:20</td>\n",
       "      <td>XGBClassifier</td>\n",
       "      <td>balanced</td>\n",
       "      <td>7</td>\n",
       "      <td>1.033616</td>\n",
       "      <td>1.039655</td>\n",
       "      <td>{'colsample_bytree': 0.6, 'max_depth': 2, 'n_e...</td>\n",
       "      <td>[home_mood_diff, draw_factor, away_result_hist...</td>\n",
       "      <td>04a4d619-00cc-4484-a724-e27e2161c91d</td>\n",
       "    </tr>\n",
       "  </tbody>\n",
       "</table>\n",
       "</div>"
      ],
      "text/plain": [
       "                            id_modeling             datetime  \\\n",
       "2  b261bebf-e056-4c9f-b40e-b5b019613c2b  2022-05-27 05:02:13   \n",
       "3  39f825ce-4edc-4227-b69e-f353357b87d1  2022-05-27 17:27:36   \n",
       "4  7fb951d1-4a95-4210-9d2a-1b34674ff279  2022-05-27 10:42:58   \n",
       "0  62e46782-8f32-488e-9fec-19923681d8ea  2022-05-26 21:04:41   \n",
       "1  dfa5e718-a52e-442d-8c2a-7839f701305d  2022-05-27 10:09:20   \n",
       "\n",
       "                          clf_name undersampling  n_features  \\\n",
       "2  RandomForestClassificationModel      balanced           7   \n",
       "3                   LGBMClassifier            no           7   \n",
       "4                    XGBClassifier            no           7   \n",
       "0  RandomForestClassificationModel            no           7   \n",
       "1                    XGBClassifier      balanced           7   \n",
       "\n",
       "   best_score_cv_train  best_score_cv  \\\n",
       "2             0.999287       1.000171   \n",
       "3             0.997671       1.010027   \n",
       "4             1.005677       1.010452   \n",
       "0             0.981549       1.012594   \n",
       "1             1.033616       1.039655   \n",
       "\n",
       "                                          clf_params  \\\n",
       "2  {'numTrees': 60, 'maxDepth': 10, 'subsamplingR...   \n",
       "3  {'colsample_bytree': 0.7, 'learning_rate': 0.1...   \n",
       "4  {'colsample_bytree': 0.6, 'max_depth': 2, 'n_e...   \n",
       "0  {'numTrees': 60, 'maxDepth': 10, 'subsamplingR...   \n",
       "1  {'colsample_bytree': 0.6, 'max_depth': 2, 'n_e...   \n",
       "\n",
       "                                            features  \\\n",
       "2  [home_mood_diff, draw_factor, away_history_moo...   \n",
       "3  [home_mood_diff, home_factor, draw_factor, awa...   \n",
       "4  [home_mood_diff, home_history_mood_mean, draw_...   \n",
       "0  [home_mood_diff, home_history_mood_mean, away_...   \n",
       "1  [home_mood_diff, draw_factor, away_result_hist...   \n",
       "\n",
       "                                id_data  \n",
       "2  04a4d619-00cc-4484-a724-e27e2161c91d  \n",
       "3  04a4d619-00cc-4484-a724-e27e2161c91d  \n",
       "4  04a4d619-00cc-4484-a724-e27e2161c91d  \n",
       "0  04a4d619-00cc-4484-a724-e27e2161c91d  \n",
       "1  04a4d619-00cc-4484-a724-e27e2161c91d  "
      ]
     },
     "execution_count": 7,
     "metadata": {},
     "output_type": "execute_result"
    }
   ],
   "source": [
    "all_results_df[[\"id_modeling\", \"datetime\", \"clf_name\", \"undersampling\", \"n_features\",\n",
    "                 \"best_score_cv_train\", \"best_score_cv\", \"clf_params\", \"features\", \"id_data\"]].sort_values(\"best_score_cv\", ascending=True)"
   ]
  },
  {
   "cell_type": "markdown",
   "id": "52e21a47",
   "metadata": {},
   "source": [
    "# Select id_modeling"
   ]
  },
  {
   "cell_type": "code",
   "execution_count": null,
   "id": "40e4fa1a",
   "metadata": {},
   "outputs": [],
   "source": [
    "load_ids_modeling = [\"62e46782-8f32-488e-9fec-19923681d8ea\",\n",
    "                     \"7fb951d1-4a95-4210-9d2a-1b34674ff279\", \n",
    "                     \"39f825ce-4edc-4227-b69e-f353357b87d1\"]\n",
    "\n",
    "rdf = pd.DataFrame()\n",
    "\n",
    "for id_modeling in load_ids_modeling:\n",
    "    results_temp = dao_ml.load_modeling(id_modeling)\n",
    "    \n",
    "    rdf_id = pd.DataFrame(results_temp[\"overfitting_analysis_df\"])\n",
    "    rdf_id[\"clf_name\"] = results_temp[\"clf_name\"]\n",
    "    \n",
    "    rdf = rdf.append(rdf_id)"
   ]
  },
  {
   "cell_type": "code",
   "execution_count": null,
   "id": "648c6371",
   "metadata": {
    "scrolled": false
   },
   "outputs": [],
   "source": [
    "rdf = rdf.sort_values(\"log_loss_cv\")\n",
    "rdf.head(5)"
   ]
  },
  {
   "cell_type": "code",
   "execution_count": null,
   "id": "5624df36",
   "metadata": {},
   "outputs": [],
   "source": [
    "def overfitting_analysis_num(metrics_df, param_name, metric_colname):\n",
    "    metric_colname_train = metric_colname + \"_train\"\n",
    "    metric_colname_valid = metric_colname + \"_cv\"\n",
    "    \n",
    "    of_data = metrics_df.groupby(param_name)[[metric_colname_train, metric_colname_valid]].mean().reset_index()\n",
    "\n",
    "    display(of_data)\n",
    "    \n",
    "    title = f\"{metric_colname} mean values for {param_name}\"\n",
    "    \n",
    "    plt.figure(figsize=(8,5))\n",
    "    plt.scatter(of_data[param_name], of_data[metric_colname_train], label=\"train\", s=130, alpha=0.6)\n",
    "    plt.scatter(of_data[param_name], of_data[metric_colname_valid], label=\"cv\", s=130, alpha=0.6)\n",
    "    plt.title(label=title)\n",
    "    plt.xlabel(param_name)\n",
    "    plt.ylabel(metric_colname)\n",
    "    plt.legend()\n",
    "    plt.show()"
   ]
  },
  {
   "cell_type": "code",
   "execution_count": null,
   "id": "22bdfb08",
   "metadata": {},
   "outputs": [],
   "source": [
    "pretties.md(\"RandomForestClassificationModel\", size=\"#\", color=\"blue\")\n",
    "rfc_df = rdf[rdf[\"clf_name\"] == \"RandomForestClassificationModel\"]\n",
    "\n",
    "for param_name in [\"subsamplingRate\", \"maxDepth\", \"numTrees\"]:\n",
    "    pretties.md(param_name, size=\"####\")\n",
    "    overfitting_analysis_num(metrics_df=rfc_df, \n",
    "                             param_name=param_name, \n",
    "                             metric_colname=\"log_loss\")"
   ]
  },
  {
   "cell_type": "code",
   "execution_count": null,
   "id": "70fd0934",
   "metadata": {
    "scrolled": false
   },
   "outputs": [],
   "source": [
    "pretties.md(\"XGBClassifier\", size=\"#\", color=\"blue\")\n",
    "xgbc_df = rdf[rdf[\"clf_name\"] == \"XGBClassifier\"]\n",
    "\n",
    "for param_name in [\"colsample_bytree\", \"max_depth\", \"n_estimators\", \"subsample\"]:\n",
    "    pretties.md(param_name, size=\"####\")\n",
    "    overfitting_analysis_num(metrics_df=xgbc_df, \n",
    "                             param_name=param_name, \n",
    "                             metric_colname=\"log_loss\")"
   ]
  },
  {
   "cell_type": "code",
   "execution_count": null,
   "id": "7cba6862",
   "metadata": {
    "scrolled": false
   },
   "outputs": [],
   "source": [
    "pretties.md(\"LGBMClassifier\", size=\"#\", color=\"blue\")\n",
    "xgbc_df = rdf[rdf[\"clf_name\"] == \"LGBMClassifier\"]\n",
    "\n",
    "for param_name in [\"num_leaves\", \"max_depth\", \"colsample_bytree\", \"subsample\", \"n_estimators\", \"learning_rate\"]:\n",
    "    pretties.md(param_name, size=\"####\")\n",
    "    overfitting_analysis_num(metrics_df=xgbc_df, \n",
    "                             param_name=param_name, \n",
    "                             metric_colname=\"log_loss\")\n"
   ]
  },
  {
   "cell_type": "code",
   "execution_count": null,
   "id": "802672b6",
   "metadata": {},
   "outputs": [],
   "source": []
  }
 ],
 "metadata": {
  "kernelspec": {
   "display_name": "Python 3",
   "language": "python",
   "name": "python3"
  },
  "language_info": {
   "codemirror_mode": {
    "name": "ipython",
    "version": 3
   },
   "file_extension": ".py",
   "mimetype": "text/x-python",
   "name": "python",
   "nbconvert_exporter": "python",
   "pygments_lexer": "ipython3",
   "version": "3.8.8"
  }
 },
 "nbformat": 4,
 "nbformat_minor": 5
}
