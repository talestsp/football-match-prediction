{
 "cells": [
  {
   "cell_type": "code",
   "execution_count": null,
   "id": "6dfb6e81",
   "metadata": {},
   "outputs": [],
   "source": [
    "import os\n",
    "from working_dir import set_wd\n",
    "set_wd()\n",
    "os.getcwd()"
   ]
  },
  {
   "cell_type": "code",
   "execution_count": null,
   "id": "4a558633",
   "metadata": {},
   "outputs": [],
   "source": [
    "from datetime import datetime"
   ]
  },
  {
   "cell_type": "code",
   "execution_count": 4,
   "id": "0826d688",
   "metadata": {},
   "outputs": [],
   "source": [
    "output_dir = os.getcwd() + \"/notebooks/output/\"\n",
    "output_dir"
   ]
  },
  {
   "cell_type": "code",
   "execution_count": 5,
   "id": "7cc84100",
   "metadata": {},
   "outputs": [],
   "source": [
    "notebooks = ['6.1-ExperimentRandomForest.ipynb',\n",
    "             '6.2-ExperimentXGBoost.ipynb',\n",
    "             '6.1-ExperimentRandomForest-Copy1.ipynb',\n",
    "             '6.2-ExperimentXGBoost-Copy1.ipynb']"
   ]
  },
  {
   "cell_type": "code",
   "execution_count": null,
   "id": "880ceabc",
   "metadata": {},
   "outputs": [
    {
     "name": "stdout",
     "output_type": "stream",
     "text": [
      "6.1-ExperimentRandomForest.ipynb\n",
      "2022-05-26 20:38:24\n",
      "Tempo do notebook: 1579 segundos\n",
      "---\n",
      "\n",
      "6.2-ExperimentXGBoost.ipynb\n",
      "2022-05-26 21:04:42\n",
      "Tempo do notebook: 22 segundos\n",
      "---\n",
      "\n",
      "6.1-ExperimentRandomForest-Copy1.ipynb\n",
      "2022-05-26 21:05:04\n"
     ]
    }
   ],
   "source": [
    "t0 = datetime.now()\n",
    "t_parcial = t0\n",
    "\n",
    "for notebook in notebooks:\n",
    "\n",
    "    t_parcial_last = t_parcial\n",
    "    t_parcial = datetime.now()\n",
    "    \n",
    "    print(notebook)\n",
    "    print(t_parcial.strftime(\"%Y-%m-%d %H:%M:%S\"))\n",
    "    notebook = notebook.replace(\" \", \"\\\\ \")\n",
    "\n",
    "    os.system(f\"~/anaconda3/bin/jupyter nbconvert --output-dir='{output_dir}' --execute --to html notebooks/{notebook}\")\n",
    "    \n",
    "    print(f\"Time to execute: {round((datetime.now() - t_parcial).total_seconds())} seconds\")\n",
    "    print(\"---\\n\")"
   ]
  },
  {
   "cell_type": "code",
   "execution_count": null,
   "id": "513d9ff6",
   "metadata": {},
   "outputs": [],
   "source": [
    "t_final = datetime.now() - t0\n",
    "print(t_final.total_seconds(), \"seconds\")"
   ]
  },
  {
   "cell_type": "code",
   "execution_count": null,
   "id": "bdd722f0",
   "metadata": {},
   "outputs": [],
   "source": [
    "notebooks = ['6.2-ExperimentXGBoost.ipynb']\n",
    "t0 = datetime.now()\n",
    "t_parcial = t0\n",
    "\n",
    "for notebook in notebooks:\n",
    "\n",
    "    t_parcial_last = t_parcial\n",
    "    t_parcial = datetime.now()\n",
    "    \n",
    "    print(notebook)\n",
    "    print(t_parcial.strftime(\"%Y-%m-%d %H:%M:%S\"))\n",
    "    notebook = notebook.replace(\" \", \"\\\\ \")\n",
    "\n",
    "    os.system(f\"jupyter nbconvert --output-dir='{output_dir}' --execute --to html {notebook}\")\n",
    "    \n",
    "    print(f\"Time to execute: {round((datetime.now() - t_parcial).total_seconds())} seconds\")\n",
    "    print(\"---\\n\")"
   ]
  },
  {
   "cell_type": "code",
   "execution_count": null,
   "id": "c47803e5",
   "metadata": {},
   "outputs": [],
   "source": []
  }
 ],
 "metadata": {
  "kernelspec": {
   "display_name": "Python 3",
   "language": "python",
   "name": "python3"
  },
  "language_info": {
   "codemirror_mode": {
    "name": "ipython",
    "version": 3
   },
   "file_extension": ".py",
   "mimetype": "text/x-python",
   "name": "python",
   "nbconvert_exporter": "python",
   "pygments_lexer": "ipython3",
   "version": "3.8.8"
  }
 },
 "nbformat": 4,
 "nbformat_minor": 5
}
