{
 "cells": [
  {
   "cell_type": "code",
   "execution_count": 1,
   "id": "e86ac191",
   "metadata": {},
   "outputs": [],
   "source": [
    "from datetime import datetime\n",
    "import os"
   ]
  },
  {
   "cell_type": "code",
   "execution_count": 2,
   "id": "f7e37f97",
   "metadata": {},
   "outputs": [
    {
     "data": {
      "text/plain": [
       "'/Users/tales.pimentel/ds/kaggle/football-match-prediction/notebooks'"
      ]
     },
     "execution_count": 2,
     "metadata": {},
     "output_type": "execute_result"
    }
   ],
   "source": [
    "os.getcwd()"
   ]
  },
  {
   "cell_type": "code",
   "execution_count": 4,
   "id": "a707432c",
   "metadata": {},
   "outputs": [],
   "source": [
    "output_dir = \"/Users/tales.pimentel/ds/kaggle/football-match-prediction/notebooks/output/\""
   ]
  },
  {
   "cell_type": "code",
   "execution_count": 5,
   "id": "9e202dc7",
   "metadata": {},
   "outputs": [],
   "source": [
    "notebooks = ['6.1-ExperimentRandomForest.ipynb',\n",
    "             '6.2-ExperimentXGBoost.ipynb',\n",
    "             '6.1-ExperimentRandomForest-Copy1.ipynb',\n",
    "             '6.2-ExperimentXGBoost-Copy1.ipynb']\n",
    "\n",
    "notebooks = ['6.2-ExperimentXGBoost.ipynb']"
   ]
  },
  {
   "cell_type": "code",
   "execution_count": null,
   "id": "c67d03f4",
   "metadata": {},
   "outputs": [
    {
     "name": "stdout",
     "output_type": "stream",
     "text": [
      "6.1-ExperimentRandomForest.ipynb\n",
      "2022-05-26 20:38:24\n",
      "Tempo do notebook: 1579 segundos\n",
      "---\n",
      "\n",
      "6.2-ExperimentXGBoost.ipynb\n",
      "2022-05-26 21:04:42\n",
      "Tempo do notebook: 22 segundos\n",
      "---\n",
      "\n",
      "6.1-ExperimentRandomForest-Copy1.ipynb\n",
      "2022-05-26 21:05:04\n"
     ]
    }
   ],
   "source": [
    "t0 = datetime.now()\n",
    "t_parcial = t0\n",
    "\n",
    "for notebook in notebooks:\n",
    "\n",
    "    t_parcial_last = t_parcial\n",
    "    t_parcial = datetime.now()\n",
    "    \n",
    "    print(notebook)\n",
    "    print(t_parcial.strftime(\"%Y-%m-%d %H:%M:%S\"))\n",
    "    notebook = notebook.replace(\" \", \"\\\\ \")\n",
    "\n",
    "    os.system(f\"jupyter nbconvert --output-dir='{output_dir}' --execute --to html {notebook}\")\n",
    "    \n",
    "    print(f\"Time to execute: {round((datetime.now() - t_parcial).total_seconds())} seconds\")\n",
    "    print(\"---\\n\")"
   ]
  },
  {
   "cell_type": "code",
   "execution_count": null,
   "id": "708bb72e",
   "metadata": {},
   "outputs": [],
   "source": [
    "t_final = datetime.now() - t0\n",
    "print(t_final.total_seconds(), \"seconds\")"
   ]
  },
  {
   "cell_type": "code",
   "execution_count": null,
   "id": "cd228845",
   "metadata": {},
   "outputs": [],
   "source": [
    "notebooks = ['6.2-ExperimentXGBoost.ipynb']\n",
    "t0 = datetime.now()\n",
    "t_parcial = t0\n",
    "\n",
    "for notebook in notebooks:\n",
    "\n",
    "    t_parcial_last = t_parcial\n",
    "    t_parcial = datetime.now()\n",
    "    \n",
    "    print(notebook)\n",
    "    print(t_parcial.strftime(\"%Y-%m-%d %H:%M:%S\"))\n",
    "    notebook = notebook.replace(\" \", \"\\\\ \")\n",
    "\n",
    "    os.system(f\"jupyter nbconvert --output-dir='{output_dir}' --execute --to html {notebook}\")\n",
    "    \n",
    "    print(f\"Time to execute: {round((datetime.now() - t_parcial).total_seconds())} seconds\")\n",
    "    print(\"---\\n\")"
   ]
  },
  {
   "cell_type": "code",
   "execution_count": null,
   "id": "14e84dce",
   "metadata": {},
   "outputs": [],
   "source": []
  }
 ],
 "metadata": {
  "kernelspec": {
   "display_name": "Python 3",
   "language": "python",
   "name": "python3"
  },
  "language_info": {
   "codemirror_mode": {
    "name": "ipython",
    "version": 3
   },
   "file_extension": ".py",
   "mimetype": "text/x-python",
   "name": "python",
   "nbconvert_exporter": "python",
   "pygments_lexer": "ipython3",
   "version": "3.8.8"
  }
 },
 "nbformat": 4,
 "nbformat_minor": 5
}
