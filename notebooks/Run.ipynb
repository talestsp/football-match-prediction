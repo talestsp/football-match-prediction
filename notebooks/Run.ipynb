{
 "cells": [
  {
   "cell_type": "code",
   "execution_count": null,
   "id": "2e4d4845",
   "metadata": {},
   "outputs": [],
   "source": [
    "import os\n",
    "from working_dir import set_wd\n",
    "set_wd()\n",
    "os.getcwd()"
   ]
  },
  {
   "cell_type": "code",
   "execution_count": null,
   "id": "d5c0cbea",
   "metadata": {},
   "outputs": [],
   "source": [
    "from datetime import datetime"
   ]
  },
  {
   "cell_type": "code",
   "execution_count": null,
   "id": "d6d97988",
   "metadata": {},
   "outputs": [],
   "source": [
    "output_dir = os.getcwd() + \"/notebooks/output/\"\n",
    "output_dir"
   ]
  },
  {
   "cell_type": "code",
   "execution_count": null,
   "id": "2b26a4a9",
   "metadata": {},
   "outputs": [],
   "source": [
    "notebooks = ['6.1-ExperimentRandomForest-Balanced.ipynb',\n",
    "             '6.1-ExperimentRandomForest.ipynb',\n",
    "             '6.2-ExperimentLGBM-Balanced.ipynb',\n",
    "             '6.2-ExperimentLGBM.ipynb',\n",
    "             '6.2-ExperimentXGBoost-Balanced.ipynb',\n",
    "             '6.2-ExperimentXGBoost.ipynb',\n",
    "             '6.3-ExperimentMissingValuesStrategy.ipynb']\n",
    "\n",
    "notebooks = ['6.2-ExperimentLGBM-Balanced.ipynb',\n",
    "             '6.2-ExperimentLGBM.ipynb']"
   ]
  },
  {
   "cell_type": "code",
   "execution_count": null,
   "id": "cdbae5df",
   "metadata": {},
   "outputs": [],
   "source": [
    "t0 = datetime.now()\n",
    "t_parcial = t0\n",
    "\n",
    "for notebook in notebooks:\n",
    "\n",
    "    t_parcial_last = t_parcial\n",
    "    t_parcial = datetime.now()\n",
    "    \n",
    "    print(notebook)\n",
    "    print(t_parcial.strftime(\"%Y-%m-%d %H:%M:%S\"))\n",
    "    notebook = notebook.replace(\" \", \"\\\\ \")\n",
    "\n",
    "    os.system(f\"jupyter nbconvert --output-dir='{output_dir}' --execute --to html notebooks/{notebook}\")\n",
    "    \n",
    "    print(f\"Time to execute: {round((datetime.now() - t_parcial).total_seconds())} seconds\")\n",
    "    print(\"---\\n\")"
   ]
  },
  {
   "cell_type": "code",
   "execution_count": null,
   "id": "c55cb02c",
   "metadata": {},
   "outputs": [],
   "source": [
    "t_final = datetime.now() - t0\n",
    "print(t_final.total_seconds(), \"seconds\")"
   ]
  }
 ],
 "metadata": {
  "kernelspec": {
   "display_name": "Python 3",
   "language": "python",
   "name": "python3"
  },
  "language_info": {
   "codemirror_mode": {
    "name": "ipython",
    "version": 3
   },
   "file_extension": ".py",
   "mimetype": "text/x-python",
   "name": "python",
   "nbconvert_exporter": "python",
   "pygments_lexer": "ipython3",
   "version": "3.8.8"
  }
 },
 "nbformat": 4,
 "nbformat_minor": 5
}
