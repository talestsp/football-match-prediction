{
 "cells": [
  {
   "cell_type": "markdown",
   "id": "ed008c12",
   "metadata": {},
   "source": [
    "# Missing Values"
   ]
  },
  {
   "cell_type": "code",
   "execution_count": 1,
   "id": "88e9bb5d",
   "metadata": {},
   "outputs": [
    {
     "data": {
      "text/plain": [
       "'/Users/tales.pimentel/ds/kaggle/football-match-prediction'"
      ]
     },
     "execution_count": 1,
     "metadata": {},
     "output_type": "execute_result"
    }
   ],
   "source": [
    "import os\n",
    "from working_dir import set_wd\n",
    "set_wd()\n",
    "os.getcwd()"
   ]
  },
  {
   "cell_type": "code",
   "execution_count": 2,
   "id": "448f5a9c",
   "metadata": {},
   "outputs": [],
   "source": [
    "from pyspark.sql import SparkSession\n",
    "\n",
    "spark = SparkSession.builder.config(\"spark.sql.debug.maxToStringFields\", 500) \\\n",
    "                            .config(\"spark.driver.memory\", \"14g\") \\\n",
    "                            .appName(\"MissingValues\").getOrCreate()\n",
    "\n",
    "spark.sparkContext.setLogLevel(\"ERROR\")"
   ]
  },
  {
   "cell_type": "code",
   "execution_count": 3,
   "id": "770675a1",
   "metadata": {},
   "outputs": [],
   "source": [
    "import pandas as pd\n",
    "import matplotlib.pyplot as plt\n",
    "from pyspark.ml.feature import VectorAssembler, StringIndexer\n",
    "import pyspark.sql.functions as f\n",
    "from src.dao import dao, dao_processed, dao_raw, dao_interim, dao_ml\n",
    "from src.utils import dflib, stats, pretties, plot, plot_domain, palette"
   ]
  },
  {
   "cell_type": "code",
   "execution_count": 4,
   "id": "782f8572",
   "metadata": {},
   "outputs": [],
   "source": [
    "pretties.max_data_frame_columns()"
   ]
  },
  {
   "cell_type": "markdown",
   "id": "854af8c3",
   "metadata": {},
   "source": [
    "# Loading Data"
   ]
  },
  {
   "cell_type": "code",
   "execution_count": 5,
   "id": "829b8966",
   "metadata": {},
   "outputs": [
    {
     "name": "stdout",
     "output_type": "stream",
     "text": [
      "04a4d619-00cc-4484-a724-e27e2161c91d\n"
     ]
    }
   ],
   "source": [
    "id_data = dao_processed.most_recent_data_build_id()\n",
    "print(id_data)"
   ]
  },
  {
   "cell_type": "code",
   "execution_count": 6,
   "id": "310212fc",
   "metadata": {},
   "outputs": [],
   "source": [
    "feature_selection_data = dao_ml.load_feature_selection(id_data=id_data)[0]"
   ]
  },
  {
   "cell_type": "code",
   "execution_count": 7,
   "id": "6c1648a2",
   "metadata": {},
   "outputs": [],
   "source": [
    "df_ttrain = dao_processed.load_processed_data(which_dataset=\"train_train\", \n",
    "                                              id_data=id_data,\n",
    "                                              spark=spark)\n",
    "\n",
    "df_tvalid = dao_processed.load_processed_data(which_dataset=\"train_valid\", \n",
    "                                              id_data=id_data,\n",
    "                                              spark=spark)\n",
    "\n",
    "df_test = dao_processed.load_processed_data(which_dataset=\"test\", \n",
    "                                            id_data=id_data,\n",
    "                                            spark=spark)"
   ]
  },
  {
   "cell_type": "code",
   "execution_count": 8,
   "id": "a4af8878",
   "metadata": {},
   "outputs": [],
   "source": [
    "metadata = dao_processed.load_processed_metadata(id_data)\n",
    "\n",
    "if \"away_mood_diff\" in metadata[\"use_features\"]:\n",
    "    metadata[\"use_features\"].remove(\"away_mood_diff\")\n",
    "\n",
    "use_features = metadata[\"use_features\"]"
   ]
  },
  {
   "cell_type": "code",
   "execution_count": 9,
   "id": "cc13838b",
   "metadata": {},
   "outputs": [],
   "source": [
    "datasets = {\"ttrain\": df_ttrain, \"tvalid\": df_tvalid, \"test\": df_test}"
   ]
  },
  {
   "cell_type": "markdown",
   "id": "7f0686ce",
   "metadata": {},
   "source": [
    "# Checking missing values"
   ]
  },
  {
   "cell_type": "code",
   "execution_count": 10,
   "id": "35846f7b",
   "metadata": {},
   "outputs": [
    {
     "data": {
      "text/markdown": [
       "## <font color=black>ttrain</font>"
      ],
      "text/plain": [
       "<IPython.core.display.Markdown object>"
      ]
     },
     "metadata": {},
     "output_type": "display_data"
    },
    {
     "name": "stdout",
     "output_type": "stream",
     "text": [
      "2117 rows with any feature null\n",
      "87470 rows with target null\n"
     ]
    },
    {
     "data": {
      "text/html": [
       "<hr style=\"height:1px;border:none;color:#333;background-color:#333;\" />"
      ],
      "text/plain": [
       "<IPython.core.display.HTML object>"
      ]
     },
     "metadata": {},
     "output_type": "display_data"
    },
    {
     "data": {
      "text/markdown": [
       "## <font color=black>tvalid</font>"
      ],
      "text/plain": [
       "<IPython.core.display.Markdown object>"
      ]
     },
     "metadata": {},
     "output_type": "display_data"
    },
    {
     "name": "stdout",
     "output_type": "stream",
     "text": [
      "661 rows with any feature null\n",
      "23468 rows with target null\n"
     ]
    },
    {
     "data": {
      "text/html": [
       "<hr style=\"height:1px;border:none;color:#333;background-color:#333;\" />"
      ],
      "text/plain": [
       "<IPython.core.display.HTML object>"
      ]
     },
     "metadata": {},
     "output_type": "display_data"
    },
    {
     "data": {
      "text/markdown": [
       "## <font color=black>test</font>"
      ],
      "text/plain": [
       "<IPython.core.display.Markdown object>"
      ]
     },
     "metadata": {},
     "output_type": "display_data"
    },
    {
     "name": "stdout",
     "output_type": "stream",
     "text": [
      "6916 rows with any feature null\n",
      "23468 rows with target null\n"
     ]
    },
    {
     "data": {
      "text/html": [
       "<hr style=\"height:1px;border:none;color:#333;background-color:#333;\" />"
      ],
      "text/plain": [
       "<IPython.core.display.HTML object>"
      ]
     },
     "metadata": {},
     "output_type": "display_data"
    }
   ],
   "source": [
    "for dataset_name in datasets.keys():\n",
    "    pretties.md(dataset_name, size=\"##\")\n",
    "    df = datasets[dataset_name]\n",
    "    len_features_na = dflib.filter_any_null(df, subset=use_features).count()\n",
    "    if \"target\" in df.columns:\n",
    "        len_target_na = dflib.filter_any_null(df, subset=[\"target\"]).count()\n",
    "        len_target_na = df.count()\n",
    "\n",
    "    print(f\"{len_features_na} rows with any feature null\")\n",
    "    print(f\"{len_target_na} rows with target null\")\n",
    "    pretties.hr()"
   ]
  },
  {
   "cell_type": "code",
   "execution_count": 11,
   "id": "98dafa07",
   "metadata": {
    "scrolled": false
   },
   "outputs": [],
   "source": [
    "null_data = []\n",
    "\n",
    "for dataset_name in datasets.keys():\n",
    "    df = datasets[dataset_name]\n",
    "    \n",
    "    for feature in use_features:\n",
    "        feature_null = stats.freq(df.select(f.isnull(feature).alias(feature)), feature, round_n=4).toPandas().set_index(feature)\n",
    "        if not True in feature_null.index:\n",
    "            feature_null = feature_null.append(pd.DataFrame([{\"Absolute\": 0, \"Relative\": 0}], index=[True]))\n",
    "        \n",
    "        d = feature_null[[\"Relative\"]].loc[True].to_dict()\n",
    "        d[\"feature\"] = feature\n",
    "        d[\"dataset\"] = dataset_name\n",
    "        null_data.append(d)\n",
    "\n",
    "null_df = pd.DataFrame(null_data).rename(columns={\"Relative\": \"freq_null\"})"
   ]
  },
  {
   "cell_type": "code",
   "execution_count": 12,
   "id": "e41ff2ec",
   "metadata": {},
   "outputs": [
    {
     "data": {
      "text/markdown": [
       "# <font color=black>Null values rate by feature, over datasets</font>"
      ],
      "text/plain": [
       "<IPython.core.display.Markdown object>"
      ]
     },
     "metadata": {},
     "output_type": "display_data"
    },
    {
     "data": {
      "image/png": "[encoded data removed]",
      "text/plain": [
       "<Figure size 1152x432 with 1 Axes>"
      ]
     },
     "metadata": {
      "needs_background": "light"
     },
     "output_type": "display_data"
    },
    {
     "data": {
      "text/html": [
       "<div>\n",
       "<style scoped>\n",
       "    .dataframe tbody tr th:only-of-type {\n",
       "        vertical-align: middle;\n",
       "    }\n",
       "\n",
       "    .dataframe tbody tr th {\n",
       "        vertical-align: top;\n",
       "    }\n",
       "\n",
       "    .dataframe thead th {\n",
       "        text-align: right;\n",
       "    }\n",
       "</style>\n",
       "<table border=\"1\" class=\"dataframe\">\n",
       "  <thead>\n",
       "    <tr style=\"text-align: right;\">\n",
       "      <th>feature</th>\n",
       "      <th>away_history_mood_mean</th>\n",
       "      <th>away_result_history_mean</th>\n",
       "      <th>draw_factor</th>\n",
       "      <th>home_factor</th>\n",
       "      <th>home_history_mood_mean</th>\n",
       "      <th>home_mood_diff</th>\n",
       "      <th>home_result_history_mean</th>\n",
       "    </tr>\n",
       "    <tr>\n",
       "      <th>dataset</th>\n",
       "      <th></th>\n",
       "      <th></th>\n",
       "      <th></th>\n",
       "      <th></th>\n",
       "      <th></th>\n",
       "      <th></th>\n",
       "      <th></th>\n",
       "    </tr>\n",
       "  </thead>\n",
       "  <tbody>\n",
       "    <tr>\n",
       "      <th>ttrain</th>\n",
       "      <td>0.0127</td>\n",
       "      <td>0.0</td>\n",
       "      <td>0.0044</td>\n",
       "      <td>0.0029</td>\n",
       "      <td>0.0121</td>\n",
       "      <td>0.0205</td>\n",
       "      <td>0.0</td>\n",
       "    </tr>\n",
       "    <tr>\n",
       "      <th>tvalid</th>\n",
       "      <td>0.0049</td>\n",
       "      <td>0.0</td>\n",
       "      <td>0.0212</td>\n",
       "      <td>0.0183</td>\n",
       "      <td>0.0044</td>\n",
       "      <td>0.0083</td>\n",
       "      <td>0.0</td>\n",
       "    </tr>\n",
       "    <tr>\n",
       "      <th>test</th>\n",
       "      <td>0.0067</td>\n",
       "      <td>0.0</td>\n",
       "      <td>0.0868</td>\n",
       "      <td>0.0831</td>\n",
       "      <td>0.0069</td>\n",
       "      <td>0.0121</td>\n",
       "      <td>0.0</td>\n",
       "    </tr>\n",
       "  </tbody>\n",
       "</table>\n",
       "</div>"
      ],
      "text/plain": [
       "feature  away_history_mood_mean  away_result_history_mean  draw_factor  \\\n",
       "dataset                                                                  \n",
       "ttrain                   0.0127                       0.0       0.0044   \n",
       "tvalid                   0.0049                       0.0       0.0212   \n",
       "test                     0.0067                       0.0       0.0868   \n",
       "\n",
       "feature  home_factor  home_history_mood_mean  home_mood_diff  \\\n",
       "dataset                                                        \n",
       "ttrain        0.0029                  0.0121          0.0205   \n",
       "tvalid        0.0183                  0.0044          0.0083   \n",
       "test          0.0831                  0.0069          0.0121   \n",
       "\n",
       "feature  home_result_history_mean  \n",
       "dataset                            \n",
       "ttrain                        0.0  \n",
       "tvalid                        0.0  \n",
       "test                          0.0  "
      ]
     },
     "metadata": {},
     "output_type": "display_data"
    }
   ],
   "source": [
    "pretties.md(\"Null values rate by feature, over datasets\")\n",
    "null_df_pv = null_df.sort_values(\"freq_null\").pivot(index=\"dataset\", columns=\"feature\", values=\"freq_null\")\n",
    "null_df_pv = null_df_pv.loc[[\"ttrain\", \"tvalid\", \"test\"]]\n",
    "null_df_pv.plot.bar(figsize=(16,6), rot=0)\n",
    "plt.show()\n",
    "display(null_df_pv)"
   ]
  },
  {
   "cell_type": "markdown",
   "id": "59998cec",
   "metadata": {},
   "source": [
    "### Notes\n",
    "\n",
    "Around 8.5% of values are missing in `home_factor` and `draw_factor` features. <br>\n",
    "These values are calculated for each `league_id` in the trainig dataset. <br>\n",
    "If these values are missing for some league_id it could have happened on of two scenarios: <br>\n",
    " * The `ttrain` dataset doesn't have any matches of this league.\n",
    " * The number of matches is below the threshold set at `HomeFactorEstimator`'s parameter `n_matches_min`.\n",
    " \n",
    "The good perspective is that the most missing values variables are the ones with less correlation with the `target` as you can see in the table below (generated by Feature Selection jupyter notebook). "
   ]
  },
  {
   "cell_type": "code",
   "execution_count": 13,
   "id": "d1628864",
   "metadata": {},
   "outputs": [
    {
     "data": {
      "text/html": [
       "<div>\n",
       "<style scoped>\n",
       "    .dataframe tbody tr th:only-of-type {\n",
       "        vertical-align: middle;\n",
       "    }\n",
       "\n",
       "    .dataframe tbody tr th {\n",
       "        vertical-align: top;\n",
       "    }\n",
       "\n",
       "    .dataframe thead th {\n",
       "        text-align: right;\n",
       "    }\n",
       "</style>\n",
       "<table border=\"1\" class=\"dataframe\">\n",
       "  <thead>\n",
       "    <tr style=\"text-align: right;\">\n",
       "      <th></th>\n",
       "      <th>f_statistic</th>\n",
       "      <th>p_value</th>\n",
       "    </tr>\n",
       "  </thead>\n",
       "  <tbody>\n",
       "    <tr>\n",
       "      <th>home_mood_diff</th>\n",
       "      <td>3935.458008</td>\n",
       "      <td>0.000000e+00</td>\n",
       "    </tr>\n",
       "    <tr>\n",
       "      <th>away_mood_diff</th>\n",
       "      <td>3935.458008</td>\n",
       "      <td>0.000000e+00</td>\n",
       "    </tr>\n",
       "    <tr>\n",
       "      <th>home_history_mood_mean</th>\n",
       "      <td>1760.184204</td>\n",
       "      <td>0.000000e+00</td>\n",
       "    </tr>\n",
       "    <tr>\n",
       "      <th>away_history_mood_mean</th>\n",
       "      <td>1654.938354</td>\n",
       "      <td>0.000000e+00</td>\n",
       "    </tr>\n",
       "    <tr>\n",
       "      <th>home_result_history_mean</th>\n",
       "      <td>1308.731567</td>\n",
       "      <td>0.000000e+00</td>\n",
       "    </tr>\n",
       "    <tr>\n",
       "      <th>away_result_history_mean</th>\n",
       "      <td>1253.516113</td>\n",
       "      <td>0.000000e+00</td>\n",
       "    </tr>\n",
       "    <tr>\n",
       "      <th>draw_factor</th>\n",
       "      <td>836.310608</td>\n",
       "      <td>0.000000e+00</td>\n",
       "    </tr>\n",
       "    <tr>\n",
       "      <th>home_factor</th>\n",
       "      <td>541.662842</td>\n",
       "      <td>1.734726e-234</td>\n",
       "    </tr>\n",
       "  </tbody>\n",
       "</table>\n",
       "</div>"
      ],
      "text/plain": [
       "                          f_statistic        p_value\n",
       "home_mood_diff            3935.458008   0.000000e+00\n",
       "away_mood_diff            3935.458008   0.000000e+00\n",
       "home_history_mood_mean    1760.184204   0.000000e+00\n",
       "away_history_mood_mean    1654.938354   0.000000e+00\n",
       "home_result_history_mean  1308.731567   0.000000e+00\n",
       "away_result_history_mean  1253.516113   0.000000e+00\n",
       "draw_factor                836.310608   0.000000e+00\n",
       "home_factor                541.662842  1.734726e-234"
      ]
     },
     "execution_count": 13,
     "metadata": {},
     "output_type": "execute_result"
    }
   ],
   "source": [
    "pd.DataFrame(feature_selection_data[\"anova\"])"
   ]
  }
 ],
 "metadata": {
  "kernelspec": {
   "display_name": "Python 3",
   "language": "python",
   "name": "python3"
  },
  "language_info": {
   "codemirror_mode": {
    "name": "ipython",
    "version": 3
   },
   "file_extension": ".py",
   "mimetype": "text/x-python",
   "name": "python",
   "nbconvert_exporter": "python",
   "pygments_lexer": "ipython3",
   "version": "3.8.8"
  }
 },
 "nbformat": 4,
 "nbformat_minor": 5
}
