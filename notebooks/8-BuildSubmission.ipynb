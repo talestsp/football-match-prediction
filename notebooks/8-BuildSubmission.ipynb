{
 "cells": [
  {
   "cell_type": "markdown",
   "id": "b8edfa13",
   "metadata": {},
   "source": [
    "# BuildSubmission\n",
    "Notebook to experiment different model configurations and store results."
   ]
  },
  {
   "cell_type": "code",
   "execution_count": 1,
   "id": "8d5969a0",
   "metadata": {},
   "outputs": [
    {
     "data": {
      "text/plain": [
       "'/home/tales/ds/kaggle/football-match-prediction'"
      ]
     },
     "execution_count": 1,
     "metadata": {},
     "output_type": "execute_result"
    }
   ],
   "source": [
    "import os\n",
    "from working_dir import set_wd\n",
    "set_wd()\n",
    "os.getcwd()"
   ]
  },
  {
   "cell_type": "code",
   "execution_count": 2,
   "id": "48bcbd47",
   "metadata": {},
   "outputs": [
    {
     "name": "stderr",
     "output_type": "stream",
     "text": [
      "22/05/10 10:53:44 WARN Utils: Your hostname, tales-samsung resolves to a loopback address: 127.0.1.1; using 192.168.0.104 instead (on interface wlxd03745e80dbf)\n",
      "22/05/10 10:53:44 WARN Utils: Set SPARK_LOCAL_IP if you need to bind to another address\n",
      "Using Spark's default log4j profile: org/apache/spark/log4j-defaults.properties\n",
      "Setting default log level to \"WARN\".\n",
      "To adjust logging level use sc.setLogLevel(newLevel). For SparkR, use setLogLevel(newLevel).\n",
      "22/05/10 10:53:46 WARN NativeCodeLoader: Unable to load native-hadoop library for your platform... using builtin-java classes where applicable\n"
     ]
    }
   ],
   "source": [
    "from pyspark.sql import SparkSession\n",
    "\n",
    "spark = SparkSession.builder.config(\"spark.sql.debug.maxToStringFields\", 500) \\\n",
    "                            .config(\"spark.driver.memory\", \"10g\") \\\n",
    "                            .appName(\"BuildSubmission\").getOrCreate()\n",
    "\n",
    "spark.sparkContext.setLogLevel(\"ERROR\")"
   ]
  },
  {
   "cell_type": "code",
   "execution_count": 3,
   "id": "82d4c86a",
   "metadata": {},
   "outputs": [],
   "source": [
    "from datetime import datetime\n",
    "import uuid\n",
    "import pyspark.sql.functions as f\n",
    "from pyspark.sql.functions import when\n",
    "from src.dao import dao, dao_processed, dao_ml\n",
    "from src.utils import dflib, stats, pretties, plot, plot_domain, palette"
   ]
  },
  {
   "cell_type": "code",
   "execution_count": 4,
   "id": "b287e2be",
   "metadata": {},
   "outputs": [],
   "source": [
    "pretties.max_data_frame_columns()"
   ]
  },
  {
   "cell_type": "markdown",
   "id": "7f8125cf",
   "metadata": {},
   "source": [
    "# Fit Data Pipeline"
   ]
  },
  {
   "cell_type": "code",
   "execution_count": 5,
   "id": "cee2cc06",
   "metadata": {},
   "outputs": [],
   "source": [
    "from pyspark.ml import Pipeline, PipelineModel\n",
    "from pyspark.ml.feature import VectorIndexer #Class for indexing categorical feature columns in a dataset of Vector.\n",
    "from pyspark.ml.feature import VectorAssembler #A feature transformer that merges multiple columns into a vector column.\n",
    "from pyspark.ml.feature import StringIndexer #A label indexer that maps a string column of labels to an ML column of label indices.\n",
    "from pyspark.ml.feature import IndexToString\n",
    "from src.ml.transformers import DropNaTransformer, UndersamplingTransformer\n",
    "from src.ml.estimators import FillProbaEstimator\n",
    "\n",
    "from pyspark.ml.classification import RandomForestClassifier\n",
    "from pyspark.ml.evaluation import MulticlassClassificationEvaluator\n",
    "from src.ml import metrics"
   ]
  },
  {
   "cell_type": "code",
   "execution_count": 6,
   "id": "dd75b2ad",
   "metadata": {},
   "outputs": [
    {
     "ename": "FileNotFoundError",
     "evalue": "[Errno 2] No such file or directory: 'data/results/result-1298bdd7-d506-4394-9708-3a9946ce602b-22cf967a-5dc2-46fb-af40-1bee1ea7de43.json'",
     "output_type": "error",
     "traceback": [
      "\u001b[0;31m---------------------------------------------------------------------------\u001b[0m",
      "\u001b[0;31mFileNotFoundError\u001b[0m                         Traceback (most recent call last)",
      "\u001b[0;32m/tmp/ipykernel_1468/1246354448.py\u001b[0m in \u001b[0;36m<module>\u001b[0;34m\u001b[0m\n\u001b[1;32m      2\u001b[0m \u001b[0mid_data_build\u001b[0m \u001b[0;34m=\u001b[0m \u001b[0;34m\"1298bdd7-d506-4394-9708-3a9946ce602b\"\u001b[0m\u001b[0;34m\u001b[0m\u001b[0;34m\u001b[0m\u001b[0m\n\u001b[1;32m      3\u001b[0m \u001b[0;34m\u001b[0m\u001b[0m\n\u001b[0;32m----> 4\u001b[0;31m \u001b[0mbest_model_params\u001b[0m \u001b[0;34m=\u001b[0m \u001b[0mdao_ml\u001b[0m\u001b[0;34m.\u001b[0m\u001b[0mload_result\u001b[0m\u001b[0;34m(\u001b[0m\u001b[0mid_data_build\u001b[0m\u001b[0;34m,\u001b[0m \u001b[0mid_result\u001b[0m\u001b[0;34m)\u001b[0m\u001b[0;34m\u001b[0m\u001b[0;34m\u001b[0m\u001b[0m\n\u001b[0m\u001b[1;32m      5\u001b[0m \u001b[0mbest_model_params\u001b[0m\u001b[0;34m\u001b[0m\u001b[0;34m\u001b[0m\u001b[0m\n",
      "\u001b[0;32m~/ds/kaggle/football-match-prediction/src/dao/dao_ml.py\u001b[0m in \u001b[0;36mload_result\u001b[0;34m(id_data_build, id_result)\u001b[0m\n\u001b[1;32m     17\u001b[0m \u001b[0;32mdef\u001b[0m \u001b[0mload_result\u001b[0m\u001b[0;34m(\u001b[0m\u001b[0mid_data_build\u001b[0m\u001b[0;34m,\u001b[0m \u001b[0mid_result\u001b[0m\u001b[0;34m)\u001b[0m\u001b[0;34m:\u001b[0m\u001b[0;34m\u001b[0m\u001b[0;34m\u001b[0m\u001b[0m\n\u001b[1;32m     18\u001b[0m     \u001b[0mfilepath_results\u001b[0m \u001b[0;34m=\u001b[0m \u001b[0mRESULTS_DIR\u001b[0m \u001b[0;34m+\u001b[0m \u001b[0;34m\"result-\"\u001b[0m \u001b[0;34m+\u001b[0m \u001b[0mid_data_build\u001b[0m \u001b[0;34m+\u001b[0m \u001b[0;34m\"-\"\u001b[0m \u001b[0;34m+\u001b[0m \u001b[0mid_result\u001b[0m \u001b[0;34m+\u001b[0m \u001b[0;34m\".json\"\u001b[0m\u001b[0;34m\u001b[0m\u001b[0;34m\u001b[0m\u001b[0m\n\u001b[0;32m---> 19\u001b[0;31m     \u001b[0mresult\u001b[0m \u001b[0;34m=\u001b[0m \u001b[0mdao\u001b[0m\u001b[0;34m.\u001b[0m\u001b[0mload_json\u001b[0m\u001b[0;34m(\u001b[0m\u001b[0mfilepath_results\u001b[0m\u001b[0;34m)\u001b[0m\u001b[0;34m\u001b[0m\u001b[0;34m\u001b[0m\u001b[0m\n\u001b[0m\u001b[1;32m     20\u001b[0m \u001b[0;34m\u001b[0m\u001b[0m\n\u001b[1;32m     21\u001b[0m     \u001b[0;32mif\u001b[0m \u001b[0;32mnot\u001b[0m \u001b[0;34m\"labels\"\u001b[0m \u001b[0;32min\u001b[0m \u001b[0mresult\u001b[0m\u001b[0;34m.\u001b[0m\u001b[0mkeys\u001b[0m\u001b[0;34m(\u001b[0m\u001b[0;34m)\u001b[0m\u001b[0;34m:\u001b[0m\u001b[0;34m\u001b[0m\u001b[0;34m\u001b[0m\u001b[0m\n",
      "\u001b[0;32m~/ds/kaggle/football-match-prediction/src/dao/dao.py\u001b[0m in \u001b[0;36mload_json\u001b[0;34m(filepath)\u001b[0m\n\u001b[1;32m     31\u001b[0m \u001b[0;34m\u001b[0m\u001b[0m\n\u001b[1;32m     32\u001b[0m \u001b[0;32mdef\u001b[0m \u001b[0mload_json\u001b[0m\u001b[0;34m(\u001b[0m\u001b[0mfilepath\u001b[0m\u001b[0;34m)\u001b[0m\u001b[0;34m:\u001b[0m\u001b[0;34m\u001b[0m\u001b[0;34m\u001b[0m\u001b[0m\n\u001b[0;32m---> 33\u001b[0;31m     \u001b[0;32mwith\u001b[0m \u001b[0mopen\u001b[0m\u001b[0;34m(\u001b[0m\u001b[0mfilepath\u001b[0m\u001b[0;34m)\u001b[0m \u001b[0;32mas\u001b[0m \u001b[0mjson_file\u001b[0m\u001b[0;34m:\u001b[0m\u001b[0;34m\u001b[0m\u001b[0;34m\u001b[0m\u001b[0m\n\u001b[0m\u001b[1;32m     34\u001b[0m         \u001b[0mdata\u001b[0m \u001b[0;34m=\u001b[0m \u001b[0mjson\u001b[0m\u001b[0;34m.\u001b[0m\u001b[0mload\u001b[0m\u001b[0;34m(\u001b[0m\u001b[0mjson_file\u001b[0m\u001b[0;34m)\u001b[0m\u001b[0;34m\u001b[0m\u001b[0;34m\u001b[0m\u001b[0m\n\u001b[1;32m     35\u001b[0m         \u001b[0;32mreturn\u001b[0m \u001b[0mdata\u001b[0m\u001b[0;34m\u001b[0m\u001b[0;34m\u001b[0m\u001b[0m\n",
      "\u001b[0;31mFileNotFoundError\u001b[0m: [Errno 2] No such file or directory: 'data/results/result-1298bdd7-d506-4394-9708-3a9946ce602b-22cf967a-5dc2-46fb-af40-1bee1ea7de43.json'"
     ]
    }
   ],
   "source": [
    "id_result = \"22cf967a-5dc2-46fb-af40-1bee1ea7de43\"\n",
    "id_data_build = \"1298bdd7-d506-4394-9708-3a9946ce602b\"\n",
    "\n",
    "best_model_params = dao_ml.load_result(id_data_build, id_result)\n",
    "best_model_params"
   ]
  },
  {
   "cell_type": "code",
   "execution_count": 8,
   "id": "5f21a7b6",
   "metadata": {},
   "outputs": [
    {
     "name": "stderr",
     "output_type": "stream",
     "text": [
      "                                                                                \r"
     ]
    }
   ],
   "source": [
    "df_ttrain = dao_processed.load_processed_data(which_dataset=\"train_train\", id=id_data_build, spark=spark)\n",
    "df_tvalid = dao_processed.load_processed_data(which_dataset=\"train_valid\", id=id_data_build, spark=spark)"
   ]
  },
  {
   "cell_type": "code",
   "execution_count": 9,
   "id": "099930d2",
   "metadata": {},
   "outputs": [],
   "source": [
    "basic_cols = ['id', 'target', 'league_id', 'league_name',\n",
    "              'home_team_name', 'away_team_name', \n",
    "              'match_date']"
   ]
  },
  {
   "cell_type": "code",
   "execution_count": 10,
   "id": "4219f9ca",
   "metadata": {},
   "outputs": [
    {
     "name": "stderr",
     "output_type": "stream",
     "text": [
      "                                                                                \r"
     ]
    }
   ],
   "source": [
    "use_features = ['home_mood_diff',\n",
    " 'away_mood_diff',\n",
    " 'home_history_mood_mean',\n",
    " 'away_history_mood_mean',\n",
    " 'home_result_history_mean',\n",
    " 'away_result_history_mean',\n",
    " 'home_factor',\n",
    " 'draw_factor']\n",
    "\n",
    "feature_assembler_transformer = VectorAssembler(inputCols=use_features, \n",
    "                                                outputCol=\"features\")\n",
    "\n",
    "target_indexer_transformer = StringIndexer(inputCol=\"target\", \n",
    "                                           outputCol=\"target_indexed\", \n",
    "                                           stringOrderType=\"alphabetDesc\")\n",
    "target_indexer_transformer = target_indexer_transformer.fit(df_ttrain)\n",
    "\n",
    "inverter_transformer = IndexToString(inputCol=\"target_indexed\", \n",
    "                                     outputCol=\"indexed_to_target\", \n",
    "                                     labels=target_indexer_transformer.labels)"
   ]
  },
  {
   "cell_type": "code",
   "execution_count": 11,
   "id": "5f7912b9",
   "metadata": {},
   "outputs": [],
   "source": [
    "pipeline_stages=[feature_assembler_transformer, \n",
    "                 target_indexer_transformer]\n",
    "pipeline_model = PipelineModel(stages=pipeline_stages)\n",
    "\n",
    "pipeline_stages_na=[target_indexer_transformer]\n",
    "pipeline_model_na = PipelineModel(stages=pipeline_stages_na)\n",
    "\n",
    "pipeline_stages_test=[feature_assembler_transformer]\n",
    "pipeline_model_test = PipelineModel(stages=pipeline_stages_test)"
   ]
  },
  {
   "cell_type": "code",
   "execution_count": 12,
   "id": "f018f022",
   "metadata": {},
   "outputs": [
    {
     "name": "stdout",
     "output_type": "stream",
     "text": [
      "DropNaTransformer\n",
      "DropNaTransformer\n"
     ]
    }
   ],
   "source": [
    "df_ttrain_na = dflib.filter_any_null(df_ttrain)\n",
    "df_ttrain = DropNaTransformer().transform(df_ttrain)\n",
    "df_tvalid_na = dflib.filter_any_null(df_tvalid)\n",
    "df_tvalid = DropNaTransformer().transform(df_tvalid)\n",
    "\n",
    "df_ttrain = pipeline_model.transform(df_ttrain.select(basic_cols + use_features))\n",
    "df_ttrain_na = pipeline_model_na.transform(df_ttrain_na.select(basic_cols))\n",
    "\n",
    "df_tvalid = pipeline_model.transform(df_tvalid.select(basic_cols + use_features))\n",
    "df_tvalid_na = pipeline_model_na.transform(df_tvalid_na.select(basic_cols))"
   ]
  },
  {
   "cell_type": "code",
   "execution_count": 13,
   "id": "62ea5fd8",
   "metadata": {},
   "outputs": [
    {
     "name": "stderr",
     "output_type": "stream",
     "text": [
      "                                                                                \r"
     ]
    },
    {
     "name": "stdout",
     "output_type": "stream",
     "text": [
      "(85423, 17)\n"
     ]
    },
    {
     "name": "stderr",
     "output_type": "stream",
     "text": [
      "                                                                                \r"
     ]
    },
    {
     "name": "stdout",
     "output_type": "stream",
     "text": [
      "(2047, 8)\n",
      "(23030, 17)\n",
      "(438, 8)\n"
     ]
    }
   ],
   "source": [
    "print(dflib.shape(df_ttrain))\n",
    "print(dflib.shape(df_ttrain_na))\n",
    "print(dflib.shape(df_tvalid))\n",
    "print(dflib.shape(df_tvalid_na))"
   ]
  },
  {
   "cell_type": "code",
   "execution_count": 14,
   "id": "85c3ff32",
   "metadata": {},
   "outputs": [
    {
     "name": "stdout",
     "output_type": "stream",
     "text": [
      "global_frequency\n"
     ]
    },
    {
     "name": "stderr",
     "output_type": "stream",
     "text": [
      "                                                                                \r"
     ]
    },
    {
     "data": {
      "text/html": [
       "<div>\n",
       "<style scoped>\n",
       "    .dataframe tbody tr th:only-of-type {\n",
       "        vertical-align: middle;\n",
       "    }\n",
       "\n",
       "    .dataframe tbody tr th {\n",
       "        vertical-align: top;\n",
       "    }\n",
       "\n",
       "    .dataframe thead th {\n",
       "        text-align: right;\n",
       "    }\n",
       "</style>\n",
       "<table border=\"1\" class=\"dataframe\">\n",
       "  <thead>\n",
       "    <tr style=\"text-align: right;\">\n",
       "      <th></th>\n",
       "      <th>id</th>\n",
       "      <th>target</th>\n",
       "      <th>target_indexed</th>\n",
       "      <th>prediction_str</th>\n",
       "      <th>home</th>\n",
       "      <th>draw</th>\n",
       "      <th>away</th>\n",
       "      <th>proba</th>\n",
       "      <th>prediction</th>\n",
       "    </tr>\n",
       "  </thead>\n",
       "  <tbody>\n",
       "    <tr>\n",
       "      <th>0</th>\n",
       "      <td>11931668</td>\n",
       "      <td>away</td>\n",
       "      <td>2.0</td>\n",
       "      <td>home</td>\n",
       "      <td>0.477772</td>\n",
       "      <td>0.186126</td>\n",
       "      <td>0.336102</td>\n",
       "      <td>[0.4777723497801661, 0.18612603810454323, 0.33...</td>\n",
       "      <td>0.0</td>\n",
       "    </tr>\n",
       "    <tr>\n",
       "      <th>1</th>\n",
       "      <td>11931677</td>\n",
       "      <td>home</td>\n",
       "      <td>0.0</td>\n",
       "      <td>home</td>\n",
       "      <td>0.477772</td>\n",
       "      <td>0.186126</td>\n",
       "      <td>0.336102</td>\n",
       "      <td>[0.4777723497801661, 0.18612603810454323, 0.33...</td>\n",
       "      <td>0.0</td>\n",
       "    </tr>\n",
       "    <tr>\n",
       "      <th>2</th>\n",
       "      <td>16689696</td>\n",
       "      <td>away</td>\n",
       "      <td>2.0</td>\n",
       "      <td>home</td>\n",
       "      <td>0.477772</td>\n",
       "      <td>0.186126</td>\n",
       "      <td>0.336102</td>\n",
       "      <td>[0.4777723497801661, 0.18612603810454323, 0.33...</td>\n",
       "      <td>0.0</td>\n",
       "    </tr>\n",
       "    <tr>\n",
       "      <th>3</th>\n",
       "      <td>17135787</td>\n",
       "      <td>home</td>\n",
       "      <td>0.0</td>\n",
       "      <td>home</td>\n",
       "      <td>0.477772</td>\n",
       "      <td>0.186126</td>\n",
       "      <td>0.336102</td>\n",
       "      <td>[0.4777723497801661, 0.18612603810454323, 0.33...</td>\n",
       "      <td>0.0</td>\n",
       "    </tr>\n",
       "    <tr>\n",
       "      <th>4</th>\n",
       "      <td>17561099</td>\n",
       "      <td>home</td>\n",
       "      <td>0.0</td>\n",
       "      <td>home</td>\n",
       "      <td>0.477772</td>\n",
       "      <td>0.186126</td>\n",
       "      <td>0.336102</td>\n",
       "      <td>[0.4777723497801661, 0.18612603810454323, 0.33...</td>\n",
       "      <td>0.0</td>\n",
       "    </tr>\n",
       "  </tbody>\n",
       "</table>\n",
       "</div>"
      ],
      "text/plain": [
       "         id target  target_indexed prediction_str      home      draw  \\\n",
       "0  11931668   away             2.0           home  0.477772  0.186126   \n",
       "1  11931677   home             0.0           home  0.477772  0.186126   \n",
       "2  16689696   away             2.0           home  0.477772  0.186126   \n",
       "3  17135787   home             0.0           home  0.477772  0.186126   \n",
       "4  17561099   home             0.0           home  0.477772  0.186126   \n",
       "\n",
       "       away                                              proba  prediction  \n",
       "0  0.336102  [0.4777723497801661, 0.18612603810454323, 0.33...         0.0  \n",
       "1  0.336102  [0.4777723497801661, 0.18612603810454323, 0.33...         0.0  \n",
       "2  0.336102  [0.4777723497801661, 0.18612603810454323, 0.33...         0.0  \n",
       "3  0.336102  [0.4777723497801661, 0.18612603810454323, 0.33...         0.0  \n",
       "4  0.336102  [0.4777723497801661, 0.18612603810454323, 0.33...         0.0  "
      ]
     },
     "metadata": {},
     "output_type": "display_data"
    },
    {
     "data": {
      "text/html": [
       "<div>\n",
       "<style scoped>\n",
       "    .dataframe tbody tr th:only-of-type {\n",
       "        vertical-align: middle;\n",
       "    }\n",
       "\n",
       "    .dataframe tbody tr th {\n",
       "        vertical-align: top;\n",
       "    }\n",
       "\n",
       "    .dataframe thead th {\n",
       "        text-align: right;\n",
       "    }\n",
       "</style>\n",
       "<table border=\"1\" class=\"dataframe\">\n",
       "  <thead>\n",
       "    <tr style=\"text-align: right;\">\n",
       "      <th></th>\n",
       "      <th>id</th>\n",
       "      <th>target</th>\n",
       "      <th>target_indexed</th>\n",
       "      <th>prediction_str</th>\n",
       "      <th>home</th>\n",
       "      <th>draw</th>\n",
       "      <th>away</th>\n",
       "      <th>proba</th>\n",
       "      <th>prediction</th>\n",
       "    </tr>\n",
       "  </thead>\n",
       "  <tbody>\n",
       "    <tr>\n",
       "      <th>0</th>\n",
       "      <td>17871789</td>\n",
       "      <td>draw</td>\n",
       "      <td>1.0</td>\n",
       "      <td>home</td>\n",
       "      <td>0.449772</td>\n",
       "      <td>0.184932</td>\n",
       "      <td>0.365297</td>\n",
       "      <td>[0.4497716894977169, 0.18493150684931506, 0.36...</td>\n",
       "      <td>0.0</td>\n",
       "    </tr>\n",
       "    <tr>\n",
       "      <th>1</th>\n",
       "      <td>17747561</td>\n",
       "      <td>home</td>\n",
       "      <td>0.0</td>\n",
       "      <td>home</td>\n",
       "      <td>0.449772</td>\n",
       "      <td>0.184932</td>\n",
       "      <td>0.365297</td>\n",
       "      <td>[0.4497716894977169, 0.18493150684931506, 0.36...</td>\n",
       "      <td>0.0</td>\n",
       "    </tr>\n",
       "    <tr>\n",
       "      <th>2</th>\n",
       "      <td>17747564</td>\n",
       "      <td>away</td>\n",
       "      <td>2.0</td>\n",
       "      <td>home</td>\n",
       "      <td>0.449772</td>\n",
       "      <td>0.184932</td>\n",
       "      <td>0.365297</td>\n",
       "      <td>[0.4497716894977169, 0.18493150684931506, 0.36...</td>\n",
       "      <td>0.0</td>\n",
       "    </tr>\n",
       "    <tr>\n",
       "      <th>3</th>\n",
       "      <td>17747566</td>\n",
       "      <td>home</td>\n",
       "      <td>0.0</td>\n",
       "      <td>home</td>\n",
       "      <td>0.449772</td>\n",
       "      <td>0.184932</td>\n",
       "      <td>0.365297</td>\n",
       "      <td>[0.4497716894977169, 0.18493150684931506, 0.36...</td>\n",
       "      <td>0.0</td>\n",
       "    </tr>\n",
       "    <tr>\n",
       "      <th>4</th>\n",
       "      <td>17871768</td>\n",
       "      <td>away</td>\n",
       "      <td>2.0</td>\n",
       "      <td>home</td>\n",
       "      <td>0.449772</td>\n",
       "      <td>0.184932</td>\n",
       "      <td>0.365297</td>\n",
       "      <td>[0.4497716894977169, 0.18493150684931506, 0.36...</td>\n",
       "      <td>0.0</td>\n",
       "    </tr>\n",
       "  </tbody>\n",
       "</table>\n",
       "</div>"
      ],
      "text/plain": [
       "         id target  target_indexed prediction_str      home      draw  \\\n",
       "0  17871789   draw             1.0           home  0.449772  0.184932   \n",
       "1  17747561   home             0.0           home  0.449772  0.184932   \n",
       "2  17747564   away             2.0           home  0.449772  0.184932   \n",
       "3  17747566   home             0.0           home  0.449772  0.184932   \n",
       "4  17871768   away             2.0           home  0.449772  0.184932   \n",
       "\n",
       "       away                                              proba  prediction  \n",
       "0  0.365297  [0.4497716894977169, 0.18493150684931506, 0.36...         0.0  \n",
       "1  0.365297  [0.4497716894977169, 0.18493150684931506, 0.36...         0.0  \n",
       "2  0.365297  [0.4497716894977169, 0.18493150684931506, 0.36...         0.0  \n",
       "3  0.365297  [0.4497716894977169, 0.18493150684931506, 0.36...         0.0  \n",
       "4  0.365297  [0.4497716894977169, 0.18493150684931506, 0.36...         0.0  "
      ]
     },
     "metadata": {},
     "output_type": "display_data"
    },
    {
     "name": "stdout",
     "output_type": "stream",
     "text": [
      "league_frequency\n"
     ]
    },
    {
     "name": "stderr",
     "output_type": "stream",
     "text": [
      "                                                                                \r"
     ]
    },
    {
     "data": {
      "text/html": [
       "<div>\n",
       "<style scoped>\n",
       "    .dataframe tbody tr th:only-of-type {\n",
       "        vertical-align: middle;\n",
       "    }\n",
       "\n",
       "    .dataframe tbody tr th {\n",
       "        vertical-align: top;\n",
       "    }\n",
       "\n",
       "    .dataframe thead th {\n",
       "        text-align: right;\n",
       "    }\n",
       "</style>\n",
       "<table border=\"1\" class=\"dataframe\">\n",
       "  <thead>\n",
       "    <tr style=\"text-align: right;\">\n",
       "      <th></th>\n",
       "      <th>id</th>\n",
       "      <th>target</th>\n",
       "      <th>target_indexed</th>\n",
       "      <th>prediction_str</th>\n",
       "      <th>home</th>\n",
       "      <th>draw</th>\n",
       "      <th>away</th>\n",
       "      <th>proba</th>\n",
       "      <th>prediction</th>\n",
       "    </tr>\n",
       "  </thead>\n",
       "  <tbody>\n",
       "    <tr>\n",
       "      <th>0</th>\n",
       "      <td>11983072</td>\n",
       "      <td>home</td>\n",
       "      <td>0.0</td>\n",
       "      <td>home</td>\n",
       "      <td>0.400000</td>\n",
       "      <td>0.400000</td>\n",
       "      <td>0.200000</td>\n",
       "      <td>[0.4, 0.4, 0.2]</td>\n",
       "      <td>0.0</td>\n",
       "    </tr>\n",
       "    <tr>\n",
       "      <th>1</th>\n",
       "      <td>11993775</td>\n",
       "      <td>away</td>\n",
       "      <td>2.0</td>\n",
       "      <td>away</td>\n",
       "      <td>0.222222</td>\n",
       "      <td>0.333333</td>\n",
       "      <td>0.444444</td>\n",
       "      <td>[0.2222222222222222, 0.3333333333333333, 0.444...</td>\n",
       "      <td>2.0</td>\n",
       "    </tr>\n",
       "    <tr>\n",
       "      <th>2</th>\n",
       "      <td>11993776</td>\n",
       "      <td>draw</td>\n",
       "      <td>1.0</td>\n",
       "      <td>away</td>\n",
       "      <td>0.222222</td>\n",
       "      <td>0.333333</td>\n",
       "      <td>0.444444</td>\n",
       "      <td>[0.2222222222222222, 0.3333333333333333, 0.444...</td>\n",
       "      <td>2.0</td>\n",
       "    </tr>\n",
       "    <tr>\n",
       "      <th>3</th>\n",
       "      <td>11993780</td>\n",
       "      <td>home</td>\n",
       "      <td>0.0</td>\n",
       "      <td>away</td>\n",
       "      <td>0.222222</td>\n",
       "      <td>0.333333</td>\n",
       "      <td>0.444444</td>\n",
       "      <td>[0.2222222222222222, 0.3333333333333333, 0.444...</td>\n",
       "      <td>2.0</td>\n",
       "    </tr>\n",
       "    <tr>\n",
       "      <th>4</th>\n",
       "      <td>17656653</td>\n",
       "      <td>draw</td>\n",
       "      <td>1.0</td>\n",
       "      <td>home</td>\n",
       "      <td>0.625000</td>\n",
       "      <td>0.250000</td>\n",
       "      <td>0.125000</td>\n",
       "      <td>[0.625, 0.25, 0.125]</td>\n",
       "      <td>0.0</td>\n",
       "    </tr>\n",
       "  </tbody>\n",
       "</table>\n",
       "</div>"
      ],
      "text/plain": [
       "         id target  target_indexed prediction_str      home      draw  \\\n",
       "0  11983072   home             0.0           home  0.400000  0.400000   \n",
       "1  11993775   away             2.0           away  0.222222  0.333333   \n",
       "2  11993776   draw             1.0           away  0.222222  0.333333   \n",
       "3  11993780   home             0.0           away  0.222222  0.333333   \n",
       "4  17656653   draw             1.0           home  0.625000  0.250000   \n",
       "\n",
       "       away                                              proba  prediction  \n",
       "0  0.200000                                    [0.4, 0.4, 0.2]         0.0  \n",
       "1  0.444444  [0.2222222222222222, 0.3333333333333333, 0.444...         2.0  \n",
       "2  0.444444  [0.2222222222222222, 0.3333333333333333, 0.444...         2.0  \n",
       "3  0.444444  [0.2222222222222222, 0.3333333333333333, 0.444...         2.0  \n",
       "4  0.125000                               [0.625, 0.25, 0.125]         0.0  "
      ]
     },
     "metadata": {},
     "output_type": "display_data"
    },
    {
     "data": {
      "text/html": [
       "<div>\n",
       "<style scoped>\n",
       "    .dataframe tbody tr th:only-of-type {\n",
       "        vertical-align: middle;\n",
       "    }\n",
       "\n",
       "    .dataframe tbody tr th {\n",
       "        vertical-align: top;\n",
       "    }\n",
       "\n",
       "    .dataframe thead th {\n",
       "        text-align: right;\n",
       "    }\n",
       "</style>\n",
       "<table border=\"1\" class=\"dataframe\">\n",
       "  <thead>\n",
       "    <tr style=\"text-align: right;\">\n",
       "      <th></th>\n",
       "      <th>id</th>\n",
       "      <th>target</th>\n",
       "      <th>target_indexed</th>\n",
       "      <th>prediction_str</th>\n",
       "      <th>home</th>\n",
       "      <th>draw</th>\n",
       "      <th>away</th>\n",
       "      <th>proba</th>\n",
       "      <th>prediction</th>\n",
       "    </tr>\n",
       "  </thead>\n",
       "  <tbody>\n",
       "    <tr>\n",
       "      <th>0</th>\n",
       "      <td>17878064</td>\n",
       "      <td>draw</td>\n",
       "      <td>1.0</td>\n",
       "      <td>home</td>\n",
       "      <td>0.428571</td>\n",
       "      <td>0.428571</td>\n",
       "      <td>0.142857</td>\n",
       "      <td>[0.42857142857142855, 0.42857142857142855, 0.1...</td>\n",
       "      <td>0.0</td>\n",
       "    </tr>\n",
       "    <tr>\n",
       "      <th>1</th>\n",
       "      <td>17878070</td>\n",
       "      <td>home</td>\n",
       "      <td>0.0</td>\n",
       "      <td>home</td>\n",
       "      <td>0.428571</td>\n",
       "      <td>0.428571</td>\n",
       "      <td>0.142857</td>\n",
       "      <td>[0.42857142857142855, 0.42857142857142855, 0.1...</td>\n",
       "      <td>0.0</td>\n",
       "    </tr>\n",
       "    <tr>\n",
       "      <th>2</th>\n",
       "      <td>17898913</td>\n",
       "      <td>home</td>\n",
       "      <td>0.0</td>\n",
       "      <td>home</td>\n",
       "      <td>0.428571</td>\n",
       "      <td>0.428571</td>\n",
       "      <td>0.142857</td>\n",
       "      <td>[0.42857142857142855, 0.42857142857142855, 0.1...</td>\n",
       "      <td>0.0</td>\n",
       "    </tr>\n",
       "    <tr>\n",
       "      <th>3</th>\n",
       "      <td>17898918</td>\n",
       "      <td>home</td>\n",
       "      <td>0.0</td>\n",
       "      <td>home</td>\n",
       "      <td>0.428571</td>\n",
       "      <td>0.428571</td>\n",
       "      <td>0.142857</td>\n",
       "      <td>[0.42857142857142855, 0.42857142857142855, 0.1...</td>\n",
       "      <td>0.0</td>\n",
       "    </tr>\n",
       "    <tr>\n",
       "      <th>4</th>\n",
       "      <td>17988395</td>\n",
       "      <td>draw</td>\n",
       "      <td>1.0</td>\n",
       "      <td>home</td>\n",
       "      <td>0.428571</td>\n",
       "      <td>0.428571</td>\n",
       "      <td>0.142857</td>\n",
       "      <td>[0.42857142857142855, 0.42857142857142855, 0.1...</td>\n",
       "      <td>0.0</td>\n",
       "    </tr>\n",
       "  </tbody>\n",
       "</table>\n",
       "</div>"
      ],
      "text/plain": [
       "         id target  target_indexed prediction_str      home      draw  \\\n",
       "0  17878064   draw             1.0           home  0.428571  0.428571   \n",
       "1  17878070   home             0.0           home  0.428571  0.428571   \n",
       "2  17898913   home             0.0           home  0.428571  0.428571   \n",
       "3  17898918   home             0.0           home  0.428571  0.428571   \n",
       "4  17988395   draw             1.0           home  0.428571  0.428571   \n",
       "\n",
       "       away                                              proba  prediction  \n",
       "0  0.142857  [0.42857142857142855, 0.42857142857142855, 0.1...         0.0  \n",
       "1  0.142857  [0.42857142857142855, 0.42857142857142855, 0.1...         0.0  \n",
       "2  0.142857  [0.42857142857142855, 0.42857142857142855, 0.1...         0.0  \n",
       "3  0.142857  [0.42857142857142855, 0.42857142857142855, 0.1...         0.0  \n",
       "4  0.142857  [0.42857142857142855, 0.42857142857142855, 0.1...         0.0  "
      ]
     },
     "metadata": {},
     "output_type": "display_data"
    },
    {
     "name": "stdout",
     "output_type": "stream",
     "text": [
      "uniform_proba\n"
     ]
    },
    {
     "data": {
      "text/html": [
       "<div>\n",
       "<style scoped>\n",
       "    .dataframe tbody tr th:only-of-type {\n",
       "        vertical-align: middle;\n",
       "    }\n",
       "\n",
       "    .dataframe tbody tr th {\n",
       "        vertical-align: top;\n",
       "    }\n",
       "\n",
       "    .dataframe thead th {\n",
       "        text-align: right;\n",
       "    }\n",
       "</style>\n",
       "<table border=\"1\" class=\"dataframe\">\n",
       "  <thead>\n",
       "    <tr style=\"text-align: right;\">\n",
       "      <th></th>\n",
       "      <th>id</th>\n",
       "      <th>target</th>\n",
       "      <th>target_indexed</th>\n",
       "      <th>prediction_str</th>\n",
       "      <th>home</th>\n",
       "      <th>draw</th>\n",
       "      <th>away</th>\n",
       "      <th>proba</th>\n",
       "      <th>prediction</th>\n",
       "    </tr>\n",
       "  </thead>\n",
       "  <tbody>\n",
       "    <tr>\n",
       "      <th>0</th>\n",
       "      <td>11931668</td>\n",
       "      <td>away</td>\n",
       "      <td>2.0</td>\n",
       "      <td>home</td>\n",
       "      <td>0.333333</td>\n",
       "      <td>0.333333</td>\n",
       "      <td>0.333333</td>\n",
       "      <td>[0.33333334, 0.33333333, 0.33333333]</td>\n",
       "      <td>0.0</td>\n",
       "    </tr>\n",
       "    <tr>\n",
       "      <th>1</th>\n",
       "      <td>11931677</td>\n",
       "      <td>home</td>\n",
       "      <td>0.0</td>\n",
       "      <td>home</td>\n",
       "      <td>0.333333</td>\n",
       "      <td>0.333333</td>\n",
       "      <td>0.333333</td>\n",
       "      <td>[0.33333334, 0.33333333, 0.33333333]</td>\n",
       "      <td>0.0</td>\n",
       "    </tr>\n",
       "    <tr>\n",
       "      <th>2</th>\n",
       "      <td>16689696</td>\n",
       "      <td>away</td>\n",
       "      <td>2.0</td>\n",
       "      <td>home</td>\n",
       "      <td>0.333333</td>\n",
       "      <td>0.333333</td>\n",
       "      <td>0.333333</td>\n",
       "      <td>[0.33333334, 0.33333333, 0.33333333]</td>\n",
       "      <td>0.0</td>\n",
       "    </tr>\n",
       "    <tr>\n",
       "      <th>3</th>\n",
       "      <td>17135787</td>\n",
       "      <td>home</td>\n",
       "      <td>0.0</td>\n",
       "      <td>home</td>\n",
       "      <td>0.333333</td>\n",
       "      <td>0.333333</td>\n",
       "      <td>0.333333</td>\n",
       "      <td>[0.33333334, 0.33333333, 0.33333333]</td>\n",
       "      <td>0.0</td>\n",
       "    </tr>\n",
       "    <tr>\n",
       "      <th>4</th>\n",
       "      <td>17561099</td>\n",
       "      <td>home</td>\n",
       "      <td>0.0</td>\n",
       "      <td>home</td>\n",
       "      <td>0.333333</td>\n",
       "      <td>0.333333</td>\n",
       "      <td>0.333333</td>\n",
       "      <td>[0.33333334, 0.33333333, 0.33333333]</td>\n",
       "      <td>0.0</td>\n",
       "    </tr>\n",
       "  </tbody>\n",
       "</table>\n",
       "</div>"
      ],
      "text/plain": [
       "         id target  target_indexed prediction_str      home      draw  \\\n",
       "0  11931668   away             2.0           home  0.333333  0.333333   \n",
       "1  11931677   home             0.0           home  0.333333  0.333333   \n",
       "2  16689696   away             2.0           home  0.333333  0.333333   \n",
       "3  17135787   home             0.0           home  0.333333  0.333333   \n",
       "4  17561099   home             0.0           home  0.333333  0.333333   \n",
       "\n",
       "       away                                 proba  prediction  \n",
       "0  0.333333  [0.33333334, 0.33333333, 0.33333333]         0.0  \n",
       "1  0.333333  [0.33333334, 0.33333333, 0.33333333]         0.0  \n",
       "2  0.333333  [0.33333334, 0.33333333, 0.33333333]         0.0  \n",
       "3  0.333333  [0.33333334, 0.33333333, 0.33333333]         0.0  \n",
       "4  0.333333  [0.33333334, 0.33333333, 0.33333333]         0.0  "
      ]
     },
     "metadata": {},
     "output_type": "display_data"
    },
    {
     "data": {
      "text/html": [
       "<div>\n",
       "<style scoped>\n",
       "    .dataframe tbody tr th:only-of-type {\n",
       "        vertical-align: middle;\n",
       "    }\n",
       "\n",
       "    .dataframe tbody tr th {\n",
       "        vertical-align: top;\n",
       "    }\n",
       "\n",
       "    .dataframe thead th {\n",
       "        text-align: right;\n",
       "    }\n",
       "</style>\n",
       "<table border=\"1\" class=\"dataframe\">\n",
       "  <thead>\n",
       "    <tr style=\"text-align: right;\">\n",
       "      <th></th>\n",
       "      <th>id</th>\n",
       "      <th>target</th>\n",
       "      <th>target_indexed</th>\n",
       "      <th>prediction_str</th>\n",
       "      <th>home</th>\n",
       "      <th>draw</th>\n",
       "      <th>away</th>\n",
       "      <th>proba</th>\n",
       "      <th>prediction</th>\n",
       "    </tr>\n",
       "  </thead>\n",
       "  <tbody>\n",
       "    <tr>\n",
       "      <th>0</th>\n",
       "      <td>17871789</td>\n",
       "      <td>draw</td>\n",
       "      <td>1.0</td>\n",
       "      <td>home</td>\n",
       "      <td>0.333333</td>\n",
       "      <td>0.333333</td>\n",
       "      <td>0.333333</td>\n",
       "      <td>[0.33333334, 0.33333333, 0.33333333]</td>\n",
       "      <td>0.0</td>\n",
       "    </tr>\n",
       "    <tr>\n",
       "      <th>1</th>\n",
       "      <td>17747561</td>\n",
       "      <td>home</td>\n",
       "      <td>0.0</td>\n",
       "      <td>home</td>\n",
       "      <td>0.333333</td>\n",
       "      <td>0.333333</td>\n",
       "      <td>0.333333</td>\n",
       "      <td>[0.33333334, 0.33333333, 0.33333333]</td>\n",
       "      <td>0.0</td>\n",
       "    </tr>\n",
       "    <tr>\n",
       "      <th>2</th>\n",
       "      <td>17747564</td>\n",
       "      <td>away</td>\n",
       "      <td>2.0</td>\n",
       "      <td>home</td>\n",
       "      <td>0.333333</td>\n",
       "      <td>0.333333</td>\n",
       "      <td>0.333333</td>\n",
       "      <td>[0.33333334, 0.33333333, 0.33333333]</td>\n",
       "      <td>0.0</td>\n",
       "    </tr>\n",
       "    <tr>\n",
       "      <th>3</th>\n",
       "      <td>17747566</td>\n",
       "      <td>home</td>\n",
       "      <td>0.0</td>\n",
       "      <td>home</td>\n",
       "      <td>0.333333</td>\n",
       "      <td>0.333333</td>\n",
       "      <td>0.333333</td>\n",
       "      <td>[0.33333334, 0.33333333, 0.33333333]</td>\n",
       "      <td>0.0</td>\n",
       "    </tr>\n",
       "    <tr>\n",
       "      <th>4</th>\n",
       "      <td>17871768</td>\n",
       "      <td>away</td>\n",
       "      <td>2.0</td>\n",
       "      <td>home</td>\n",
       "      <td>0.333333</td>\n",
       "      <td>0.333333</td>\n",
       "      <td>0.333333</td>\n",
       "      <td>[0.33333334, 0.33333333, 0.33333333]</td>\n",
       "      <td>0.0</td>\n",
       "    </tr>\n",
       "  </tbody>\n",
       "</table>\n",
       "</div>"
      ],
      "text/plain": [
       "         id target  target_indexed prediction_str      home      draw  \\\n",
       "0  17871789   draw             1.0           home  0.333333  0.333333   \n",
       "1  17747561   home             0.0           home  0.333333  0.333333   \n",
       "2  17747564   away             2.0           home  0.333333  0.333333   \n",
       "3  17747566   home             0.0           home  0.333333  0.333333   \n",
       "4  17871768   away             2.0           home  0.333333  0.333333   \n",
       "\n",
       "       away                                 proba  prediction  \n",
       "0  0.333333  [0.33333334, 0.33333333, 0.33333333]         0.0  \n",
       "1  0.333333  [0.33333334, 0.33333333, 0.33333333]         0.0  \n",
       "2  0.333333  [0.33333334, 0.33333333, 0.33333333]         0.0  \n",
       "3  0.333333  [0.33333334, 0.33333333, 0.33333333]         0.0  \n",
       "4  0.333333  [0.33333334, 0.33333333, 0.33333333]         0.0  "
      ]
     },
     "metadata": {},
     "output_type": "display_data"
    }
   ],
   "source": [
    "### FILLING MISSING MATCHES PROBA\n",
    "\n",
    "def prediction_numeric(df, labels):\n",
    "    #TODO: Gerenarlize for n labels\n",
    "    return df.withColumn(\n",
    "            \"prediction\",\n",
    "            f.col(\"prediction_str\")).withColumn(\n",
    "            \"prediction\", f.when(f.col(\"prediction_str\") == \"home\", float(labels.index(\"home\"))) \\\n",
    "                .otherwise(f.when(f.col(\"prediction_str\") == \"draw\", float(labels.index(\"draw\"))) \\\n",
    "                           .otherwise(f.when(f.col(\"prediction_str\") == \"away\", float(labels.index(\"away\"))))))\n",
    "\n",
    "missing_values_strategy_dict = {}\n",
    "\n",
    "for missing_values_strategy in [\"global_frequency\", \"league_frequency\", \"uniform_proba\"]:\n",
    "    print(missing_values_strategy)\n",
    "    missing_values_strategy_dict[missing_values_strategy] = {}\n",
    "    \n",
    "    use_df_na_proba_filled_ttrain = FillProbaEstimator(strategy=missing_values_strategy, \n",
    "                                      labels=target_indexer_transformer.labels, \n",
    "                                      output_col=\"proba\").fit(df_ttrain).transform(df_ttrain_na)\n",
    "    use_df_na_proba_filled_ttrain = prediction_numeric(use_df_na_proba_filled_ttrain, target_indexer_transformer.labels)\n",
    "    \n",
    "    \n",
    "    use_df_na_proba_filled_tvalid = FillProbaEstimator(strategy=missing_values_strategy, \n",
    "                                      labels=target_indexer_transformer.labels, \n",
    "                                      output_col=\"proba\").fit(df_ttrain).transform(df_tvalid_na)\n",
    "    use_df_na_proba_filled_tvalid = prediction_numeric(use_df_na_proba_filled_tvalid, target_indexer_transformer.labels)\n",
    "   \n",
    "    display(use_df_na_proba_filled_ttrain.limit(5).toPandas())\n",
    "    display(use_df_na_proba_filled_tvalid.limit(5).toPandas())\n",
    "    missing_values_strategy_dict[missing_values_strategy][\"ttrain\"] = use_df_na_proba_filled_ttrain\n",
    "    missing_values_strategy_dict[missing_values_strategy][\"tvalid\"] = use_df_na_proba_filled_tvalid"
   ]
  },
  {
   "cell_type": "code",
   "execution_count": 15,
   "id": "4515eacb",
   "metadata": {
    "scrolled": false
   },
   "outputs": [
    {
     "name": "stdout",
     "output_type": "stream",
     "text": [
      "UndersamplingTransformer\n"
     ]
    },
    {
     "name": "stderr",
     "output_type": "stream",
     "text": [
      "                                                                                \r"
     ]
    }
   ],
   "source": [
    "df_ttrain_undersampling = UndersamplingTransformer(target_colname=\"target\").transform(df_ttrain)"
   ]
  },
  {
   "cell_type": "markdown",
   "id": "9d157e20",
   "metadata": {},
   "source": [
    "# Build Submission"
   ]
  },
  {
   "cell_type": "code",
   "execution_count": 16,
   "id": "452148db",
   "metadata": {},
   "outputs": [],
   "source": [
    "full_train = True"
   ]
  },
  {
   "cell_type": "code",
   "execution_count": 17,
   "id": "5c83f415",
   "metadata": {},
   "outputs": [],
   "source": [
    "# best_model_params = {}\n",
    "\n",
    "# missing_values_strategy = best_model_params[\"missing_values_strategy\"]\n",
    "# undersampling = best_model_params[\"undersampling\"]\n",
    "# num_trees = best_model_params[\"num_trees\"]\n",
    "# max_depth = best_model_params[\"max_depth\"]\n",
    "# subsampling_rate = best_model_params[\"subsampling_rate\"]\n",
    "\n"
   ]
  },
  {
   "cell_type": "code",
   "execution_count": 18,
   "id": "ef54df13",
   "metadata": {},
   "outputs": [
    {
     "name": "stdout",
     "output_type": "stream",
     "text": [
      "UndersamplingTransformer\n"
     ]
    },
    {
     "name": "stderr",
     "output_type": "stream",
     "text": [
      "                                                                                \r"
     ]
    },
    {
     "name": "stdout",
     "output_type": "stream",
     "text": [
      "DropNaTransformer\n"
     ]
    },
    {
     "name": "stderr",
     "output_type": "stream",
     "text": [
      "                                                                                \r"
     ]
    },
    {
     "name": "stdout",
     "output_type": "stream",
     "text": [
      "(63543, 17)\n"
     ]
    },
    {
     "name": "stderr",
     "output_type": "stream",
     "text": [
      "[Stage 196:===============================================>         (5 + 1) / 6]\r"
     ]
    },
    {
     "name": "stdout",
     "output_type": "stream",
     "text": [
      "(81567, 17)\n"
     ]
    },
    {
     "name": "stderr",
     "output_type": "stream",
     "text": [
      "                                                                                \r"
     ]
    }
   ],
   "source": [
    "if best_model_params[\"undersampling\"]:\n",
    "    use_df_ttrain = df_ttrain_undersampling\n",
    "    use_df_train_complete = UndersamplingTransformer(target_colname=\"target\").transform(df_ttrain.union(df_tvalid))\n",
    "    \n",
    "else:\n",
    "    use_df_ttrain = df_ttrain\n",
    "    use_df_train_complete = df_ttrain.union(df_tvalid)\n",
    "    \n",
    "use_df_train_complete = DropNaTransformer().transform(use_df_train_complete)\n",
    "    \n",
    "print(dflib.shape(use_df_ttrain))\n",
    "print(dflib.shape(use_df_train_complete))"
   ]
  },
  {
   "cell_type": "code",
   "execution_count": 21,
   "id": "7df6218d",
   "metadata": {
    "scrolled": false
   },
   "outputs": [
    {
     "name": "stdout",
     "output_type": "stream",
     "text": [
      "root\n",
      " |-- id: string (nullable = true)\n",
      " |-- home_team_name: string (nullable = true)\n",
      " |-- away_team_name: string (nullable = true)\n",
      " |-- match_date: date (nullable = true)\n",
      " |-- league_name: string (nullable = true)\n",
      " |-- league_id: string (nullable = true)\n",
      " |-- home_mood_diff: float (nullable = true)\n",
      " |-- away_mood_diff: float (nullable = true)\n",
      " |-- home_history_mood_mean: float (nullable = true)\n",
      " |-- away_history_mood_mean: float (nullable = true)\n",
      " |-- home_result_history_mean: float (nullable = true)\n",
      " |-- away_result_history_mean: float (nullable = true)\n",
      " |-- home_factor: float (nullable = true)\n",
      " |-- draw_factor: float (nullable = true)\n",
      "\n",
      "None\n",
      "+--------------+--------------+----------------------+----------------------+------------------------+------------------------+-----------+-----------+\n",
      "|home_mood_diff|away_mood_diff|home_history_mood_mean|away_history_mood_mean|home_result_history_mean|away_result_history_mean|home_factor|draw_factor|\n",
      "+--------------+--------------+----------------------+----------------------+------------------------+------------------------+-----------+-----------+\n",
      "|     12.133675|    -12.133675|             6.7427764|            -5.3908978|                     0.5|                    -0.6|        1.0|       null|\n",
      "|    -10.823725|     10.823725|            -7.3590765|             3.4646485|                    -0.4|                     0.4|        1.0|       null|\n",
      "|      6.101916|     -6.101916|              9.289824|              3.187908|                     0.5|                     0.4|        1.0|       null|\n",
      "|     -6.467462|      6.467462|            -6.8812613|           -0.41379938|                    -0.7|                    -0.4|        1.0|       null|\n",
      "|     -9.077602|      9.077602|             -6.349011|              2.728592|                    -0.6|                     0.6|        1.0|       null|\n",
      "+--------------+--------------+----------------------+----------------------+------------------------+------------------------+-----------+-----------+\n",
      "\n",
      "DropNaTransformer\n",
      "FillProbaEstimator\n"
     ]
    },
    {
     "name": "stderr",
     "output_type": "stream",
     "text": [
      "                                                                                \r"
     ]
    },
    {
     "ename": "AnalysisException",
     "evalue": "cannot resolve 'target' given input columns: [away_history_mood_mean, away_mood_diff, away_result_history_mean, away_team_name, draw_factor, home_factor, home_history_mood_mean, home_mood_diff, home_result_history_mean, home_team_name, id, league_id, league_name, match_date];\n'Aggregate ['target], ['target, count(1) AS Absolute#5686L]\n+- Filter (((((((((((((isnull(id#5310) OR isnull(home_team_name#5311)) OR isnull(away_team_name#5312)) OR isnull(match_date#5313)) OR isnull(league_name#5314)) OR isnull(league_id#5315)) OR isnull(home_mood_diff#5316)) OR isnull(away_mood_diff#5317)) OR isnull(home_history_mood_mean#5318)) OR isnull(away_history_mood_mean#5319)) OR isnull(home_result_history_mean#5320)) OR isnull(away_result_history_mean#5321)) OR isnull(home_factor#5322)) OR isnull(draw_factor#5323))\n   +- Relation [id#5310,home_team_name#5311,away_team_name#5312,match_date#5313,league_name#5314,league_id#5315,home_mood_diff#5316,away_mood_diff#5317,home_history_mood_mean#5318,away_history_mood_mean#5319,home_result_history_mean#5320,away_result_history_mean#5321,home_factor#5322,draw_factor#5323] csv\n",
     "output_type": "error",
     "traceback": [
      "\u001b[0;31m---------------------------------------------------------------------------\u001b[0m",
      "\u001b[0;31mAnalysisException\u001b[0m                         Traceback (most recent call last)",
      "\u001b[0;32m/tmp/ipykernel_1468/2876161100.py\u001b[0m in \u001b[0;36m<module>\u001b[0;34m\u001b[0m\n\u001b[1;32m     20\u001b[0m \u001b[0;34m\u001b[0m\u001b[0m\n\u001b[1;32m     21\u001b[0m \u001b[0mprint\u001b[0m\u001b[0;34m(\u001b[0m\u001b[0;34m\"FillProbaEstimator\"\u001b[0m\u001b[0;34m)\u001b[0m\u001b[0;34m\u001b[0m\u001b[0;34m\u001b[0m\u001b[0m\n\u001b[0;32m---> 22\u001b[0;31m use_df_na_proba_filled_test = FillProbaEstimator(strategy=\"global_frequency\", \n\u001b[0m\u001b[1;32m     23\u001b[0m                                                  \u001b[0mlabels\u001b[0m\u001b[0;34m=\u001b[0m\u001b[0mtarget_indexer_transformer\u001b[0m\u001b[0;34m.\u001b[0m\u001b[0mlabels\u001b[0m\u001b[0;34m,\u001b[0m\u001b[0;34m\u001b[0m\u001b[0;34m\u001b[0m\u001b[0m\n\u001b[1;32m     24\u001b[0m                                                  output_col=\"proba\").fit(fill_proba_X).transform(df_test_na)\n",
      "\u001b[0;32m~/anaconda3/lib/python3.9/site-packages/pyspark/ml/base.py\u001b[0m in \u001b[0;36mtransform\u001b[0;34m(self, dataset, params)\u001b[0m\n\u001b[1;32m    215\u001b[0m                 \u001b[0;32mreturn\u001b[0m \u001b[0mself\u001b[0m\u001b[0;34m.\u001b[0m\u001b[0mcopy\u001b[0m\u001b[0;34m(\u001b[0m\u001b[0mparams\u001b[0m\u001b[0;34m)\u001b[0m\u001b[0;34m.\u001b[0m\u001b[0m_transform\u001b[0m\u001b[0;34m(\u001b[0m\u001b[0mdataset\u001b[0m\u001b[0;34m)\u001b[0m\u001b[0;34m\u001b[0m\u001b[0;34m\u001b[0m\u001b[0m\n\u001b[1;32m    216\u001b[0m             \u001b[0;32melse\u001b[0m\u001b[0;34m:\u001b[0m\u001b[0;34m\u001b[0m\u001b[0;34m\u001b[0m\u001b[0m\n\u001b[0;32m--> 217\u001b[0;31m                 \u001b[0;32mreturn\u001b[0m \u001b[0mself\u001b[0m\u001b[0;34m.\u001b[0m\u001b[0m_transform\u001b[0m\u001b[0;34m(\u001b[0m\u001b[0mdataset\u001b[0m\u001b[0;34m)\u001b[0m\u001b[0;34m\u001b[0m\u001b[0;34m\u001b[0m\u001b[0m\n\u001b[0m\u001b[1;32m    218\u001b[0m         \u001b[0;32melse\u001b[0m\u001b[0;34m:\u001b[0m\u001b[0;34m\u001b[0m\u001b[0;34m\u001b[0m\u001b[0m\n\u001b[1;32m    219\u001b[0m             \u001b[0;32mraise\u001b[0m \u001b[0mTypeError\u001b[0m\u001b[0;34m(\u001b[0m\u001b[0;34m\"Params must be a param map but got %s.\"\u001b[0m \u001b[0;34m%\u001b[0m \u001b[0mtype\u001b[0m\u001b[0;34m(\u001b[0m\u001b[0mparams\u001b[0m\u001b[0;34m)\u001b[0m\u001b[0;34m)\u001b[0m\u001b[0;34m\u001b[0m\u001b[0;34m\u001b[0m\u001b[0m\n",
      "\u001b[0;32m~/ds/kaggle/football-match-prediction/src/ml/transformers.py\u001b[0m in \u001b[0;36m_transform\u001b[0;34m(self, df_any_null)\u001b[0m\n\u001b[1;32m    147\u001b[0m         \u001b[0;31m# df_any_null = dflib.filter_any_null(df)\u001b[0m\u001b[0;34m\u001b[0m\u001b[0;34m\u001b[0m\u001b[0m\n\u001b[1;32m    148\u001b[0m \u001b[0;34m\u001b[0m\u001b[0m\n\u001b[0;32m--> 149\u001b[0;31m         \u001b[0mdf_any_null\u001b[0m \u001b[0;34m=\u001b[0m \u001b[0mfill_proba\u001b[0m\u001b[0;34m.\u001b[0m\u001b[0mbuild\u001b[0m\u001b[0;34m(\u001b[0m\u001b[0mdf_any_null\u001b[0m\u001b[0;34m,\u001b[0m \u001b[0mstrategy\u001b[0m\u001b[0;34m=\u001b[0m\u001b[0mself\u001b[0m\u001b[0;34m.\u001b[0m\u001b[0mstrategy\u001b[0m\u001b[0;34m)\u001b[0m\u001b[0;34m\u001b[0m\u001b[0;34m\u001b[0m\u001b[0m\n\u001b[0m\u001b[1;32m    150\u001b[0m \u001b[0;34m\u001b[0m\u001b[0m\n\u001b[1;32m    151\u001b[0m         \u001b[0mdf_any_null_na\u001b[0m \u001b[0;34m=\u001b[0m \u001b[0mdflib\u001b[0m\u001b[0;34m.\u001b[0m\u001b[0mfilter_any_null\u001b[0m\u001b[0;34m(\u001b[0m\u001b[0mdf_any_null\u001b[0m\u001b[0;34m)\u001b[0m\u001b[0;34m\u001b[0m\u001b[0;34m\u001b[0m\u001b[0m\n",
      "\u001b[0;32m~/ds/kaggle/football-match-prediction/src/ml/estimators_lib/fill_proba.py\u001b[0m in \u001b[0;36mbuild\u001b[0;34m(df, strategy)\u001b[0m\n\u001b[1;32m     30\u001b[0m \u001b[0;34m\u001b[0m\u001b[0m\n\u001b[1;32m     31\u001b[0m     \u001b[0;32melif\u001b[0m \u001b[0mstrategy\u001b[0m \u001b[0;34m==\u001b[0m \u001b[0;34m\"global_frequency\"\u001b[0m\u001b[0;34m:\u001b[0m\u001b[0;34m\u001b[0m\u001b[0;34m\u001b[0m\u001b[0m\n\u001b[0;32m---> 32\u001b[0;31m         \u001b[0mdf\u001b[0m \u001b[0;34m=\u001b[0m \u001b[0mglobal_frequency\u001b[0m\u001b[0;34m(\u001b[0m\u001b[0mdf\u001b[0m\u001b[0;34m)\u001b[0m\u001b[0;34m\u001b[0m\u001b[0;34m\u001b[0m\u001b[0m\n\u001b[0m\u001b[1;32m     33\u001b[0m \u001b[0;34m\u001b[0m\u001b[0m\n\u001b[1;32m     34\u001b[0m     \u001b[0;32melif\u001b[0m \u001b[0mstrategy\u001b[0m \u001b[0;34m==\u001b[0m \u001b[0;34m\"league_frequency\"\u001b[0m\u001b[0;34m:\u001b[0m\u001b[0;34m\u001b[0m\u001b[0;34m\u001b[0m\u001b[0m\n",
      "\u001b[0;32m~/ds/kaggle/football-match-prediction/src/ml/estimators_lib/fill_proba.py\u001b[0m in \u001b[0;36mglobal_frequency\u001b[0;34m(df)\u001b[0m\n\u001b[1;32m      8\u001b[0m \u001b[0;34m\u001b[0m\u001b[0m\n\u001b[1;32m      9\u001b[0m \u001b[0;32mdef\u001b[0m \u001b[0mglobal_frequency\u001b[0m\u001b[0;34m(\u001b[0m\u001b[0mdf\u001b[0m\u001b[0;34m)\u001b[0m\u001b[0;34m:\u001b[0m\u001b[0;34m\u001b[0m\u001b[0;34m\u001b[0m\u001b[0m\n\u001b[0;32m---> 10\u001b[0;31m     \u001b[0mfreq\u001b[0m \u001b[0;34m=\u001b[0m \u001b[0mstats\u001b[0m\u001b[0;34m.\u001b[0m\u001b[0mfreq\u001b[0m\u001b[0;34m(\u001b[0m\u001b[0mdf\u001b[0m\u001b[0;34m,\u001b[0m \u001b[0mcolname\u001b[0m\u001b[0;34m=\u001b[0m\u001b[0;34m\"target\"\u001b[0m\u001b[0;34m)\u001b[0m\u001b[0;34m.\u001b[0m\u001b[0mdrop\u001b[0m\u001b[0;34m(\u001b[0m\u001b[0;34m*\u001b[0m\u001b[0;34m[\u001b[0m\u001b[0;34m\"Absolute\"\u001b[0m\u001b[0;34m]\u001b[0m\u001b[0;34m)\u001b[0m\u001b[0;34m\u001b[0m\u001b[0;34m\u001b[0m\u001b[0m\n\u001b[0m\u001b[1;32m     11\u001b[0m \u001b[0;34m\u001b[0m\u001b[0m\n\u001b[1;32m     12\u001b[0m     df = df.withColumn(\"home\",\n",
      "\u001b[0;32m~/ds/kaggle/football-match-prediction/src/utils/stats.py\u001b[0m in \u001b[0;36mfreq\u001b[0;34m(df, colname, round_n)\u001b[0m\n\u001b[1;32m      7\u001b[0m \u001b[0;34m\u001b[0m\u001b[0m\n\u001b[1;32m      8\u001b[0m \u001b[0;32mdef\u001b[0m \u001b[0mfreq\u001b[0m\u001b[0;34m(\u001b[0m\u001b[0mdf\u001b[0m\u001b[0;34m,\u001b[0m \u001b[0mcolname\u001b[0m\u001b[0;34m,\u001b[0m \u001b[0mround_n\u001b[0m\u001b[0;34m=\u001b[0m\u001b[0;32mNone\u001b[0m\u001b[0;34m)\u001b[0m\u001b[0;34m:\u001b[0m\u001b[0;34m\u001b[0m\u001b[0;34m\u001b[0m\u001b[0m\n\u001b[0;32m----> 9\u001b[0;31m     \u001b[0mfreq\u001b[0m \u001b[0;34m=\u001b[0m \u001b[0mdf\u001b[0m\u001b[0;34m.\u001b[0m\u001b[0mgroupBy\u001b[0m\u001b[0;34m(\u001b[0m\u001b[0mcolname\u001b[0m\u001b[0;34m)\u001b[0m\u001b[0;34m.\u001b[0m\u001b[0magg\u001b[0m\u001b[0;34m(\u001b[0m\u001b[0mf\u001b[0m\u001b[0;34m.\u001b[0m\u001b[0mcount\u001b[0m\u001b[0;34m(\u001b[0m\u001b[0;34m\"*\"\u001b[0m\u001b[0;34m)\u001b[0m\u001b[0;34m.\u001b[0m\u001b[0malias\u001b[0m\u001b[0;34m(\u001b[0m\u001b[0;34m\"Absolute\"\u001b[0m\u001b[0;34m)\u001b[0m\u001b[0;34m)\u001b[0m\u001b[0;34m\u001b[0m\u001b[0;34m\u001b[0m\u001b[0m\n\u001b[0m\u001b[1;32m     10\u001b[0m     \u001b[0mfreq\u001b[0m \u001b[0;34m=\u001b[0m \u001b[0mfreq\u001b[0m\u001b[0;34m.\u001b[0m\u001b[0mwithColumn\u001b[0m\u001b[0;34m(\u001b[0m\u001b[0;34m\"Relative\"\u001b[0m\u001b[0;34m,\u001b[0m \u001b[0mf\u001b[0m\u001b[0;34m.\u001b[0m\u001b[0mcol\u001b[0m\u001b[0;34m(\u001b[0m\u001b[0;34m\"Absolute\"\u001b[0m\u001b[0;34m)\u001b[0m \u001b[0;34m/\u001b[0m \u001b[0mdf\u001b[0m\u001b[0;34m.\u001b[0m\u001b[0mcount\u001b[0m\u001b[0;34m(\u001b[0m\u001b[0;34m)\u001b[0m\u001b[0;34m)\u001b[0m\u001b[0;34m\u001b[0m\u001b[0;34m\u001b[0m\u001b[0m\n\u001b[1;32m     11\u001b[0m \u001b[0;34m\u001b[0m\u001b[0m\n",
      "\u001b[0;32m~/anaconda3/lib/python3.9/site-packages/pyspark/sql/group.py\u001b[0m in \u001b[0;36magg\u001b[0;34m(self, *exprs)\u001b[0m\n\u001b[1;32m    116\u001b[0m             \u001b[0;31m# Columns\u001b[0m\u001b[0;34m\u001b[0m\u001b[0;34m\u001b[0m\u001b[0m\n\u001b[1;32m    117\u001b[0m             \u001b[0;32massert\u001b[0m \u001b[0mall\u001b[0m\u001b[0;34m(\u001b[0m\u001b[0misinstance\u001b[0m\u001b[0;34m(\u001b[0m\u001b[0mc\u001b[0m\u001b[0;34m,\u001b[0m \u001b[0mColumn\u001b[0m\u001b[0;34m)\u001b[0m \u001b[0;32mfor\u001b[0m \u001b[0mc\u001b[0m \u001b[0;32min\u001b[0m \u001b[0mexprs\u001b[0m\u001b[0;34m)\u001b[0m\u001b[0;34m,\u001b[0m \u001b[0;34m\"all exprs should be Column\"\u001b[0m\u001b[0;34m\u001b[0m\u001b[0;34m\u001b[0m\u001b[0m\n\u001b[0;32m--> 118\u001b[0;31m             jdf = self._jgd.agg(exprs[0]._jc,\n\u001b[0m\u001b[1;32m    119\u001b[0m                                 _to_seq(self.sql_ctx._sc, [c._jc for c in exprs[1:]]))\n\u001b[1;32m    120\u001b[0m         \u001b[0;32mreturn\u001b[0m \u001b[0mDataFrame\u001b[0m\u001b[0;34m(\u001b[0m\u001b[0mjdf\u001b[0m\u001b[0;34m,\u001b[0m \u001b[0mself\u001b[0m\u001b[0;34m.\u001b[0m\u001b[0msql_ctx\u001b[0m\u001b[0;34m)\u001b[0m\u001b[0;34m\u001b[0m\u001b[0;34m\u001b[0m\u001b[0m\n",
      "\u001b[0;32m~/anaconda3/lib/python3.9/site-packages/py4j/java_gateway.py\u001b[0m in \u001b[0;36m__call__\u001b[0;34m(self, *args)\u001b[0m\n\u001b[1;32m   1307\u001b[0m \u001b[0;34m\u001b[0m\u001b[0m\n\u001b[1;32m   1308\u001b[0m         \u001b[0manswer\u001b[0m \u001b[0;34m=\u001b[0m \u001b[0mself\u001b[0m\u001b[0;34m.\u001b[0m\u001b[0mgateway_client\u001b[0m\u001b[0;34m.\u001b[0m\u001b[0msend_command\u001b[0m\u001b[0;34m(\u001b[0m\u001b[0mcommand\u001b[0m\u001b[0;34m)\u001b[0m\u001b[0;34m\u001b[0m\u001b[0;34m\u001b[0m\u001b[0m\n\u001b[0;32m-> 1309\u001b[0;31m         return_value = get_return_value(\n\u001b[0m\u001b[1;32m   1310\u001b[0m             answer, self.gateway_client, self.target_id, self.name)\n\u001b[1;32m   1311\u001b[0m \u001b[0;34m\u001b[0m\u001b[0m\n",
      "\u001b[0;32m~/anaconda3/lib/python3.9/site-packages/pyspark/sql/utils.py\u001b[0m in \u001b[0;36mdeco\u001b[0;34m(*a, **kw)\u001b[0m\n\u001b[1;32m    115\u001b[0m                 \u001b[0;31m# Hide where the exception came from that shows a non-Pythonic\u001b[0m\u001b[0;34m\u001b[0m\u001b[0;34m\u001b[0m\u001b[0m\n\u001b[1;32m    116\u001b[0m                 \u001b[0;31m# JVM exception message.\u001b[0m\u001b[0;34m\u001b[0m\u001b[0;34m\u001b[0m\u001b[0m\n\u001b[0;32m--> 117\u001b[0;31m                 \u001b[0;32mraise\u001b[0m \u001b[0mconverted\u001b[0m \u001b[0;32mfrom\u001b[0m \u001b[0;32mNone\u001b[0m\u001b[0;34m\u001b[0m\u001b[0;34m\u001b[0m\u001b[0m\n\u001b[0m\u001b[1;32m    118\u001b[0m             \u001b[0;32melse\u001b[0m\u001b[0;34m:\u001b[0m\u001b[0;34m\u001b[0m\u001b[0;34m\u001b[0m\u001b[0m\n\u001b[1;32m    119\u001b[0m                 \u001b[0;32mraise\u001b[0m\u001b[0;34m\u001b[0m\u001b[0;34m\u001b[0m\u001b[0m\n",
      "\u001b[0;31mAnalysisException\u001b[0m: cannot resolve 'target' given input columns: [away_history_mood_mean, away_mood_diff, away_result_history_mean, away_team_name, draw_factor, home_factor, home_history_mood_mean, home_mood_diff, home_result_history_mean, home_team_name, id, league_id, league_name, match_date];\n'Aggregate ['target], ['target, count(1) AS Absolute#5686L]\n+- Filter (((((((((((((isnull(id#5310) OR isnull(home_team_name#5311)) OR isnull(away_team_name#5312)) OR isnull(match_date#5313)) OR isnull(league_name#5314)) OR isnull(league_id#5315)) OR isnull(home_mood_diff#5316)) OR isnull(away_mood_diff#5317)) OR isnull(home_history_mood_mean#5318)) OR isnull(away_history_mood_mean#5319)) OR isnull(home_result_history_mean#5320)) OR isnull(away_result_history_mean#5321)) OR isnull(home_factor#5322)) OR isnull(draw_factor#5323))\n   +- Relation [id#5310,home_team_name#5311,away_team_name#5312,match_date#5313,league_name#5314,league_id#5315,home_mood_diff#5316,away_mood_diff#5317,home_history_mood_mean#5318,away_history_mood_mean#5319,home_result_history_mean#5320,away_result_history_mean#5321,home_factor#5322,draw_factor#5323] csv\n"
     ]
    }
   ],
   "source": [
    "df_test = dao_processed.load_processed_data(which_dataset=\"test\", id=id_data_build, spark=spark)\n",
    "\n",
    "# df_test = df_test.drop(*[\"home_factor\", \"draw_factor\"])\n",
    "# use_features.remove(\"home_factor\")\n",
    "# use_features.remove(\"draw_factor\")\n",
    "\n",
    "print(df_test.printSchema())\n",
    "df_test.select(use_features).limit(5).show()\n",
    "\n",
    "if \"target\" in basic_cols:\n",
    "    basic_cols.remove(\"target\")\n",
    "\n",
    "df_test_na = dflib.filter_any_null(df_test)\n",
    "df_test = DropNaTransformer().transform(df_test)\n",
    "\n",
    "if full_train:\n",
    "    fill_proba_X = df_ttrain.union(df_tvalid)\n",
    "else:\n",
    "    fill_proba_X = df_ttrain\n",
    "    \n",
    "print(\"FillProbaEstimator\")\n",
    "use_df_na_proba_filled_test = FillProbaEstimator(strategy=\"global_frequency\", \n",
    "                                                 labels=target_indexer_transformer.labels, \n",
    "                                                 output_col=\"proba\").fit(fill_proba_X).transform(df_test_na)\n",
    "\n",
    "use_df_na_proba_filled_test = prediction_numeric(use_df_na_proba_filled_test, target_indexer_transformer.labels)\n",
    "    \n",
    "df_test = feature_assembler_transformer.transform(df_test.select(basic_cols + use_features))\n",
    "\n",
    "\n",
    "df_test_na = pipeline_model_na.transform(df_test_na.select(basic_cols))\n",
    "df_test = pipeline_model_test.transform(df_test.select(basic_cols + use_features))"
   ]
  },
  {
   "cell_type": "code",
   "execution_count": null,
   "id": "ed8d1cb2",
   "metadata": {
    "scrolled": false
   },
   "outputs": [],
   "source": [
    "print(dflib.shape(df_test_na))\n",
    "print(dflib.shape(df_test))"
   ]
  },
  {
   "cell_type": "code",
   "execution_count": null,
   "id": "6a89b095",
   "metadata": {},
   "outputs": [],
   "source": [
    "print(dflib.shape(df_test_na))\n",
    "print(dflib.shape(df_test))"
   ]
  },
  {
   "cell_type": "code",
   "execution_count": null,
   "id": "264a414c",
   "metadata": {
    "scrolled": false
   },
   "outputs": [],
   "source": [
    "rf = RandomForestClassifier(labelCol=\"target_indexed\", \n",
    "                            probabilityCol='proba', \n",
    "                            featuresCol=\"features\", \n",
    "                            numTrees=60,\n",
    "                            maxDepth=7,\n",
    "                            subsamplingRate=0.7)\n",
    "\n",
    "if full_train:\n",
    "    X = use_df_train_complete\n",
    "else:\n",
    "    X = use_df_ttrain\n",
    "\n",
    "print(\"training\")\n",
    "model = rf.fit(X)"
   ]
  },
  {
   "cell_type": "code",
   "execution_count": null,
   "id": "f1f69d4e",
   "metadata": {},
   "outputs": [],
   "source": [
    "X_preds = model.transform(X).select([\"id\", \"prediction\", \"proba\", \"target\", \"target_indexed\"])\n",
    "\n",
    "metrics_X = metrics.get_metrics(X_preds, \n",
    "                                labelCol=\"target_indexed\", \n",
    "                                predictionCol=\"prediction\", \n",
    "                                probabilityCol=\"proba\")"
   ]
  },
  {
   "cell_type": "code",
   "execution_count": null,
   "id": "3abf029a",
   "metadata": {},
   "outputs": [],
   "source": [
    "metrics_X"
   ]
  },
  {
   "cell_type": "code",
   "execution_count": null,
   "id": "159816f7",
   "metadata": {},
   "outputs": [],
   "source": [
    "preds = model.transform(df_test).select([\"id\", \"prediction\", \"proba\"])\n",
    "preds = preds.union(use_df_na_proba_filled_test.select([\"id\", \"prediction\", \"proba\"]))"
   ]
  },
  {
   "cell_type": "code",
   "execution_count": null,
   "id": "052155b3",
   "metadata": {},
   "outputs": [],
   "source": [
    "dflib.shape(preds)"
   ]
  },
  {
   "cell_type": "code",
   "execution_count": null,
   "id": "c66c7738",
   "metadata": {},
   "outputs": [],
   "source": [
    "preds.printSchema()"
   ]
  },
  {
   "cell_type": "code",
   "execution_count": null,
   "id": "4a41c619",
   "metadata": {},
   "outputs": [],
   "source": [
    "dflib.shape(preds)"
   ]
  },
  {
   "cell_type": "code",
   "execution_count": null,
   "id": "d73e932f",
   "metadata": {
    "scrolled": false
   },
   "outputs": [],
   "source": [
    "preds.limit(5).show()"
   ]
  },
  {
   "cell_type": "code",
   "execution_count": null,
   "id": "159fc675",
   "metadata": {},
   "outputs": [],
   "source": [
    "from pyspark.ml.functions import vector_to_array\n",
    "\n",
    "\n",
    "def build_submission(df, labels, proba_colname):\n",
    "    df = df.select([\"id\", proba_colname])\n",
    "    \n",
    "#     for i in range(len(labels)):\n",
    "#         label = labels[i]\n",
    "#         df = df.withColumn(label, f.col(proba_colname)[i])\n",
    "\n",
    "    df = df.withColumn(\"xs\", vector_to_array(\"proba\")).select([\"id\"] + [f.col(\"xs\")[i].alias(labels[i]) for i in range(3)])\n",
    "    \n",
    "    df = df.drop(*[proba_colname])\n",
    "    return df\n",
    "\n",
    "submission = build_submission(df=preds, labels=target_indexer_transformer.labels, proba_colname=\"proba\")\n",
    "submission.limit(5).show()"
   ]
  },
  {
   "cell_type": "code",
   "execution_count": null,
   "id": "58a229ac",
   "metadata": {},
   "outputs": [],
   "source": [
    "# dao_ml.save_preds(preds_df=submission, metadata=[])"
   ]
  },
  {
   "cell_type": "code",
   "execution_count": null,
   "id": "4ba29070",
   "metadata": {},
   "outputs": [],
   "source": [
    "submission.toPandas().to_csv(\"data/preds/preds4444.csv\", index=False, sep=\",\")"
   ]
  },
  {
   "cell_type": "code",
   "execution_count": null,
   "id": "fbe3b29c",
   "metadata": {},
   "outputs": [],
   "source": [
    "submission.count()"
   ]
  },
  {
   "cell_type": "code",
   "execution_count": null,
   "id": "5bbe806d",
   "metadata": {},
   "outputs": [],
   "source": []
  },
  {
   "cell_type": "code",
   "execution_count": null,
   "id": "05fbdc50",
   "metadata": {},
   "outputs": [],
   "source": []
  }
 ],
 "metadata": {
  "kernelspec": {
   "display_name": "Python 3 (ipykernel)",
   "language": "python",
   "name": "python3"
  },
  "language_info": {
   "codemirror_mode": {
    "name": "ipython",
    "version": 3
   },
   "file_extension": ".py",
   "mimetype": "text/x-python",
   "name": "python",
   "nbconvert_exporter": "python",
   "pygments_lexer": "ipython3",
   "version": "3.9.7"
  }
 },
 "nbformat": 4,
 "nbformat_minor": 5
}
