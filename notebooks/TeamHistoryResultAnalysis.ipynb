{
 "cells": [
  {
   "cell_type": "markdown",
   "id": "ed008c12",
   "metadata": {},
   "source": [
    "# TeamHistoryResultAnalysis\n",
    "Notebook to explore ways to use data associated to the teams and its coaches"
   ]
  },
  {
   "cell_type": "code",
   "execution_count": 1,
   "id": "88e9bb5d",
   "metadata": {},
   "outputs": [
    {
     "data": {
      "text/plain": [
       "'/Users/tales.pimentel/ds/kaggle/football-match-prediction'"
      ]
     },
     "execution_count": 1,
     "metadata": {},
     "output_type": "execute_result"
    }
   ],
   "source": [
    "import os\n",
    "from working_dir import set_wd\n",
    "set_wd()\n",
    "os.getcwd()"
   ]
  },
  {
   "cell_type": "code",
   "execution_count": 2,
   "id": "448f5a9c",
   "metadata": {},
   "outputs": [],
   "source": [
    "from pyspark.sql import SparkSession\n",
    "spark = SparkSession.builder.appName(\"TeamHistoryAnalysis\").getOrCreate()"
   ]
  },
  {
   "cell_type": "code",
   "execution_count": 3,
   "id": "770675a1",
   "metadata": {},
   "outputs": [],
   "source": [
    "import pyspark.sql.functions as f\n",
    "from pyspark.sql.functions import when\n",
    "import matplotlib.pyplot as plt\n",
    "\n",
    "from src.dao import dao_raw, dao_interim, columns\n",
    "from src.utils import dflib, stats, pretties, plot"
   ]
  },
  {
   "cell_type": "code",
   "execution_count": 4,
   "id": "782f8572",
   "metadata": {},
   "outputs": [],
   "source": [
    "pretties.max_data_frame_columns()"
   ]
  },
  {
   "cell_type": "markdown",
   "id": "8e0db4ff",
   "metadata": {},
   "source": [
    "# Loading Data"
   ]
  },
  {
   "cell_type": "code",
   "execution_count": 5,
   "id": "d3d696c5",
   "metadata": {},
   "outputs": [
    {
     "name": "stdout",
     "output_type": "stream",
     "text": [
      "ttrain: (87470, 70)\n",
      "scores: (110938, 3)\n"
     ]
    }
   ],
   "source": [
    "ttrain = dao_interim.load_train_train_data(spark)\n",
    "scores = dao_raw.load_parse_scores_data(spark)\n",
    "\n",
    "drop_cols = columns.team_history_rating_cols + \\\n",
    "            columns.team_history_is_cup_cols + \\\n",
    "            columns.team_history_is_play_home_cols + \\\n",
    "            columns.team_history_match_date_cols + \\\n",
    "            columns.team_history_league_id_cols\n",
    "\n",
    "ttrain = ttrain.drop(*drop_cols)\n",
    "\n",
    "print(f\"ttrain: {dflib.shape(ttrain)}\")\n",
    "print(f\"scores: {dflib.shape(scores)}\")"
   ]
  },
  {
   "cell_type": "code",
   "execution_count": 6,
   "id": "f82da485",
   "metadata": {},
   "outputs": [
    {
     "name": "stdout",
     "output_type": "stream",
     "text": [
      "train: (87470, 71)\n"
     ]
    }
   ],
   "source": [
    "ttrain = scores.select([\"id\", \"score\"]).join(ttrain, on=\"id\", how=\"inner\")\n",
    "print(f\"train: {dflib.shape(ttrain)}\")"
   ]
  },
  {
   "cell_type": "code",
   "execution_count": 7,
   "id": "b97c6fbb",
   "metadata": {},
   "outputs": [],
   "source": [
    "basic_cols = ['id', 'score', 'target', 'home_team_name', 'away_team_name', \n",
    "              'match_date', 'league_name']"
   ]
  },
  {
   "cell_type": "markdown",
   "id": "94d3f388",
   "metadata": {},
   "source": [
    "# Coach Analysis"
   ]
  },
  {
   "cell_type": "markdown",
   "id": "fb2b0e0f",
   "metadata": {},
   "source": [
    "### How many matches with invalid coach_id?"
   ]
  },
  {
   "cell_type": "code",
   "execution_count": 8,
   "id": "4ac5b3d4",
   "metadata": {},
   "outputs": [
    {
     "name": "stdout",
     "output_type": "stream",
     "text": [
      "HOME total: 16285 freq: 0.1862\n",
      "AWAY total: 16351 freq: 0.1869\n"
     ]
    }
   ],
   "source": [
    "null_home_coach_matches = ttrain.filter(f.col(\"home_team_coach_id\").isNull()).count()\n",
    "null_away_coach_matches = ttrain.filter(f.col(\"away_team_coach_id\").isNull()).count()\n",
    "\n",
    "print(\"HOME\", \"total:\", null_home_coach_matches, \"freq:\", round(null_home_coach_matches / ttrain.count(), 4))\n",
    "print(\"AWAY\", \"total:\", null_away_coach_matches, \"freq:\", round(null_away_coach_matches / ttrain.count(), 4))"
   ]
  },
  {
   "cell_type": "markdown",
   "id": "a35ed72f",
   "metadata": {},
   "source": [
    "### How many matches the coach had played? "
   ]
  },
  {
   "cell_type": "code",
   "execution_count": 9,
   "id": "da26eb15",
   "metadata": {},
   "outputs": [
    {
     "name": "stdout",
     "output_type": "stream",
     "text": [
      "HOME\n",
      "+------------------+---------+\n",
      "|home_team_coach_id|n_matches|\n",
      "+------------------+---------+\n",
      "|              null|    16285|\n",
      "|        37252510.0|     4455|\n",
      "|          524307.0|       40|\n",
      "|         2511092.0|       40|\n",
      "|            7862.0|       39|\n",
      "+------------------+---------+\n",
      "\n",
      "+---------+--------+--------+\n",
      "|n_matches|Absolute|Relative|\n",
      "+---------+--------+--------+\n",
      "|        1|     933|   0.119|\n",
      "|        2|     713|  0.0909|\n",
      "|        3|     639|  0.0815|\n",
      "|        4|     534|  0.0681|\n",
      "|        5|     507|  0.0647|\n",
      "+---------+--------+--------+\n",
      "\n"
     ]
    },
    {
     "data": {
      "image/png": "[encoded data removed]",
      "text/plain": [
       "<Figure size 432x216 with 1 Axes>"
      ]
     },
     "metadata": {
      "needs_background": "light"
     },
     "output_type": "display_data"
    },
    {
     "data": {
      "text/html": [
       "<hr style=\"height:1px;border:none;color:#333;background-color:#333;\" />"
      ],
      "text/plain": [
       "<IPython.core.display.HTML object>"
      ]
     },
     "metadata": {},
     "output_type": "display_data"
    },
    {
     "name": "stdout",
     "output_type": "stream",
     "text": [
      "AWAY\n",
      "+------------------+---------+\n",
      "|away_team_coach_id|n_matches|\n",
      "+------------------+---------+\n",
      "|              null|    16351|\n",
      "|        37252510.0|     4512|\n",
      "|          455361.0|       39|\n",
      "|          466541.0|       38|\n",
      "|          524307.0|       38|\n",
      "+------------------+---------+\n",
      "\n",
      "+---------+--------+--------+\n",
      "|n_matches|Absolute|Relative|\n",
      "+---------+--------+--------+\n",
      "|        1|     958|  0.1204|\n",
      "|        2|     785|  0.0986|\n",
      "|        3|     633|  0.0795|\n",
      "|        4|     574|  0.0721|\n",
      "|        6|     479|  0.0602|\n",
      "+---------+--------+--------+\n",
      "\n"
     ]
    },
    {
     "data": {
      "image/png": "[encoded data removed]",
      "text/plain": [
       "<Figure size 432x216 with 1 Axes>"
      ]
     },
     "metadata": {
      "needs_background": "light"
     },
     "output_type": "display_data"
    }
   ],
   "source": [
    "home_coach_n_matches = ttrain.groupBy(\"home_team_coach_id\").agg(f.count(\"*\").alias(\"n_matches\")).sort(\"n_matches\", ascending=False)\n",
    "away_coach_n_matches = ttrain.groupBy(\"away_team_coach_id\").agg(f.count(\"*\").alias(\"n_matches\")).sort(\"n_matches\", ascending=False)\n",
    "\n",
    "print(\"HOME\")\n",
    "home_coach_n_matches.limit(5).show()\n",
    "stats.freq(home_coach_n_matches, \"n_matches\", 4).sort(\"Absolute\", ascending=False).limit(5).show()\n",
    "plot.hist(home_coach_n_matches.filter(f.col(\"n_matches\") < 1000), \"n_matches\", ylabel=\"coaches count\", bins=10, title=\"Matches played by the coaches\")\n",
    "pretties.hr()\n",
    "print(\"AWAY\")\n",
    "away_coach_n_matches.limit(5).show()\n",
    "stats.freq(away_coach_n_matches, \"n_matches\", 4).sort(\"Absolute\", ascending=False).limit(5).show()\n",
    "plot.hist(away_coach_n_matches.filter(f.col(\"n_matches\") < 1000), \"n_matches\", ylabel=\"coaches count\", bins=10, title=\"Matches played by the coaches\")"
   ]
  },
  {
   "cell_type": "markdown",
   "id": "dc152fe7",
   "metadata": {},
   "source": [
    "### How many coaches the club had? "
   ]
  },
  {
   "cell_type": "code",
   "execution_count": 10,
   "id": "a5131806",
   "metadata": {},
   "outputs": [
    {
     "name": "stdout",
     "output_type": "stream",
     "text": [
      "HOME\n",
      "+-------+--------+--------+\n",
      "|n_clubs|Absolute|Relative|\n",
      "+-------+--------+--------+\n",
      "|      1|    6860|  0.8748|\n",
      "|      2|     905|  0.1154|\n",
      "|      3|      71|  0.0091|\n",
      "|      4|       4|  5.0E-4|\n",
      "|   4053|       1|  1.0E-4|\n",
      "|   1588|       1|  1.0E-4|\n",
      "+-------+--------+--------+\n",
      "\n",
      "+------------------+-------+\n",
      "|home_team_coach_id|n_clubs|\n",
      "+------------------+-------+\n",
      "|              null|   4053|\n",
      "|        37252510.0|   1588|\n",
      "|          456680.0|      4|\n",
      "|        37341751.0|      4|\n",
      "+------------------+-------+\n",
      "\n"
     ]
    },
    {
     "data": {
      "text/html": [
       "<hr style=\"height:1px;border:none;color:#333;background-color:#333;\" />"
      ],
      "text/plain": [
       "<IPython.core.display.HTML object>"
      ]
     },
     "metadata": {},
     "output_type": "display_data"
    },
    {
     "name": "stdout",
     "output_type": "stream",
     "text": [
      "AWAY\n",
      "+-------+--------+--------+\n",
      "|n_clubs|Absolute|Relative|\n",
      "+-------+--------+--------+\n",
      "|      1|    6955|  0.8739|\n",
      "|      2|     928|  0.1166|\n",
      "|      3|      68|  0.0085|\n",
      "|      4|       6|  8.0E-4|\n",
      "|   4126|       1|  1.0E-4|\n",
      "|   1628|       1|  1.0E-4|\n",
      "+-------+--------+--------+\n",
      "\n",
      "+------------------+-------+\n",
      "|away_team_coach_id|n_clubs|\n",
      "+------------------+-------+\n",
      "|              null|   4126|\n",
      "|        37252510.0|   1628|\n",
      "|          459324.0|      4|\n",
      "|          524244.0|      4|\n",
      "+------------------+-------+\n",
      "\n"
     ]
    }
   ],
   "source": [
    "home_clubs_per_coach = ttrain.groupBy(\"home_team_coach_id\").agg(f.count_distinct(\"home_team_name\").alias(\"n_clubs\")).sort(\"n_clubs\", ascending=False)\n",
    "away_clubs_per_coach = ttrain.groupBy(\"away_team_coach_id\").agg(f.count_distinct(\"away_team_name\").alias(\"n_clubs\")).sort(\"n_clubs\", ascending=False)\n",
    "\n",
    "print(\"HOME\")\n",
    "stats.freq(home_clubs_per_coach, \"n_clubs\", 4).sort(\"Absolute\", ascending=False).show()\n",
    "home_clubs_per_coach.limit(4).show()\n",
    "pretties.hr()\n",
    "print(\"AWAY\")\n",
    "stats.freq(away_clubs_per_coach, \"n_clubs\", 4).sort(\"Absolute\", ascending=False).show()\n",
    "away_clubs_per_coach.limit(4).show()"
   ]
  },
  {
   "cell_type": "markdown",
   "id": "1cbeb46d",
   "metadata": {},
   "source": [
    "### How many clubs the coach had?"
   ]
  },
  {
   "cell_type": "code",
   "execution_count": 11,
   "id": "f2c5dcb5",
   "metadata": {},
   "outputs": [
    {
     "name": "stdout",
     "output_type": "stream",
     "text": [
      "HOME\n",
      "+---------+--------+--------+\n",
      "|n_coaches|Absolute|Relative|\n",
      "+---------+--------+--------+\n",
      "|        1|    5141|  0.5452|\n",
      "|        0|    2127|  0.2256|\n",
      "|        2|    1435|  0.1522|\n",
      "|        3|     515|  0.0546|\n",
      "|        4|     147|  0.0156|\n",
      "|        5|      42|  0.0045|\n",
      "|        6|      21|  0.0022|\n",
      "|        7|       1|  1.0E-4|\n",
      "+---------+--------+--------+\n",
      "\n",
      "+--------------+---------+\n",
      "|home_team_name|n_coaches|\n",
      "+--------------+---------+\n",
      "| Independiente|        7|\n",
      "|   Denizlispor|        6|\n",
      "|      Arambagh|        6|\n",
      "|       Ismaily|        6|\n",
      "| Balıkesirspor|        6|\n",
      "|         APOEL|        6|\n",
      "+--------------+---------+\n",
      "\n"
     ]
    },
    {
     "data": {
      "text/html": [
       "<hr style=\"height:1px;border:none;color:#333;background-color:#333;\" />"
      ],
      "text/plain": [
       "<IPython.core.display.HTML object>"
      ]
     },
     "metadata": {},
     "output_type": "display_data"
    },
    {
     "name": "stdout",
     "output_type": "stream",
     "text": [
      "AWAY\n",
      "+---------+--------+--------+\n",
      "|n_coaches|Absolute|Relative|\n",
      "+---------+--------+--------+\n",
      "|        1|    5141|  0.5452|\n",
      "|        0|    2127|  0.2256|\n",
      "|        2|    1435|  0.1522|\n",
      "|        3|     515|  0.0546|\n",
      "|        4|     147|  0.0156|\n",
      "|        5|      42|  0.0045|\n",
      "|        6|      21|  0.0022|\n",
      "|        7|       1|  1.0E-4|\n",
      "+---------+--------+--------+\n",
      "\n",
      "+--------------+---------+\n",
      "|home_team_name|n_coaches|\n",
      "+--------------+---------+\n",
      "| Independiente|        7|\n",
      "|   Denizlispor|        6|\n",
      "|      Arambagh|        6|\n",
      "|       Ismaily|        6|\n",
      "| Balıkesirspor|        6|\n",
      "|         APOEL|        6|\n",
      "+--------------+---------+\n",
      "\n"
     ]
    }
   ],
   "source": [
    "home_coaches_per_club = ttrain.groupBy(\"home_team_name\").agg(f.count_distinct(\"home_team_coach_id\").alias(\"n_coaches\")).sort(\"n_coaches\", ascending=False)\n",
    "away_coaches_per_club = ttrain.groupBy(\"away_team_name\").agg(f.count_distinct(\"away_team_coach_id\").alias(\"n_coaches\")).sort(\"n_coaches\", ascending=False)\n",
    "\n",
    "print(\"HOME\")\n",
    "stats.freq(home_coaches_per_club, \"n_coaches\", 4).sort(\"Absolute\", ascending=False).show()\n",
    "home_coaches_per_club.limit(6).show()\n",
    "pretties.hr()\n",
    "print(\"AWAY\")\n",
    "stats.freq(home_coaches_per_club, \"n_coaches\", 4).sort(\"Absolute\", ascending=False).show()\n",
    "home_coaches_per_club.limit(6).show()"
   ]
  },
  {
   "cell_type": "markdown",
   "id": "5d820713",
   "metadata": {},
   "source": [
    "#### Notes\n",
    "Unfortunately, due to the huge number of invalid coach_id, the decision taken is to switch to team analysis instead."
   ]
  },
  {
   "cell_type": "markdown",
   "id": "c9dab953",
   "metadata": {},
   "source": [
    "# Team Analysis"
   ]
  },
  {
   "cell_type": "markdown",
   "id": "ce1755d3",
   "metadata": {},
   "source": [
    "### How frequent were the team victories?"
   ]
  },
  {
   "cell_type": "code",
   "execution_count": 12,
   "id": "4a14a0cb",
   "metadata": {},
   "outputs": [],
   "source": [
    "def team_history_result(df, which, team_goals_cols, team_opponent_goals_cols):\n",
    "\n",
    "    for i in range(1, 11, 1):\n",
    "        team_goals_colname = team_goals_cols[i-1]\n",
    "        team_opponent_goals_colname = team_opponent_goals_cols[i-1]\n",
    "\n",
    "        team_result_history = f\"{which}_result_history_{i}\"\n",
    "        \n",
    "        df = df.withColumn(\n",
    "             team_result_history, \n",
    "             f.col(team_goals_colname) - f.col(team_opponent_goals_colname)).withColumn(\n",
    "                 team_result_history, f.when(f.col(team_result_history) > 0, 1).otherwise(f.when(f.col(team_result_history) < 0, -1).otherwise(f.lit(0))))\n",
    "    return df"
   ]
  },
  {
   "cell_type": "code",
   "execution_count": 13,
   "id": "fe177822",
   "metadata": {},
   "outputs": [],
   "source": [
    "ttrain = team_history_result(ttrain, which=\"home\", \n",
    "                             team_goals_cols=columns.home_team_history_goal_cols, \n",
    "                             team_opponent_goals_cols=columns.home_team_history_opponent_goal_cols)\n",
    "\n",
    "ttrain = team_history_result(ttrain, which=\"away\", \n",
    "                             team_goals_cols=columns.away_team_history_goal_cols, \n",
    "                             team_opponent_goals_cols=columns.away_team_history_opponent_goal_cols)"
   ]
  },
  {
   "cell_type": "code",
   "execution_count": 14,
   "id": "f49a82ae",
   "metadata": {
    "scrolled": true
   },
   "outputs": [],
   "source": [
    "home_result_history_colnames = [f\"home_result_history_{i}\" for i in range(1,11,1)]\n",
    "away_result_history_colnames = [f\"away_result_history_{i}\" for i in range(1,11,1)]\n",
    "\n",
    "result_history_colnames = home_result_history_colnames + away_result_history_colnames"
   ]
  },
  {
   "cell_type": "code",
   "execution_count": 15,
   "id": "d8a1acfb",
   "metadata": {},
   "outputs": [],
   "source": [
    "home_result_history_mean = stats.row_mean(ttrain, home_result_history_colnames, \"home_result_history_mean\", index_colname=\"id\")\n",
    "away_result_history_mean = stats.row_mean(ttrain, away_result_history_colnames, \"away_result_history_mean\", index_colname=\"id\")"
   ]
  },
  {
   "cell_type": "code",
   "execution_count": 16,
   "id": "c848036d",
   "metadata": {},
   "outputs": [],
   "source": [
    "ttrain = ttrain.join(home_result_history_mean, on=\"id\", how=\"left\").join(away_result_history_mean, on=\"id\", how=\"left\")"
   ]
  },
  {
   "cell_type": "markdown",
   "id": "f1efe783",
   "metadata": {},
   "source": [
    "### Checking plots"
   ]
  },
  {
   "cell_type": "code",
   "execution_count": 17,
   "id": "c7532396",
   "metadata": {},
   "outputs": [
    {
     "name": "stdout",
     "output_type": "stream",
     "text": [
      "HOME\n",
      "+------+------+\n",
      "|target|median|\n",
      "+------+------+\n",
      "|  away|  -0.1|\n",
      "|  home|   0.1|\n",
      "|  draw|   0.0|\n",
      "+------+------+\n",
      "\n",
      "AWAY\n",
      "+------+------+\n",
      "|target|median|\n",
      "+------+------+\n",
      "|  away|   0.1|\n",
      "|  home|   0.0|\n",
      "|  draw|   0.0|\n",
      "+------+------+\n",
      "\n"
     ]
    }
   ],
   "source": [
    "print(\"HOME\")\n",
    "ttrain.groupBy(\"target\").agg(f.percentile_approx(\"home_result_history_mean\", 0.5).alias(\"median\")).show()\n",
    "print(\"AWAY\")\n",
    "ttrain.groupBy(\"target\").agg(f.percentile_approx(\"away_result_history_mean\", 0.5).alias(\"median\")).show()"
   ]
  },
  {
   "cell_type": "code",
   "execution_count": 18,
   "id": "bfd59fde",
   "metadata": {},
   "outputs": [
    {
     "data": {
      "image/png": "[encoded data removed]",
      "text/plain": [
       "<Figure size 432x216 with 1 Axes>"
      ]
     },
     "metadata": {
      "needs_background": "light"
     },
     "output_type": "display_data"
    },
    {
     "data": {
      "image/png": "[encoded data removed]",
      "text/plain": [
       "<Figure size 432x216 with 1 Axes>"
      ]
     },
     "metadata": {
      "needs_background": "light"
     },
     "output_type": "display_data"
    }
   ],
   "source": [
    "plot.hist_overlay(ttrain, \"target\", \"home_result_history_mean\", title=\"home_result_history_mean over targets\", alpha=0.3)\n",
    "plot.hist_overlay(ttrain, \"target\", \"away_result_history_mean\", title=\"away_result_history_mean over targets\", alpha=0.3)"
   ]
  },
  {
   "cell_type": "markdown",
   "id": "631ccb66",
   "metadata": {},
   "source": [
    "#### Notes\n",
    "It seems that when the AWAY team has a bad result_history_mean (less than 0) the HOME team wins almost double the times."
   ]
  },
  {
   "cell_type": "markdown",
   "id": "ec1e5713",
   "metadata": {},
   "source": [
    "# Conclusion\n",
    "\n",
    "Maybe this feature would help a little bit. <br>"
   ]
  },
  {
   "cell_type": "code",
   "execution_count": null,
   "id": "5ed23cee",
   "metadata": {},
   "outputs": [],
   "source": []
  }
 ],
 "metadata": {
  "kernelspec": {
   "display_name": "Python 3",
   "language": "python",
   "name": "python3"
  },
  "language_info": {
   "codemirror_mode": {
    "name": "ipython",
    "version": 3
   },
   "file_extension": ".py",
   "mimetype": "text/x-python",
   "name": "python",
   "nbconvert_exporter": "python",
   "pygments_lexer": "ipython3",
   "version": "3.8.8"
  }
 },
 "nbformat": 4,
 "nbformat_minor": 5
}
