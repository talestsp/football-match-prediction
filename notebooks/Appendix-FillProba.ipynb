{
 "cells": [
  {
   "cell_type": "markdown",
   "id": "ed008c12",
   "metadata": {},
   "source": [
    "# Appendix - FillProba"
   ]
  },
  {
   "cell_type": "code",
   "execution_count": 1,
   "id": "88e9bb5d",
   "metadata": {},
   "outputs": [
    {
     "data": {
      "text/plain": [
       "'/home/tales/ds/kaggle/football-match-prediction'"
      ]
     },
     "execution_count": 1,
     "metadata": {},
     "output_type": "execute_result"
    }
   ],
   "source": [
    "import os\n",
    "from working_dir import set_wd\n",
    "set_wd()\n",
    "os.getcwd()"
   ]
  },
  {
   "cell_type": "code",
   "execution_count": 2,
   "id": "448f5a9c",
   "metadata": {},
   "outputs": [
    {
     "name": "stderr",
     "output_type": "stream",
     "text": [
      "22/05/15 16:04:54 WARN Utils: Your hostname, tales-samsung resolves to a loopback address: 127.0.1.1; using 192.168.0.104 instead (on interface wlxd03745e80dbf)\n",
      "22/05/15 16:04:54 WARN Utils: Set SPARK_LOCAL_IP if you need to bind to another address\n",
      "Using Spark's default log4j profile: org/apache/spark/log4j-defaults.properties\n",
      "Setting default log level to \"WARN\".\n",
      "To adjust logging level use sc.setLogLevel(newLevel). For SparkR, use setLogLevel(newLevel).\n",
      "22/05/15 16:04:54 WARN NativeCodeLoader: Unable to load native-hadoop library for your platform... using builtin-java classes where applicable\n"
     ]
    }
   ],
   "source": [
    "from pyspark.sql import SparkSession\n",
    "\n",
    "spark = SparkSession.builder.config(\"spark.sql.debug.maxToStringFields\", 500) \\\n",
    "                            .config(\"spark.driver.memory\", \"14g\") \\\n",
    "                            .appName(\"FillProba\").getOrCreate()\n",
    "\n",
    "spark.sparkContext.setLogLevel(\"ERROR\")"
   ]
  },
  {
   "cell_type": "code",
   "execution_count": 3,
   "id": "770675a1",
   "metadata": {},
   "outputs": [],
   "source": [
    "import numpy as np\n",
    "import pyspark.sql.functions as f\n",
    "from pyspark.ml.feature import VectorAssembler\n",
    "from src.ml.estimators import FillProbaEstimator\n",
    "from src.dao import dao, dao_processed, dao_raw, dao_interim\n",
    "from src.utils import dflib, stats, pretties, plot, plot_domain, palette"
   ]
  },
  {
   "cell_type": "code",
   "execution_count": 4,
   "id": "782f8572",
   "metadata": {},
   "outputs": [],
   "source": [
    "pretties.max_data_frame_columns()"
   ]
  },
  {
   "cell_type": "markdown",
   "id": "854af8c3",
   "metadata": {},
   "source": [
    "# Loading Data"
   ]
  },
  {
   "cell_type": "code",
   "execution_count": 5,
   "id": "6c1648a2",
   "metadata": {},
   "outputs": [],
   "source": [
    "df_ttrain = dao_interim.load_train_train_data(spark)\n",
    "# df_ttrain = dflib.sample(df_ttrain, 10000)\n",
    "\n",
    "df_tvalid = dao_interim.load_train_valid_data(spark)\n",
    "df_tvalid = dflib.sample(df_tvalid, 1000)"
   ]
  },
  {
   "cell_type": "markdown",
   "id": "6c45f8aa",
   "metadata": {},
   "source": [
    "# FillProbaEstimator"
   ]
  },
  {
   "cell_type": "code",
   "execution_count": 6,
   "id": "55d1e99c",
   "metadata": {},
   "outputs": [],
   "source": [
    "def dummy_classifier(df, labels, output_col):\n",
    "    df, df_na = df.randomSplit(weights=[0.8,0.2], seed=200)\n",
    "    \n",
    "    for label in labels:\n",
    "        df = df.withColumn(label, f.lit(np.random.randint(low=1, high=100) / 100))\n",
    "\n",
    "    feature_assembler_transformer = VectorAssembler(inputCols=labels,\n",
    "                                                    outputCol=output_col)\n",
    "    \n",
    "    df_na = df_na.withColumn(output_col, f.lit(None))\n",
    "    df = feature_assembler_transformer.transform(df).drop(*labels)\n",
    "    \n",
    "    return df.union(df_na)"
   ]
  },
  {
   "cell_type": "code",
   "execution_count": 7,
   "id": "8bb7bdc3",
   "metadata": {},
   "outputs": [],
   "source": [
    "# df_ttrain = dummy_classifier(df_ttrain, labels=[\"home\", \"draw\", \"away\"], output_col=\"proba\")"
   ]
  },
  {
   "cell_type": "code",
   "execution_count": 8,
   "id": "a78ca3f1",
   "metadata": {},
   "outputs": [],
   "source": [
    "df_tvalid = dummy_classifier(df_tvalid, labels=[\"home\", \"draw\", \"away\"], output_col=\"proba\")"
   ]
  },
  {
   "cell_type": "markdown",
   "id": "910b3b85",
   "metadata": {},
   "source": [
    "### Uniform Proba"
   ]
  },
  {
   "cell_type": "code",
   "execution_count": 9,
   "id": "477e07f1",
   "metadata": {},
   "outputs": [
    {
     "name": "stderr",
     "output_type": "stream",
     "text": [
      "                                                                                \r"
     ]
    },
    {
     "data": {
      "text/plain": [
       "FillProbaTransformer_e301b9a76cf4"
      ]
     },
     "execution_count": 9,
     "metadata": {},
     "output_type": "execute_result"
    }
   ],
   "source": [
    "fill_proba_transfomer = FillProbaEstimator(strategy=\"uniform_proba\",\n",
    "                                           labels=[\"home\", \"draw\", \"away\"], \n",
    "                                           proba_vector_col=\"proba\").fit(df_ttrain)\n",
    "fill_proba_transfomer"
   ]
  },
  {
   "cell_type": "code",
   "execution_count": 10,
   "id": "50d3b034",
   "metadata": {},
   "outputs": [
    {
     "name": "stderr",
     "output_type": "stream",
     "text": [
      "                                                                                \r"
     ]
    }
   ],
   "source": [
    "df_ttrain_transformed = fill_proba_transfomer.transform(df_tvalid)"
   ]
  },
  {
   "cell_type": "code",
   "execution_count": 11,
   "id": "6422c029",
   "metadata": {},
   "outputs": [
    {
     "name": "stderr",
     "output_type": "stream",
     "text": [
      "[Stage 59:==============>                                           (1 + 3) / 4]\r"
     ]
    },
    {
     "name": "stdout",
     "output_type": "stream",
     "text": [
      "+--------------------+--------+--------+\n",
      "|               proba|Absolute|Relative|\n",
      "+--------------------+--------+--------+\n",
      "|    [0.33,0.08,0.33]|     800|     0.8|\n",
      "|[0.3333334,0.3333...|     200|     0.2|\n",
      "+--------------------+--------+--------+\n",
      "\n"
     ]
    },
    {
     "name": "stderr",
     "output_type": "stream",
     "text": [
      "\r",
      "                                                                                \r"
     ]
    }
   ],
   "source": [
    "stats.freq(df_ttrain_transformed, \"proba\").show()"
   ]
  },
  {
   "cell_type": "markdown",
   "id": "e704532b",
   "metadata": {},
   "source": [
    "### Global Frequency"
   ]
  },
  {
   "cell_type": "code",
   "execution_count": 12,
   "id": "8b30d081",
   "metadata": {},
   "outputs": [
    {
     "name": "stderr",
     "output_type": "stream",
     "text": [
      "                                                                                \r"
     ]
    },
    {
     "data": {
      "text/plain": [
       "FillProbaTransformer_599f82782aa7"
      ]
     },
     "execution_count": 12,
     "metadata": {},
     "output_type": "execute_result"
    }
   ],
   "source": [
    "fill_proba_transfomer = FillProbaEstimator(strategy=\"global_frequency\",\n",
    "                                           labels=[\"home\", \"draw\", \"away\"], \n",
    "                                           proba_vector_col=\"proba\").fit(df_ttrain)\n",
    "fill_proba_transfomer"
   ]
  },
  {
   "cell_type": "code",
   "execution_count": 13,
   "id": "d9806f1a",
   "metadata": {},
   "outputs": [
    {
     "name": "stderr",
     "output_type": "stream",
     "text": [
      "                                                                                \r"
     ]
    }
   ],
   "source": [
    "df_ttrain_transformed = fill_proba_transfomer.transform(df_tvalid)"
   ]
  },
  {
   "cell_type": "code",
   "execution_count": 14,
   "id": "1fad1b4b",
   "metadata": {},
   "outputs": [
    {
     "name": "stderr",
     "output_type": "stream",
     "text": [
      "[Stage 109:==========================================>              (3 + 1) / 4]\r"
     ]
    },
    {
     "name": "stdout",
     "output_type": "stream",
     "text": [
      "+--------------------+--------+--------+\n",
      "|               proba|Absolute|Relative|\n",
      "+--------------------+--------+--------+\n",
      "|    [0.33,0.08,0.33]|     800|     0.8|\n",
      "|[0.43568080484737...|     200|     0.2|\n",
      "+--------------------+--------+--------+\n",
      "\n"
     ]
    },
    {
     "name": "stderr",
     "output_type": "stream",
     "text": [
      "\r",
      "                                                                                \r"
     ]
    }
   ],
   "source": [
    "stats.freq(df_ttrain_transformed, \"proba\").show()"
   ]
  },
  {
   "cell_type": "markdown",
   "id": "e981dae7",
   "metadata": {},
   "source": [
    "### League Frequency"
   ]
  },
  {
   "cell_type": "code",
   "execution_count": 15,
   "id": "95582763",
   "metadata": {},
   "outputs": [
    {
     "name": "stderr",
     "output_type": "stream",
     "text": [
      "                                                                                \r"
     ]
    },
    {
     "data": {
      "text/plain": [
       "FillProbaTransformer_c393f628b982"
      ]
     },
     "execution_count": 15,
     "metadata": {},
     "output_type": "execute_result"
    }
   ],
   "source": [
    "fill_proba_transfomer = FillProbaEstimator(strategy=\"league_frequency\",\n",
    "                                           labels=[\"home\", \"draw\", \"away\"], \n",
    "                                           proba_vector_col=\"proba\",\n",
    "                                           strategy_b=\"uniform_proba\").fit(df_ttrain)\n",
    "fill_proba_transfomer"
   ]
  },
  {
   "cell_type": "code",
   "execution_count": 16,
   "id": "1976b02f",
   "metadata": {
    "scrolled": false
   },
   "outputs": [
    {
     "name": "stderr",
     "output_type": "stream",
     "text": [
      "                                                                                \r"
     ]
    }
   ],
   "source": [
    "df_tvalid_transformed = fill_proba_transfomer.transform(df_tvalid)"
   ]
  },
  {
   "cell_type": "code",
   "execution_count": 17,
   "id": "68c3aa31",
   "metadata": {},
   "outputs": [
    {
     "name": "stderr",
     "output_type": "stream",
     "text": [
      "[Stage 217:=================================================>   (186 + 4) / 201]\r"
     ]
    },
    {
     "name": "stdout",
     "output_type": "stream",
     "text": [
      "+--------------------+--------+--------+\n",
      "|               proba|Absolute|Relative|\n",
      "+--------------------+--------+--------+\n",
      "|    [0.33,0.08,0.33]|     800|     0.8|\n",
      "|[0.3333334,0.3333...|     200|     0.2|\n",
      "+--------------------+--------+--------+\n",
      "\n"
     ]
    },
    {
     "name": "stderr",
     "output_type": "stream",
     "text": [
      "\r",
      "                                                                                \r"
     ]
    }
   ],
   "source": [
    "stats.freq(df_tvalid_transformed, \"proba\").show()"
   ]
  },
  {
   "cell_type": "code",
   "execution_count": 18,
   "id": "a1e256da",
   "metadata": {},
   "outputs": [
    {
     "name": "stdout",
     "output_type": "stream",
     "text": [
      "tvalid\n"
     ]
    },
    {
     "name": "stderr",
     "output_type": "stream",
     "text": [
      "                                                                                \r"
     ]
    },
    {
     "name": "stdout",
     "output_type": "stream",
     "text": [
      "1000 df_tvalid\n"
     ]
    },
    {
     "name": "stderr",
     "output_type": "stream",
     "text": [
      "                                                                                \r"
     ]
    },
    {
     "name": "stdout",
     "output_type": "stream",
     "text": [
      "1000 df_tvalid_transformed\n"
     ]
    },
    {
     "name": "stderr",
     "output_type": "stream",
     "text": [
      "[Stage 307:==================================================>  (190 + 4) / 201]\r"
     ]
    },
    {
     "name": "stdout",
     "output_type": "stream",
     "text": [
      "+--------------------+--------+--------+\n",
      "|               proba|Absolute|Relative|\n",
      "+--------------------+--------+--------+\n",
      "|    [0.33,0.08,0.33]|     800|     0.8|\n",
      "|[0.3333334,0.3333...|     200|     0.2|\n",
      "+--------------------+--------+--------+\n",
      "\n"
     ]
    },
    {
     "name": "stderr",
     "output_type": "stream",
     "text": [
      "\r",
      "                                                                                \r"
     ]
    }
   ],
   "source": [
    "print(\"tvalid\")\n",
    "print(df_tvalid.count(), \"df_tvalid\")\n",
    "print(df_tvalid_transformed.count(), \"df_tvalid_transformed\")\n",
    "stats.freq(df_tvalid_transformed, \"proba\").show()"
   ]
  },
  {
   "cell_type": "code",
   "execution_count": null,
   "id": "7de4e4e9",
   "metadata": {},
   "outputs": [],
   "source": []
  },
  {
   "cell_type": "code",
   "execution_count": null,
   "id": "4f4a1713",
   "metadata": {},
   "outputs": [],
   "source": []
  },
  {
   "cell_type": "code",
   "execution_count": null,
   "id": "bc3fbbee",
   "metadata": {},
   "outputs": [],
   "source": []
  },
  {
   "cell_type": "code",
   "execution_count": null,
   "id": "633ac5d6",
   "metadata": {},
   "outputs": [],
   "source": []
  },
  {
   "cell_type": "code",
   "execution_count": null,
   "id": "9549a5f9",
   "metadata": {},
   "outputs": [],
   "source": []
  }
 ],
 "metadata": {
  "kernelspec": {
   "display_name": "Python 3 (ipykernel)",
   "language": "python",
   "name": "python3"
  },
  "language_info": {
   "codemirror_mode": {
    "name": "ipython",
    "version": 3
   },
   "file_extension": ".py",
   "mimetype": "text/x-python",
   "name": "python",
   "nbconvert_exporter": "python",
   "pygments_lexer": "ipython3",
   "version": "3.9.7"
  }
 },
 "nbformat": 4,
 "nbformat_minor": 5
}
