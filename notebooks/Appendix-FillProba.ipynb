{
 "cells": [
  {
   "cell_type": "markdown",
   "id": "ed008c12",
   "metadata": {},
   "source": [
    "# Appendix - FillProba"
   ]
  },
  {
   "cell_type": "code",
   "execution_count": null,
   "id": "88e9bb5d",
   "metadata": {},
   "outputs": [],
   "source": [
    "import os\n",
    "from working_dir import set_wd\n",
    "set_wd()\n",
    "os.getcwd()"
   ]
  },
  {
   "cell_type": "code",
   "execution_count": null,
   "id": "448f5a9c",
   "metadata": {},
   "outputs": [],
   "source": [
    "from pyspark.sql import SparkSession\n",
    "\n",
    "spark = SparkSession.builder.config('spark.ui.showConsoleProgress', 'false') \\\n",
    "                            .config(\"spark.sql.debug.maxToStringFields\", 500) \\\n",
    "                            .config(\"spark.driver.memory\", \"12g\") \\\n",
    "                            .appName(\"FillProba\").getOrCreate()"
   ]
  },
  {
   "cell_type": "code",
   "execution_count": null,
   "id": "770675a1",
   "metadata": {},
   "outputs": [],
   "source": [
    "import numpy as np\n",
    "import pyspark.sql.functions as f\n",
    "from pyspark.ml.feature import VectorAssembler\n",
    "from src.ml.estimators import FillProbaEstimator\n",
    "from src.dao import dao, dao_processed, dao_raw, dao_interim\n",
    "from src.utils import dflib, stats, pretties, plot, plot_domain, palette"
   ]
  },
  {
   "cell_type": "code",
   "execution_count": null,
   "id": "782f8572",
   "metadata": {},
   "outputs": [],
   "source": [
    "pretties.max_data_frame_columns()"
   ]
  },
  {
   "cell_type": "markdown",
   "id": "854af8c3",
   "metadata": {},
   "source": [
    "# Loading Data"
   ]
  },
  {
   "cell_type": "code",
   "execution_count": null,
   "id": "6c1648a2",
   "metadata": {},
   "outputs": [],
   "source": [
    "df_ttrain = dao_interim.load_train_train_data(spark)\n",
    "df_tvalid = dao_interim.load_train_valid_data(spark)\n",
    "df_tvalid = dflib.sample(df_tvalid, 2000)"
   ]
  },
  {
   "cell_type": "markdown",
   "id": "6c45f8aa",
   "metadata": {},
   "source": [
    "# FillProbaEstimator"
   ]
  },
  {
   "cell_type": "code",
   "execution_count": null,
   "id": "55d1e99c",
   "metadata": {},
   "outputs": [],
   "source": [
    "def dummy_classifier(df, labels, output_col):\n",
    "    df, df_na = df.randomSplit(weights=[0.8,0.2], seed=200)\n",
    "    \n",
    "    for label in labels:\n",
    "        df = df.withColumn(label, f.lit(np.random.randint(low=1, high=100) / 100))\n",
    "\n",
    "    feature_assembler_transformer = VectorAssembler(inputCols=labels,\n",
    "                                                    outputCol=output_col)\n",
    "    \n",
    "    df_na = df_na.withColumn(output_col, f.lit(None))\n",
    "    df = feature_assembler_transformer.transform(df).drop(*labels)\n",
    "    \n",
    "    return df.union(df_na)"
   ]
  },
  {
   "cell_type": "code",
   "execution_count": null,
   "id": "a78ca3f1",
   "metadata": {},
   "outputs": [],
   "source": [
    "df_tvalid = dummy_classifier(df_tvalid, labels=[\"home\", \"draw\", \"away\"], output_col=\"proba\")"
   ]
  },
  {
   "cell_type": "markdown",
   "id": "910b3b85",
   "metadata": {},
   "source": [
    "### Uniform Proba"
   ]
  },
  {
   "cell_type": "code",
   "execution_count": null,
   "id": "477e07f1",
   "metadata": {},
   "outputs": [],
   "source": [
    "fill_proba_transfomer = FillProbaEstimator(strategy=\"uniform_proba\",\n",
    "                                           labels=[\"home\", \"draw\", \"away\"], \n",
    "                                           proba_vector_col=\"proba\").fit(df_ttrain)\n",
    "fill_proba_transfomer"
   ]
  },
  {
   "cell_type": "code",
   "execution_count": null,
   "id": "6a66d7e7",
   "metadata": {},
   "outputs": [],
   "source": [
    "dflib.shape(df_tvalid)"
   ]
  },
  {
   "cell_type": "code",
   "execution_count": null,
   "id": "50d3b034",
   "metadata": {},
   "outputs": [],
   "source": [
    "df_ttrain_transformed = fill_proba_transfomer.transform(df_tvalid)"
   ]
  },
  {
   "cell_type": "code",
   "execution_count": null,
   "id": "a32cc56c",
   "metadata": {},
   "outputs": [],
   "source": [
    "dflib.shape(df_ttrain_transformed)"
   ]
  },
  {
   "cell_type": "code",
   "execution_count": null,
   "id": "6422c029",
   "metadata": {},
   "outputs": [],
   "source": [
    "stats.freq(df_ttrain_transformed, \"proba\").show()"
   ]
  },
  {
   "cell_type": "markdown",
   "id": "e704532b",
   "metadata": {},
   "source": [
    "### Global Frequency"
   ]
  },
  {
   "cell_type": "code",
   "execution_count": null,
   "id": "8b30d081",
   "metadata": {},
   "outputs": [],
   "source": [
    "fill_proba_transfomer = FillProbaEstimator(strategy=\"global_frequency\",\n",
    "                                           labels=[\"home\", \"draw\", \"away\"], \n",
    "                                           proba_vector_col=\"proba\").fit(df_ttrain)\n",
    "fill_proba_transfomer"
   ]
  },
  {
   "cell_type": "code",
   "execution_count": null,
   "id": "d9aaa847",
   "metadata": {},
   "outputs": [],
   "source": [
    "dflib.shape(df_tvalid)"
   ]
  },
  {
   "cell_type": "code",
   "execution_count": null,
   "id": "d9806f1a",
   "metadata": {},
   "outputs": [],
   "source": [
    "df_ttrain_transformed = fill_proba_transfomer.transform(df_tvalid)"
   ]
  },
  {
   "cell_type": "code",
   "execution_count": null,
   "id": "dfa7ae5f",
   "metadata": {},
   "outputs": [],
   "source": [
    "dflib.shape(df_ttrain_transformed)"
   ]
  },
  {
   "cell_type": "code",
   "execution_count": null,
   "id": "1fad1b4b",
   "metadata": {},
   "outputs": [],
   "source": [
    "stats.freq(df_ttrain_transformed, \"proba\").show()"
   ]
  },
  {
   "cell_type": "markdown",
   "id": "e981dae7",
   "metadata": {},
   "source": [
    "### League Frequency"
   ]
  },
  {
   "cell_type": "code",
   "execution_count": null,
   "id": "95582763",
   "metadata": {},
   "outputs": [],
   "source": [
    "fill_proba_transfomer = FillProbaEstimator(strategy=\"league_frequency\",\n",
    "                                           labels=[\"home\", \"draw\", \"away\"], \n",
    "                                           proba_vector_col=\"proba\",\n",
    "                                           strategy_b=\"uniform_proba\").fit(df_ttrain)\n",
    "fill_proba_transfomer"
   ]
  },
  {
   "cell_type": "code",
   "execution_count": null,
   "id": "f83e6e68",
   "metadata": {},
   "outputs": [],
   "source": [
    "dflib.shape(df_tvalid)"
   ]
  },
  {
   "cell_type": "code",
   "execution_count": null,
   "id": "1976b02f",
   "metadata": {
    "scrolled": false
   },
   "outputs": [],
   "source": [
    "df_tvalid_transformed = fill_proba_transfomer.transform(df_tvalid)"
   ]
  },
  {
   "cell_type": "code",
   "execution_count": null,
   "id": "7fa69401",
   "metadata": {},
   "outputs": [],
   "source": [
    "dflib.shape(df_ttrain_transformed)"
   ]
  },
  {
   "cell_type": "code",
   "execution_count": null,
   "id": "68c3aa31",
   "metadata": {},
   "outputs": [],
   "source": [
    "stats.freq(df_tvalid_transformed, \"proba\").show()"
   ]
  },
  {
   "cell_type": "code",
   "execution_count": null,
   "id": "a1e256da",
   "metadata": {},
   "outputs": [],
   "source": [
    "print(\"tvalid\")\n",
    "print(df_tvalid.count(), \"df_tvalid\")\n",
    "print(df_tvalid_transformed.count(), \"df_tvalid_transformed\")\n",
    "stats.freq(df_tvalid_transformed, \"proba\").show()"
   ]
  },
  {
   "cell_type": "code",
   "execution_count": null,
   "id": "cda131cd",
   "metadata": {},
   "outputs": [],
   "source": []
  }
 ],
 "metadata": {
  "kernelspec": {
   "display_name": "Python 3 (ipykernel)",
   "language": "python",
   "name": "python3"
  },
  "language_info": {
   "codemirror_mode": {
    "name": "ipython",
    "version": 3
   },
   "file_extension": ".py",
   "mimetype": "text/x-python",
   "name": "python",
   "nbconvert_exporter": "python",
   "pygments_lexer": "ipython3",
   "version": "3.9.7"
  }
 },
 "nbformat": 4,
 "nbformat_minor": 5
}
