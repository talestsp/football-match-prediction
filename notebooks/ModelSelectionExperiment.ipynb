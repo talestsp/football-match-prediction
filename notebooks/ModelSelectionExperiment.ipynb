{
 "cells": [
  {
   "cell_type": "markdown",
   "id": "ed008c12",
   "metadata": {},
   "source": [
    "# ModelSelection - Experiment\n",
    "Notebook to experiment different model configurations and store results."
   ]
  },
  {
   "cell_type": "code",
   "execution_count": 1,
   "id": "88e9bb5d",
   "metadata": {},
   "outputs": [
    {
     "data": {
      "text/plain": [
       "'/home/tales/ds/kaggle/football-match-prediction'"
      ]
     },
     "execution_count": 1,
     "metadata": {},
     "output_type": "execute_result"
    }
   ],
   "source": [
    "import os\n",
    "from working_dir import set_wd\n",
    "set_wd()\n",
    "os.getcwd()"
   ]
  },
  {
   "cell_type": "code",
   "execution_count": 2,
   "id": "448f5a9c",
   "metadata": {},
   "outputs": [
    {
     "name": "stderr",
     "output_type": "stream",
     "text": [
      "22/05/09 11:31:13 WARN Utils: Your hostname, tales-samsung resolves to a loopback address: 127.0.1.1; using 192.168.0.104 instead (on interface wlxd03745e80dbf)\n",
      "22/05/09 11:31:13 WARN Utils: Set SPARK_LOCAL_IP if you need to bind to another address\n",
      "Using Spark's default log4j profile: org/apache/spark/log4j-defaults.properties\n",
      "Setting default log level to \"WARN\".\n",
      "To adjust logging level use sc.setLogLevel(newLevel). For SparkR, use setLogLevel(newLevel).\n",
      "22/05/09 11:31:14 WARN NativeCodeLoader: Unable to load native-hadoop library for your platform... using builtin-java classes where applicable\n"
     ]
    }
   ],
   "source": [
    "from pyspark.sql import SparkSession\n",
    "\n",
    "spark = SparkSession.builder.config(\"spark.sql.debug.maxToStringFields\", 500) \\\n",
    "                            .config(\"spark.driver.memory\", \"14g\") \\\n",
    "                            .appName(\"ModelSelection-Experiment\").getOrCreate()\n",
    "\n",
    "spark.sparkContext.setLogLevel(\"ERROR\")"
   ]
  },
  {
   "cell_type": "code",
   "execution_count": 3,
   "id": "770675a1",
   "metadata": {},
   "outputs": [],
   "source": [
    "from datetime import datetime\n",
    "import uuid\n",
    "import pyspark.sql.functions as f\n",
    "from pyspark.sql.functions import when\n",
    "from src.dao import dao, dao_processed, dao_ml\n",
    "from src.utils import dflib, stats, pretties, plot, plot_domain, palette"
   ]
  },
  {
   "cell_type": "code",
   "execution_count": 4,
   "id": "782f8572",
   "metadata": {},
   "outputs": [],
   "source": [
    "pretties.max_data_frame_columns()"
   ]
  },
  {
   "cell_type": "markdown",
   "id": "8e0db4ff",
   "metadata": {},
   "source": [
    "# Loading Data"
   ]
  },
  {
   "cell_type": "code",
   "execution_count": 5,
   "id": "3934c458",
   "metadata": {},
   "outputs": [],
   "source": [
    "df_id = \"8cf83372-54d4-4bf2-a1ee-5036ab694faa\""
   ]
  },
  {
   "cell_type": "code",
   "execution_count": 6,
   "id": "5b3d2daa",
   "metadata": {},
   "outputs": [
    {
     "name": "stderr",
     "output_type": "stream",
     "text": [
      "                                                                                \r"
     ]
    },
    {
     "name": "stdout",
     "output_type": "stream",
     "text": [
      "df_ttrain shape: (87470, 14)\n",
      "df_tvalid shape: (23468, 14)\n"
     ]
    }
   ],
   "source": [
    "df_ttrain = dao_processed.load_processed_data(which_dataset=\"train_train\", id=df_id, spark=spark)\n",
    "df_tvalid = dao_processed.load_processed_data(which_dataset=\"train_valid\", id=df_id, spark=spark)\n",
    "\n",
    "metadata_json = dao_processed.load_processed_metadata(id=df_id)\n",
    "print(f\"df_ttrain shape: {dflib.shape(df_ttrain)}\")\n",
    "print(f\"df_tvalid shape: {dflib.shape(df_tvalid)}\")"
   ]
  },
  {
   "cell_type": "markdown",
   "id": "7ddfbf77",
   "metadata": {},
   "source": [
    "# Fit Data Pipeline"
   ]
  },
  {
   "cell_type": "code",
   "execution_count": 7,
   "id": "7cc75ec7",
   "metadata": {},
   "outputs": [],
   "source": [
    "from pyspark.ml import Pipeline, PipelineModel\n",
    "from pyspark.ml.feature import VectorIndexer #Class for indexing categorical feature columns in a dataset of Vector.\n",
    "from pyspark.ml.feature import VectorAssembler #A feature transformer that merges multiple columns into a vector column.\n",
    "from pyspark.ml.feature import StringIndexer #A label indexer that maps a string column of labels to an ML column of label indices.\n",
    "from pyspark.ml.feature import IndexToString\n",
    "from src.ml.transformers import DropNaTransformer, UndersamplingTransformer\n",
    "\n",
    "from pyspark.ml.classification import RandomForestClassifier\n",
    "from pyspark.ml.evaluation import MulticlassClassificationEvaluator\n",
    "from src.ml import metrics"
   ]
  },
  {
   "cell_type": "code",
   "execution_count": 8,
   "id": "972df638",
   "metadata": {},
   "outputs": [],
   "source": [
    "use_features = metadata_json[\"use_features\"]\n",
    "\n",
    "feature_assembler_transformer = VectorAssembler(inputCols=use_features, \n",
    "                                                outputCol=\"features\")\n",
    "\n",
    "target_indexer_transformer = StringIndexer(inputCol=\"target\", \n",
    "                                           outputCol=\"target_indexed\", \n",
    "                                           stringOrderType=\"alphabetDesc\")\n",
    "target_indexer_transformer = target_indexer_transformer.fit(df_ttrain)\n",
    "\n",
    "inverter_transformer = IndexToString(inputCol=\"target_indexed\", \n",
    "                                     outputCol=\"indexed_to_target\", \n",
    "                                     labels=target_indexer_transformer.labels)"
   ]
  },
  {
   "cell_type": "code",
   "execution_count": 9,
   "id": "578ce9a2",
   "metadata": {},
   "outputs": [],
   "source": [
    "pipeline_stages=[DropNaTransformer(),\n",
    "                 feature_assembler_transformer, \n",
    "                 target_indexer_transformer]\n",
    "\n",
    "pipeline_model = PipelineModel(stages=pipeline_stages)"
   ]
  },
  {
   "cell_type": "code",
   "execution_count": 10,
   "id": "6ab9d142",
   "metadata": {},
   "outputs": [
    {
     "name": "stdout",
     "output_type": "stream",
     "text": [
      "DropNaTransformer\n",
      "UndersamplingTransformer\n"
     ]
    },
    {
     "name": "stderr",
     "output_type": "stream",
     "text": [
      "                                                                                \r"
     ]
    },
    {
     "name": "stdout",
     "output_type": "stream",
     "text": [
      "DropNaTransformer\n",
      "UndersamplingTransformer\n"
     ]
    }
   ],
   "source": [
    "df_ttrain = pipeline_model.transform(df_ttrain.select([\"target\"] + use_features))\n",
    "df_ttrain_undersampling = UndersamplingTransformer(target_colname=\"target\").transform(df_ttrain)\n",
    "\n",
    "df_tvalid = pipeline_model.transform(df_tvalid.select([\"target\"] + use_features))\n",
    "df_tvalid_undersampling = UndersamplingTransformer(target_colname=\"target\").transform(df_tvalid)"
   ]
  },
  {
   "cell_type": "code",
   "execution_count": 11,
   "id": "ba664144",
   "metadata": {},
   "outputs": [
    {
     "name": "stdout",
     "output_type": "stream",
     "text": [
      "n params: 168\n"
     ]
    }
   ],
   "source": [
    "experiment_params = []\n",
    "\n",
    "for missing_values_strategy in [\"dropna\"]:\n",
    "    for undersampling in (True, False):\n",
    "        for num_trees in (60, 25, 10):\n",
    "            for max_depth in (15, 13, 10, 8, 5, 1, 0):\n",
    "                for subsampling_rate in (0.8, 0.65, 0.5, 0.3):\n",
    "\n",
    "                    params = {'missing_values_strategy': missing_values_strategy,\n",
    "                              'undersampling': undersampling, \n",
    "                              'num_trees': num_trees, \n",
    "                              'max_depth': max_depth, \n",
    "                              'subsampling_rate': subsampling_rate}\n",
    "                    \n",
    "                    experiment_params.append(params)\n",
    "                \n",
    "print(f'n params: {len(experiment_params)}')"
   ]
  },
  {
   "cell_type": "code",
   "execution_count": null,
   "id": "cc2ea122",
   "metadata": {
    "scrolled": true
   },
   "outputs": [
    {
     "name": "stdout",
     "output_type": "stream",
     "text": [
      "n: 85\n"
     ]
    },
    {
     "data": {
      "text/plain": [
       "{'missing_values_strategy': 'dropna',\n",
       " 'undersampling': False,\n",
       " 'num_trees': 60,\n",
       " 'max_depth': 15,\n",
       " 'subsampling_rate': 0.8}"
      ]
     },
     "metadata": {},
     "output_type": "display_data"
    },
    {
     "name": "stderr",
     "output_type": "stream",
     "text": [
      "                                                                                \r"
     ]
    },
    {
     "name": "stdout",
     "output_type": "stream",
     "text": [
      "accuracy train: 0.7115096460011238\n",
      "accuracy valid: 0.492748588797221\n",
      "log loss train: 0.7743561909621416\n",
      "log loss valid: 1.0129436194326276\n"
     ]
    },
    {
     "name": "stderr",
     "output_type": "stream",
     "text": [
      "                                                                                \r"
     ]
    },
    {
     "data": {
      "text/html": [
       "<hr style=\"height:1px;border:none;color:#333;background-color:#333;\" />"
      ],
      "text/plain": [
       "<IPython.core.display.HTML object>"
      ]
     },
     "metadata": {},
     "output_type": "display_data"
    },
    {
     "name": "stdout",
     "output_type": "stream",
     "text": [
      "n: 86\n"
     ]
    },
    {
     "data": {
      "text/plain": [
       "{'missing_values_strategy': 'dropna',\n",
       " 'undersampling': False,\n",
       " 'num_trees': 60,\n",
       " 'max_depth': 15,\n",
       " 'subsampling_rate': 0.65}"
      ]
     },
     "metadata": {},
     "output_type": "display_data"
    },
    {
     "name": "stderr",
     "output_type": "stream",
     "text": [
      "                                                                                \r"
     ]
    },
    {
     "name": "stdout",
     "output_type": "stream",
     "text": [
      "accuracy train: 0.6952495785727665\n",
      "accuracy valid: 0.4932262266608771\n",
      "log loss train: 0.790303404605915\n",
      "log loss valid: 1.0119142020585494\n"
     ]
    },
    {
     "name": "stderr",
     "output_type": "stream",
     "text": [
      "                                                                                \r"
     ]
    },
    {
     "data": {
      "text/html": [
       "<hr style=\"height:1px;border:none;color:#333;background-color:#333;\" />"
      ],
      "text/plain": [
       "<IPython.core.display.HTML object>"
      ]
     },
     "metadata": {},
     "output_type": "display_data"
    },
    {
     "name": "stdout",
     "output_type": "stream",
     "text": [
      "n: 87\n"
     ]
    },
    {
     "data": {
      "text/plain": [
       "{'missing_values_strategy': 'dropna',\n",
       " 'undersampling': False,\n",
       " 'num_trees': 60,\n",
       " 'max_depth': 15,\n",
       " 'subsampling_rate': 0.5}"
      ]
     },
     "metadata": {},
     "output_type": "display_data"
    },
    {
     "name": "stderr",
     "output_type": "stream",
     "text": [
      "                                                                                \r"
     ]
    },
    {
     "name": "stdout",
     "output_type": "stream",
     "text": [
      "accuracy train: 0.6773155085221951\n",
      "accuracy valid: 0.4905775075987842\n",
      "log loss train: 0.8086759684707814\n",
      "log loss valid: 1.0120113479539867\n"
     ]
    },
    {
     "name": "stderr",
     "output_type": "stream",
     "text": [
      "                                                                                \r"
     ]
    },
    {
     "data": {
      "text/html": [
       "<hr style=\"height:1px;border:none;color:#333;background-color:#333;\" />"
      ],
      "text/plain": [
       "<IPython.core.display.HTML object>"
      ]
     },
     "metadata": {},
     "output_type": "display_data"
    },
    {
     "name": "stdout",
     "output_type": "stream",
     "text": [
      "n: 88\n"
     ]
    },
    {
     "data": {
      "text/plain": [
       "{'missing_values_strategy': 'dropna',\n",
       " 'undersampling': False,\n",
       " 'num_trees': 60,\n",
       " 'max_depth': 15,\n",
       " 'subsampling_rate': 0.3}"
      ]
     },
     "metadata": {},
     "output_type": "display_data"
    },
    {
     "name": "stderr",
     "output_type": "stream",
     "text": [
      "                                                                                \r"
     ]
    },
    {
     "name": "stdout",
     "output_type": "stream",
     "text": [
      "accuracy train: 0.6390475744521446\n",
      "accuracy valid: 0.4911419887103778\n",
      "log loss train: 0.8466097935853455\n",
      "log loss valid: 1.0113579452063017\n"
     ]
    },
    {
     "name": "stderr",
     "output_type": "stream",
     "text": [
      "                                                                                \r"
     ]
    },
    {
     "data": {
      "text/html": [
       "<hr style=\"height:1px;border:none;color:#333;background-color:#333;\" />"
      ],
      "text/plain": [
       "<IPython.core.display.HTML object>"
      ]
     },
     "metadata": {},
     "output_type": "display_data"
    },
    {
     "name": "stdout",
     "output_type": "stream",
     "text": [
      "n: 89\n"
     ]
    },
    {
     "data": {
      "text/plain": [
       "{'missing_values_strategy': 'dropna',\n",
       " 'undersampling': False,\n",
       " 'num_trees': 60,\n",
       " 'max_depth': 13,\n",
       " 'subsampling_rate': 0.8}"
      ]
     },
     "metadata": {},
     "output_type": "display_data"
    },
    {
     "name": "stderr",
     "output_type": "stream",
     "text": [
      "                                                                                \r"
     ]
    },
    {
     "name": "stdout",
     "output_type": "stream",
     "text": [
      "accuracy train: 0.6104841730661172\n",
      "accuracy valid: 0.49674337820234477\n",
      "log loss train: 0.8755432307156645\n",
      "log loss valid: 1.0047672467639754\n"
     ]
    },
    {
     "name": "stderr",
     "output_type": "stream",
     "text": [
      "                                                                                \r"
     ]
    },
    {
     "data": {
      "text/html": [
       "<hr style=\"height:1px;border:none;color:#333;background-color:#333;\" />"
      ],
      "text/plain": [
       "<IPython.core.display.HTML object>"
      ]
     },
     "metadata": {},
     "output_type": "display_data"
    },
    {
     "name": "stdout",
     "output_type": "stream",
     "text": [
      "n: 90\n"
     ]
    },
    {
     "data": {
      "text/plain": [
       "{'missing_values_strategy': 'dropna',\n",
       " 'undersampling': False,\n",
       " 'num_trees': 60,\n",
       " 'max_depth': 13,\n",
       " 'subsampling_rate': 0.65}"
      ]
     },
     "metadata": {},
     "output_type": "display_data"
    },
    {
     "name": "stderr",
     "output_type": "stream",
     "text": [
      "                                                                                \r"
     ]
    },
    {
     "name": "stdout",
     "output_type": "stream",
     "text": [
      "accuracy train: 0.6029921333583068\n",
      "accuracy valid: 0.49756838905775075\n",
      "log loss train: 0.8829362037449108\n",
      "log loss valid: 1.0053853041601049\n"
     ]
    },
    {
     "name": "stderr",
     "output_type": "stream",
     "text": [
      "                                                                                \r"
     ]
    },
    {
     "data": {
      "text/html": [
       "<hr style=\"height:1px;border:none;color:#333;background-color:#333;\" />"
      ],
      "text/plain": [
       "<IPython.core.display.HTML object>"
      ]
     },
     "metadata": {},
     "output_type": "display_data"
    },
    {
     "name": "stdout",
     "output_type": "stream",
     "text": [
      "n: 91\n"
     ]
    },
    {
     "data": {
      "text/plain": [
       "{'missing_values_strategy': 'dropna',\n",
       " 'undersampling': False,\n",
       " 'num_trees': 60,\n",
       " 'max_depth': 13,\n",
       " 'subsampling_rate': 0.5}"
      ]
     },
     "metadata": {},
     "output_type": "display_data"
    },
    {
     "name": "stderr",
     "output_type": "stream",
     "text": [
      "                                                                                \r"
     ]
    },
    {
     "name": "stdout",
     "output_type": "stream",
     "text": [
      "accuracy train: 0.5943762876943248\n",
      "accuracy valid: 0.4968302214502822\n",
      "log loss train: 0.8912097251001955\n",
      "log loss valid: 1.0054855287585596\n"
     ]
    },
    {
     "name": "stderr",
     "output_type": "stream",
     "text": [
      "                                                                                \r"
     ]
    },
    {
     "data": {
      "text/html": [
       "<hr style=\"height:1px;border:none;color:#333;background-color:#333;\" />"
      ],
      "text/plain": [
       "<IPython.core.display.HTML object>"
      ]
     },
     "metadata": {},
     "output_type": "display_data"
    },
    {
     "name": "stdout",
     "output_type": "stream",
     "text": [
      "n: 92\n"
     ]
    },
    {
     "data": {
      "text/plain": [
       "{'missing_values_strategy': 'dropna',\n",
       " 'undersampling': False,\n",
       " 'num_trees': 60,\n",
       " 'max_depth': 13,\n",
       " 'subsampling_rate': 0.3}"
      ]
     },
     "metadata": {},
     "output_type": "display_data"
    },
    {
     "name": "stderr",
     "output_type": "stream",
     "text": [
      "                                                                                \r"
     ]
    },
    {
     "name": "stdout",
     "output_type": "stream",
     "text": [
      "accuracy train: 0.579240026222139\n",
      "accuracy valid: 0.49782891880156316\n",
      "log loss train: 0.9092179912404662\n",
      "log loss valid: 1.005893665942458\n"
     ]
    },
    {
     "name": "stderr",
     "output_type": "stream",
     "text": [
      "                                                                                \r"
     ]
    },
    {
     "data": {
      "text/html": [
       "<hr style=\"height:1px;border:none;color:#333;background-color:#333;\" />"
      ],
      "text/plain": [
       "<IPython.core.display.HTML object>"
      ]
     },
     "metadata": {},
     "output_type": "display_data"
    },
    {
     "name": "stdout",
     "output_type": "stream",
     "text": [
      "n: 93\n"
     ]
    },
    {
     "data": {
      "text/plain": [
       "{'missing_values_strategy': 'dropna',\n",
       " 'undersampling': False,\n",
       " 'num_trees': 60,\n",
       " 'max_depth': 10,\n",
       " 'subsampling_rate': 0.8}"
      ]
     },
     "metadata": {},
     "output_type": "display_data"
    },
    {
     "name": "stderr",
     "output_type": "stream",
     "text": [
      "                                                                                \r"
     ]
    },
    {
     "name": "stdout",
     "output_type": "stream",
     "text": [
      "accuracy train: 0.5266786851470313\n",
      "accuracy valid: 0.5001736864958749\n",
      "log loss train: 0.9720035073644077\n",
      "log loss valid: 1.000051821516461\n"
     ]
    },
    {
     "data": {
      "text/html": [
       "<hr style=\"height:1px;border:none;color:#333;background-color:#333;\" />"
      ],
      "text/plain": [
       "<IPython.core.display.HTML object>"
      ]
     },
     "metadata": {},
     "output_type": "display_data"
    },
    {
     "name": "stdout",
     "output_type": "stream",
     "text": [
      "n: 94\n"
     ]
    },
    {
     "data": {
      "text/plain": [
       "{'missing_values_strategy': 'dropna',\n",
       " 'undersampling': False,\n",
       " 'num_trees': 60,\n",
       " 'max_depth': 10,\n",
       " 'subsampling_rate': 0.65}"
      ]
     },
     "metadata": {},
     "output_type": "display_data"
    },
    {
     "name": "stderr",
     "output_type": "stream",
     "text": [
      "                                                                                \r"
     ]
    },
    {
     "name": "stdout",
     "output_type": "stream",
     "text": [
      "accuracy train: 0.5249812699007305\n",
      "accuracy valid: 0.5005644811115936\n",
      "log loss train: 0.9729724525685246\n",
      "log loss valid: 1.0001829077146402\n"
     ]
    },
    {
     "data": {
      "text/html": [
       "<hr style=\"height:1px;border:none;color:#333;background-color:#333;\" />"
      ],
      "text/plain": [
       "<IPython.core.display.HTML object>"
      ]
     },
     "metadata": {},
     "output_type": "display_data"
    },
    {
     "name": "stdout",
     "output_type": "stream",
     "text": [
      "n: 95\n"
     ]
    },
    {
     "data": {
      "text/plain": [
       "{'missing_values_strategy': 'dropna',\n",
       " 'undersampling': False,\n",
       " 'num_trees': 60,\n",
       " 'max_depth': 10,\n",
       " 'subsampling_rate': 0.5}"
      ]
     },
     "metadata": {},
     "output_type": "display_data"
    },
    {
     "name": "stderr",
     "output_type": "stream",
     "text": [
      "                                                                                \r"
     ]
    },
    {
     "name": "stdout",
     "output_type": "stream",
     "text": [
      "accuracy train: 0.5248642067802959\n",
      "accuracy valid: 0.5010855405992184\n",
      "log loss train: 0.9740169557804197\n",
      "log loss valid: 0.9999332769683708\n"
     ]
    },
    {
     "data": {
      "text/html": [
       "<hr style=\"height:1px;border:none;color:#333;background-color:#333;\" />"
      ],
      "text/plain": [
       "<IPython.core.display.HTML object>"
      ]
     },
     "metadata": {},
     "output_type": "display_data"
    },
    {
     "name": "stdout",
     "output_type": "stream",
     "text": [
      "n: 96\n"
     ]
    },
    {
     "data": {
      "text/plain": [
       "{'missing_values_strategy': 'dropna',\n",
       " 'undersampling': False,\n",
       " 'num_trees': 60,\n",
       " 'max_depth': 10,\n",
       " 'subsampling_rate': 0.3}"
      ]
     },
     "metadata": {},
     "output_type": "display_data"
    },
    {
     "name": "stderr",
     "output_type": "stream",
     "text": [
      "                                                                                \r"
     ]
    },
    {
     "name": "stdout",
     "output_type": "stream",
     "text": [
      "accuracy train: 0.5215513204719985\n",
      "accuracy valid: 0.5029960920538428\n",
      "log loss train: 0.9765634197535521\n",
      "log loss valid: 0.9997199695290993\n"
     ]
    },
    {
     "data": {
      "text/html": [
       "<hr style=\"height:1px;border:none;color:#333;background-color:#333;\" />"
      ],
      "text/plain": [
       "<IPython.core.display.HTML object>"
      ]
     },
     "metadata": {},
     "output_type": "display_data"
    },
    {
     "name": "stdout",
     "output_type": "stream",
     "text": [
      "n: 97\n"
     ]
    },
    {
     "data": {
      "text/plain": [
       "{'missing_values_strategy': 'dropna',\n",
       " 'undersampling': False,\n",
       " 'num_trees': 60,\n",
       " 'max_depth': 8,\n",
       " 'subsampling_rate': 0.8}"
      ]
     },
     "metadata": {},
     "output_type": "display_data"
    },
    {
     "name": "stderr",
     "output_type": "stream",
     "text": [
      "                                                                                \r"
     ]
    },
    {
     "name": "stdout",
     "output_type": "stream",
     "text": [
      "accuracy train: 0.5038279640382094\n",
      "accuracy valid: 0.4997394702561876\n",
      "log loss train: 1.0002293658090156\n",
      "log loss valid: 1.0020063699528499\n"
     ]
    },
    {
     "data": {
      "text/html": [
       "<hr style=\"height:1px;border:none;color:#333;background-color:#333;\" />"
      ],
      "text/plain": [
       "<IPython.core.display.HTML object>"
      ]
     },
     "metadata": {},
     "output_type": "display_data"
    },
    {
     "name": "stdout",
     "output_type": "stream",
     "text": [
      "n: 98\n"
     ]
    },
    {
     "data": {
      "text/plain": [
       "{'missing_values_strategy': 'dropna',\n",
       " 'undersampling': False,\n",
       " 'num_trees': 60,\n",
       " 'max_depth': 8,\n",
       " 'subsampling_rate': 0.65}"
      ]
     },
     "metadata": {},
     "output_type": "display_data"
    },
    {
     "name": "stderr",
     "output_type": "stream",
     "text": [
      "                                                                                \r"
     ]
    },
    {
     "name": "stdout",
     "output_type": "stream",
     "text": [
      "accuracy train: 0.5035704251732535\n",
      "accuracy valid: 0.49913156752062526\n",
      "log loss train: 1.0000330919572826\n",
      "log loss valid: 1.0018102571967142\n"
     ]
    },
    {
     "data": {
      "text/html": [
       "<hr style=\"height:1px;border:none;color:#333;background-color:#333;\" />"
      ],
      "text/plain": [
       "<IPython.core.display.HTML object>"
      ]
     },
     "metadata": {},
     "output_type": "display_data"
    },
    {
     "name": "stdout",
     "output_type": "stream",
     "text": [
      "n: 99\n"
     ]
    },
    {
     "data": {
      "text/plain": [
       "{'missing_values_strategy': 'dropna',\n",
       " 'undersampling': False,\n",
       " 'num_trees': 60,\n",
       " 'max_depth': 8,\n",
       " 'subsampling_rate': 0.5}"
      ]
     },
     "metadata": {},
     "output_type": "display_data"
    },
    {
     "name": "stderr",
     "output_type": "stream",
     "text": [
      "                                                                                \r"
     ]
    },
    {
     "name": "stdout",
     "output_type": "stream",
     "text": [
      "accuracy train: 0.5038045514141225\n",
      "accuracy valid: 0.4998697351280938\n",
      "log loss train: 1.0000015689015753\n",
      "log loss valid: 1.0017039286702698\n"
     ]
    },
    {
     "data": {
      "text/html": [
       "<hr style=\"height:1px;border:none;color:#333;background-color:#333;\" />"
      ],
      "text/plain": [
       "<IPython.core.display.HTML object>"
      ]
     },
     "metadata": {},
     "output_type": "display_data"
    },
    {
     "name": "stdout",
     "output_type": "stream",
     "text": [
      "n: 100\n"
     ]
    },
    {
     "data": {
      "text/plain": [
       "{'missing_values_strategy': 'dropna',\n",
       " 'undersampling': False,\n",
       " 'num_trees': 60,\n",
       " 'max_depth': 8,\n",
       " 'subsampling_rate': 0.3}"
      ]
     },
     "metadata": {},
     "output_type": "display_data"
    },
    {
     "name": "stderr",
     "output_type": "stream",
     "text": [
      "[Stage 1242:>                                                       (0 + 2) / 2]\r"
     ]
    },
    {
     "name": "stdout",
     "output_type": "stream",
     "text": [
      "accuracy train: 0.5040855029031653\n",
      "accuracy valid: 0.5003039513677812\n",
      "log loss train: 1.000053579688342\n",
      "log loss valid: 1.0013823662204935\n"
     ]
    },
    {
     "name": "stderr",
     "output_type": "stream",
     "text": [
      "\r",
      "                                                                                \r"
     ]
    },
    {
     "data": {
      "text/html": [
       "<hr style=\"height:1px;border:none;color:#333;background-color:#333;\" />"
      ],
      "text/plain": [
       "<IPython.core.display.HTML object>"
      ]
     },
     "metadata": {},
     "output_type": "display_data"
    },
    {
     "name": "stdout",
     "output_type": "stream",
     "text": [
      "n: 101\n"
     ]
    },
    {
     "data": {
      "text/plain": [
       "{'missing_values_strategy': 'dropna',\n",
       " 'undersampling': False,\n",
       " 'num_trees': 60,\n",
       " 'max_depth': 5,\n",
       " 'subsampling_rate': 0.8}"
      ]
     },
     "metadata": {},
     "output_type": "display_data"
    },
    {
     "name": "stderr",
     "output_type": "stream",
     "text": [
      "                                                                                \r"
     ]
    },
    {
     "name": "stdout",
     "output_type": "stream",
     "text": [
      "accuracy train: 0.4934093463195355\n",
      "accuracy valid: 0.49409465914025186\n",
      "log loss train: 1.0221916681494858\n",
      "log loss valid: 1.0190241847411907\n"
     ]
    },
    {
     "data": {
      "text/html": [
       "<hr style=\"height:1px;border:none;color:#333;background-color:#333;\" />"
      ],
      "text/plain": [
       "<IPython.core.display.HTML object>"
      ]
     },
     "metadata": {},
     "output_type": "display_data"
    },
    {
     "name": "stdout",
     "output_type": "stream",
     "text": [
      "n: 102\n"
     ]
    },
    {
     "data": {
      "text/plain": [
       "{'missing_values_strategy': 'dropna',\n",
       " 'undersampling': False,\n",
       " 'num_trees': 60,\n",
       " 'max_depth': 5,\n",
       " 'subsampling_rate': 0.65}"
      ]
     },
     "metadata": {},
     "output_type": "display_data"
    },
    {
     "name": "stderr",
     "output_type": "stream",
     "text": [
      "                                                                                \r"
     ]
    },
    {
     "name": "stdout",
     "output_type": "stream",
     "text": [
      "accuracy train: 0.49420537553849037\n",
      "accuracy valid: 0.4950933564915328\n",
      "log loss train: 1.0213502227784483\n",
      "log loss valid: 1.0178810065791009\n"
     ]
    },
    {
     "data": {
      "text/html": [
       "<hr style=\"height:1px;border:none;color:#333;background-color:#333;\" />"
      ],
      "text/plain": [
       "<IPython.core.display.HTML object>"
      ]
     },
     "metadata": {},
     "output_type": "display_data"
    },
    {
     "name": "stdout",
     "output_type": "stream",
     "text": [
      "n: 103\n"
     ]
    },
    {
     "data": {
      "text/plain": [
       "{'missing_values_strategy': 'dropna',\n",
       " 'undersampling': False,\n",
       " 'num_trees': 60,\n",
       " 'max_depth': 5,\n",
       " 'subsampling_rate': 0.5}"
      ]
     },
     "metadata": {},
     "output_type": "display_data"
    },
    {
     "name": "stderr",
     "output_type": "stream",
     "text": [
      "                                                                                \r"
     ]
    },
    {
     "name": "stdout",
     "output_type": "stream",
     "text": [
      "accuracy train: 0.4938190672410564\n",
      "accuracy valid: 0.49305254016500216\n",
      "log loss train: 1.0206513219674194\n",
      "log loss valid: 1.0170977497747173\n"
     ]
    },
    {
     "data": {
      "text/html": [
       "<hr style=\"height:1px;border:none;color:#333;background-color:#333;\" />"
      ],
      "text/plain": [
       "<IPython.core.display.HTML object>"
      ]
     },
     "metadata": {},
     "output_type": "display_data"
    },
    {
     "name": "stdout",
     "output_type": "stream",
     "text": [
      "n: 104\n"
     ]
    },
    {
     "data": {
      "text/plain": [
       "{'missing_values_strategy': 'dropna',\n",
       " 'undersampling': False,\n",
       " 'num_trees': 60,\n",
       " 'max_depth': 5,\n",
       " 'subsampling_rate': 0.3}"
      ]
     },
     "metadata": {},
     "output_type": "display_data"
    },
    {
     "name": "stderr",
     "output_type": "stream",
     "text": [
      "                                                                                \r"
     ]
    },
    {
     "name": "stdout",
     "output_type": "stream",
     "text": [
      "accuracy train: 0.4932454579509271\n",
      "accuracy valid: 0.4947459834997829\n",
      "log loss train: 1.0195460765547575\n",
      "log loss valid: 1.015452159449197\n"
     ]
    },
    {
     "data": {
      "text/html": [
       "<hr style=\"height:1px;border:none;color:#333;background-color:#333;\" />"
      ],
      "text/plain": [
       "<IPython.core.display.HTML object>"
      ]
     },
     "metadata": {},
     "output_type": "display_data"
    },
    {
     "name": "stdout",
     "output_type": "stream",
     "text": [
      "n: 105\n"
     ]
    },
    {
     "data": {
      "text/plain": [
       "{'missing_values_strategy': 'dropna',\n",
       " 'undersampling': False,\n",
       " 'num_trees': 60,\n",
       " 'max_depth': 1,\n",
       " 'subsampling_rate': 0.8}"
      ]
     },
     "metadata": {},
     "output_type": "display_data"
    },
    {
     "name": "stderr",
     "output_type": "stream",
     "text": [
      "                                                                                \r"
     ]
    },
    {
     "name": "stdout",
     "output_type": "stream",
     "text": [
      "accuracy train: 0.48441889867016297\n",
      "accuracy valid: 0.48684324793747286\n",
      "log loss train: 1.0440399491365906\n",
      "log loss valid: 1.0459055152407757\n"
     ]
    },
    {
     "data": {
      "text/html": [
       "<hr style=\"height:1px;border:none;color:#333;background-color:#333;\" />"
      ],
      "text/plain": [
       "<IPython.core.display.HTML object>"
      ]
     },
     "metadata": {},
     "output_type": "display_data"
    },
    {
     "name": "stdout",
     "output_type": "stream",
     "text": [
      "n: 106\n"
     ]
    },
    {
     "data": {
      "text/plain": [
       "{'missing_values_strategy': 'dropna',\n",
       " 'undersampling': False,\n",
       " 'num_trees': 60,\n",
       " 'max_depth': 1,\n",
       " 'subsampling_rate': 0.65}"
      ]
     },
     "metadata": {},
     "output_type": "display_data"
    },
    {
     "name": "stderr",
     "output_type": "stream",
     "text": [
      "                                                                                \r"
     ]
    },
    {
     "name": "stdout",
     "output_type": "stream",
     "text": [
      "accuracy train: 0.4859290129237685\n",
      "accuracy valid: 0.48975249674337823\n",
      "log loss train: 1.0438792638983598\n",
      "log loss valid: 1.0458322551213963\n"
     ]
    },
    {
     "data": {
      "text/html": [
       "<hr style=\"height:1px;border:none;color:#333;background-color:#333;\" />"
      ],
      "text/plain": [
       "<IPython.core.display.HTML object>"
      ]
     },
     "metadata": {},
     "output_type": "display_data"
    },
    {
     "name": "stdout",
     "output_type": "stream",
     "text": [
      "n: 107\n"
     ]
    },
    {
     "data": {
      "text/plain": [
       "{'missing_values_strategy': 'dropna',\n",
       " 'undersampling': False,\n",
       " 'num_trees': 60,\n",
       " 'max_depth': 1,\n",
       " 'subsampling_rate': 0.5}"
      ]
     },
     "metadata": {},
     "output_type": "display_data"
    },
    {
     "name": "stderr",
     "output_type": "stream",
     "text": [
      "                                                                                \r"
     ]
    },
    {
     "name": "stdout",
     "output_type": "stream",
     "text": [
      "accuracy train: 0.4847583817194231\n",
      "accuracy valid: 0.48805905340859745\n",
      "log loss train: 1.0433373578627265\n",
      "log loss valid: 1.0452202936776689\n"
     ]
    },
    {
     "data": {
      "text/html": [
       "<hr style=\"height:1px;border:none;color:#333;background-color:#333;\" />"
      ],
      "text/plain": [
       "<IPython.core.display.HTML object>"
      ]
     },
     "metadata": {},
     "output_type": "display_data"
    },
    {
     "name": "stdout",
     "output_type": "stream",
     "text": [
      "n: 108\n"
     ]
    },
    {
     "data": {
      "text/plain": [
       "{'missing_values_strategy': 'dropna',\n",
       " 'undersampling': False,\n",
       " 'num_trees': 60,\n",
       " 'max_depth': 1,\n",
       " 'subsampling_rate': 0.3}"
      ]
     },
     "metadata": {},
     "output_type": "display_data"
    },
    {
     "name": "stderr",
     "output_type": "stream",
     "text": [
      "                                                                                \r"
     ]
    },
    {
     "name": "stdout",
     "output_type": "stream",
     "text": [
      "accuracy train: 0.4863504401573328\n",
      "accuracy valid: 0.4897959183673469\n",
      "log loss train: 1.0434965769110363\n",
      "log loss valid: 1.045216478356744\n"
     ]
    },
    {
     "data": {
      "text/html": [
       "<hr style=\"height:1px;border:none;color:#333;background-color:#333;\" />"
      ],
      "text/plain": [
       "<IPython.core.display.HTML object>"
      ]
     },
     "metadata": {},
     "output_type": "display_data"
    },
    {
     "name": "stdout",
     "output_type": "stream",
     "text": [
      "n: 109\n"
     ]
    },
    {
     "data": {
      "text/plain": [
       "{'missing_values_strategy': 'dropna',\n",
       " 'undersampling': False,\n",
       " 'num_trees': 60,\n",
       " 'max_depth': 0,\n",
       " 'subsampling_rate': 0.8}"
      ]
     },
     "metadata": {},
     "output_type": "display_data"
    },
    {
     "name": "stderr",
     "output_type": "stream",
     "text": [
      "                                                                                \r"
     ]
    },
    {
     "name": "stdout",
     "output_type": "stream",
     "text": [
      "accuracy train: 0.4346670724854842\n",
      "accuracy valid: 0.4258358662613982\n",
      "log loss train: 1.0721707254550683\n",
      "log loss valid: 1.0781476904737057\n"
     ]
    },
    {
     "data": {
      "text/html": [
       "<hr style=\"height:1px;border:none;color:#333;background-color:#333;\" />"
      ],
      "text/plain": [
       "<IPython.core.display.HTML object>"
      ]
     },
     "metadata": {},
     "output_type": "display_data"
    },
    {
     "name": "stdout",
     "output_type": "stream",
     "text": [
      "n: 110\n"
     ]
    },
    {
     "data": {
      "text/plain": [
       "{'missing_values_strategy': 'dropna',\n",
       " 'undersampling': False,\n",
       " 'num_trees': 60,\n",
       " 'max_depth': 0,\n",
       " 'subsampling_rate': 0.65}"
      ]
     },
     "metadata": {},
     "output_type": "display_data"
    },
    {
     "name": "stderr",
     "output_type": "stream",
     "text": [
      "                                                                                \r"
     ]
    },
    {
     "name": "stdout",
     "output_type": "stream",
     "text": [
      "accuracy train: 0.4346670724854842\n",
      "accuracy valid: 0.4258358662613982\n",
      "log loss train: 1.0721719361550206\n",
      "log loss valid: 1.0781793613767867\n"
     ]
    },
    {
     "data": {
      "text/html": [
       "<hr style=\"height:1px;border:none;color:#333;background-color:#333;\" />"
      ],
      "text/plain": [
       "<IPython.core.display.HTML object>"
      ]
     },
     "metadata": {},
     "output_type": "display_data"
    },
    {
     "name": "stdout",
     "output_type": "stream",
     "text": [
      "n: 111\n"
     ]
    },
    {
     "data": {
      "text/plain": [
       "{'missing_values_strategy': 'dropna',\n",
       " 'undersampling': False,\n",
       " 'num_trees': 60,\n",
       " 'max_depth': 0,\n",
       " 'subsampling_rate': 0.5}"
      ]
     },
     "metadata": {},
     "output_type": "display_data"
    },
    {
     "name": "stderr",
     "output_type": "stream",
     "text": [
      "                                                                                \r"
     ]
    },
    {
     "name": "stdout",
     "output_type": "stream",
     "text": [
      "accuracy train: 0.4346670724854842\n",
      "accuracy valid: 0.4258358662613982\n",
      "log loss train: 1.0721715149310516\n",
      "log loss valid: 1.0781576905947834\n"
     ]
    },
    {
     "data": {
      "text/html": [
       "<hr style=\"height:1px;border:none;color:#333;background-color:#333;\" />"
      ],
      "text/plain": [
       "<IPython.core.display.HTML object>"
      ]
     },
     "metadata": {},
     "output_type": "display_data"
    },
    {
     "name": "stdout",
     "output_type": "stream",
     "text": [
      "n: 112\n"
     ]
    },
    {
     "data": {
      "text/plain": [
       "{'missing_values_strategy': 'dropna',\n",
       " 'undersampling': False,\n",
       " 'num_trees': 60,\n",
       " 'max_depth': 0,\n",
       " 'subsampling_rate': 0.3}"
      ]
     },
     "metadata": {},
     "output_type": "display_data"
    },
    {
     "name": "stderr",
     "output_type": "stream",
     "text": [
      "                                                                                \r"
     ]
    },
    {
     "name": "stdout",
     "output_type": "stream",
     "text": [
      "accuracy train: 0.4346670724854842\n",
      "accuracy valid: 0.4258358662613982\n",
      "log loss train: 1.0721706859011626\n",
      "log loss valid: 1.0781326817804422\n"
     ]
    },
    {
     "data": {
      "text/html": [
       "<hr style=\"height:1px;border:none;color:#333;background-color:#333;\" />"
      ],
      "text/plain": [
       "<IPython.core.display.HTML object>"
      ]
     },
     "metadata": {},
     "output_type": "display_data"
    },
    {
     "name": "stdout",
     "output_type": "stream",
     "text": [
      "n: 113\n"
     ]
    },
    {
     "data": {
      "text/plain": [
       "{'missing_values_strategy': 'dropna',\n",
       " 'undersampling': False,\n",
       " 'num_trees': 25,\n",
       " 'max_depth': 15,\n",
       " 'subsampling_rate': 0.8}"
      ]
     },
     "metadata": {},
     "output_type": "display_data"
    },
    {
     "name": "stderr",
     "output_type": "stream",
     "text": [
      "                                                                                \r"
     ]
    },
    {
     "name": "stdout",
     "output_type": "stream",
     "text": [
      "accuracy train: 0.7071080726727852\n",
      "accuracy valid: 0.487320885801129\n",
      "log loss train: 0.7757632434859673\n",
      "log loss valid: 1.0216908182746947\n"
     ]
    },
    {
     "name": "stderr",
     "output_type": "stream",
     "text": [
      "                                                                                \r"
     ]
    },
    {
     "data": {
      "text/html": [
       "<hr style=\"height:1px;border:none;color:#333;background-color:#333;\" />"
      ],
      "text/plain": [
       "<IPython.core.display.HTML object>"
      ]
     },
     "metadata": {},
     "output_type": "display_data"
    },
    {
     "name": "stdout",
     "output_type": "stream",
     "text": [
      "n: 114\n"
     ]
    },
    {
     "data": {
      "text/plain": [
       "{'missing_values_strategy': 'dropna',\n",
       " 'undersampling': False,\n",
       " 'num_trees': 25,\n",
       " 'max_depth': 15,\n",
       " 'subsampling_rate': 0.65}"
      ]
     },
     "metadata": {},
     "output_type": "display_data"
    },
    {
     "name": "stderr",
     "output_type": "stream",
     "text": [
      "                                                                                \r"
     ]
    },
    {
     "name": "stdout",
     "output_type": "stream",
     "text": [
      "accuracy train: 0.6898295560966473\n",
      "accuracy valid: 0.4883630047763786\n",
      "log loss train: 0.7933842113183842\n",
      "log loss valid: 1.020715043445037\n"
     ]
    },
    {
     "name": "stderr",
     "output_type": "stream",
     "text": [
      "\r",
      "[Stage 2108:>                                                       (0 + 1) / 1]\r",
      "\r",
      "                                                                                \r"
     ]
    },
    {
     "data": {
      "text/html": [
       "<hr style=\"height:1px;border:none;color:#333;background-color:#333;\" />"
      ],
      "text/plain": [
       "<IPython.core.display.HTML object>"
      ]
     },
     "metadata": {},
     "output_type": "display_data"
    },
    {
     "name": "stdout",
     "output_type": "stream",
     "text": [
      "n: 115\n"
     ]
    },
    {
     "data": {
      "text/plain": [
       "{'missing_values_strategy': 'dropna',\n",
       " 'undersampling': False,\n",
       " 'num_trees': 25,\n",
       " 'max_depth': 15,\n",
       " 'subsampling_rate': 0.5}"
      ]
     },
     "metadata": {},
     "output_type": "display_data"
    },
    {
     "name": "stderr",
     "output_type": "stream",
     "text": [
      "                                                                                \r"
     ]
    },
    {
     "name": "stdout",
     "output_type": "stream",
     "text": [
      "accuracy train: 0.6704321970406443\n",
      "accuracy valid: 0.48554059921841075\n",
      "log loss train: 0.8116217755870053\n",
      "log loss valid: 1.0215972286519857\n"
     ]
    },
    {
     "name": "stderr",
     "output_type": "stream",
     "text": [
      "                                                                                \r"
     ]
    },
    {
     "data": {
      "text/html": [
       "<hr style=\"height:1px;border:none;color:#333;background-color:#333;\" />"
      ],
      "text/plain": [
       "<IPython.core.display.HTML object>"
      ]
     },
     "metadata": {},
     "output_type": "display_data"
    },
    {
     "name": "stdout",
     "output_type": "stream",
     "text": [
      "n: 116\n"
     ]
    },
    {
     "data": {
      "text/plain": [
       "{'missing_values_strategy': 'dropna',\n",
       " 'undersampling': False,\n",
       " 'num_trees': 25,\n",
       " 'max_depth': 15,\n",
       " 'subsampling_rate': 0.3}"
      ]
     },
     "metadata": {},
     "output_type": "display_data"
    },
    {
     "name": "stderr",
     "output_type": "stream",
     "text": [
      "                                                                                \r"
     ]
    },
    {
     "name": "stdout",
     "output_type": "stream",
     "text": [
      "accuracy train: 0.6249531747518262\n",
      "accuracy valid: 0.4830655666521928\n",
      "log loss train: 0.8565524917056859\n",
      "log loss valid: 1.0245188623157162\n"
     ]
    },
    {
     "data": {
      "text/html": [
       "<hr style=\"height:1px;border:none;color:#333;background-color:#333;\" />"
      ],
      "text/plain": [
       "<IPython.core.display.HTML object>"
      ]
     },
     "metadata": {},
     "output_type": "display_data"
    },
    {
     "name": "stdout",
     "output_type": "stream",
     "text": [
      "n: 117\n"
     ]
    },
    {
     "data": {
      "text/plain": [
       "{'missing_values_strategy': 'dropna',\n",
       " 'undersampling': False,\n",
       " 'num_trees': 25,\n",
       " 'max_depth': 13,\n",
       " 'subsampling_rate': 0.8}"
      ]
     },
     "metadata": {},
     "output_type": "display_data"
    },
    {
     "name": "stderr",
     "output_type": "stream",
     "text": [
      "                                                                                \r"
     ]
    },
    {
     "name": "stdout",
     "output_type": "stream",
     "text": [
      "accuracy train: 0.6103554036336393\n",
      "accuracy valid: 0.49400781589231435\n",
      "log loss train: 0.8771674182587251\n",
      "log loss valid: 1.0096300837476442\n"
     ]
    },
    {
     "data": {
      "text/html": [
       "<hr style=\"height:1px;border:none;color:#333;background-color:#333;\" />"
      ],
      "text/plain": [
       "<IPython.core.display.HTML object>"
      ]
     },
     "metadata": {},
     "output_type": "display_data"
    },
    {
     "name": "stdout",
     "output_type": "stream",
     "text": [
      "n: 118\n"
     ]
    },
    {
     "data": {
      "text/plain": [
       "{'missing_values_strategy': 'dropna',\n",
       " 'undersampling': False,\n",
       " 'num_trees': 25,\n",
       " 'max_depth': 13,\n",
       " 'subsampling_rate': 0.65}"
      ]
     },
     "metadata": {},
     "output_type": "display_data"
    },
    {
     "name": "stderr",
     "output_type": "stream",
     "text": [
      "                                                                                \r"
     ]
    },
    {
     "name": "stdout",
     "output_type": "stream",
     "text": [
      "accuracy train: 0.6021492788911781\n",
      "accuracy valid: 0.4941815023881893\n",
      "log loss train: 0.8861264826110644\n",
      "log loss valid: 1.0097706030529812\n"
     ]
    },
    {
     "data": {
      "text/html": [
       "<hr style=\"height:1px;border:none;color:#333;background-color:#333;\" />"
      ],
      "text/plain": [
       "<IPython.core.display.HTML object>"
      ]
     },
     "metadata": {},
     "output_type": "display_data"
    },
    {
     "name": "stdout",
     "output_type": "stream",
     "text": [
      "n: 119\n"
     ]
    },
    {
     "data": {
      "text/plain": [
       "{'missing_values_strategy': 'dropna',\n",
       " 'undersampling': False,\n",
       " 'num_trees': 25,\n",
       " 'max_depth': 13,\n",
       " 'subsampling_rate': 0.5}"
      ]
     },
     "metadata": {},
     "output_type": "display_data"
    },
    {
     "name": "stderr",
     "output_type": "stream",
     "text": [
      "                                                                                \r"
     ]
    },
    {
     "name": "stdout",
     "output_type": "stream",
     "text": [
      "accuracy train: 0.5926320471998502\n",
      "accuracy valid: 0.4920538428137212\n",
      "log loss train: 0.8935520829361395\n",
      "log loss valid: 1.0103284528424494\n"
     ]
    },
    {
     "data": {
      "text/html": [
       "<hr style=\"height:1px;border:none;color:#333;background-color:#333;\" />"
      ],
      "text/plain": [
       "<IPython.core.display.HTML object>"
      ]
     },
     "metadata": {},
     "output_type": "display_data"
    },
    {
     "name": "stdout",
     "output_type": "stream",
     "text": [
      "n: 120\n"
     ]
    },
    {
     "data": {
      "text/plain": [
       "{'missing_values_strategy': 'dropna',\n",
       " 'undersampling': False,\n",
       " 'num_trees': 25,\n",
       " 'max_depth': 13,\n",
       " 'subsampling_rate': 0.3}"
      ]
     },
     "metadata": {},
     "output_type": "display_data"
    },
    {
     "name": "stderr",
     "output_type": "stream",
     "text": [
      "                                                                                \r"
     ]
    },
    {
     "name": "stdout",
     "output_type": "stream",
     "text": [
      "accuracy train: 0.5706944184304177\n",
      "accuracy valid: 0.49161962657403385\n",
      "log loss train: 0.9160593747861606\n",
      "log loss valid: 1.013383153810867\n"
     ]
    },
    {
     "data": {
      "text/html": [
       "<hr style=\"height:1px;border:none;color:#333;background-color:#333;\" />"
      ],
      "text/plain": [
       "<IPython.core.display.HTML object>"
      ]
     },
     "metadata": {},
     "output_type": "display_data"
    },
    {
     "name": "stdout",
     "output_type": "stream",
     "text": [
      "n: 121\n"
     ]
    },
    {
     "data": {
      "text/plain": [
       "{'missing_values_strategy': 'dropna',\n",
       " 'undersampling': False,\n",
       " 'num_trees': 25,\n",
       " 'max_depth': 10,\n",
       " 'subsampling_rate': 0.8}"
      ]
     },
     "metadata": {},
     "output_type": "display_data"
    },
    {
     "name": "stderr",
     "output_type": "stream",
     "text": [
      "                                                                                \r"
     ]
    },
    {
     "name": "stdout",
     "output_type": "stream",
     "text": [
      "accuracy train: 0.5255782918149466\n",
      "accuracy valid: 0.49926183239253147\n",
      "log loss train: 0.9726487835374642\n",
      "log loss valid: 1.000705459935408\n"
     ]
    },
    {
     "data": {
      "text/html": [
       "<hr style=\"height:1px;border:none;color:#333;background-color:#333;\" />"
      ],
      "text/plain": [
       "<IPython.core.display.HTML object>"
      ]
     },
     "metadata": {},
     "output_type": "display_data"
    },
    {
     "name": "stdout",
     "output_type": "stream",
     "text": [
      "n: 122\n"
     ]
    },
    {
     "data": {
      "text/plain": [
       "{'missing_values_strategy': 'dropna',\n",
       " 'undersampling': False,\n",
       " 'num_trees': 25,\n",
       " 'max_depth': 10,\n",
       " 'subsampling_rate': 0.65}"
      ]
     },
     "metadata": {},
     "output_type": "display_data"
    },
    {
     "name": "stderr",
     "output_type": "stream",
     "text": [
      "                                                                                \r"
     ]
    },
    {
     "name": "stdout",
     "output_type": "stream",
     "text": [
      "accuracy train: 0.5237404008241243\n",
      "accuracy valid: 0.5011723838471559\n",
      "log loss train: 0.9741093306299855\n",
      "log loss valid: 1.002187986938873\n"
     ]
    },
    {
     "data": {
      "text/html": [
       "<hr style=\"height:1px;border:none;color:#333;background-color:#333;\" />"
      ],
      "text/plain": [
       "<IPython.core.display.HTML object>"
      ]
     },
     "metadata": {},
     "output_type": "display_data"
    },
    {
     "name": "stdout",
     "output_type": "stream",
     "text": [
      "n: 123\n"
     ]
    },
    {
     "data": {
      "text/plain": [
       "{'missing_values_strategy': 'dropna',\n",
       " 'undersampling': False,\n",
       " 'num_trees': 25,\n",
       " 'max_depth': 10,\n",
       " 'subsampling_rate': 0.5}"
      ]
     },
     "metadata": {},
     "output_type": "display_data"
    },
    {
     "name": "stderr",
     "output_type": "stream",
     "text": [
      "                                                                                \r"
     ]
    },
    {
     "name": "stdout",
     "output_type": "stream",
     "text": [
      "accuracy train: 0.5243725416744709\n",
      "accuracy valid: 0.49848024316109424\n",
      "log loss train: 0.9751109099028001\n",
      "log loss valid: 1.002227721308177\n"
     ]
    },
    {
     "data": {
      "text/html": [
       "<hr style=\"height:1px;border:none;color:#333;background-color:#333;\" />"
      ],
      "text/plain": [
       "<IPython.core.display.HTML object>"
      ]
     },
     "metadata": {},
     "output_type": "display_data"
    },
    {
     "name": "stdout",
     "output_type": "stream",
     "text": [
      "n: 124\n"
     ]
    },
    {
     "data": {
      "text/plain": [
       "{'missing_values_strategy': 'dropna',\n",
       " 'undersampling': False,\n",
       " 'num_trees': 25,\n",
       " 'max_depth': 10,\n",
       " 'subsampling_rate': 0.3}"
      ]
     },
     "metadata": {},
     "output_type": "display_data"
    },
    {
     "name": "stderr",
     "output_type": "stream",
     "text": [
      "                                                                                \r"
     ]
    },
    {
     "name": "stdout",
     "output_type": "stream",
     "text": [
      "accuracy train: 0.5182852594118749\n",
      "accuracy valid: 0.49795918367346936\n",
      "log loss train: 0.9794191150076506\n",
      "log loss valid: 1.0039914244144132\n"
     ]
    },
    {
     "data": {
      "text/html": [
       "<hr style=\"height:1px;border:none;color:#333;background-color:#333;\" />"
      ],
      "text/plain": [
       "<IPython.core.display.HTML object>"
      ]
     },
     "metadata": {},
     "output_type": "display_data"
    },
    {
     "name": "stdout",
     "output_type": "stream",
     "text": [
      "n: 125\n"
     ]
    },
    {
     "data": {
      "text/plain": [
       "{'missing_values_strategy': 'dropna',\n",
       " 'undersampling': False,\n",
       " 'num_trees': 25,\n",
       " 'max_depth': 8,\n",
       " 'subsampling_rate': 0.8}"
      ]
     },
     "metadata": {},
     "output_type": "display_data"
    },
    {
     "name": "stderr",
     "output_type": "stream",
     "text": [
      "                                                                                \r"
     ]
    },
    {
     "name": "stdout",
     "output_type": "stream",
     "text": [
      "accuracy train: 0.5040972092152088\n",
      "accuracy valid: 0.4982631350412505\n",
      "log loss train: 1.0003990107090286\n",
      "log loss valid: 1.0023880777335816\n"
     ]
    },
    {
     "data": {
      "text/html": [
       "<hr style=\"height:1px;border:none;color:#333;background-color:#333;\" />"
      ],
      "text/plain": [
       "<IPython.core.display.HTML object>"
      ]
     },
     "metadata": {},
     "output_type": "display_data"
    },
    {
     "name": "stdout",
     "output_type": "stream",
     "text": [
      "n: 126\n"
     ]
    },
    {
     "data": {
      "text/plain": [
       "{'missing_values_strategy': 'dropna',\n",
       " 'undersampling': False,\n",
       " 'num_trees': 25,\n",
       " 'max_depth': 8,\n",
       " 'subsampling_rate': 0.65}"
      ]
     },
     "metadata": {},
     "output_type": "display_data"
    },
    {
     "name": "stderr",
     "output_type": "stream",
     "text": [
      "                                                                                \r"
     ]
    },
    {
     "name": "stdout",
     "output_type": "stream",
     "text": [
      "accuracy train: 0.5047176437535119\n",
      "accuracy valid: 0.4981762917933131\n",
      "log loss train: 1.0007578799972232\n",
      "log loss valid: 1.002785841107004\n"
     ]
    },
    {
     "data": {
      "text/html": [
       "<hr style=\"height:1px;border:none;color:#333;background-color:#333;\" />"
      ],
      "text/plain": [
       "<IPython.core.display.HTML object>"
      ]
     },
     "metadata": {},
     "output_type": "display_data"
    },
    {
     "name": "stdout",
     "output_type": "stream",
     "text": [
      "n: 127\n"
     ]
    },
    {
     "data": {
      "text/plain": [
       "{'missing_values_strategy': 'dropna',\n",
       " 'undersampling': False,\n",
       " 'num_trees': 25,\n",
       " 'max_depth': 8,\n",
       " 'subsampling_rate': 0.5}"
      ]
     },
     "metadata": {},
     "output_type": "display_data"
    },
    {
     "name": "stderr",
     "output_type": "stream",
     "text": [
      "                                                                                \r"
     ]
    },
    {
     "name": "stdout",
     "output_type": "stream",
     "text": [
      "accuracy train: 0.5040035587188612\n",
      "accuracy valid: 0.49791576204950067\n",
      "log loss train: 1.00061355849824\n",
      "log loss valid: 1.0025960684099304\n"
     ]
    },
    {
     "data": {
      "text/html": [
       "<hr style=\"height:1px;border:none;color:#333;background-color:#333;\" />"
      ],
      "text/plain": [
       "<IPython.core.display.HTML object>"
      ]
     },
     "metadata": {},
     "output_type": "display_data"
    },
    {
     "name": "stdout",
     "output_type": "stream",
     "text": [
      "n: 128\n"
     ]
    },
    {
     "data": {
      "text/plain": [
       "{'missing_values_strategy': 'dropna',\n",
       " 'undersampling': False,\n",
       " 'num_trees': 25,\n",
       " 'max_depth': 8,\n",
       " 'subsampling_rate': 0.3}"
      ]
     },
     "metadata": {},
     "output_type": "display_data"
    },
    {
     "name": "stderr",
     "output_type": "stream",
     "text": [
      "                                                                                \r"
     ]
    },
    {
     "name": "stdout",
     "output_type": "stream",
     "text": [
      "accuracy train: 0.5028680464506462\n",
      "accuracy valid: 0.4989578810247503\n",
      "log loss train: 1.0010471001637657\n",
      "log loss valid: 1.0032787747669858\n"
     ]
    },
    {
     "name": "stderr",
     "output_type": "stream",
     "text": [
      "                                                                                \r"
     ]
    },
    {
     "data": {
      "text/html": [
       "<hr style=\"height:1px;border:none;color:#333;background-color:#333;\" />"
      ],
      "text/plain": [
       "<IPython.core.display.HTML object>"
      ]
     },
     "metadata": {},
     "output_type": "display_data"
    },
    {
     "name": "stdout",
     "output_type": "stream",
     "text": [
      "n: 129\n"
     ]
    },
    {
     "data": {
      "text/plain": [
       "{'missing_values_strategy': 'dropna',\n",
       " 'undersampling': False,\n",
       " 'num_trees': 25,\n",
       " 'max_depth': 5,\n",
       " 'subsampling_rate': 0.8}"
      ]
     },
     "metadata": {},
     "output_type": "display_data"
    },
    {
     "name": "stderr",
     "output_type": "stream",
     "text": [
      "                                                                                \r"
     ]
    },
    {
     "name": "stdout",
     "output_type": "stream",
     "text": [
      "accuracy train: 0.49481410376474994\n",
      "accuracy valid: 0.49491966999565784\n",
      "log loss train: 1.0213216950054602\n",
      "log loss valid: 1.0179244672214287\n"
     ]
    },
    {
     "data": {
      "text/html": [
       "<hr style=\"height:1px;border:none;color:#333;background-color:#333;\" />"
      ],
      "text/plain": [
       "<IPython.core.display.HTML object>"
      ]
     },
     "metadata": {},
     "output_type": "display_data"
    },
    {
     "name": "stdout",
     "output_type": "stream",
     "text": [
      "n: 130\n"
     ]
    },
    {
     "data": {
      "text/plain": [
       "{'missing_values_strategy': 'dropna',\n",
       " 'undersampling': False,\n",
       " 'num_trees': 25,\n",
       " 'max_depth': 5,\n",
       " 'subsampling_rate': 0.65}"
      ]
     },
     "metadata": {},
     "output_type": "display_data"
    },
    {
     "name": "stderr",
     "output_type": "stream",
     "text": [
      "                                                                                \r"
     ]
    },
    {
     "name": "stdout",
     "output_type": "stream",
     "text": [
      "accuracy train: 0.4933039895111444\n",
      "accuracy valid: 0.4928354320451585\n",
      "log loss train: 1.0210764748270196\n",
      "log loss valid: 1.0172670857185149\n"
     ]
    },
    {
     "data": {
      "text/html": [
       "<hr style=\"height:1px;border:none;color:#333;background-color:#333;\" />"
      ],
      "text/plain": [
       "<IPython.core.display.HTML object>"
      ]
     },
     "metadata": {},
     "output_type": "display_data"
    },
    {
     "name": "stdout",
     "output_type": "stream",
     "text": [
      "n: 131\n"
     ]
    },
    {
     "data": {
      "text/plain": [
       "{'missing_values_strategy': 'dropna',\n",
       " 'undersampling': False,\n",
       " 'num_trees': 25,\n",
       " 'max_depth': 5,\n",
       " 'subsampling_rate': 0.5}"
      ]
     },
     "metadata": {},
     "output_type": "display_data"
    },
    {
     "name": "stderr",
     "output_type": "stream",
     "text": [
      "                                                                                \r"
     ]
    },
    {
     "name": "stdout",
     "output_type": "stream",
     "text": [
      "accuracy train: 0.4941585502903165\n",
      "accuracy valid: 0.49331306990881457\n",
      "log loss train: 1.021000929743481\n",
      "log loss valid: 1.0172820570809182\n"
     ]
    },
    {
     "data": {
      "text/html": [
       "<hr style=\"height:1px;border:none;color:#333;background-color:#333;\" />"
      ],
      "text/plain": [
       "<IPython.core.display.HTML object>"
      ]
     },
     "metadata": {},
     "output_type": "display_data"
    },
    {
     "name": "stdout",
     "output_type": "stream",
     "text": [
      "n: 132\n"
     ]
    },
    {
     "data": {
      "text/plain": [
       "{'missing_values_strategy': 'dropna',\n",
       " 'undersampling': False,\n",
       " 'num_trees': 25,\n",
       " 'max_depth': 5,\n",
       " 'subsampling_rate': 0.3}"
      ]
     },
     "metadata": {},
     "output_type": "display_data"
    },
    {
     "name": "stderr",
     "output_type": "stream",
     "text": [
      "                                                                                \r"
     ]
    },
    {
     "name": "stdout",
     "output_type": "stream",
     "text": [
      "accuracy train: 0.4943809702191422\n",
      "accuracy valid: 0.494398610508033\n",
      "log loss train: 1.019498042802492\n",
      "log loss valid: 1.015462984388942\n"
     ]
    },
    {
     "data": {
      "text/html": [
       "<hr style=\"height:1px;border:none;color:#333;background-color:#333;\" />"
      ],
      "text/plain": [
       "<IPython.core.display.HTML object>"
      ]
     },
     "metadata": {},
     "output_type": "display_data"
    },
    {
     "name": "stdout",
     "output_type": "stream",
     "text": [
      "n: 133\n"
     ]
    },
    {
     "data": {
      "text/plain": [
       "{'missing_values_strategy': 'dropna',\n",
       " 'undersampling': False,\n",
       " 'num_trees': 25,\n",
       " 'max_depth': 1,\n",
       " 'subsampling_rate': 0.8}"
      ]
     },
     "metadata": {},
     "output_type": "display_data"
    },
    {
     "name": "stderr",
     "output_type": "stream",
     "text": [
      "                                                                                \r"
     ]
    }
   ],
   "source": [
    "counter = 0\n",
    "\n",
    "for params in experiment_params:\n",
    "    counter += 1\n",
    "    if counter <= 84:\n",
    "        continue\n",
    "    print(f\"n: {counter}\")\n",
    "    display(params)\n",
    "    \n",
    "    missing_values_strategy = params[\"missing_values_strategy\"]\n",
    "    undersampling = params[\"undersampling\"]\n",
    "    num_trees = params[\"num_trees\"]\n",
    "    max_depth = params[\"max_depth\"]\n",
    "    subsampling_rate = params[\"subsampling_rate\"]\n",
    "    \n",
    "    if undersampling:\n",
    "        use_df_train = df_ttrain_undersampling\n",
    "        use_df_valid = df_tvalid_undersampling\n",
    "    else:\n",
    "        use_df_train = df_ttrain\n",
    "        use_df_valid = df_tvalid\n",
    "    \n",
    "    ### TRAINING\n",
    "    rf = RandomForestClassifier(labelCol=\"target_indexed\", \n",
    "                                probabilityCol='proba', \n",
    "                                featuresCol=\"features\", \n",
    "                                numTrees=num_trees,\n",
    "                                maxDepth=max_depth,\n",
    "                                subsamplingRate=subsampling_rate)\n",
    "    \n",
    "    model = rf.fit(use_df_train)\n",
    "    \n",
    "    \n",
    "    ### TRAIN METRICS\n",
    "    train_preds = model.transform(use_df_train)\n",
    "    metrics_train_train = metrics.get_metrics(train_preds, \n",
    "                                                    labelCol=\"target_indexed\", \n",
    "                                                    predictionCol=\"prediction\", \n",
    "                                                    probabilityCol=\"proba\")\n",
    "    metrics_train_train[\"which_dataset\"] = \"train_train\"\n",
    "    \n",
    "    ### VALIDATION METRICS\n",
    "    valid_preds = model.transform(use_df_valid)\n",
    "    metrics_train_valid = metrics.get_metrics(valid_preds, \n",
    "                                                    labelCol=\"target_indexed\", \n",
    "                                                    predictionCol=\"prediction\", \n",
    "                                                    probabilityCol=\"proba\")\n",
    "    metrics_train_valid[\"which_dataset\"] = \"train_valid\"\n",
    "    \n",
    "    ### BULDING RESULTS\n",
    "    id_model = str(uuid.uuid4())\n",
    "#     result = {**params, **metric_values_train_train, **metric_values_train_valid}\n",
    "    result = params\n",
    "    result[\"metrics_train_train\"] = metrics_train_train\n",
    "    result[\"metrics_train_valid\"] = metrics_train_valid\n",
    "    result[\"id_model\"] = id_model\n",
    "    result[\"datetime\"] = datetime.now().strftime(\"%Y-%m-%d %H:%M:%S\")\n",
    "    \n",
    "    result = {**result, **params}\n",
    "    \n",
    "    print(\"accuracy train:\", metrics_train_train[\"accuracy\"])\n",
    "    print(\"accuracy valid:\", metrics_train_valid[\"accuracy\"])\n",
    "    print(\"log loss train:\", metrics_train_train[\"log_loss\"])\n",
    "    print(\"log loss valid:\", metrics_train_valid[\"log_loss\"])\n",
    "\n",
    "    dao_ml.save_result(result=result, id_data_build=df_id, model=model, id_model=id_model)\n",
    "    \n",
    "    pretties.hr()"
   ]
  },
  {
   "cell_type": "code",
   "execution_count": null,
   "id": "aadc5e08",
   "metadata": {},
   "outputs": [],
   "source": []
  }
 ],
 "metadata": {
  "kernelspec": {
   "display_name": "Python 3 (ipykernel)",
   "language": "python",
   "name": "python3"
  },
  "language_info": {
   "codemirror_mode": {
    "name": "ipython",
    "version": 3
   },
   "file_extension": ".py",
   "mimetype": "text/x-python",
   "name": "python",
   "nbconvert_exporter": "python",
   "pygments_lexer": "ipython3",
   "version": "3.9.7"
  }
 },
 "nbformat": 4,
 "nbformat_minor": 5
}
