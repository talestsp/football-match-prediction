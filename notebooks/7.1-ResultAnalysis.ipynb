{
 "cells": [
  {
   "cell_type": "markdown",
   "id": "ed008c12",
   "metadata": {},
   "source": [
    "# ResultAnalysis\n",
    "Notebook to check Grid Search results"
   ]
  },
  {
   "cell_type": "code",
   "execution_count": 1,
   "id": "88e9bb5d",
   "metadata": {},
   "outputs": [
    {
     "data": {
      "text/plain": [
       "'/Users/tales.pimentel/ds/kaggle/football-match-prediction'"
      ]
     },
     "execution_count": 1,
     "metadata": {},
     "output_type": "execute_result"
    }
   ],
   "source": [
    "import os\n",
    "from working_dir import set_wd\n",
    "set_wd()\n",
    "os.getcwd()"
   ]
  },
  {
   "cell_type": "code",
   "execution_count": 2,
   "id": "770675a1",
   "metadata": {},
   "outputs": [],
   "source": [
    "import pandas as pd\n",
    "import matplotlib.pyplot as plt\n",
    "from src.dao import dao_ml\n",
    "from src.utils import dflib, stats, pretties, plot, plot_domain, palette"
   ]
  },
  {
   "cell_type": "code",
   "execution_count": 3,
   "id": "782f8572",
   "metadata": {},
   "outputs": [],
   "source": [
    "pretties.max_data_frame_columns()"
   ]
  },
  {
   "cell_type": "markdown",
   "id": "8e0db4ff",
   "metadata": {},
   "source": [
    "# Loading Results"
   ]
  },
  {
   "cell_type": "code",
   "execution_count": 6,
   "id": "f3b83293",
   "metadata": {},
   "outputs": [
    {
     "name": "stdout",
     "output_type": "stream",
     "text": [
      "3\n"
     ]
    },
    {
     "data": {
      "text/html": [
       "<div>\n",
       "<style scoped>\n",
       "    .dataframe tbody tr th:only-of-type {\n",
       "        vertical-align: middle;\n",
       "    }\n",
       "\n",
       "    .dataframe tbody tr th {\n",
       "        vertical-align: top;\n",
       "    }\n",
       "\n",
       "    .dataframe thead th {\n",
       "        text-align: right;\n",
       "    }\n",
       "</style>\n",
       "<table border=\"1\" class=\"dataframe\">\n",
       "  <thead>\n",
       "    <tr style=\"text-align: right;\">\n",
       "      <th></th>\n",
       "      <th>id_modeling</th>\n",
       "      <th>datetime</th>\n",
       "      <th>clf_name</th>\n",
       "      <th>pipeline_train_stages</th>\n",
       "      <th>best_score_cv_train</th>\n",
       "      <th>best_score_cv</th>\n",
       "    </tr>\n",
       "  </thead>\n",
       "  <tbody>\n",
       "    <tr>\n",
       "      <th>2</th>\n",
       "      <td>a26f990a-12e8-4a8d-9e2e-74e4969f6508</td>\n",
       "      <td>2022-05-26 19:02:06</td>\n",
       "      <td>RandomForestClassificationModel</td>\n",
       "      <td>[VectorAssembler, StringIndexerModel]</td>\n",
       "      <td>0.981899</td>\n",
       "      <td>1.012797</td>\n",
       "    </tr>\n",
       "    <tr>\n",
       "      <th>0</th>\n",
       "      <td>d6e238c1-c6a8-41be-ac18-3cad3f47a420</td>\n",
       "      <td>2022-05-26 16:44:32</td>\n",
       "      <td>XGBClassifier</td>\n",
       "      <td>[StringIndexerModel]</td>\n",
       "      <td>0.996144</td>\n",
       "      <td>1.010365</td>\n",
       "    </tr>\n",
       "    <tr>\n",
       "      <th>1</th>\n",
       "      <td>6d671cab-ea98-4471-8455-0a8092241123</td>\n",
       "      <td>2022-05-26 15:52:32</td>\n",
       "      <td>RandomForestClassificationModel</td>\n",
       "      <td>[VectorAssembler, StringIndexerModel]</td>\n",
       "      <td>0.982310</td>\n",
       "      <td>1.012607</td>\n",
       "    </tr>\n",
       "  </tbody>\n",
       "</table>\n",
       "</div>"
      ],
      "text/plain": [
       "                            id_modeling             datetime  \\\n",
       "2  a26f990a-12e8-4a8d-9e2e-74e4969f6508  2022-05-26 19:02:06   \n",
       "0  d6e238c1-c6a8-41be-ac18-3cad3f47a420  2022-05-26 16:44:32   \n",
       "1  6d671cab-ea98-4471-8455-0a8092241123  2022-05-26 15:52:32   \n",
       "\n",
       "                          clf_name                  pipeline_train_stages  \\\n",
       "2  RandomForestClassificationModel  [VectorAssembler, StringIndexerModel]   \n",
       "0                    XGBClassifier                   [StringIndexerModel]   \n",
       "1  RandomForestClassificationModel  [VectorAssembler, StringIndexerModel]   \n",
       "\n",
       "   best_score_cv_train  best_score_cv  \n",
       "2             0.981899       1.012797  \n",
       "0             0.996144       1.010365  \n",
       "1             0.982310       1.012607  "
      ]
     },
     "execution_count": 6,
     "metadata": {},
     "output_type": "execute_result"
    }
   ],
   "source": [
    "all_results = dao_ml.load_all_modeling()\n",
    "print(len(all_results))\n",
    "\n",
    "pd.DataFrame(all_results)[[\"id_modeling\", \"datetime\", \"clf_name\", \"pipeline_train_stages\", \"best_score_cv_train\", \"best_score_cv\"]].sort_values(\"datetime\", ascending=False)"
   ]
  },
  {
   "cell_type": "code",
   "execution_count": 7,
   "id": "40e4fa1a",
   "metadata": {},
   "outputs": [],
   "source": [
    "load_ids_modeling = [\"a26f990a-12e8-4a8d-9e2e-74e4969f6508\", \"d6e238c1-c6a8-41be-ac18-3cad3f47a420\"]\n",
    "\n",
    "rdf = pd.DataFrame()\n",
    "\n",
    "for id_modeling in load_ids_modeling:\n",
    "    results_temp = dao_ml.load_modeling(id_modeling)\n",
    "    \n",
    "    rdf_id = pd.DataFrame(results_temp[\"overfitting_analysis_df\"])\n",
    "    rdf_id[\"clf_name\"] = results_temp[\"clf_name\"]\n",
    "    \n",
    "    rdf = rdf.append(rdf_id)"
   ]
  },
  {
   "cell_type": "code",
   "execution_count": 8,
   "id": "648c6371",
   "metadata": {
    "scrolled": false
   },
   "outputs": [
    {
     "data": {
      "text/html": [
       "<div>\n",
       "<style scoped>\n",
       "    .dataframe tbody tr th:only-of-type {\n",
       "        vertical-align: middle;\n",
       "    }\n",
       "\n",
       "    .dataframe tbody tr th {\n",
       "        vertical-align: top;\n",
       "    }\n",
       "\n",
       "    .dataframe thead th {\n",
       "        text-align: right;\n",
       "    }\n",
       "</style>\n",
       "<table border=\"1\" class=\"dataframe\">\n",
       "  <thead>\n",
       "    <tr style=\"text-align: right;\">\n",
       "      <th></th>\n",
       "      <th>log_loss_train</th>\n",
       "      <th>log_loss_cv</th>\n",
       "      <th>numTrees</th>\n",
       "      <th>maxDepth</th>\n",
       "      <th>subsamplingRate</th>\n",
       "      <th>clf_name</th>\n",
       "      <th>colsample_bytree</th>\n",
       "      <th>max_depth</th>\n",
       "      <th>n_estimators</th>\n",
       "      <th>subsample</th>\n",
       "      <th>std_train_log_loss</th>\n",
       "      <th>std_cv_log_loss</th>\n",
       "    </tr>\n",
       "  </thead>\n",
       "  <tbody>\n",
       "    <tr>\n",
       "      <th>95</th>\n",
       "      <td>0.996144</td>\n",
       "      <td>1.010365</td>\n",
       "      <td>NaN</td>\n",
       "      <td>NaN</td>\n",
       "      <td>NaN</td>\n",
       "      <td>XGBClassifier</td>\n",
       "      <td>0.7</td>\n",
       "      <td>4.0</td>\n",
       "      <td>40.0</td>\n",
       "      <td>0.8</td>\n",
       "      <td>0.001082</td>\n",
       "      <td>0.004471</td>\n",
       "    </tr>\n",
       "    <tr>\n",
       "      <th>89</th>\n",
       "      <td>1.005290</td>\n",
       "      <td>1.010414</td>\n",
       "      <td>NaN</td>\n",
       "      <td>NaN</td>\n",
       "      <td>NaN</td>\n",
       "      <td>XGBClassifier</td>\n",
       "      <td>0.7</td>\n",
       "      <td>2.0</td>\n",
       "      <td>60.0</td>\n",
       "      <td>0.8</td>\n",
       "      <td>0.000970</td>\n",
       "      <td>0.004523</td>\n",
       "    </tr>\n",
       "    <tr>\n",
       "      <th>88</th>\n",
       "      <td>1.005359</td>\n",
       "      <td>1.010438</td>\n",
       "      <td>NaN</td>\n",
       "      <td>NaN</td>\n",
       "      <td>NaN</td>\n",
       "      <td>XGBClassifier</td>\n",
       "      <td>0.7</td>\n",
       "      <td>2.0</td>\n",
       "      <td>60.0</td>\n",
       "      <td>0.7</td>\n",
       "      <td>0.000975</td>\n",
       "      <td>0.004662</td>\n",
       "    </tr>\n",
       "    <tr>\n",
       "      <th>87</th>\n",
       "      <td>1.005409</td>\n",
       "      <td>1.010486</td>\n",
       "      <td>NaN</td>\n",
       "      <td>NaN</td>\n",
       "      <td>NaN</td>\n",
       "      <td>XGBClassifier</td>\n",
       "      <td>0.7</td>\n",
       "      <td>2.0</td>\n",
       "      <td>60.0</td>\n",
       "      <td>0.6</td>\n",
       "      <td>0.000884</td>\n",
       "      <td>0.004605</td>\n",
       "    </tr>\n",
       "    <tr>\n",
       "      <th>92</th>\n",
       "      <td>1.002289</td>\n",
       "      <td>1.010504</td>\n",
       "      <td>NaN</td>\n",
       "      <td>NaN</td>\n",
       "      <td>NaN</td>\n",
       "      <td>XGBClassifier</td>\n",
       "      <td>0.7</td>\n",
       "      <td>4.0</td>\n",
       "      <td>20.0</td>\n",
       "      <td>0.8</td>\n",
       "      <td>0.000977</td>\n",
       "      <td>0.004550</td>\n",
       "    </tr>\n",
       "  </tbody>\n",
       "</table>\n",
       "</div>"
      ],
      "text/plain": [
       "    log_loss_train  log_loss_cv  numTrees  maxDepth  subsamplingRate  \\\n",
       "95        0.996144     1.010365       NaN       NaN              NaN   \n",
       "89        1.005290     1.010414       NaN       NaN              NaN   \n",
       "88        1.005359     1.010438       NaN       NaN              NaN   \n",
       "87        1.005409     1.010486       NaN       NaN              NaN   \n",
       "92        1.002289     1.010504       NaN       NaN              NaN   \n",
       "\n",
       "         clf_name  colsample_bytree  max_depth  n_estimators  subsample  \\\n",
       "95  XGBClassifier               0.7        4.0          40.0        0.8   \n",
       "89  XGBClassifier               0.7        2.0          60.0        0.8   \n",
       "88  XGBClassifier               0.7        2.0          60.0        0.7   \n",
       "87  XGBClassifier               0.7        2.0          60.0        0.6   \n",
       "92  XGBClassifier               0.7        4.0          20.0        0.8   \n",
       "\n",
       "    std_train_log_loss  std_cv_log_loss  \n",
       "95            0.001082         0.004471  \n",
       "89            0.000970         0.004523  \n",
       "88            0.000975         0.004662  \n",
       "87            0.000884         0.004605  \n",
       "92            0.000977         0.004550  "
      ]
     },
     "execution_count": 8,
     "metadata": {},
     "output_type": "execute_result"
    }
   ],
   "source": [
    "rdf = rdf.sort_values(\"log_loss_cv\")\n",
    "rdf.head(5)"
   ]
  },
  {
   "cell_type": "code",
   "execution_count": 9,
   "id": "5624df36",
   "metadata": {},
   "outputs": [],
   "source": [
    "def overfitting_analysis_num(metrics_df, param_name, metric_colname):\n",
    "    metric_colname_train = metric_colname + \"_train\"\n",
    "    metric_colname_valid = metric_colname + \"_cv\"\n",
    "    \n",
    "    of_data = metrics_df.groupby(param_name)[[metric_colname_train, metric_colname_valid]].mean().reset_index()\n",
    "\n",
    "    display(of_data)\n",
    "    \n",
    "    title = f\"{metric_colname} mean values for {param_name}\"\n",
    "    \n",
    "    plt.figure(figsize=(8,5))\n",
    "    plt.scatter(of_data[param_name], of_data[metric_colname_train], label=\"train\", s=130, alpha=0.6)\n",
    "    plt.scatter(of_data[param_name], of_data[metric_colname_valid], label=\"cv\", s=130, alpha=0.6)\n",
    "    plt.title(label=title)\n",
    "    plt.xlabel(param_name)\n",
    "    plt.ylabel(metric_colname)\n",
    "    plt.legend()\n",
    "    plt.show()"
   ]
  },
  {
   "cell_type": "code",
   "execution_count": 10,
   "id": "22bdfb08",
   "metadata": {},
   "outputs": [
    {
     "data": {
      "text/markdown": [
       "# <font color=blue>RandomForestClassificationModel</font>"
      ],
      "text/plain": [
       "<IPython.core.display.Markdown object>"
      ]
     },
     "metadata": {},
     "output_type": "display_data"
    },
    {
     "data": {
      "text/markdown": [
       "#### <font color=black>subsamplingRate</font>"
      ],
      "text/plain": [
       "<IPython.core.display.Markdown object>"
      ]
     },
     "metadata": {},
     "output_type": "display_data"
    },
    {
     "data": {
      "text/html": [
       "<div>\n",
       "<style scoped>\n",
       "    .dataframe tbody tr th:only-of-type {\n",
       "        vertical-align: middle;\n",
       "    }\n",
       "\n",
       "    .dataframe tbody tr th {\n",
       "        vertical-align: top;\n",
       "    }\n",
       "\n",
       "    .dataframe thead th {\n",
       "        text-align: right;\n",
       "    }\n",
       "</style>\n",
       "<table border=\"1\" class=\"dataframe\">\n",
       "  <thead>\n",
       "    <tr style=\"text-align: right;\">\n",
       "      <th></th>\n",
       "      <th>subsamplingRate</th>\n",
       "      <th>log_loss_train</th>\n",
       "      <th>log_loss_cv</th>\n",
       "    </tr>\n",
       "  </thead>\n",
       "  <tbody>\n",
       "    <tr>\n",
       "      <th>0</th>\n",
       "      <td>0.5</td>\n",
       "      <td>1.008337</td>\n",
       "      <td>1.018983</td>\n",
       "    </tr>\n",
       "    <tr>\n",
       "      <th>1</th>\n",
       "      <td>0.6</td>\n",
       "      <td>1.008379</td>\n",
       "      <td>1.019187</td>\n",
       "    </tr>\n",
       "    <tr>\n",
       "      <th>2</th>\n",
       "      <td>0.7</td>\n",
       "      <td>1.008328</td>\n",
       "      <td>1.019194</td>\n",
       "    </tr>\n",
       "  </tbody>\n",
       "</table>\n",
       "</div>"
      ],
      "text/plain": [
       "   subsamplingRate  log_loss_train  log_loss_cv\n",
       "0              0.5        1.008337     1.018983\n",
       "1              0.6        1.008379     1.019187\n",
       "2              0.7        1.008328     1.019194"
      ]
     },
     "metadata": {},
     "output_type": "display_data"
    },
    {
     "data": {
      "image/png": "[encoded data removed]",
      "text/plain": [
       "<Figure size 576x360 with 1 Axes>"
      ]
     },
     "metadata": {
      "needs_background": "light"
     },
     "output_type": "display_data"
    },
    {
     "data": {
      "text/markdown": [
       "#### <font color=black>maxDepth</font>"
      ],
      "text/plain": [
       "<IPython.core.display.Markdown object>"
      ]
     },
     "metadata": {},
     "output_type": "display_data"
    },
    {
     "data": {
      "text/html": [
       "<div>\n",
       "<style scoped>\n",
       "    .dataframe tbody tr th:only-of-type {\n",
       "        vertical-align: middle;\n",
       "    }\n",
       "\n",
       "    .dataframe tbody tr th {\n",
       "        vertical-align: top;\n",
       "    }\n",
       "\n",
       "    .dataframe thead th {\n",
       "        text-align: right;\n",
       "    }\n",
       "</style>\n",
       "<table border=\"1\" class=\"dataframe\">\n",
       "  <thead>\n",
       "    <tr style=\"text-align: right;\">\n",
       "      <th></th>\n",
       "      <th>maxDepth</th>\n",
       "      <th>log_loss_train</th>\n",
       "      <th>log_loss_cv</th>\n",
       "    </tr>\n",
       "  </thead>\n",
       "  <tbody>\n",
       "    <tr>\n",
       "      <th>0</th>\n",
       "      <td>4.0</td>\n",
       "      <td>1.029342</td>\n",
       "      <td>1.029975</td>\n",
       "    </tr>\n",
       "    <tr>\n",
       "      <th>1</th>\n",
       "      <td>6.0</td>\n",
       "      <td>1.016921</td>\n",
       "      <td>1.019245</td>\n",
       "    </tr>\n",
       "    <tr>\n",
       "      <th>2</th>\n",
       "      <td>8.0</td>\n",
       "      <td>1.004489</td>\n",
       "      <td>1.014112</td>\n",
       "    </tr>\n",
       "    <tr>\n",
       "      <th>3</th>\n",
       "      <td>10.0</td>\n",
       "      <td>0.982639</td>\n",
       "      <td>1.013154</td>\n",
       "    </tr>\n",
       "  </tbody>\n",
       "</table>\n",
       "</div>"
      ],
      "text/plain": [
       "   maxDepth  log_loss_train  log_loss_cv\n",
       "0       4.0        1.029342     1.029975\n",
       "1       6.0        1.016921     1.019245\n",
       "2       8.0        1.004489     1.014112\n",
       "3      10.0        0.982639     1.013154"
      ]
     },
     "metadata": {},
     "output_type": "display_data"
    },
    {
     "data": {
      "image/png": "[encoded data removed]",
      "text/plain": [
       "<Figure size 576x360 with 1 Axes>"
      ]
     },
     "metadata": {
      "needs_background": "light"
     },
     "output_type": "display_data"
    },
    {
     "data": {
      "text/markdown": [
       "#### <font color=black>numTrees</font>"
      ],
      "text/plain": [
       "<IPython.core.display.Markdown object>"
      ]
     },
     "metadata": {},
     "output_type": "display_data"
    },
    {
     "data": {
      "text/html": [
       "<div>\n",
       "<style scoped>\n",
       "    .dataframe tbody tr th:only-of-type {\n",
       "        vertical-align: middle;\n",
       "    }\n",
       "\n",
       "    .dataframe tbody tr th {\n",
       "        vertical-align: top;\n",
       "    }\n",
       "\n",
       "    .dataframe thead th {\n",
       "        text-align: right;\n",
       "    }\n",
       "</style>\n",
       "<table border=\"1\" class=\"dataframe\">\n",
       "  <thead>\n",
       "    <tr style=\"text-align: right;\">\n",
       "      <th></th>\n",
       "      <th>numTrees</th>\n",
       "      <th>log_loss_train</th>\n",
       "      <th>log_loss_cv</th>\n",
       "    </tr>\n",
       "  </thead>\n",
       "  <tbody>\n",
       "    <tr>\n",
       "      <th>0</th>\n",
       "      <td>40.0</td>\n",
       "      <td>1.008504</td>\n",
       "      <td>1.019301</td>\n",
       "    </tr>\n",
       "    <tr>\n",
       "      <th>1</th>\n",
       "      <td>60.0</td>\n",
       "      <td>1.008191</td>\n",
       "      <td>1.018942</td>\n",
       "    </tr>\n",
       "  </tbody>\n",
       "</table>\n",
       "</div>"
      ],
      "text/plain": [
       "   numTrees  log_loss_train  log_loss_cv\n",
       "0      40.0        1.008504     1.019301\n",
       "1      60.0        1.008191     1.018942"
      ]
     },
     "metadata": {},
     "output_type": "display_data"
    },
    {
     "data": {
      "image/png": "[encoded data removed]",
      "text/plain": [
       "<Figure size 576x360 with 1 Axes>"
      ]
     },
     "metadata": {
      "needs_background": "light"
     },
     "output_type": "display_data"
    }
   ],
   "source": [
    "pretties.md(\"RandomForestClassificationModel\", size=\"#\", color=\"blue\")\n",
    "rfc_df = rdf[rdf[\"clf_name\"] == \"RandomForestClassificationModel\"]\n",
    "\n",
    "for param_name in [\"subsamplingRate\", \"maxDepth\", \"numTrees\"]:\n",
    "    pretties.md(param_name, size=\"####\")\n",
    "    overfitting_analysis_num(metrics_df=rfc_df, \n",
    "                             param_name=param_name, \n",
    "                             metric_colname=\"log_loss\")"
   ]
  },
  {
   "cell_type": "code",
   "execution_count": 11,
   "id": "70fd0934",
   "metadata": {
    "scrolled": false
   },
   "outputs": [
    {
     "data": {
      "text/markdown": [
       "# <font color=blue>XGBClassifier</font>"
      ],
      "text/plain": [
       "<IPython.core.display.Markdown object>"
      ]
     },
     "metadata": {},
     "output_type": "display_data"
    },
    {
     "data": {
      "text/markdown": [
       "#### <font color=black>colsample_bytree</font>"
      ],
      "text/plain": [
       "<IPython.core.display.Markdown object>"
      ]
     },
     "metadata": {},
     "output_type": "display_data"
    },
    {
     "data": {
      "text/html": [
       "<div>\n",
       "<style scoped>\n",
       "    .dataframe tbody tr th:only-of-type {\n",
       "        vertical-align: middle;\n",
       "    }\n",
       "\n",
       "    .dataframe tbody tr th {\n",
       "        vertical-align: top;\n",
       "    }\n",
       "\n",
       "    .dataframe thead th {\n",
       "        text-align: right;\n",
       "    }\n",
       "</style>\n",
       "<table border=\"1\" class=\"dataframe\">\n",
       "  <thead>\n",
       "    <tr style=\"text-align: right;\">\n",
       "      <th></th>\n",
       "      <th>colsample_bytree</th>\n",
       "      <th>log_loss_train</th>\n",
       "      <th>log_loss_cv</th>\n",
       "    </tr>\n",
       "  </thead>\n",
       "  <tbody>\n",
       "    <tr>\n",
       "      <th>0</th>\n",
       "      <td>0.5</td>\n",
       "      <td>0.998320</td>\n",
       "      <td>1.013066</td>\n",
       "    </tr>\n",
       "    <tr>\n",
       "      <th>1</th>\n",
       "      <td>0.6</td>\n",
       "      <td>0.998320</td>\n",
       "      <td>1.013066</td>\n",
       "    </tr>\n",
       "    <tr>\n",
       "      <th>2</th>\n",
       "      <td>0.7</td>\n",
       "      <td>0.997481</td>\n",
       "      <td>1.012854</td>\n",
       "    </tr>\n",
       "  </tbody>\n",
       "</table>\n",
       "</div>"
      ],
      "text/plain": [
       "   colsample_bytree  log_loss_train  log_loss_cv\n",
       "0               0.5        0.998320     1.013066\n",
       "1               0.6        0.998320     1.013066\n",
       "2               0.7        0.997481     1.012854"
      ]
     },
     "metadata": {},
     "output_type": "display_data"
    },
    {
     "data": {
      "image/png": "[encoded data removed]",
      "text/plain": [
       "<Figure size 576x360 with 1 Axes>"
      ]
     },
     "metadata": {
      "needs_background": "light"
     },
     "output_type": "display_data"
    },
    {
     "data": {
      "text/markdown": [
       "#### <font color=black>max_depth</font>"
      ],
      "text/plain": [
       "<IPython.core.display.Markdown object>"
      ]
     },
     "metadata": {},
     "output_type": "display_data"
    },
    {
     "data": {
      "text/html": [
       "<div>\n",
       "<style scoped>\n",
       "    .dataframe tbody tr th:only-of-type {\n",
       "        vertical-align: middle;\n",
       "    }\n",
       "\n",
       "    .dataframe tbody tr th {\n",
       "        vertical-align: top;\n",
       "    }\n",
       "\n",
       "    .dataframe thead th {\n",
       "        text-align: right;\n",
       "    }\n",
       "</style>\n",
       "<table border=\"1\" class=\"dataframe\">\n",
       "  <thead>\n",
       "    <tr style=\"text-align: right;\">\n",
       "      <th></th>\n",
       "      <th>max_depth</th>\n",
       "      <th>log_loss_train</th>\n",
       "      <th>log_loss_cv</th>\n",
       "    </tr>\n",
       "  </thead>\n",
       "  <tbody>\n",
       "    <tr>\n",
       "      <th>0</th>\n",
       "      <td>1.0</td>\n",
       "      <td>1.013294</td>\n",
       "      <td>1.015318</td>\n",
       "    </tr>\n",
       "    <tr>\n",
       "      <th>1</th>\n",
       "      <td>2.0</td>\n",
       "      <td>1.007862</td>\n",
       "      <td>1.011722</td>\n",
       "    </tr>\n",
       "    <tr>\n",
       "      <th>2</th>\n",
       "      <td>4.0</td>\n",
       "      <td>0.997253</td>\n",
       "      <td>1.010966</td>\n",
       "    </tr>\n",
       "    <tr>\n",
       "      <th>3</th>\n",
       "      <td>6.0</td>\n",
       "      <td>0.973752</td>\n",
       "      <td>1.013976</td>\n",
       "    </tr>\n",
       "  </tbody>\n",
       "</table>\n",
       "</div>"
      ],
      "text/plain": [
       "   max_depth  log_loss_train  log_loss_cv\n",
       "0        1.0        1.013294     1.015318\n",
       "1        2.0        1.007862     1.011722\n",
       "2        4.0        0.997253     1.010966\n",
       "3        6.0        0.973752     1.013976"
      ]
     },
     "metadata": {},
     "output_type": "display_data"
    },
    {
     "data": {
      "image/png": "[encoded data removed]",
      "text/plain": [
       "<Figure size 576x360 with 1 Axes>"
      ]
     },
     "metadata": {
      "needs_background": "light"
     },
     "output_type": "display_data"
    },
    {
     "data": {
      "text/markdown": [
       "#### <font color=black>n_estimators</font>"
      ],
      "text/plain": [
       "<IPython.core.display.Markdown object>"
      ]
     },
     "metadata": {},
     "output_type": "display_data"
    },
    {
     "data": {
      "text/html": [
       "<div>\n",
       "<style scoped>\n",
       "    .dataframe tbody tr th:only-of-type {\n",
       "        vertical-align: middle;\n",
       "    }\n",
       "\n",
       "    .dataframe tbody tr th {\n",
       "        vertical-align: top;\n",
       "    }\n",
       "\n",
       "    .dataframe thead th {\n",
       "        text-align: right;\n",
       "    }\n",
       "</style>\n",
       "<table border=\"1\" class=\"dataframe\">\n",
       "  <thead>\n",
       "    <tr style=\"text-align: right;\">\n",
       "      <th></th>\n",
       "      <th>n_estimators</th>\n",
       "      <th>log_loss_train</th>\n",
       "      <th>log_loss_cv</th>\n",
       "    </tr>\n",
       "  </thead>\n",
       "  <tbody>\n",
       "    <tr>\n",
       "      <th>0</th>\n",
       "      <td>20.0</td>\n",
       "      <td>1.004815</td>\n",
       "      <td>1.013994</td>\n",
       "    </tr>\n",
       "    <tr>\n",
       "      <th>1</th>\n",
       "      <td>40.0</td>\n",
       "      <td>0.997312</td>\n",
       "      <td>1.012425</td>\n",
       "    </tr>\n",
       "    <tr>\n",
       "      <th>2</th>\n",
       "      <td>60.0</td>\n",
       "      <td>0.991995</td>\n",
       "      <td>1.012568</td>\n",
       "    </tr>\n",
       "  </tbody>\n",
       "</table>\n",
       "</div>"
      ],
      "text/plain": [
       "   n_estimators  log_loss_train  log_loss_cv\n",
       "0          20.0        1.004815     1.013994\n",
       "1          40.0        0.997312     1.012425\n",
       "2          60.0        0.991995     1.012568"
      ]
     },
     "metadata": {},
     "output_type": "display_data"
    },
    {
     "data": {
      "image/png": "[encoded data removed]",
      "text/plain": [
       "<Figure size 576x360 with 1 Axes>"
      ]
     },
     "metadata": {
      "needs_background": "light"
     },
     "output_type": "display_data"
    },
    {
     "data": {
      "text/markdown": [
       "#### <font color=black>subsample</font>"
      ],
      "text/plain": [
       "<IPython.core.display.Markdown object>"
      ]
     },
     "metadata": {},
     "output_type": "display_data"
    },
    {
     "data": {
      "text/html": [
       "<div>\n",
       "<style scoped>\n",
       "    .dataframe tbody tr th:only-of-type {\n",
       "        vertical-align: middle;\n",
       "    }\n",
       "\n",
       "    .dataframe tbody tr th {\n",
       "        vertical-align: top;\n",
       "    }\n",
       "\n",
       "    .dataframe thead th {\n",
       "        text-align: right;\n",
       "    }\n",
       "</style>\n",
       "<table border=\"1\" class=\"dataframe\">\n",
       "  <thead>\n",
       "    <tr style=\"text-align: right;\">\n",
       "      <th></th>\n",
       "      <th>subsample</th>\n",
       "      <th>log_loss_train</th>\n",
       "      <th>log_loss_cv</th>\n",
       "    </tr>\n",
       "  </thead>\n",
       "  <tbody>\n",
       "    <tr>\n",
       "      <th>0</th>\n",
       "      <td>0.6</td>\n",
       "      <td>0.998279</td>\n",
       "      <td>1.013127</td>\n",
       "    </tr>\n",
       "    <tr>\n",
       "      <th>1</th>\n",
       "      <td>0.7</td>\n",
       "      <td>0.998022</td>\n",
       "      <td>1.013073</td>\n",
       "    </tr>\n",
       "    <tr>\n",
       "      <th>2</th>\n",
       "      <td>0.8</td>\n",
       "      <td>0.997821</td>\n",
       "      <td>1.012786</td>\n",
       "    </tr>\n",
       "  </tbody>\n",
       "</table>\n",
       "</div>"
      ],
      "text/plain": [
       "   subsample  log_loss_train  log_loss_cv\n",
       "0        0.6        0.998279     1.013127\n",
       "1        0.7        0.998022     1.013073\n",
       "2        0.8        0.997821     1.012786"
      ]
     },
     "metadata": {},
     "output_type": "display_data"
    },
    {
     "data": {
      "image/png": "[encoded data removed]",
      "text/plain": [
       "<Figure size 576x360 with 1 Axes>"
      ]
     },
     "metadata": {
      "needs_background": "light"
     },
     "output_type": "display_data"
    }
   ],
   "source": [
    "pretties.md(\"XGBClassifier\", size=\"#\", color=\"blue\")\n",
    "xgbc_df = rdf[rdf[\"clf_name\"] == \"XGBClassifier\"]\n",
    "\n",
    "for param_name in [\"colsample_bytree\", \"max_depth\", \"n_estimators\", \"subsample\"]:\n",
    "    pretties.md(param_name, size=\"####\")\n",
    "    overfitting_analysis_num(metrics_df=xgbc_df, \n",
    "                             param_name=param_name, \n",
    "                             metric_colname=\"log_loss\")"
   ]
  },
  {
   "cell_type": "code",
   "execution_count": null,
   "id": "7cba6862",
   "metadata": {},
   "outputs": [],
   "source": []
  }
 ],
 "metadata": {
  "kernelspec": {
   "display_name": "Python 3",
   "language": "python",
   "name": "python3"
  },
  "language_info": {
   "codemirror_mode": {
    "name": "ipython",
    "version": 3
   },
   "file_extension": ".py",
   "mimetype": "text/x-python",
   "name": "python",
   "nbconvert_exporter": "python",
   "pygments_lexer": "ipython3",
   "version": "3.8.8"
  }
 },
 "nbformat": 4,
 "nbformat_minor": 5
}
