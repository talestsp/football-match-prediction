{
 "cells": [
  {
   "cell_type": "markdown",
   "id": "ed008c12",
   "metadata": {},
   "source": [
    "# ResultAnalysis\n",
    "Notebook to check Grid Search results"
   ]
  },
  {
   "cell_type": "code",
   "execution_count": 1,
   "id": "88e9bb5d",
   "metadata": {},
   "outputs": [
    {
     "data": {
      "text/plain": [
       "'/Users/tales.pimentel/ds/kaggle/football-match-prediction'"
      ]
     },
     "execution_count": 1,
     "metadata": {},
     "output_type": "execute_result"
    }
   ],
   "source": [
    "import os\n",
    "from working_dir import set_wd\n",
    "set_wd()\n",
    "os.getcwd()"
   ]
  },
  {
   "cell_type": "code",
   "execution_count": 2,
   "id": "770675a1",
   "metadata": {},
   "outputs": [],
   "source": [
    "import pandas as pd\n",
    "import matplotlib.pyplot as plt\n",
    "from src.dao import dao_ml\n",
    "from src.utils import dflib, stats, pretties, plot, plot_domain, palette"
   ]
  },
  {
   "cell_type": "code",
   "execution_count": 3,
   "id": "782f8572",
   "metadata": {},
   "outputs": [],
   "source": [
    "pretties.max_data_frame_columns()"
   ]
  },
  {
   "cell_type": "markdown",
   "id": "8e0db4ff",
   "metadata": {},
   "source": [
    "# Loading Results"
   ]
  },
  {
   "cell_type": "code",
   "execution_count": 4,
   "id": "f3b83293",
   "metadata": {},
   "outputs": [
    {
     "ename": "FileNotFoundError",
     "evalue": "[Errno 2] No such file or directory: 'data/modeling/'",
     "output_type": "error",
     "traceback": [
      "\u001b[0;31m---------------------------------------------------------------------------\u001b[0m",
      "\u001b[0;31mFileNotFoundError\u001b[0m                         Traceback (most recent call last)",
      "\u001b[0;32m<ipython-input-4-0ed50a4f7fd0>\u001b[0m in \u001b[0;36m<module>\u001b[0;34m\u001b[0m\n\u001b[0;32m----> 1\u001b[0;31m \u001b[0mall_results\u001b[0m \u001b[0;34m=\u001b[0m \u001b[0mdao_ml\u001b[0m\u001b[0;34m.\u001b[0m\u001b[0mload_all_modeling\u001b[0m\u001b[0;34m(\u001b[0m\u001b[0;34m)\u001b[0m\u001b[0;34m\u001b[0m\u001b[0;34m\u001b[0m\u001b[0m\n\u001b[0m\u001b[1;32m      2\u001b[0m \u001b[0mprint\u001b[0m\u001b[0;34m(\u001b[0m\u001b[0mlen\u001b[0m\u001b[0;34m(\u001b[0m\u001b[0mall_results\u001b[0m\u001b[0;34m)\u001b[0m\u001b[0;34m)\u001b[0m\u001b[0;34m\u001b[0m\u001b[0;34m\u001b[0m\u001b[0m\n\u001b[1;32m      3\u001b[0m \u001b[0;34m\u001b[0m\u001b[0m\n\u001b[1;32m      4\u001b[0m \u001b[0mpd\u001b[0m\u001b[0;34m.\u001b[0m\u001b[0mDataFrame\u001b[0m\u001b[0;34m(\u001b[0m\u001b[0mall_results\u001b[0m\u001b[0;34m)\u001b[0m\u001b[0;34m[\u001b[0m\u001b[0;34m[\u001b[0m\u001b[0;34m\"id_modeling\"\u001b[0m\u001b[0;34m,\u001b[0m \u001b[0;34m\"datetime\"\u001b[0m\u001b[0;34m,\u001b[0m \u001b[0;34m\"clf_name\"\u001b[0m\u001b[0;34m,\u001b[0m \u001b[0;34m\"pipeline_train_stages\"\u001b[0m\u001b[0;34m]\u001b[0m\u001b[0;34m]\u001b[0m\u001b[0;34m.\u001b[0m\u001b[0msort_values\u001b[0m\u001b[0;34m(\u001b[0m\u001b[0;34m\"datetime\"\u001b[0m\u001b[0;34m,\u001b[0m \u001b[0mascending\u001b[0m\u001b[0;34m=\u001b[0m\u001b[0;32mFalse\u001b[0m\u001b[0;34m)\u001b[0m\u001b[0;34m\u001b[0m\u001b[0;34m\u001b[0m\u001b[0m\n",
      "\u001b[0;32m~/ds/kaggle/football-match-prediction/src/dao/dao_ml.py\u001b[0m in \u001b[0;36mload_all_modeling\u001b[0;34m()\u001b[0m\n\u001b[1;32m    152\u001b[0m \u001b[0;32mdef\u001b[0m \u001b[0mload_all_modeling\u001b[0m\u001b[0;34m(\u001b[0m\u001b[0;34m)\u001b[0m\u001b[0;34m:\u001b[0m\u001b[0;34m\u001b[0m\u001b[0;34m\u001b[0m\u001b[0m\n\u001b[1;32m    153\u001b[0m     \u001b[0mall_results\u001b[0m \u001b[0;34m=\u001b[0m \u001b[0;34m[\u001b[0m\u001b[0;34m]\u001b[0m\u001b[0;34m\u001b[0m\u001b[0;34m\u001b[0m\u001b[0m\n\u001b[0;32m--> 154\u001b[0;31m     \u001b[0;32mfor\u001b[0m \u001b[0mfilepath\u001b[0m \u001b[0;32min\u001b[0m \u001b[0mos\u001b[0m\u001b[0;34m.\u001b[0m\u001b[0mlistdir\u001b[0m\u001b[0;34m(\u001b[0m\u001b[0mMODELING_DIR\u001b[0m\u001b[0;34m)\u001b[0m\u001b[0;34m:\u001b[0m\u001b[0;34m\u001b[0m\u001b[0;34m\u001b[0m\u001b[0m\n\u001b[0m\u001b[1;32m    155\u001b[0m         \u001b[0;32mif\u001b[0m \u001b[0;32mnot\u001b[0m \u001b[0mfilepath\u001b[0m\u001b[0;34m.\u001b[0m\u001b[0mendswith\u001b[0m\u001b[0;34m(\u001b[0m\u001b[0;34m\".json\"\u001b[0m\u001b[0;34m)\u001b[0m\u001b[0;34m:\u001b[0m\u001b[0;34m\u001b[0m\u001b[0;34m\u001b[0m\u001b[0m\n\u001b[1;32m    156\u001b[0m             \u001b[0;32mcontinue\u001b[0m\u001b[0;34m\u001b[0m\u001b[0;34m\u001b[0m\u001b[0m\n",
      "\u001b[0;31mFileNotFoundError\u001b[0m: [Errno 2] No such file or directory: 'data/modeling/'"
     ]
    }
   ],
   "source": [
    "all_results = dao_ml.load_all_modeling()\n",
    "print(len(all_results))\n",
    "\n",
    "pd.DataFrame(all_results)[[\"id_modeling\", \"datetime\", \"clf_name\", \"pipeline_train_stages\"]].sort_values(\"datetime\", ascending=False)"
   ]
  },
  {
   "cell_type": "code",
   "execution_count": null,
   "id": "40e4fa1a",
   "metadata": {},
   "outputs": [],
   "source": [
    "load_ids_modeling = [\"d93331f6-3b0c-4753-a522-8e941c2e8ac0\", \"7ce98dc7-7233-4833-89e4-85eb3eda53b9\"]\n",
    "\n",
    "rdf = pd.DataFrame()\n",
    "\n",
    "for id_modeling in load_ids_modeling:\n",
    "    results_temp = dao_ml.load_modeling(id_modeling)\n",
    "    \n",
    "    rdf_id = pd.DataFrame(results_temp[\"overfitting_analysis_df\"])\n",
    "    rdf_id[\"clf_name\"] = results_temp[\"clf_name\"]\n",
    "    \n",
    "    rdf = rdf.append(rdf_id)"
   ]
  },
  {
   "cell_type": "code",
   "execution_count": null,
   "id": "648c6371",
   "metadata": {
    "scrolled": false
   },
   "outputs": [],
   "source": [
    "rdf = rdf.sort_values(\"log_loss_cv\")\n",
    "rdf.head(5)"
   ]
  },
  {
   "cell_type": "code",
   "execution_count": null,
   "id": "5624df36",
   "metadata": {},
   "outputs": [],
   "source": [
    "def overfitting_analysis_num(metrics_df, param_name, metric_colname):\n",
    "    metric_colname_train = metric_colname + \"_train\"\n",
    "    metric_colname_valid = metric_colname + \"_cv\"\n",
    "    \n",
    "    of_data = metrics_df.groupby(param_name)[[metric_colname_train, metric_colname_valid]].mean().reset_index()\n",
    "\n",
    "    display(of_data)\n",
    "    \n",
    "    title = f\"{metric_colname} mean values for {param_name}\"\n",
    "    \n",
    "    plt.figure(figsize=(8,5))\n",
    "    plt.scatter(of_data[param_name], of_data[metric_colname_train], label=\"train\", s=130, alpha=0.6)\n",
    "    plt.scatter(of_data[param_name], of_data[metric_colname_valid], label=\"cv\", s=130, alpha=0.6)\n",
    "    plt.title(label=title)\n",
    "    plt.xlabel(param_name)\n",
    "    plt.ylabel(metric_colname)\n",
    "    plt.legend()\n",
    "    plt.show()"
   ]
  },
  {
   "cell_type": "code",
   "execution_count": null,
   "id": "22bdfb08",
   "metadata": {},
   "outputs": [],
   "source": [
    "pretties.md(\"RandomForestClassificationModel\", size=\"#\", color=\"blue\")\n",
    "rfc_df = rdf[rdf[\"clf_name\"] == \"RandomForestClassificationModel\"]\n",
    "\n",
    "for param_name in [\"subsamplingRate\", \"maxDepth\", \"numTrees\"]:\n",
    "    pretties.md(param_name, size=\"####\")\n",
    "    overfitting_analysis_num(metrics_df=rfc_df, \n",
    "                             param_name=param_name, \n",
    "                             metric_colname=\"log_loss\")"
   ]
  },
  {
   "cell_type": "code",
   "execution_count": null,
   "id": "70fd0934",
   "metadata": {
    "scrolled": false
   },
   "outputs": [],
   "source": [
    "pretties.md(\"XGBClassifier\", size=\"#\", color=\"blue\")\n",
    "xgbc_df = rdf[rdf[\"clf_name\"] == \"XGBClassifier\"]\n",
    "\n",
    "for param_name in [\"colsample_bytree\", \"max_depth\", \"n_estimators\", \"subsample\"]:\n",
    "    pretties.md(param_name, size=\"####\")\n",
    "    overfitting_analysis_num(metrics_df=xgbc_df, \n",
    "                             param_name=param_name, \n",
    "                             metric_colname=\"log_loss\")"
   ]
  },
  {
   "cell_type": "code",
   "execution_count": null,
   "id": "7cba6862",
   "metadata": {},
   "outputs": [],
   "source": []
  }
 ],
 "metadata": {
  "kernelspec": {
   "display_name": "Python 3",
   "language": "python",
   "name": "python3"
  },
  "language_info": {
   "codemirror_mode": {
    "name": "ipython",
    "version": 3
   },
   "file_extension": ".py",
   "mimetype": "text/x-python",
   "name": "python",
   "nbconvert_exporter": "python",
   "pygments_lexer": "ipython3",
   "version": "3.8.8"
  }
 },
 "nbformat": 4,
 "nbformat_minor": 5
}
